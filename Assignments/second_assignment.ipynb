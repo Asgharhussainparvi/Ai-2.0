{
 "cells": [
  {
   "cell_type": "code",
   "execution_count": 5,
   "metadata": {},
   "outputs": [
    {
     "name": "stdout",
     "output_type": "stream",
     "text": [
      "Student,Score,Remarks\n",
      "Alice , 85 , Pass\n",
      "Bob , 40 , Fail\n",
      "Charlie , 75 , Pass\n",
      "Diana , 92 , Pass\n",
      "Eve , 49 , Fail\n"
     ]
    }
   ],
   "source": [
    "\"\"\"Given the dictionary students with student names as keys and their respective \n",
    "grades as values, use a for loop to print each student’s name and grade. Additionally, print \n",
    "\"Pass\" if the grade is 50 or above and \"Fail\" otherwise\"\"\"\n",
    "\n",
    "students = {\n",
    " 'Alice': 85,\n",
    " 'Bob': 40,\n",
    " 'Charlie': 75,\n",
    " 'Diana': 92,\n",
    " 'Eve': 49\n",
    "}\n",
    "print(f\"Student,Score,Remarks\")  \n",
    "for student, score in students.items():\n",
    "    # print(f\"Student: {student}\")  \n",
    "    # print(f\"Score: {score}\")\n",
    "    \n",
    "    if score >= 50:\n",
    "        print(f\"{student} , {score} , Pass\")  \n",
    "    else:\n",
    "        print(f\"{student} , {score} , Fail\") "
   ]
  },
  {
   "cell_type": "code",
   "execution_count": 6,
   "metadata": {},
   "outputs": [
    {
     "name": "stdout",
     "output_type": "stream",
     "text": [
      "Order more apples.\n",
      "bananas stock is sufficient.\n",
      "oranges stock is sufficient.\n",
      "Order more grapes.\n",
      "mangoes stock is sufficient.\n"
     ]
    }
   ],
   "source": [
    "\"\"\"Given the dictionary fruits where keys are fruit names and values are their \n",
    "quantities, write a for loop that checks each fruit's quantity. If the quantity is below 5, print \n",
    "\"Order more [fruit name]\"; otherwise, print \"[fruit name] stock is sufficient.\"\"\"\n",
    "\n",
    "fruits = {\n",
    " 'apples': 3,\n",
    " 'bananas': 10,\n",
    " 'oranges': 8,\n",
    " 'grapes': 2,\n",
    " 'mangoes': 6\n",
    "}\n",
    "\n",
    "for fruit, value in fruits.items():\n",
    "    if value < 5:\n",
    "        print(f\"Order more {fruit}.\")\n",
    "    else:\n",
    "        print(f\"{fruit} stock is sufficient.\")\n"
   ]
  },
  {
   "cell_type": "code",
   "execution_count": 7,
   "metadata": {},
   "outputs": [
    {
     "name": "stdout",
     "output_type": "stream",
     "text": [
      "The total sum of all product is 2050\n",
      "2050\n"
     ]
    }
   ],
   "source": [
    "\"\"\"Construct a dictionary product_prices where the keys are product names and \n",
    "the values are their prices. Use a for loop to calculate and print the total price of all products \n",
    "combined\"\"\"\n",
    "\n",
    "product_prices = {\n",
    " 'laptop': 1000,\n",
    " 'phone': 500,\n",
    " 'tablet': 300,\n",
    " 'monitor': 200,\n",
    " 'keyboard': 50\n",
    "}\n",
    "#solution1\n",
    "price = product_prices.values()\n",
    "print(f\"The total sum of all product is {sum(price)}\")\n",
    "\n",
    "#solution2\n",
    "\n",
    "total_price = 0\n",
    "for product , price in product_prices.items():\n",
    "    total_price += price\n",
    "\n",
    "print(total_price)   "
   ]
  },
  {
   "cell_type": "code",
   "execution_count": 8,
   "metadata": {},
   "outputs": [
    {
     "name": "stdout",
     "output_type": "stream",
     "text": [
      "\n",
      " JAVASCRIPT :\n",
      "  Long Word\n",
      "\n",
      " RUBY :\n",
      "\n",
      " PYTHON :\n",
      "  Long Word\n",
      "\n",
      " CSHARP :\n",
      "  Long Word\n",
      "\n",
      " JAVA :\n"
     ]
    }
   ],
   "source": [
    "\"\"\" Given the set words containing a few words, use a for loop to iterate over the set \n",
    "and print each word in uppercase. If the word has more than 5 characters, print \"Long word: \n",
    "[word]\" instead. \"\"\"\n",
    "\n",
    "words = {'python', 'java', 'csharp', 'ruby', 'javascript'}\n",
    "\n",
    "for word in words:\n",
    "    print(\"\\n\",word.upper(),\":\")\n",
    "    if len(word) > 5 :\n",
    "        print(\"  Long Word\")  \n",
    "  \n",
    "        \n",
    "    \n"
   ]
  },
  {
   "cell_type": "code",
   "execution_count": 9,
   "metadata": {},
   "outputs": [
    {
     "name": "stdout",
     "output_type": "stream",
     "text": [
      "Set of squares: {1, 4, 9, 16, 25}\n"
     ]
    }
   ],
   "source": [
    "\"\"\"Define a set numbers containing integer elements. Use a for loop to create a new \n",
    "set containing the squares of the numbers from the original set. Print the new set.\"\"\"\n",
    "\n",
    "numbers = {1, 2, 3, 4, 5}\n",
    "\n",
    "squares = set()  \n",
    "for number in numbers:\n",
    "    squares.add(number * number) \n",
    "\n",
    "print(\"Set of squares:\", squares)\n"
   ]
  },
  {
   "cell_type": "code",
   "execution_count": 10,
   "metadata": {},
   "outputs": [
    {
     "name": "stdout",
     "output_type": "stream",
     "text": [
      "10°C: Cold\n",
      "20°C: Warm\n",
      "30°C: Hot\n",
      "5°C: Cold\n",
      "25°C: Warm\n",
      "18°C: Warm\n",
      "40°C: Hot\n"
     ]
    }
   ],
   "source": [
    "\"\"\"Given a list temperatures containing temperature readings, use a for loop and \n",
    "conditional statements to categorize and print each temperature as \"Cold\" if below 15°C, \n",
    "\"Warm\" if between 15°C and 25°C, and \"Hot\" if above 25°C.\"\"\"\n",
    "\n",
    "temperatures = [10, 20, 30, 5, 25, 18, 40]\n",
    "\n",
    "for temperature in temperatures:\n",
    "    if temperature < 15:\n",
    "        print(f\"{temperature}°C: Cold\")\n",
    "    elif 15 <= temperature <= 25:\n",
    "        print(f\"{temperature}°C: Warm\")\n",
    "    else:\n",
    "        print(f\"{temperature}°C: Hot\")"
   ]
  },
  {
   "cell_type": "code",
   "execution_count": 11,
   "metadata": {},
   "outputs": [
    {
     "name": "stdout",
     "output_type": "stream",
     "text": [
      "Name: Alice, City: New York\n",
      "Name: Charlie, City: Chicago\n",
      "Name: Eve, City: Miami\n"
     ]
    }
   ],
   "source": [
    "\"\"\" Create a list people with dictionaries representing people, each dictionary \n",
    "containing name, age, and city. Use a for loop to print the name and city of each person who is \n",
    "above 18 years old.\"\"\"\n",
    "\n",
    "people = [\n",
    " {'name': 'Alice', 'age': 25, 'city': 'New York'},\n",
    " {'name': 'Bob', 'age': 17, 'city': 'Los Angeles'},\n",
    " {'name': 'Charlie', 'age': 22, 'city': 'Chicago'},\n",
    " {'name': 'Diana', 'age': 16, 'city': 'Houston'},\n",
    " {'name': 'Eve', 'age': 30, 'city': 'Miami'}\n",
    "]\n",
    "\n",
    "for person in people:\n",
    "    if person['age'] > 18:\n",
    "        print(f\"Name: {person['name']}, City: {person['city']}\") "
   ]
  },
  {
   "cell_type": "code",
   "execution_count": 1,
   "metadata": {},
   "outputs": [
    {
     "name": "stdout",
     "output_type": "stream",
     "text": [
      "Excellent: 2\n",
      "Good: 4\n",
      "Average: 2\n",
      "Poor: 2\n"
     ]
    }
   ],
   "source": [
    "\"\"\"Define a list scores containing numerical scores. Use a for loop and conditional \n",
    "\n",
    "statements to count and print the number of scores that are \"Excellent\" (90 and above), \"Good\" \n",
    "\n",
    "(70-89), \"Average\" (50-69), and \"Poor\" (below 50).\"\"\"\n",
    "\n",
    "scores = [95, 85, 70, 65, 40, 88, 91, 54, 72, 46]\n",
    "\n",
    "excellent_count = 0\n",
    "good_count = 0\n",
    "average_count = 0\n",
    "poor_count = 0\n",
    "\n",
    "for score in scores:\n",
    "    if score >= 90:\n",
    "        excellent_count += 1\n",
    "    elif 70 <= score <= 89:\n",
    "        good_count += 1\n",
    "    elif 50 <= score <= 69:\n",
    "        average_count += 1\n",
    "    else:\n",
    "        poor_count += 1\n",
    "\n",
    "print(\"Excellent:\", excellent_count)\n",
    "print(\"Good:\", good_count)\n",
    "print(\"Average:\", average_count)\n",
    "print(\"Poor:\", poor_count)"
   ]
  }
 ],
 "metadata": {
  "kernelspec": {
   "display_name": "Python 3",
   "language": "python",
   "name": "python3"
  },
  "language_info": {
   "codemirror_mode": {
    "name": "ipython",
    "version": 3
   },
   "file_extension": ".py",
   "mimetype": "text/x-python",
   "name": "python",
   "nbconvert_exporter": "python",
   "pygments_lexer": "ipython3",
   "version": "3.13.2"
  }
 },
 "nbformat": 4,
 "nbformat_minor": 2
}
