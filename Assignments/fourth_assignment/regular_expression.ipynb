{
 "cells": [
  {
   "cell_type": "markdown",
   "metadata": {},
   "source": [
    "Task 1\n"
   ]
  },
  {
   "cell_type": "code",
   "execution_count": 2,
   "metadata": {},
   "outputs": [
    {
     "name": "stdout",
     "output_type": "stream",
     "text": [
      "['John', 'Doe', 'johndoe', 'example', 'com', 'Alice', 'Johnson', 'alice', 'johnson', 'email', 'com', 'Bob', 'Smith', 'bobsmith123', 'gmail', 'com', 'Charlie', 'Brown', 'charlie_brown', 'company', 'org', 'Diana', 'Adams', 'diana', 'adams', 'business', 'net', 'Ethan', 'Carter', 'ethan', 'carter', 'tech', 'Fiona', 'Williams', 'fiona', 'williams123', 'services', 'com', 'George', 'Harris', 'george_harris', 'emailprovider']\n"
     ]
    }
   ],
   "source": [
    "import re\n",
    "\n",
    "\n",
    "with open(\"contacts.txt\", 'r') as file:\n",
    "        content = file.read()\n",
    "\n",
    "    \n",
    "email_pattern = r'\\b\\w+.\\w+?@\\w+.\\w+.\\w+?\\b'\n",
    "\n",
    "name_pattern = r'\\b\\w.\\w+'\n",
    "emails = re.findall(email_pattern, content)\n",
    "names = re.findall(name_pattern,content)\n",
    "# print(\"Extracted Email Addresses:\")\n",
    "# for email in emails:\n",
    "#     print(email)\n",
    "print(names)"
   ]
  },
  {
   "cell_type": "markdown",
   "metadata": {},
   "source": [
    "Task 2"
   ]
  },
  {
   "cell_type": "code",
   "execution_count": 7,
   "metadata": {},
   "outputs": [
    {
     "name": "stdout",
     "output_type": "stream",
     "text": [
      "Valid Email Address.\n"
     ]
    }
   ],
   "source": [
    "email_pattern = r'\\b\\w+.\\w+?@\\w+.\\w+.\\w+?\\b'\n",
    "    \n",
    "email = input(\"Please enter an email address: \").strip() \n",
    "if re.match(email_pattern, email):\n",
    "    print(\"Valid Email Address.\")\n",
    "else:\n",
    "    print(\"Invalid Email Address.\")"
   ]
  },
  {
   "cell_type": "markdown",
   "metadata": {},
   "source": [
    "Task 3"
   ]
  },
  {
   "cell_type": "code",
   "execution_count": 8,
   "metadata": {},
   "outputs": [
    {
     "name": "stdout",
     "output_type": "stream",
     "text": [
      "Valid Password.\n"
     ]
    }
   ],
   "source": [
    "import re\n",
    "\n",
    "password_pattern = r'^[a-zA-Z0-9]{6,}$'\n",
    "    \n",
    "password = input(\"Please enter a password: \").strip() \n",
    "if re.match(password_pattern, password):\n",
    "    print(\"Valid Password.\")\n",
    "else:\n",
    "    print(\"Invalid Password.\")\n"
   ]
  },
  {
   "cell_type": "markdown",
   "metadata": {},
   "source": [
    "Task 4"
   ]
  },
  {
   "cell_type": "code",
   "execution_count": null,
   "metadata": {},
   "outputs": [
    {
     "name": "stdout",
     "output_type": "stream",
     "text": [
      "Invalid CNIC Number.\n"
     ]
    }
   ],
   "source": [
    "import re\n",
    "\n",
    "\n",
    "cnic_pattern = r'^\\d}{5-\\d{7}-\\d{1}$'\n",
    "cnic = input(\"Please enter a Pakistan CNIC number: \").strip()    \n",
    "if re.match(cnic_pattern, cnic):\n",
    "    print(\"Valid CNIC Number.\")\n",
    "else:\n",
    "    print(\"Invalid CNIC Number.\")\n",
    "\n"
   ]
  },
  {
   "cell_type": "code",
   "execution_count": null,
   "metadata": {},
   "outputs": [],
   "source": [
    "f = open('employee_data.txt','r')\n",
    "t = f.read()\n",
    "depart = r'Department'"
   ]
  },
  {
   "cell_type": "code",
   "execution_count": 15,
   "metadata": {},
   "outputs": [
    {
     "name": "stdout",
     "output_type": "stream",
     "text": [
      "Department: Engineering\n",
      "Department: Marketing\n",
      "Department: Sales\n",
      "Department: HR\n",
      "Department: IT\n"
     ]
    }
   ],
   "source": [
    "l = t.split('\\n')\n",
    "for i in l:\n",
    "    if 'Department' in i:\n",
    "        print(i)\n"
   ]
  },
  {
   "cell_type": "code",
   "execution_count": null,
   "metadata": {},
   "outputs": [],
   "source": []
  }
 ],
 "metadata": {
  "kernelspec": {
   "display_name": "Python 3",
   "language": "python",
   "name": "python3"
  },
  "language_info": {
   "codemirror_mode": {
    "name": "ipython",
    "version": 3
   },
   "file_extension": ".py",
   "mimetype": "text/x-python",
   "name": "python",
   "nbconvert_exporter": "python",
   "pygments_lexer": "ipython3",
   "version": "3.13.2"
  }
 },
 "nbformat": 4,
 "nbformat_minor": 2
}
