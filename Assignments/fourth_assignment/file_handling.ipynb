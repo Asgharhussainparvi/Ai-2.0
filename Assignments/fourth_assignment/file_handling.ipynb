{
 "cells": [
  {
   "cell_type": "markdown",
   "metadata": {},
   "source": [
    "File Handling"
   ]
  },
  {
   "cell_type": "markdown",
   "metadata": {},
   "source": [
    "Task 1"
   ]
  },
  {
   "cell_type": "code",
   "execution_count": 3,
   "metadata": {},
   "outputs": [],
   "source": [
    "\n",
    "with open('input.txt', 'w') as file:\n",
    "    file.write(\"Hello world! I am Asghar Hussain. Hello again.I am programmer.\")\n",
    "\n",
    "\n",
    "with open('output.txt', 'w') as file:\n",
    "    pass"
   ]
  },
  {
   "cell_type": "code",
   "execution_count": 1,
   "metadata": {},
   "outputs": [
    {
     "name": "stdout",
     "output_type": "stream",
     "text": [
      "Total number of words: 10\n",
      "Replaced 'Hello' with 'Hi'.\n",
      "Converted text to lowercase.\n",
      "Word frequency:\n",
      "hi: 2\n",
      "world!: 1\n",
      "i: 1\n",
      "am: 2\n",
      "asghar: 1\n",
      "hussain.: 1\n",
      "again.i: 1\n",
      "programmer.: 1\n",
      "Modified text written to 'output.txt'.\n"
     ]
    }
   ],
   "source": [
    "from collections import Counter\n",
    "\n",
    "with open('input.txt', 'r') as file:\n",
    "    text = file.read()\n",
    "\n",
    "\n",
    "words = text.split()\n",
    "total_words = len(words)\n",
    "print(f\"Total number of words: {total_words}\")\n",
    "\n",
    "  \n",
    "old_word = \"Hello\"\n",
    "new_word = \"Hi\"\n",
    "updated_text = text.replace(old_word, new_word)\n",
    "print(f\"Replaced '{old_word}' with '{new_word}'.\")\n",
    "\n",
    "updated_text = updated_text.lower()\n",
    "print(\"Converted text to lowercase.\")\n",
    "\n",
    "\n",
    "word_frequency = Counter(updated_text.split())\n",
    "print(\"Word frequency:\")\n",
    "for word, freq in word_frequency.items():\n",
    "    print(f\"{word}: {freq}\")\n",
    "\n",
    "with open('output.txt', 'w') as file:\n",
    "        file.write(updated_text)\n",
    "print(\"Modified text written to 'output.txt'.\")"
   ]
  },
  {
   "cell_type": "code",
   "execution_count": 3,
   "metadata": {},
   "outputs": [
    {
     "data": {
      "text/plain": [
       "'hi world! i am asghar hussain. hi again.i am programmer.'"
      ]
     },
     "execution_count": 3,
     "metadata": {},
     "output_type": "execute_result"
    }
   ],
   "source": [
    "updated_text"
   ]
  },
  {
   "cell_type": "markdown",
   "metadata": {},
   "source": [
    "Task 2"
   ]
  },
  {
   "cell_type": "code",
   "execution_count": 4,
   "metadata": {},
   "outputs": [],
   "source": [
    "with open('employee_data.txt', 'r') as file:\n",
    "        content = file.read()"
   ]
  },
  {
   "cell_type": "code",
   "execution_count": 10,
   "metadata": {},
   "outputs": [
    {
     "data": {
      "text/plain": [
       "['Employee ID: 10001\\nName: Alice Johnson\\nDepartment: Engineering\\nSalary: 75000',\n",
       " 'Employee ID: 10002\\nName: Bob Smith\\nDepartment: Marketing\\nSalary: 62000',\n",
       " 'Employee ID: 10003\\nName: Charlie Brown\\nDepartment: Sales\\nSalary: 58000',\n",
       " 'Employee ID: 10004\\nName: Diana Adams\\nDepartment: HR\\nSalary: 67000',\n",
       " 'Employee ID: 10005\\nName: Ethan Carter\\nDepartment: IT\\nSalary: 80000\\n']"
      ]
     },
     "execution_count": 10,
     "metadata": {},
     "output_type": "execute_result"
    }
   ],
   "source": [
    "content.split('\\n\\n')"
   ]
  },
  {
   "cell_type": "code",
   "execution_count": 11,
   "metadata": {},
   "outputs": [
    {
     "name": "stdout",
     "output_type": "stream",
     "text": [
      "Employee Summary Report:\n",
      "Employee ID:  10001\n",
      "First Name: Alice\n",
      "Last Name: Johnson\n",
      "Department:  Engineering\n",
      "Salary:  75000\n",
      "----------------------------------\n",
      "Employee Summary Report:\n",
      "Employee ID:  10001\n",
      "First Name: Alice\n",
      "Last Name: Johnson\n",
      "Department:  Engineering\n",
      "Salary:  75000\n",
      "----------------------------------\n",
      "Employee ID:  10002\n",
      "First Name: Bob\n",
      "Last Name: Smith\n",
      "Department:  Marketing\n",
      "Salary:  62000\n",
      "----------------------------------\n",
      "Employee Summary Report:\n",
      "Employee ID:  10001\n",
      "First Name: Alice\n",
      "Last Name: Johnson\n",
      "Department:  Engineering\n",
      "Salary:  75000\n",
      "----------------------------------\n",
      "Employee ID:  10002\n",
      "First Name: Bob\n",
      "Last Name: Smith\n",
      "Department:  Marketing\n",
      "Salary:  62000\n",
      "----------------------------------\n",
      "Employee ID:  10003\n",
      "First Name: Charlie\n",
      "Last Name: Brown\n",
      "Department:  Sales\n",
      "Salary:  58000\n",
      "----------------------------------\n",
      "Employee Summary Report:\n",
      "Employee ID:  10001\n",
      "First Name: Alice\n",
      "Last Name: Johnson\n",
      "Department:  Engineering\n",
      "Salary:  75000\n",
      "----------------------------------\n",
      "Employee ID:  10002\n",
      "First Name: Bob\n",
      "Last Name: Smith\n",
      "Department:  Marketing\n",
      "Salary:  62000\n",
      "----------------------------------\n",
      "Employee ID:  10003\n",
      "First Name: Charlie\n",
      "Last Name: Brown\n",
      "Department:  Sales\n",
      "Salary:  58000\n",
      "----------------------------------\n",
      "Employee ID:  10004\n",
      "First Name: Diana\n",
      "Last Name: Adams\n",
      "Department:  HR\n",
      "Salary:  67000\n",
      "----------------------------------\n",
      "Employee Summary Report:\n",
      "Employee ID:  10001\n",
      "First Name: Alice\n",
      "Last Name: Johnson\n",
      "Department:  Engineering\n",
      "Salary:  75000\n",
      "----------------------------------\n",
      "Employee ID:  10002\n",
      "First Name: Bob\n",
      "Last Name: Smith\n",
      "Department:  Marketing\n",
      "Salary:  62000\n",
      "----------------------------------\n",
      "Employee ID:  10003\n",
      "First Name: Charlie\n",
      "Last Name: Brown\n",
      "Department:  Sales\n",
      "Salary:  58000\n",
      "----------------------------------\n",
      "Employee ID:  10004\n",
      "First Name: Diana\n",
      "Last Name: Adams\n",
      "Department:  HR\n",
      "Salary:  67000\n",
      "----------------------------------\n",
      "Employee ID:  10005\n",
      "First Name: Ethan\n",
      "Last Name: Carter\n",
      "Department:  IT\n",
      "Salary:  80000\n",
      "----------------------------------\n"
     ]
    }
   ],
   "source": [
    "with open('employee_data.txt', 'r') as file:\n",
    "        content = file.read()\n",
    "\n",
    "    # Split the content into individual employee records\n",
    "records = content.strip().split('\\n\\n')\n",
    "\n",
    "summary_report = []\n",
    "\n",
    "for record in records:\n",
    "    lines = record.strip().split('\\n')\n",
    "\n",
    "\n",
    "    employee = {}\n",
    "\n",
    "    for line in lines:\n",
    "        key, value = line.split(':', 1)  \n",
    "        employee[key] = value\n",
    "\n",
    "    first_name, last_name = employee['Name'].split(maxsplit=1)\n",
    "    summary_report.append({\n",
    "            'Employee ID': employee['Employee ID'],\n",
    "            'First Name': first_name,\n",
    "            'Last Name': last_name,\n",
    "            'Department': employee['Department'],\n",
    "            'Salary': employee['Salary']\n",
    "        })\n",
    "\n",
    "\n",
    "    print(\"Employee Summary Report:\")\n",
    "    for emp in summary_report:\n",
    "        print(f\"Employee ID: {emp['Employee ID']}\")\n",
    "        print(f\"First Name: {emp['First Name']}\")\n",
    "        print(f\"Last Name: {emp['Last Name']}\")\n",
    "        print(f\"Department: {emp['Department']}\")\n",
    "        print(f\"Salary: {emp['Salary']}\")\n",
    "        print(\"-\" * 34)"
   ]
  },
  {
   "cell_type": "markdown",
   "metadata": {},
   "source": [
    "Task 3"
   ]
  },
  {
   "cell_type": "code",
   "execution_count": null,
   "metadata": {},
   "outputs": [
    {
     "name": "stdout",
     "output_type": "stream",
     "text": [
      "This product is excellent and very user-friendly. I highly recommend it.\n",
      "\n",
      "\n",
      "\n",
      "The quality is great, but I wouldn't recommend it due to the high price.\n",
      "\n",
      "\n",
      "\n",
      "I love this product! I recommend it to everyone.\n",
      "\n",
      "\n",
      "\n",
      "Not worth the money. The features are outdated.\n",
      "\n",
      "\n",
      "\n",
      "Highly recommend this! It's the best purchase I've made.\n",
      "\n",
      "\n",
      "\n",
      "It works fine, but I wouldn't say I recommend it.\n",
      "\n",
      "\n",
      "\n",
      "Absolutely fantastic! I recommend this product without hesitation.\n",
      "\n",
      "\n",
      "\n",
      "Disappointed with the performance. I don't recommend it.\n",
      "\n"
     ]
    }
   ],
   "source": [
    "with open('customer_reviews.txt', 'r') as file:\n",
    "        reviews = file.readlines()\n",
    "\n",
    "for review in reviews:\n",
    "    review = review.strip(\"  \") "
   ]
  },
  {
   "cell_type": "code",
   "execution_count": 17,
   "metadata": {},
   "outputs": [
    {
     "name": "stdout",
     "output_type": "stream",
     "text": [
      "\n",
      "Total number of reviews that recommend the product: 4\n"
     ]
    }
   ],
   "source": [
    "with open('customer_reviews.txt', 'r') as file:\n",
    "        reviews = file.readlines()\n",
    "\n",
    "rec_count = 0\n",
    "\n",
    "for review in reviews:\n",
    "    if \"I recommend\" in review or \"highly recommend\" in review:\n",
    "        rec_count += 1\n",
    "    \n",
    "print(f\"\\nTotal number of reviews that recommend the product: {rec_count}\")\n"
   ]
  },
  {
   "cell_type": "code",
   "execution_count": null,
   "metadata": {},
   "outputs": [],
   "source": []
  }
 ],
 "metadata": {
  "kernelspec": {
   "display_name": "Python 3",
   "language": "python",
   "name": "python3"
  },
  "language_info": {
   "codemirror_mode": {
    "name": "ipython",
    "version": 3
   },
   "file_extension": ".py",
   "mimetype": "text/x-python",
   "name": "python",
   "nbconvert_exporter": "python",
   "pygments_lexer": "ipython3",
   "version": "3.13.2"
  }
 },
 "nbformat": 4,
 "nbformat_minor": 2
}
