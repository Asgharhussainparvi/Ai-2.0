{
 "cells": [
  {
   "cell_type": "markdown",
   "metadata": {},
   "source": [
    "*****1. Banking System Simulator*****\n",
    "\n",
    "Problem Statement: Write a Python program to simulate a simple banking system. The\n",
    "program starts with a balance of 1000 units and should provide the following options in a loop:\n",
    "1. Deposit money\n",
    "2. Withdraw money\n",
    "3. Check balance\n",
    "4. Exit"
   ]
  },
  {
   "cell_type": "code",
   "execution_count": 15,
   "metadata": {},
   "outputs": [
    {
     "name": "stdout",
     "output_type": "stream",
     "text": [
      "\n",
      "Banking System Menu:\n",
      "1. Deposit Money\n",
      "2. Withdraw Money\n",
      "3. Check Balance\n",
      "4. Exit\n",
      "Current balance: 1000\n",
      "Exiting the system.\n",
      "Thank you for using our Bank\n"
     ]
    }
   ],
   "source": [
    "balance = 1000\n",
    "\n",
    "while True:\n",
    "    print(\"\\nBanking System Menu:\")\n",
    "    print(\"1. Deposit Money\")\n",
    "    print(\"2. Withdraw Money\")\n",
    "    print(\"3. Check Balance\")\n",
    "    print(\"4. Exit\")\n",
    "    choice = int(input(\"Enter your choice (1-4):\\n1. Deposit Money \\n2. Withdraw Money \\n3. Check Balance \\n4. Exit\"))\n",
    "\n",
    "    if choice == 1:\n",
    "        deposit_amount = float(input(\"Enter amount to deposit: \"))\n",
    "        balance += deposit_amount\n",
    "        print(\"Deposit successful.\\nNew balance:\", balance)\n",
    "\n",
    "    elif choice == 2:\n",
    "        withdraw_amount = float(input(\"Enter amount to withdraw: \"))\n",
    "        if withdraw_amount <= balance:\n",
    "            balance -= withdraw_amount\n",
    "            print(\"Withdrawal successful.\\nNew balance:\", balance)\n",
    "        else:\n",
    "            print(\"Insufficient funds.\")\n",
    "\n",
    "    elif choice == 3:\n",
    "        print(\"Current balance:\", balance)\n",
    "\n",
    "    elif choice == 4:\n",
    "        print(\"Current balance:\", balance)\n",
    "        print(\"Exiting the system.\\nThank you for using our Bank\")\n",
    "        break\n",
    "\n",
    "    else:\n",
    "        print(\"Invalid choice. Please select a valid option.\")"
   ]
  },
  {
   "cell_type": "markdown",
   "metadata": {},
   "source": [
    "***2. Student Grading System***\n",
    "\n",
    "Problem Statement: Develop a program to manage student grades. Use a while loop to\n",
    "repeatedly ask for a student's name and their score (between 0 and 100). Assign grades based\n",
    "on the following scale:\n",
    "A: 90–100\n",
    "B: 80–89\n",
    "C: 70–79\n",
    "D: 60–69\n",
    "F: <60\n"
   ]
  },
  {
   "cell_type": "code",
   "execution_count": 1,
   "metadata": {},
   "outputs": [
    {
     "name": "stdout",
     "output_type": "stream",
     "text": [
      "Student Grades:\n",
      "Asghar: F\n",
      "Sahil: A\n",
      "Sohail: D\n",
      "Ali: C\n"
     ]
    }
   ],
   "source": [
    "student_grades = {}\n",
    "\n",
    "while True:\n",
    "    student_name = input(\"Enter student name or 'quit' to exit: \")\n",
    "    if student_name.lower() == 'quit':\n",
    "        break\n",
    "    score = int(input(\"Enter student score (0-100): \"))\n",
    "\n",
    "    if 0 <= score <= 100:\n",
    "        if score >= 90:\n",
    "            grade = 'A'\n",
    "        elif score >= 80:\n",
    "            grade = 'B'\n",
    "        elif score >= 70:\n",
    "            grade = 'C'\n",
    "        elif score >= 60:\n",
    "            grade = 'D'\n",
    "        else:\n",
    "            grade = 'F'\n",
    "        student_grades[student_name] = grade\n",
    "    else:\n",
    "        print(\"Invalid score.Please enter a score b/w 0 and 100.\")\n",
    "\n",
    "print(\"Student Grades:\")\n",
    "for student, grade in student_grades.items():\n",
    "    print(f\"{student}: {grade}\")"
   ]
  },
  {
   "cell_type": "markdown",
   "metadata": {},
   "source": [
    "***3. Inventory Management System***\n",
    "\n",
    "Problem Statement: Design a basic inventory system for a store. The program should allow\n",
    "users to:\n",
    "1. Add a new item (name, quantity, and price).\n",
    "2. Update the quantity or price of an existing item.\n",
    "3. Delete an item from the inventory.\n",
    "4. View all items in the inventory.\n",
    "5. Exit the program.\n"
   ]
  },
  {
   "cell_type": "code",
   "execution_count": null,
   "metadata": {},
   "outputs": [
    {
     "name": "stdout",
     "output_type": "stream",
     "text": [
      "Inventory Management System\n",
      "1. Add Item\n",
      "2. Update Item\n",
      "3. Delete Item\n",
      "4. View Inventory\n",
      "5. Exit\n",
      "Item 'g' added to inventory.\n",
      "Inventory Management System\n",
      "1. Add Item\n",
      "2. Update Item\n",
      "3. Delete Item\n",
      "4. View Inventory\n",
      "5. Exit\n",
      "\n",
      "Inventory:\n",
      "g: Quantity - 7, Price - RS56.00\n",
      "Exiting the system.\n"
     ]
    }
   ],
   "source": [
    "inventory = {}\n",
    "\n",
    "while True:\n",
    "    print(\"\\nInventory Management System\")\n",
    "    print(\"1. Add Item\")\n",
    "    print(\"2. Update Item\")\n",
    "    print(\"3. Delete Item\")\n",
    "    print(\"4. View Inventory\")\n",
    "    print(\"5. Exit\")\n",
    "\n",
    "    choice = int(input(\"Enter your choice (1-5): \\n1. Add Item \\n2. Update Item \\n3. Delete Item \\n4. View Inventory \\n5. Exit\"))\n",
    "\n",
    "    if choice == 1:\n",
    "        item_name = input(\"Enter item name: \")\n",
    "        quantity = int(input(\"Enter quantity: \"))\n",
    "        price = float(input(\"Enter price: \"))\n",
    "        inventory[item_name] = {'quantity': quantity, 'price': price}\n",
    "        print(f\"Item '{item_name}' added to inventory.\")\n",
    "\n",
    "    elif choice == 2:\n",
    "        item_name = input(\"Enter item name: \")\n",
    "        if item_name in inventory:\n",
    "            update_choice = int(input(\"1. Update Quantity\\n2. Update Price\\nEnter your choice: \"))\n",
    "            if update_choice == 1:\n",
    "                new_quantity = int(input(\"Enter new quantity: \"))\n",
    "                inventory[item_name]['quantity'] = new_quantity\n",
    "                print(f\"Quantity for '{item_name}' updated.\")\n",
    "            elif update_choice == 2:\n",
    "                new_price = float(input(\"Enter new price: \"))\n",
    "                inventory[item_name]['price'] = new_price\n",
    "                print(f\"Price for '{item_name}' updated.\")\n",
    "            else:\n",
    "                print(\"Invalid update choice.\")\n",
    "        else:\n",
    "            print(f\"Item '{item_name}' not found in inventory.\")\n",
    "\n",
    "    elif choice == 3:\n",
    "        item_name = input(\"Enter item name: \")\n",
    "        if item_name in inventory:\n",
    "            del inventory[item_name]\n",
    "            print(f\"Item '{item_name}' deleted from inventory.\")\n",
    "        else:\n",
    "            print(f\"Item '{item_name}' not found in inventory.\")\n",
    "    elif choice == 4:\n",
    "        print(\"\\nInventory:\")\n",
    "        for item, details in inventory.items():\n",
    "            print(f\"{item}: Quantity - {details['quantity']}, Price - RS{details['price']:.2f}\")\n",
    "\n",
    "    elif choice == 5:\n",
    "        print(\"\\nInventory:\")\n",
    "        for item, details in inventory.items():\n",
    "            print(f\"{item}: Quantity - {details['quantity']}, Price - RS{details['price']:.2f}\")\n",
    "        print(\"Exiting the system.\")\n",
    "        break\n",
    "\n",
    "    else:\n",
    "        print(\"Invalid choice. Please select a valid option.\")"
   ]
  },
  {
   "cell_type": "markdown",
   "metadata": {},
   "source": [
    "***4. Simple Calculator***\n",
    "\n",
    "Problem Statement: Write a program that continuously asks the user for two numbers and an\n",
    "operation ( + , - , * , / ). Perform the operation and display the result.\n"
   ]
  },
  {
   "cell_type": "code",
   "execution_count": 5,
   "metadata": {},
   "outputs": [
    {
     "name": "stdout",
     "output_type": "stream",
     "text": [
      "Result: 2.3076923076923075\n"
     ]
    }
   ],
   "source": [
    "while True:\n",
    "    num1 = float(input(\"Enter the first number or 0 to exit: \"))\n",
    "    if num1 == 0:\n",
    "        break\n",
    "    num2 = float(input(\"Enter the second number: \"))\n",
    "    operator = input(\"Enter the operator (+, -, *, /): \")\n",
    "    if operator == '+':\n",
    "        result = num1 + num2\n",
    "    elif operator == '-':\n",
    "        result = num1 - num2\n",
    "    elif operator == '*':\n",
    "        result = num1 * num2\n",
    "    elif operator == '/':\n",
    "        if num2 == 0:\n",
    "            print(\"Error: Division by zero.\")\n",
    "            continue\n",
    "        result = num1 / num2\n",
    "    else:\n",
    "        print(\"Invalid operator, Please use +, -, *, or /.\")\n",
    "        continue\n",
    "\n",
    "    print(\"Result:\", result)"
   ]
  },
  {
   "cell_type": "markdown",
   "metadata": {},
   "source": [
    "***5. Shopping List Manager***\n",
    "\n",
    "Problem Statement: Create a program to manage a shopping list. The program should allow\n",
    "users to:\n",
    "1. Add items to the shopping list.\n",
    "2. Remove items from the list.\n",
    "3. Display the current shopping list.\n",
    "4. Exit the program.\n"
   ]
  },
  {
   "cell_type": "code",
   "execution_count": 28,
   "metadata": {},
   "outputs": [
    {
     "name": "stdout",
     "output_type": "stream",
     "text": [
      "\n",
      "Shopping List Manager\n",
      "1. Add Item\n",
      "2. Remove Item\n",
      "3. View Shopping List\n",
      "4. Exit\n",
      "\n",
      "Shopping List:\n",
      "Exiting the system.\n"
     ]
    }
   ],
   "source": [
    "shopping_list = []\n",
    "\n",
    "while True:\n",
    "    print(\"\\nShopping List Manager\")\n",
    "    print(\"1. Add Item\")\n",
    "    print(\"2. Remove Item\")\n",
    "    print(\"3. View Shopping List\")\n",
    "    print(\"4. Exit\")\n",
    "    choice = int(input(\"Enter your choice (1-4): \\n1. Add Item \\n2. Remove Item \\n3. View Shopping List \\n4. Exit\"))\n",
    "\n",
    "    if choice == 1:\n",
    "        item = input(\"Enter item to add: \")\n",
    "        shopping_list.append(item)\n",
    "        print(f\"'{item}' added to shopping list.\")\n",
    "    elif choice == 2:\n",
    "        item = input(\"Enter item to remove: \")\n",
    "        if item in shopping_list:\n",
    "            shopping_list.remove(item)\n",
    "            print(f\"'{item}' removed from shopping list.\")\n",
    "        else:\n",
    "            print(f\"'{item}' not found in shopping list.\")\n",
    "\n",
    "    elif choice == 3:\n",
    "        print(\"\\nShopping List:\")\n",
    "        for item in shopping_list:\n",
    "            print(f\"- {item}\")\n",
    "\n",
    "    elif choice == 4:\n",
    "        print(\"\\nShopping List:\")\n",
    "        for item in shopping_list:\n",
    "            print(f\"- {item}\")\n",
    "        print(\"Exiting the system.\")\n",
    "        break\n",
    "\n",
    "    else:\n",
    "        print(\"Invalid choice. Please select a valid option.\")"
   ]
  }
 ],
 "metadata": {
  "kernelspec": {
   "display_name": "Python 3",
   "language": "python",
   "name": "python3"
  },
  "language_info": {
   "codemirror_mode": {
    "name": "ipython",
    "version": 3
   },
   "file_extension": ".py",
   "mimetype": "text/x-python",
   "name": "python",
   "nbconvert_exporter": "python",
   "pygments_lexer": "ipython3",
   "version": "3.13.2"
  }
 },
 "nbformat": 4,
 "nbformat_minor": 2
}
