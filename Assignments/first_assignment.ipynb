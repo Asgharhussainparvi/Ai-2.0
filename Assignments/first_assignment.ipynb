{
 "cells": [
  {
   "cell_type": "markdown",
   "metadata": {
    "notebookRunGroups": {
     "groupValue": "2"
    }
   },
   "source": [
    "***Assignment 1***"
   ]
  },
  {
   "cell_type": "markdown",
   "metadata": {},
   "source": [
    "**Python Programming Assignment**"
   ]
  },
  {
   "cell_type": "markdown",
   "metadata": {},
   "source": [
    "*Q1*"
   ]
  },
  {
   "cell_type": "code",
   "execution_count": 2,
   "metadata": {},
   "outputs": [
    {
     "name": "stdout",
     "output_type": "stream",
     "text": [
      "Length of the string: 9\n",
      "Uppercase string: FDG FHFGH\n",
      "Modified string: FDG_FHFGH\n"
     ]
    }
   ],
   "source": [
    "# Take input from the user\n",
    "user_input = input(\"Enter a string: \")\n",
    "\n",
    "# Display the length of the string\n",
    "print(\"Length of the string:\", len(user_input))\n",
    "\n",
    "# Convert the string to uppercase\n",
    "uppercase_string = user_input.upper()\n",
    "print(\"Uppercase string:\", uppercase_string)\n",
    "\n",
    "# Replace all spaces with underscores\n",
    "modified_string = uppercase_string.replace(\" \", \"_\")\n",
    "print(\"Modified string:\", modified_string)"
   ]
  },
  {
   "cell_type": "markdown",
   "metadata": {},
   "source": [
    "*Q2*"
   ]
  },
  {
   "cell_type": "code",
   "execution_count": 3,
   "metadata": {},
   "outputs": [
    {
     "name": "stdout",
     "output_type": "stream",
     "text": [
      "Exercise task: exercise\n",
      "Updated daily schedule: [['morning', ['wake up', 'exercise']], ['afternoon', ['study', 'lunch']], ['evening', ['relax', 'dinner', 'read']]]\n"
     ]
    }
   ],
   "source": [
    "# Create the nested list\n",
    "daily_schedule = [\n",
    "    [\"morning\", [\"wake up\", \"exercise\"]],\n",
    "    [\"afternoon\", [\"study\", \"lunch\"]],\n",
    "    [\"evening\", [\"relax\", \"dinner\"]]\n",
    "]\n",
    "\n",
    "# Access and print the \"exercise\" task\n",
    "print(\"Exercise task:\", daily_schedule[0][1][1])\n",
    "\n",
    "# Add a new task \"read\" \n",
    "daily_schedule[2][1].append(\"read\")\n",
    "\n",
    "# Print the updated list\n",
    "print(\"Updated daily schedule:\", daily_schedule)"
   ]
  },
  {
   "cell_type": "markdown",
   "metadata": {},
   "source": [
    "*Q3*"
   ]
  },
  {
   "cell_type": "code",
   "execution_count": 4,
   "metadata": {},
   "outputs": [
    {
     "name": "stdout",
     "output_type": "stream",
     "text": [
      "Updated list: [10, 25, 35, 45, 50]\n"
     ]
    }
   ],
   "source": [
    "numbers = [10, 20, 30, 40, 50]\n",
    "\n",
    "# Replace the middle three elements\n",
    "numbers[1:4] = [25, 35, 45]\n",
    "\n",
    "# Print the updated list\n",
    "print(\"Updated list:\", numbers)"
   ]
  },
  {
   "cell_type": "markdown",
   "metadata": {},
   "source": [
    "*Q4*"
   ]
  },
  {
   "cell_type": "code",
   "execution_count": 1,
   "metadata": {},
   "outputs": [
    {
     "name": "stdout",
     "output_type": "stream",
     "text": [
      "Number of times 'n' appears: 5\n",
      "Index of the first occurrence of 'fun': 25\n",
      "Does the string start with 'Programming'? True\n"
     ]
    }
   ],
   "source": [
    "sentence = \"Programming in Python is fun and powerful.\"\n",
    "\n",
    "# Count how many times the letter 'n' appears in the string\n",
    "n_count = sentence.count('n')\n",
    "print(\"Number of times 'n' appears:\", n_count)\n",
    "\n",
    "# Find the position of the word 'fun'\n",
    "fun_index = sentence.find('fun')\n",
    "print(\"Index of the first occurrence of 'fun':\", fun_index)\n",
    "\n",
    "# Check if the string starts with the word 'Programming'\n",
    "starts_with_programming = sentence.startswith('Programming')\n",
    "print(\"Does the string start with 'Programming'?\", starts_with_programming)"
   ]
  },
  {
   "cell_type": "markdown",
   "metadata": {},
   "source": [
    "*Q5*"
   ]
  },
  {
   "cell_type": "code",
   "execution_count": 2,
   "metadata": {},
   "outputs": [
    {
     "name": "stdout",
     "output_type": "stream",
     "text": [
      "Sorted list in ascending order: [10, 20, 30, 40, 50, 60, 70, 80, 90, 100]\n",
      "Sorted list in descending order: [100, 90, 80, 70, 60, 50, 40, 30, 20, 10]\n",
      "First 5 elements: [100, 90, 80, 70, 60]\n",
      "Last 5 elements: [50, 40, 30, 20, 10]\n",
      "3rd to 7th elements: [80, 70, 60, 50, 40]\n"
     ]
    }
   ],
   "source": [
    "# Create the list\n",
    "numbers_list = [10, 20, 30, 40, 50, 60, 70, 80, 90, 100]\n",
    "\n",
    "# Sort the list in ascending order\n",
    "numbers_list.sort()\n",
    "print(\"Sorted list in ascending order:\", numbers_list)\n",
    "\n",
    "# Sort the list in descending order\n",
    "numbers_list.sort(reverse = True)\n",
    "print(\"Sorted list in descending order:\", numbers_list)\n",
    "\n",
    "# Print the first 5 elements of the list\n",
    "print(\"First 5 elements:\", numbers_list[:5])\n",
    "\n",
    "# Print the last 5 elements of the list \n",
    "print(\"Last 5 elements:\", numbers_list[-5:])\n",
    "\n",
    "# Print the 3rd to 7th elements of the list\n",
    "print(\"3rd to 7th elements:\", numbers_list[2:7])"
   ]
  },
  {
   "cell_type": "markdown",
   "metadata": {},
   "source": [
    "*Q6*"
   ]
  },
  {
   "cell_type": "code",
   "execution_count": 7,
   "metadata": {},
   "outputs": [
    {
     "name": "stdout",
     "output_type": "stream",
     "text": [
      "Number of times 'Ali' appears: 2\n",
      "Sorted list in alphabetical order: ['Ahmed', 'Ali', 'Ali', 'Neha', 'Sara', 'Zain', 'Zainab']\n",
      "Sorted list based on the length of elements: ['Ali', 'Ali', 'Neha', 'Sara', 'Zain', 'Ahmed', 'Zainab']\n"
     ]
    }
   ],
   "source": [
    "names = [\"Ali\", \"Ahmed\", \"Zain\", \"Sara\", \"Neha\", \"Zainab\", \"Ali\"]\n",
    "\n",
    "# Count the number of times 'Ali' appears in the list\n",
    "ali_count = names.count(\"Ali\")\n",
    "print(\"Number of times 'Ali' appears:\", ali_count)\n",
    "\n",
    "# Sort the list in alphabetical order\n",
    "names.sort()\n",
    "print(\"Sorted list in alphabetical order:\", names)\n",
    "\n",
    "# Sort the list based on the length of the elements\n",
    "names.sort(key=len)\n",
    "print(\"Sorted list based on the length of elements:\", names)"
   ]
  },
  {
   "cell_type": "markdown",
   "metadata": {},
   "source": [
    "*Q7*"
   ]
  },
  {
   "cell_type": "code",
   "execution_count": 9,
   "metadata": {},
   "outputs": [
    {
     "name": "stdout",
     "output_type": "stream",
     "text": [
      "Area of the circle: 3629.84\n",
      "Circumference of the circle: 213.52\n"
     ]
    }
   ],
   "source": [
    "\n",
    "# Take radius as input from the user\n",
    "radius = float(input(\"Enter the radius of the circle: \"))\n",
    "pi = 3.14\n",
    "\n",
    "# Calculate the area of the circle\n",
    "area = pi * radius ** 2\n",
    "print(\"Area of the circle:\", area)\n",
    "\n",
    "# Calculate the circumference of the circle\n",
    "circumference = 2 * pi * radius\n",
    "print(\"Circumference of the circle:\", circumference)"
   ]
  },
  {
   "cell_type": "markdown",
   "metadata": {},
   "source": [
    "*Q8*"
   ]
  },
  {
   "cell_type": "code",
   "execution_count": 10,
   "metadata": {},
   "outputs": [
    {
     "name": "stdout",
     "output_type": "stream",
     "text": [
      "Sum of the first 12 natural numbers is: 78\n"
     ]
    }
   ],
   "source": [
    "# Take input from the user\n",
    "n = int(input(\"Enter a natural number: \"))\n",
    "\n",
    "# Calculate the sum \n",
    "sum_n = n * (n + 1) // 2\n",
    "\n",
    "# Print the result\n",
    "print(\"Sum of the first\", n, \"natural numbers is:\", sum_n)"
   ]
  },
  {
   "cell_type": "markdown",
   "metadata": {},
   "source": [
    "*Q9*"
   ]
  },
  {
   "cell_type": "code",
   "execution_count": 3,
   "metadata": {},
   "outputs": [
    {
     "name": "stdout",
     "output_type": "stream",
     "text": [
      "Number of vowels in the string: 6\n"
     ]
    }
   ],
   "source": [
    "# Take input from the user\n",
    "input_string = input(\"Enter a string: \")\n",
    "\n",
    "\n",
    "# Define vowels\n",
    "vowels = \"aeiouAEIOU\"\n",
    "\n",
    "# Count the number of vowels \n",
    "vowel_count = sum(input_string.count(vowel) for vowel in vowels)\n",
    "\n",
    "# Print the result\n",
    "print(\"Number of vowels in the string:\", vowel_count)"
   ]
  },
  {
   "cell_type": "code",
   "execution_count": null,
   "metadata": {},
   "outputs": [],
   "source": []
  }
 ],
 "metadata": {
  "kernelspec": {
   "display_name": "Python 3",
   "language": "python",
   "name": "python3"
  },
  "language_info": {
   "codemirror_mode": {
    "name": "ipython",
    "version": 3
   },
   "file_extension": ".py",
   "mimetype": "text/x-python",
   "name": "python",
   "nbconvert_exporter": "python",
   "pygments_lexer": "ipython3",
   "version": "3.13.2"
  }
 },
 "nbformat": 4,
 "nbformat_minor": 2
}
