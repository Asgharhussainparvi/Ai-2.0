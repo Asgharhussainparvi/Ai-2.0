{
 "cells": [
  {
   "cell_type": "code",
   "execution_count": 22,
   "metadata": {},
   "outputs": [
    {
     "name": "stdout",
     "output_type": "stream",
     "text": [
      "The even numbers are : [0, 2, 4, 6, 8, 10]\n",
      "0\n",
      "2\n",
      "4\n",
      "6\n",
      "8\n",
      "10\n"
     ]
    }
   ],
   "source": [
    "#Task 1\n",
    "\n",
    "#Way1\n",
    "even_num = []\n",
    "for i in range(0,11):\n",
    "    if i%2 == 0:\n",
    "        even_num.append(i)\n",
    "print(f\"The even numbers are :\", even_num)\n",
    "\n",
    "#way2\n",
    "for i in range(0,11,2):\n",
    "    print(i)\n",
    "\n"
   ]
  },
  {
   "cell_type": "code",
   "execution_count": 21,
   "metadata": {},
   "outputs": [
    {
     "name": "stdout",
     "output_type": "stream",
     "text": [
      "1\n",
      "3\n",
      "5\n",
      "7\n",
      "9\n",
      "11\n",
      "The odd numbers are : [1, 3, 5, 7, 9, 11]\n"
     ]
    }
   ],
   "source": [
    "#Task2\n",
    "#way1\n",
    "for i in range(1,12,2):\n",
    "    print(i)\n",
    "\n",
    "#way2\n",
    "odd_num = []\n",
    "for i in range(0,12):\n",
    "    if i%2 != 0:\n",
    "        odd_num.append(i)\n",
    "print(f\"The odd numbers are :\", odd_num)\n"
   ]
  },
  {
   "cell_type": "code",
   "execution_count": 24,
   "metadata": {},
   "outputs": [
    {
     "name": "stdout",
     "output_type": "stream",
     "text": [
      "198\n",
      "200\n",
      "202\n",
      "204\n",
      "206\n",
      "208\n",
      "210\n",
      "212\n",
      "214\n",
      "216\n",
      "218\n",
      "220\n",
      "222\n",
      "224\n",
      "226\n",
      "228\n",
      "230\n",
      "232\n",
      "234\n",
      "236\n",
      "238\n",
      "240\n",
      "242\n",
      "244\n",
      "246\n",
      "248\n",
      "250\n",
      "252\n",
      "254\n",
      "256\n",
      "258\n",
      "260\n",
      "262\n",
      "264\n",
      "266\n",
      "268\n",
      "270\n",
      "272\n",
      "274\n",
      "276\n",
      "278\n",
      "280\n",
      "282\n",
      "284\n",
      "286\n",
      "288\n",
      "290\n",
      "292\n",
      "294\n",
      "296\n",
      "298\n",
      "300\n",
      "302\n",
      "304\n",
      "306\n",
      "308\n",
      "310\n",
      "312\n",
      "314\n",
      "316\n",
      "318\n",
      "320\n",
      "322\n",
      "324\n",
      "326\n",
      "328\n",
      "The even numbers from 198 to 329 are : [198, 200, 202, 204, 206, 208, 210, 212, 214, 216, 218, 220, 222, 224, 226, 228, 230, 232, 234, 236, 238, 240, 242, 244, 246, 248, 250, 252, 254, 256, 258, 260, 262, 264, 266, 268, 270, 272, 274, 276, 278, 280, 282, 284, 286, 288, 290, 292, 294, 296, 298, 300, 302, 304, 306, 308, 310, 312, 314, 316, 318, 320, 322, 324, 326, 328]\n"
     ]
    }
   ],
   "source": [
    "#Task3\n",
    "#Way1\n",
    "for i in range(198,329,2):\n",
    "    print(i)\n",
    "\n",
    "#Way2\n",
    "even_num = []\n",
    "for i in range(198,329):\n",
    "    if i%2 == 0:\n",
    "        even_num.append(i)\n",
    "print(f\"The even numbers from 198 to 329 are :\", even_num)\n"
   ]
  },
  {
   "cell_type": "code",
   "execution_count": 32,
   "metadata": {},
   "outputs": [
    {
     "name": "stdout",
     "output_type": "stream",
     "text": [
      "10\n",
      "9\n",
      "8\n",
      "7\n",
      "6\n",
      "5\n",
      "4\n",
      "3\n",
      "2\n",
      "1\n"
     ]
    }
   ],
   "source": [
    "#Task3\n",
    "\n",
    "for i in range(10,0,-1):\n",
    "    print(i)\n",
    "\n"
   ]
  },
  {
   "cell_type": "code",
   "execution_count": 31,
   "metadata": {},
   "outputs": [
    {
     "name": "stdout",
     "output_type": "stream",
     "text": [
      "-10\n",
      "-9\n",
      "-8\n",
      "-7\n",
      "-6\n",
      "-5\n",
      "-4\n",
      "-3\n",
      "-2\n",
      "-1\n",
      "0\n",
      "1\n",
      "2\n",
      "3\n",
      "4\n",
      "5\n",
      "6\n",
      "7\n",
      "8\n",
      "9\n",
      "10\n"
     ]
    }
   ],
   "source": [
    "#Task4\n",
    "for i in range(-10,11,1):\n",
    "    print(i)\n",
    "\n"
   ]
  },
  {
   "cell_type": "code",
   "execution_count": 1,
   "metadata": {},
   "outputs": [
    {
     "ename": "TypeError",
     "evalue": "'float' object cannot be interpreted as an integer",
     "output_type": "error",
     "traceback": [
      "\u001b[1;31m---------------------------------------------------------------------------\u001b[0m",
      "\u001b[1;31mTypeError\u001b[0m                                 Traceback (most recent call last)",
      "Cell \u001b[1;32mIn[1], line 2\u001b[0m\n\u001b[0;32m      1\u001b[0m \u001b[38;5;66;03m#Task5\u001b[39;00m\n\u001b[1;32m----> 2\u001b[0m \u001b[38;5;28;01mfor\u001b[39;00m i \u001b[38;5;129;01min\u001b[39;00m \u001b[38;5;28;43mrange\u001b[39;49m\u001b[43m(\u001b[49m\u001b[38;5;241;43m0.1\u001b[39;49m\u001b[43m,\u001b[49m\u001b[38;5;241;43m1\u001b[39;49m\u001b[43m,\u001b[49m\u001b[38;5;241;43m0.1\u001b[39;49m\u001b[43m)\u001b[49m:\n\u001b[0;32m      3\u001b[0m     \u001b[38;5;28mprint\u001b[39m(i)\n",
      "\u001b[1;31mTypeError\u001b[0m: 'float' object cannot be interpreted as an integer"
     ]
    }
   ],
   "source": [
    "#Task5\n",
    "for i in range(0.1,1,0.1):\n",
    "    print(i)"
   ]
  },
  {
   "cell_type": "code",
   "execution_count": 36,
   "metadata": {},
   "outputs": [
    {
     "name": "stdout",
     "output_type": "stream",
     "text": [
      "10\n",
      "9\n",
      "8\n",
      "7\n",
      "6\n",
      "5\n",
      "4\n",
      "3\n",
      "2\n",
      "1\n",
      "0\n"
     ]
    }
   ],
   "source": [
    "#Task6\n",
    "\n",
    "for i in range(10,-1,-1):\n",
    "    print(i)"
   ]
  },
  {
   "cell_type": "code",
   "execution_count": 40,
   "metadata": {},
   "outputs": [
    {
     "name": "stdout",
     "output_type": "stream",
     "text": [
      "10\n",
      "9\n",
      "8\n",
      "7\n",
      "6\n",
      "5\n",
      "4\n",
      "3\n",
      "2\n",
      "1\n",
      "0\n"
     ]
    }
   ],
   "source": [
    "i = 10\n",
    "while i>=0:\n",
    "    print(i)\n",
    "    i-=1"
   ]
  },
  {
   "cell_type": "code",
   "execution_count": 43,
   "metadata": {},
   "outputs": [
    {
     "name": "stdout",
     "output_type": "stream",
     "text": [
      "3\n",
      "2\n",
      "1\n",
      "go\n",
      "3\n",
      "2\n",
      "1\n",
      "go\n"
     ]
    }
   ],
   "source": [
    "#Task7\n",
    "\n",
    "#Way1\n",
    "for i in range(3,0,-1):\n",
    "    print(i)\n",
    "print(\"go\")\n",
    "\n",
    "#Way2\n",
    "for i in range(3,-1,-1):\n",
    "    if i !=0:\n",
    "        print(i)\n",
    "    else:\n",
    "        print(\"go\")\n"
   ]
  },
  {
   "cell_type": "code",
   "execution_count": 53,
   "metadata": {},
   "outputs": [
    {
     "name": "stdout",
     "output_type": "stream",
     "text": [
      "The sum of 1-19 :190\n"
     ]
    }
   ],
   "source": [
    "#Task8\n",
    "sum = 0\n",
    "for i in range(1,20):\n",
    "    sum += i\n",
    "print(f\"The sum of 1-19 :{sum}\")"
   ]
  },
  {
   "cell_type": "code",
   "execution_count": 56,
   "metadata": {},
   "outputs": [
    {
     "name": "stdout",
     "output_type": "stream",
     "text": [
      "495550\n"
     ]
    }
   ],
   "source": [
    "#Task9\n",
    "sum1 = 0\n",
    "for i in range(100,1001):\n",
    "    sum1 += i\n",
    "print(sum1)"
   ]
  },
  {
   "cell_type": "code",
   "execution_count": 59,
   "metadata": {},
   "outputs": [
    {
     "name": "stdout",
     "output_type": "stream",
     "text": [
      "1\n",
      "4\n",
      "9\n",
      "16\n",
      "25\n",
      "36\n"
     ]
    }
   ],
   "source": [
    "#Task10\n",
    "for i in range(1,7):\n",
    "    print(i**2)\n",
    "    # print(f\"sqaure of {i} = {i**2}\")"
   ]
  },
  {
   "cell_type": "code",
   "execution_count": 62,
   "metadata": {},
   "outputs": [
    {
     "name": "stdout",
     "output_type": "stream",
     "text": [
      "825\n"
     ]
    }
   ],
   "source": [
    "#Task11\n",
    "j = 0\n",
    "for i in range(1,11):\n",
    "    for k in range(1,6):\n",
    "        j += i*k\n",
    "        \n",
    "\n",
    "print(j)    \n",
    "    \n"
   ]
  },
  {
   "cell_type": "code",
   "execution_count": 66,
   "metadata": {},
   "outputs": [
    {
     "name": "stdout",
     "output_type": "stream",
     "text": [
      "The list of squares are : [1, 4, 9, 16, 25, 36]\n"
     ]
    }
   ],
   "source": [
    "#Task12\n",
    "sqr = []\n",
    "for i in range(1,7):\n",
    "    sqr.append(i**2)\n",
    "print(f\"The list of squares are : {sqr}\")"
   ]
  },
  {
   "cell_type": "code",
   "execution_count": 73,
   "metadata": {},
   "outputs": [
    {
     "name": "stdout",
     "output_type": "stream",
     "text": [
      "[27, 64, 125, 343, 512, 729, 1000]\n"
     ]
    }
   ],
   "source": [
    "#Task13\n",
    "\n",
    "cubes_lst = []\n",
    "for i in range(3,11):\n",
    "    cubes_lst.append(i**3)\n",
    "\n",
    "print(cubes_lst)"
   ]
  },
  {
   "cell_type": "code",
   "execution_count": 83,
   "metadata": {},
   "outputs": [
    {
     "name": "stdout",
     "output_type": "stream",
     "text": [
      "{3: 27, 4: 64, 5: 125, 6: 216, 7: 343, 8: 512, 9: 729, 10: 1000}\n"
     ]
    }
   ],
   "source": [
    "#Task14\n",
    "\n",
    "#way1\n",
    "cube_dict = {}\n",
    "for i in range(3,11):\n",
    "    value = i**3\n",
    "    cube_dict[i]=value\n",
    "print(cube_dict)\n",
    "\n",
    "    "
   ]
  },
  {
   "cell_type": "code",
   "execution_count": 17,
   "metadata": {},
   "outputs": [
    {
     "name": "stdout",
     "output_type": "stream",
     "text": [
      "[4, 9, 36, 64, 121, 169]\n"
     ]
    }
   ],
   "source": [
    "#Task15\n",
    "#way1\n",
    "list = [2,3,6,8,11,13]\n",
    "\n",
    "for i in range(len(list)):\n",
    "    list[i] = list[i]**2\n",
    "\n",
    "print(list)\n"
   ]
  },
  {
   "cell_type": "code",
   "execution_count": 18,
   "metadata": {},
   "outputs": [
    {
     "name": "stdout",
     "output_type": "stream",
     "text": [
      "1\n",
      "9\n",
      "16\n",
      "64\n",
      "8100\n"
     ]
    }
   ],
   "source": [
    "#Task 16\n",
    "list = [1,3,4,8,90]\n",
    "for i in list:\n",
    "    print(i**2)\n"
   ]
  },
  {
   "cell_type": "code",
   "execution_count": 36,
   "metadata": {},
   "outputs": [
    {
     "name": "stdout",
     "output_type": "stream",
     "text": [
      "500\n",
      "-222\n"
     ]
    }
   ],
   "source": [
    "#Task17\n",
    "\n",
    "list = [1,200,3,-222,4,8,500,90]\n",
    "max = list[0]\n",
    "min = list[0]\n",
    "for i in list:\n",
    "    if i > max:\n",
    "        max = i\n",
    "    if i < min:\n",
    "        min = i\n",
    "    \n",
    "        \n",
    "\n",
    "\n",
    "print(max)\n",
    "print(min)\n"
   ]
  },
  {
   "cell_type": "code",
   "execution_count": 43,
   "metadata": {},
   "outputs": [
    {
     "name": "stdout",
     "output_type": "stream",
     "text": [
      "[2, 4, 6, 4, 2, 8, 90, 3, 5, 7, 3]\n"
     ]
    }
   ],
   "source": [
    "list = [2,3,4,5,6,7,4,3,2,8,90]\n",
    "odd = []\n",
    "even =[]\n",
    "for i in list:\n",
    "    if i%2 == 0:\n",
    "       even.append(i)\n",
    "    else:\n",
    "        odd.append(i)\n",
    "print(even + odd)\n",
    "\n"
   ]
  },
  {
   "cell_type": "code",
   "execution_count": 1,
   "metadata": {},
   "outputs": [
    {
     "name": "stdout",
     "output_type": "stream",
     "text": [
      "4\n"
     ]
    }
   ],
   "source": [
    "lst  = [1,2,2,3,3,3,4,4,4,4,7,7]\n",
    "lcky_no = lst[0]\n",
    "for i in lst:\n",
    "    if lst.count(i) > lst.count(lcky_no):\n",
    "        lcky_no = i\n",
    "\n",
    "print(lcky_no)"
   ]
  },
  {
   "cell_type": "code",
   "execution_count": 53,
   "metadata": {},
   "outputs": [
    {
     "name": "stdout",
     "output_type": "stream",
     "text": [
      "[1, 2, 2, 3, 3, 3, 4, 4, 4, 4]\n"
     ]
    }
   ],
   "source": [
    "lst  = [1,2,2,3,3,3,4,4,4,4,7,7]\n",
    "lucky = []\n",
    "for i in lst:\n",
    "    if lst.count(i) == i:\n",
    "       lucky.append(i)\n",
    "\n",
    "print(lucky)"
   ]
  },
  {
   "cell_type": "code",
   "execution_count": null,
   "metadata": {},
   "outputs": [],
   "source": []
  }
 ],
 "metadata": {
  "kernelspec": {
   "display_name": "Python 3",
   "language": "python",
   "name": "python3"
  },
  "language_info": {
   "codemirror_mode": {
    "name": "ipython",
    "version": 3
   },
   "file_extension": ".py",
   "mimetype": "text/x-python",
   "name": "python",
   "nbconvert_exporter": "python",
   "pygments_lexer": "ipython3",
   "version": "3.13.0"
  }
 },
 "nbformat": 4,
 "nbformat_minor": 2
}
