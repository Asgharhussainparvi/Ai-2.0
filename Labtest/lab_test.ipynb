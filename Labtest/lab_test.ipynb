{
 "cells": [
  {
   "cell_type": "markdown",
   "metadata": {},
   "source": [
    "TASK 1"
   ]
  },
  {
   "cell_type": "code",
   "execution_count": 5,
   "metadata": {},
   "outputs": [
    {
     "name": "stdout",
     "output_type": "stream",
     "text": [
      "['Student Log:\\n', 'Name: John Doe, Email: john.doe@example.com, Phone: +1-555-1234, Grade: A\\n', 'Name: Jane Smith, Email: jane.smith@example.com, Phone: +1-555-5678, Grade: B\\n', 'Name: Alan Brown, Email: alan.brown@example.com, Phone: +1-555-8765, Grade: C\\n', 'Name: Emily Davis, Email: emily.davis@example.com, Phone: +1-555-2345, Grade: A\\n', 'Name: Michael Johnson, Email: michael.johnson@example.com, Phone: +1-555-6789, Grade: B\\n', 'Name: Sarah Wilson, Email: sarah.wilson@example.com, Phone: +1-555-3456, Grade: A\\n', 'Name: Chris Miller, Email: chris.miller@example.com, Phone: +1-555-7890, Grade: C\\n', 'Name: Jessica Taylor, Email: jessica.taylor@example.com, Phone: +1-555-4567, Grade: B\\n', 'Name: Daniel Moore, Email: daniel.moore@example.com, Phone: +1-555-8901, Grade: A\\n', 'Name: Laura Anderson, Email: laura.anderson@example.com, Phone: +1-555-5670, Grade: C\\n', 'Name: Kevin Thomas, Email: kevin.thomas@example.com, Phone: +1-555-2340, Grade: A\\n', 'Name: Megan Jackson, Email: megan.jackson@example.com, Phone: +1-555-6780, Grade: B\\n', 'Name: Ryan White, Email: ryan.white@example.com, Phone: +1-555-3450, Grade: C\\n', 'Name: Olivia Harris, Email: olivia.harris@example.com, Phone: +1-555-7891, Grade: A\\n', 'Name: Ethan Martin, Email: ethan.martin@example.com, Phone: +1-555-4561, Grade: B\\n', 'Name: Chloe Thompson, Email: chloe.thompson@example.com, Phone: +1-555-8902, Grade: C\\n', 'Name: Lucas Garcia, Email: lucas.garcia@example.com, Phone: +1-555-5671, Grade: A\\n', 'Name: Natalie Martinez, Email: natalie.martinez@example.com, Phone: +1-555-2341, Grade: B\\n', 'Name: Noah Robinson, Email: noah.robinson@example.com, Phone: +1-555-6781, Grade: C\\n', 'Name: Grace Clark, Email: grace.clark@example.com, Phone: +1-555-3451, Grade: A\\n', '\\n', 'Factory Log:\\n', 'Date: 2025-01-23, Machine ID: M123, Issue: Overheated\\n', 'Date: 2025-01-23, Machine ID: M456, Issue: Maintenance Required\\n', 'Date: 2025-01-24, Machine ID: M789, Issue: Operating Normally\\n', 'Date: 2025-01-24, Machine ID: M987, Issue: Electrical Fault\\n', 'Date: 2025-01-25, Machine ID: M654, Issue: Low Pressure\\n', 'Date: 2025-01-25, Machine ID: M321, Issue: Sensor Error\\n', 'Date: 2025-01-26, Machine ID: M852, Issue: Overheated\\n', 'Date: 2025-01-26, Machine ID: M741, Issue: Maintenance Required\\n', 'Date: 2025-01-27, Machine ID: M963, Issue: Operating Normally\\n', 'Date: 2025-01-27, Machine ID: M159, Issue: Calibration Error\\n', 'Date: 2025-01-28, Machine ID: M753, Issue: High Temperature\\n', 'Date: 2025-01-28, Machine ID: M357, Issue: Low Voltage\\n', 'Date: 2025-01-29, Machine ID: M258, Issue: Software Update Required\\n', 'Date: 2025-01-29, Machine ID: M468, Issue: Oil Leak\\n']\n"
     ]
    }
   ],
   "source": [
    "file = input(\"Enter file name here :\")\n",
    "try:\n",
    "    with open(file, 'r') as f:\n",
    "        lines = f.readlines()\n",
    "    print(lines)\n",
    "except FileNotFoundError:\n",
    "    print(f\"Error: File '{file}' not found.\")\n",
    "    print([])"
   ]
  },
  {
   "cell_type": "markdown",
   "metadata": {},
   "source": [
    "TASK 2"
   ]
  },
  {
   "cell_type": "code",
   "execution_count": 6,
   "metadata": {},
   "outputs": [
    {
     "name": "stdout",
     "output_type": "stream",
     "text": [
      "[('John Doe', 'john.doe@example.com', '+1-555-1234', 'A'), ('Jane Smith', 'jane.smith@example.com', '+1-555-5678', 'B'), ('Alan Brown', 'alan.brown@example.com', '+1-555-8765', 'C'), ('Emily Davis', 'emily.davis@example.com', '+1-555-2345', 'A'), ('Michael Johnson', 'michael.johnson@example.com', '+1-555-6789', 'B'), ('Sarah Wilson', 'sarah.wilson@example.com', '+1-555-3456', 'A'), ('Chris Miller', 'chris.miller@example.com', '+1-555-7890', 'C'), ('Jessica Taylor', 'jessica.taylor@example.com', '+1-555-4567', 'B'), ('Daniel Moore', 'daniel.moore@example.com', '+1-555-8901', 'A'), ('Laura Anderson', 'laura.anderson@example.com', '+1-555-5670', 'C'), ('Kevin Thomas', 'kevin.thomas@example.com', '+1-555-2340', 'A'), ('Megan Jackson', 'megan.jackson@example.com', '+1-555-6780', 'B'), ('Ryan White', 'ryan.white@example.com', '+1-555-3450', 'C'), ('Olivia Harris', 'olivia.harris@example.com', '+1-555-7891', 'A'), ('Ethan Martin', 'ethan.martin@example.com', '+1-555-4561', 'B'), ('Chloe Thompson', 'chloe.thompson@example.com', '+1-555-8902', 'C'), ('Lucas Garcia', 'lucas.garcia@example.com', '+1-555-5671', 'A'), ('Natalie Martinez', 'natalie.martinez@example.com', '+1-555-2341', 'B'), ('Noah Robinson', 'noah.robinson@example.com', '+1-555-6781', 'C'), ('Grace Clark', 'grace.clark@example.com', '+1-555-3451', 'A')]\n",
      "[('2025-01-23', 'M123', 'Overheated'), ('2025-01-23', 'M456', 'Maintenance Required'), ('2025-01-24', 'M789', 'Operating Normally'), ('2025-01-24', 'M987', 'Electrical Fault'), ('2025-01-25', 'M654', 'Low Pressure'), ('2025-01-25', 'M321', 'Sensor Error'), ('2025-01-26', 'M852', 'Overheated'), ('2025-01-26', 'M741', 'Maintenance Required'), ('2025-01-27', 'M963', 'Operating Normally'), ('2025-01-27', 'M159', 'Calibration Error'), ('2025-01-28', 'M753', 'High Temperature'), ('2025-01-28', 'M357', 'Low Voltage'), ('2025-01-29', 'M258', 'Software Update Required'), ('2025-01-29', 'M468', 'Oil Leak')]\n"
     ]
    }
   ],
   "source": [
    "import re\n",
    "with open('data.txt', 'r') as file:\n",
    "            data = file.read()\n",
    "\n",
    "\n",
    "student_pattern = r\"Name: (.*?), Email: (.*?), Phone: (.*?), Grade: (.*?)\\n\"\n",
    "factory_pattern = r\"Date: (.*?), Machine ID: (.*?), Issue: (.*?)\\n\"\n",
    "\n",
    "\n",
    "student_data = re.findall(student_pattern, data)\n",
    "factory_data = re.findall(factory_pattern, data)\n",
    "print(student_data)\n",
    "print(factory_data)"
   ]
  },
  {
   "cell_type": "markdown",
   "metadata": {},
   "source": [
    "TASK 3"
   ]
  },
  {
   "cell_type": "markdown",
   "metadata": {},
   "source": [
    "TASK 4"
   ]
  },
  {
   "cell_type": "code",
   "execution_count": 7,
   "metadata": {},
   "outputs": [
    {
     "name": "stdout",
     "output_type": "stream",
     "text": [
      "['John Doe, ', 'Jane Smith, ', 'Alan Brown, ', 'Emily Davis, ', 'Michael Johnson, ', 'Sarah Wilson, ', 'Chris Miller, ', 'Jessica Taylor, ', 'Daniel Moore, ', 'Laura Anderson, ', 'Kevin Thomas, ', 'Megan Jackson, ', 'Ryan White, ', 'Olivia Harris, ', 'Ethan Martin, ', 'Chloe Thompson, ', 'Lucas Garcia, ', 'Natalie Martinez, ', 'Noah Robinson, ', 'Grace Clark, ']\n"
     ]
    },
    {
     "name": "stderr",
     "output_type": "stream",
     "text": [
      "<>:15: SyntaxWarning: invalid escape sequence '\\d'\n",
      "<>:17: SyntaxWarning: invalid escape sequence '\\d'\n",
      "<>:15: SyntaxWarning: invalid escape sequence '\\d'\n",
      "<>:17: SyntaxWarning: invalid escape sequence '\\d'\n",
      "C:\\Users\\1212a\\AppData\\Local\\Temp\\ipykernel_12364\\2147586343.py:15: SyntaxWarning: invalid escape sequence '\\d'\n",
      "  date_pattern=\"\\d{4}-\\d{2}-\\d{2}\"\n",
      "C:\\Users\\1212a\\AppData\\Local\\Temp\\ipykernel_12364\\2147586343.py:17: SyntaxWarning: invalid escape sequence '\\d'\n",
      "  id_pattern=\"M\\d{3}\"\n"
     ]
    },
    {
     "data": {
      "text/plain": [
       "['Overheated',\n",
       " 'Maintenance Required',\n",
       " 'Operating Normally',\n",
       " 'Electrical Fault',\n",
       " 'Low Pressure',\n",
       " 'Sensor Error',\n",
       " 'Overheated',\n",
       " 'Maintenance Required',\n",
       " 'Operating Normally',\n",
       " 'Calibration Error',\n",
       " 'High Temperature',\n",
       " 'Low Voltage',\n",
       " 'Software Update Required',\n",
       " 'Oil Leak']"
      ]
     },
     "execution_count": 7,
     "metadata": {},
     "output_type": "execute_result"
    }
   ],
   "source": [
    "import re\n",
    "with open('data.txt', 'r') as file:\n",
    "            data = file.read()\n",
    "#Student Data\n",
    "name_pattern=r\"Name: (\\D*?, )\"\n",
    "student_name=(re.findall(name_pattern,data))\n",
    "email_pattern = r\"Email: (\\w*.*@*\\.com)\"\n",
    "student_email=(re.findall(email_pattern,data))\n",
    "number_pattern=r\"\\+\\d-\\d{3}-\\d{4}\"\n",
    "student_number=(re.findall(number_pattern,data))\n",
    "grade_pattern = r\"Grade: ([A-F]{1})\"\n",
    "student_grade=(re.findall(grade_pattern,data))\n",
    "\n",
    "#Factory Data\n",
    "date_pattern=\"\\d{4}-\\d{2}-\\d{2}\"\n",
    "date=(re.findall(date_pattern,data))\n",
    "id_pattern=\"M\\d{3}\"\n",
    "machine_id=(re.findall(id_pattern,data))\n",
    "issues_pattern=\"Issue: ([A-Z a-z]*)\"\n",
    "student_issues=(re.findall(issues_pattern,data))\n",
    "\n",
    "\n",
    "student_dict={\"Name\": student_name,\"Email\":student_email,\"Number\":student_number,\"Grades\":student_grade}\n",
    "factory_dict={\"Date\": date,\"Machine_id\":machine_id,\"Issues\":student_issues}\n",
    "\n",
    "print(student_dict[\"Name\"])\n",
    "\n",
    "factory_dict[\"Issues\"]\n"
   ]
  },
  {
   "cell_type": "markdown",
   "metadata": {},
   "source": [
    "TASK 5"
   ]
  },
  {
   "cell_type": "code",
   "execution_count": 12,
   "metadata": {},
   "outputs": [],
   "source": [
    "import csv\n",
    "\n",
    "students = [\n",
    "    {\"Name\": student_dict['Name'][i],\n",
    "     \"Email\": student_dict['Email'][i],\n",
    "     \"Number\": student_dict['Number'][i],\n",
    "     \"Grades\": student_dict['Grades'][i]}\n",
    "    for i in range(len(student_dict['Name']))\n",
    "]\n",
    "\n",
    "f = open('university_records.csv', 'w', newline='')\n",
    "   \n",
    "writer = csv.DictWriter(f, fieldnames=student_dict.keys())\n",
    "    \n",
    "writer.writeheader()\n",
    "    \n",
    "writer.writerows(students)\n",
    "    "
   ]
  },
  {
   "cell_type": "code",
   "execution_count": 11,
   "metadata": {},
   "outputs": [],
   "source": [
    "factory = [\n",
    "    {\n",
    "     \"Date\": factory_dict['Date'][i],\n",
    "     \"Machine_id\": factory_dict['Machine_id'][i],\n",
    "     \"Issues\": factory_dict['Issues'][i]}\n",
    "    for i in range(len(factory_dict['Date']))\n",
    "]\n",
    "\n",
    "f = open('factorylog.csv', 'w', newline='')\n",
    "\n",
    "\n",
    "    \n",
    "# writer = csv.DictWriter(f, fieldnames=factory_dict.keys())\n",
    "    \n",
    "# writer.writeheader()\n",
    "    \n",
    "# writer.writerows(factory)"
   ]
  },
  {
   "cell_type": "code",
   "execution_count": null,
   "metadata": {},
   "outputs": [],
   "source": []
  }
 ],
 "metadata": {
  "kernelspec": {
   "display_name": "Python 3",
   "language": "python",
   "name": "python3"
  },
  "language_info": {
   "codemirror_mode": {
    "name": "ipython",
    "version": 3
   },
   "file_extension": ".py",
   "mimetype": "text/x-python",
   "name": "python",
   "nbconvert_exporter": "python",
   "pygments_lexer": "ipython3",
   "version": "3.13.2"
  }
 },
 "nbformat": 4,
 "nbformat_minor": 2
}
