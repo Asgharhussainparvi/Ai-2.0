{
 "cells": [
  {
   "cell_type": "code",
   "execution_count": 2,
   "metadata": {},
   "outputs": [],
   "source": [
    "import pandas as pd\n",
    "import numpy as np\n",
    "import matplotlib.pyplot as plt\n",
    "import seaborn as sns"
   ]
  },
  {
   "cell_type": "code",
   "execution_count": 3,
   "metadata": {},
   "outputs": [
    {
     "data": {
      "text/html": [
       "<div>\n",
       "<style scoped>\n",
       "    .dataframe tbody tr th:only-of-type {\n",
       "        vertical-align: middle;\n",
       "    }\n",
       "\n",
       "    .dataframe tbody tr th {\n",
       "        vertical-align: top;\n",
       "    }\n",
       "\n",
       "    .dataframe thead th {\n",
       "        text-align: right;\n",
       "    }\n",
       "</style>\n",
       "<table border=\"1\" class=\"dataframe\">\n",
       "  <thead>\n",
       "    <tr style=\"text-align: right;\">\n",
       "      <th></th>\n",
       "      <th>Unnamed: 0</th>\n",
       "      <th>longitude</th>\n",
       "      <th>latitude</th>\n",
       "      <th>housing_median_age</th>\n",
       "      <th>total_rooms</th>\n",
       "      <th>total_bedrooms</th>\n",
       "      <th>population</th>\n",
       "      <th>households</th>\n",
       "      <th>median_income</th>\n",
       "      <th>median_house_value</th>\n",
       "      <th>ocean_proximity</th>\n",
       "    </tr>\n",
       "  </thead>\n",
       "  <tbody>\n",
       "    <tr>\n",
       "      <th>0</th>\n",
       "      <td>0</td>\n",
       "      <td>-122.23</td>\n",
       "      <td>37.88</td>\n",
       "      <td>41.0</td>\n",
       "      <td>880.0</td>\n",
       "      <td>NaN</td>\n",
       "      <td>322.0</td>\n",
       "      <td>NaN</td>\n",
       "      <td>8.3252</td>\n",
       "      <td>452600.0</td>\n",
       "      <td>NEAR BAY</td>\n",
       "    </tr>\n",
       "    <tr>\n",
       "      <th>1</th>\n",
       "      <td>1</td>\n",
       "      <td>-122.22</td>\n",
       "      <td>37.86</td>\n",
       "      <td>NaN</td>\n",
       "      <td>7099.0</td>\n",
       "      <td>1106.0</td>\n",
       "      <td>2401.0</td>\n",
       "      <td>1138.0</td>\n",
       "      <td>8.3014</td>\n",
       "      <td>358500.0</td>\n",
       "      <td>NEAR BAY</td>\n",
       "    </tr>\n",
       "    <tr>\n",
       "      <th>2</th>\n",
       "      <td>2</td>\n",
       "      <td>-122.24</td>\n",
       "      <td>37.85</td>\n",
       "      <td>52.0</td>\n",
       "      <td>1467.0</td>\n",
       "      <td>190.0</td>\n",
       "      <td>496.0</td>\n",
       "      <td>177.0</td>\n",
       "      <td>7.2574</td>\n",
       "      <td>352100.0</td>\n",
       "      <td>NEAR BAY</td>\n",
       "    </tr>\n",
       "    <tr>\n",
       "      <th>3</th>\n",
       "      <td>3</td>\n",
       "      <td>-122.25</td>\n",
       "      <td>37.85</td>\n",
       "      <td>52.0</td>\n",
       "      <td>NaN</td>\n",
       "      <td>235.0</td>\n",
       "      <td>558.0</td>\n",
       "      <td>219.0</td>\n",
       "      <td>5.6431</td>\n",
       "      <td>341300.0</td>\n",
       "      <td>NEAR BAY</td>\n",
       "    </tr>\n",
       "    <tr>\n",
       "      <th>4</th>\n",
       "      <td>4</td>\n",
       "      <td>-122.25</td>\n",
       "      <td>37.85</td>\n",
       "      <td>52.0</td>\n",
       "      <td>1627.0</td>\n",
       "      <td>280.0</td>\n",
       "      <td>565.0</td>\n",
       "      <td>259.0</td>\n",
       "      <td>3.8462</td>\n",
       "      <td>342200.0</td>\n",
       "      <td>NEAR BAY</td>\n",
       "    </tr>\n",
       "    <tr>\n",
       "      <th>...</th>\n",
       "      <td>...</td>\n",
       "      <td>...</td>\n",
       "      <td>...</td>\n",
       "      <td>...</td>\n",
       "      <td>...</td>\n",
       "      <td>...</td>\n",
       "      <td>...</td>\n",
       "      <td>...</td>\n",
       "      <td>...</td>\n",
       "      <td>...</td>\n",
       "      <td>...</td>\n",
       "    </tr>\n",
       "    <tr>\n",
       "      <th>20635</th>\n",
       "      <td>20635</td>\n",
       "      <td>-121.09</td>\n",
       "      <td>39.48</td>\n",
       "      <td>25.0</td>\n",
       "      <td>1665.0</td>\n",
       "      <td>374.0</td>\n",
       "      <td>845.0</td>\n",
       "      <td>330.0</td>\n",
       "      <td>1.5603</td>\n",
       "      <td>78100.0</td>\n",
       "      <td>INLAND</td>\n",
       "    </tr>\n",
       "    <tr>\n",
       "      <th>20636</th>\n",
       "      <td>20636</td>\n",
       "      <td>-121.21</td>\n",
       "      <td>39.49</td>\n",
       "      <td>18.0</td>\n",
       "      <td>697.0</td>\n",
       "      <td>150.0</td>\n",
       "      <td>NaN</td>\n",
       "      <td>NaN</td>\n",
       "      <td>2.5568</td>\n",
       "      <td>NaN</td>\n",
       "      <td>INLAND</td>\n",
       "    </tr>\n",
       "    <tr>\n",
       "      <th>20637</th>\n",
       "      <td>20637</td>\n",
       "      <td>-121.22</td>\n",
       "      <td>39.43</td>\n",
       "      <td>17.0</td>\n",
       "      <td>2254.0</td>\n",
       "      <td>485.0</td>\n",
       "      <td>1007.0</td>\n",
       "      <td>NaN</td>\n",
       "      <td>1.7000</td>\n",
       "      <td>92300.0</td>\n",
       "      <td>INLAND</td>\n",
       "    </tr>\n",
       "    <tr>\n",
       "      <th>20638</th>\n",
       "      <td>20638</td>\n",
       "      <td>-121.32</td>\n",
       "      <td>39.43</td>\n",
       "      <td>18.0</td>\n",
       "      <td>1860.0</td>\n",
       "      <td>409.0</td>\n",
       "      <td>741.0</td>\n",
       "      <td>349.0</td>\n",
       "      <td>1.8672</td>\n",
       "      <td>84700.0</td>\n",
       "      <td>NaN</td>\n",
       "    </tr>\n",
       "    <tr>\n",
       "      <th>20639</th>\n",
       "      <td>20639</td>\n",
       "      <td>-121.24</td>\n",
       "      <td>39.37</td>\n",
       "      <td>16.0</td>\n",
       "      <td>2785.0</td>\n",
       "      <td>616.0</td>\n",
       "      <td>1387.0</td>\n",
       "      <td>530.0</td>\n",
       "      <td>2.3886</td>\n",
       "      <td>89400.0</td>\n",
       "      <td>INLAND</td>\n",
       "    </tr>\n",
       "  </tbody>\n",
       "</table>\n",
       "<p>20640 rows × 11 columns</p>\n",
       "</div>"
      ],
      "text/plain": [
       "       Unnamed: 0  longitude  latitude  housing_median_age  total_rooms  \\\n",
       "0               0    -122.23     37.88                41.0        880.0   \n",
       "1               1    -122.22     37.86                 NaN       7099.0   \n",
       "2               2    -122.24     37.85                52.0       1467.0   \n",
       "3               3    -122.25     37.85                52.0          NaN   \n",
       "4               4    -122.25     37.85                52.0       1627.0   \n",
       "...           ...        ...       ...                 ...          ...   \n",
       "20635       20635    -121.09     39.48                25.0       1665.0   \n",
       "20636       20636    -121.21     39.49                18.0        697.0   \n",
       "20637       20637    -121.22     39.43                17.0       2254.0   \n",
       "20638       20638    -121.32     39.43                18.0       1860.0   \n",
       "20639       20639    -121.24     39.37                16.0       2785.0   \n",
       "\n",
       "       total_bedrooms  population  households  median_income  \\\n",
       "0                 NaN       322.0         NaN         8.3252   \n",
       "1              1106.0      2401.0      1138.0         8.3014   \n",
       "2               190.0       496.0       177.0         7.2574   \n",
       "3               235.0       558.0       219.0         5.6431   \n",
       "4               280.0       565.0       259.0         3.8462   \n",
       "...               ...         ...         ...            ...   \n",
       "20635           374.0       845.0       330.0         1.5603   \n",
       "20636           150.0         NaN         NaN         2.5568   \n",
       "20637           485.0      1007.0         NaN         1.7000   \n",
       "20638           409.0       741.0       349.0         1.8672   \n",
       "20639           616.0      1387.0       530.0         2.3886   \n",
       "\n",
       "       median_house_value ocean_proximity  \n",
       "0                452600.0        NEAR BAY  \n",
       "1                358500.0        NEAR BAY  \n",
       "2                352100.0        NEAR BAY  \n",
       "3                341300.0        NEAR BAY  \n",
       "4                342200.0        NEAR BAY  \n",
       "...                   ...             ...  \n",
       "20635             78100.0          INLAND  \n",
       "20636                 NaN          INLAND  \n",
       "20637             92300.0          INLAND  \n",
       "20638             84700.0             NaN  \n",
       "20639             89400.0          INLAND  \n",
       "\n",
       "[20640 rows x 11 columns]"
      ]
     },
     "execution_count": 3,
     "metadata": {},
     "output_type": "execute_result"
    }
   ],
   "source": [
    "# upload dataset to df\n",
    "h = pd.read_csv(\"1_housing.csv\")\n",
    "h"
   ]
  },
  {
   "cell_type": "code",
   "execution_count": 4,
   "metadata": {},
   "outputs": [
    {
     "name": "stdout",
     "output_type": "stream",
     "text": [
      "Size of data is  227040\n",
      "Shape of data is  (20640, 11)\n"
     ]
    }
   ],
   "source": [
    "# check size,shape,info,null\n",
    "print(f\"Size of data is \",h.size)\n",
    "print(f\"Shape of data is \",h.shape)"
   ]
  },
  {
   "cell_type": "code",
   "execution_count": 5,
   "metadata": {},
   "outputs": [
    {
     "name": "stdout",
     "output_type": "stream",
     "text": [
      "Info of data is: \n",
      "  <bound method DataFrame.info of        Unnamed: 0  longitude  latitude  housing_median_age  total_rooms  \\\n",
      "0               0    -122.23     37.88                41.0        880.0   \n",
      "1               1    -122.22     37.86                 NaN       7099.0   \n",
      "2               2    -122.24     37.85                52.0       1467.0   \n",
      "3               3    -122.25     37.85                52.0          NaN   \n",
      "4               4    -122.25     37.85                52.0       1627.0   \n",
      "...           ...        ...       ...                 ...          ...   \n",
      "20635       20635    -121.09     39.48                25.0       1665.0   \n",
      "20636       20636    -121.21     39.49                18.0        697.0   \n",
      "20637       20637    -121.22     39.43                17.0       2254.0   \n",
      "20638       20638    -121.32     39.43                18.0       1860.0   \n",
      "20639       20639    -121.24     39.37                16.0       2785.0   \n",
      "\n",
      "       total_bedrooms  population  households  median_income  \\\n",
      "0                 NaN       322.0         NaN         8.3252   \n",
      "1              1106.0      2401.0      1138.0         8.3014   \n",
      "2               190.0       496.0       177.0         7.2574   \n",
      "3               235.0       558.0       219.0         5.6431   \n",
      "4               280.0       565.0       259.0         3.8462   \n",
      "...               ...         ...         ...            ...   \n",
      "20635           374.0       845.0       330.0         1.5603   \n",
      "20636           150.0         NaN         NaN         2.5568   \n",
      "20637           485.0      1007.0         NaN         1.7000   \n",
      "20638           409.0       741.0       349.0         1.8672   \n",
      "20639           616.0      1387.0       530.0         2.3886   \n",
      "\n",
      "       median_house_value ocean_proximity  \n",
      "0                452600.0        NEAR BAY  \n",
      "1                358500.0        NEAR BAY  \n",
      "2                352100.0        NEAR BAY  \n",
      "3                341300.0        NEAR BAY  \n",
      "4                342200.0        NEAR BAY  \n",
      "...                   ...             ...  \n",
      "20635             78100.0          INLAND  \n",
      "20636                 NaN          INLAND  \n",
      "20637             92300.0          INLAND  \n",
      "20638             84700.0             NaN  \n",
      "20639             89400.0          INLAND  \n",
      "\n",
      "[20640 rows x 11 columns]>\n"
     ]
    }
   ],
   "source": [
    "print(f\"Info of data is: \\n \",h.info)"
   ]
  },
  {
   "cell_type": "code",
   "execution_count": 6,
   "metadata": {},
   "outputs": [
    {
     "name": "stdout",
     "output_type": "stream",
     "text": [
      "Isnull in data :\n",
      "  Unnamed: 0               0\n",
      "longitude             1049\n",
      "latitude               985\n",
      "housing_median_age    1008\n",
      "total_rooms           1038\n",
      "total_bedrooms        1233\n",
      "population            1043\n",
      "households            1012\n",
      "median_income         1003\n",
      "median_house_value    1092\n",
      "ocean_proximity       1049\n",
      "dtype: int64\n"
     ]
    }
   ],
   "source": [
    "print(f\"Isnull in data :\\n \",h.isnull().sum())"
   ]
  },
  {
   "cell_type": "code",
   "execution_count": 7,
   "metadata": {},
   "outputs": [
    {
     "data": {
      "text/plain": [
       "(20640, 11)"
      ]
     },
     "execution_count": 7,
     "metadata": {},
     "output_type": "execute_result"
    }
   ],
   "source": [
    "#make a copy_1 of original dataframe\n",
    "c1 = h.copy()\n",
    "c1.isnull().sum()\n",
    "c1.shape"
   ]
  },
  {
   "cell_type": "code",
   "execution_count": 8,
   "metadata": {},
   "outputs": [
    {
     "data": {
      "text/plain": [
       "(12223, 11)"
      ]
     },
     "execution_count": 8,
     "metadata": {},
     "output_type": "execute_result"
    }
   ],
   "source": [
    "# remove row with missing values in copy_1 and check shape \n",
    "c1.dropna(inplace=True)\n",
    "c1.shape"
   ]
  },
  {
   "cell_type": "code",
   "execution_count": 9,
   "metadata": {},
   "outputs": [],
   "source": [
    "# make an other copy_2 of original dataframe\n",
    "c2 = h.copy()"
   ]
  },
  {
   "cell_type": "code",
   "execution_count": 10,
   "metadata": {},
   "outputs": [],
   "source": [
    "#  fill nan with forward filling ffill() in copy_2\n",
    "c2.ffill(inplace=True)"
   ]
  },
  {
   "cell_type": "code",
   "execution_count": 11,
   "metadata": {},
   "outputs": [
    {
     "data": {
      "text/plain": [
       "Unnamed: 0            0\n",
       "longitude             0\n",
       "latitude              0\n",
       "housing_median_age    0\n",
       "total_rooms           0\n",
       "total_bedrooms        1\n",
       "population            0\n",
       "households            1\n",
       "median_income         0\n",
       "median_house_value    0\n",
       "ocean_proximity       0\n",
       "dtype: int64"
      ]
     },
     "execution_count": 11,
     "metadata": {},
     "output_type": "execute_result"
    }
   ],
   "source": [
    "# check null values\n",
    "c2.isnull().sum()"
   ]
  },
  {
   "cell_type": "code",
   "execution_count": 12,
   "metadata": {},
   "outputs": [],
   "source": [
    "# make an other copy_3 of original dataframe\n",
    "c3 = h.copy()"
   ]
  },
  {
   "cell_type": "code",
   "execution_count": 13,
   "metadata": {},
   "outputs": [],
   "source": [
    "#  fill nan with backward filling bfill() in copy_3\n",
    "c3.bfill(inplace=True)"
   ]
  },
  {
   "cell_type": "code",
   "execution_count": 14,
   "metadata": {},
   "outputs": [
    {
     "data": {
      "text/plain": [
       "Unnamed: 0            0\n",
       "longitude             0\n",
       "latitude              0\n",
       "housing_median_age    0\n",
       "total_rooms           0\n",
       "total_bedrooms        0\n",
       "population            0\n",
       "households            0\n",
       "median_income         0\n",
       "median_house_value    0\n",
       "ocean_proximity       0\n",
       "dtype: int64"
      ]
     },
     "execution_count": 14,
     "metadata": {},
     "output_type": "execute_result"
    }
   ],
   "source": [
    "# check null values\n",
    "c3.isnull().sum()"
   ]
  },
  {
   "cell_type": "code",
   "execution_count": 15,
   "metadata": {},
   "outputs": [],
   "source": [
    "# make an other copy_4 of original dataframe\n",
    "c4 = h.copy()"
   ]
  },
  {
   "cell_type": "code",
   "execution_count": 16,
   "metadata": {},
   "outputs": [
    {
     "name": "stderr",
     "output_type": "stream",
     "text": [
      "C:\\Users\\1212a\\AppData\\Local\\Temp\\ipykernel_1940\\1556908644.py:2: FutureWarning: DataFrame.interpolate with object dtype is deprecated and will raise in a future version. Call obj.infer_objects(copy=False) before interpolating instead.\n",
      "  c4.interpolate(method='linear',inplace=True)\n"
     ]
    }
   ],
   "source": [
    "#  fill nan with interpolation interpolate() in copy_4\n",
    "c4.interpolate(method='linear',inplace=True)"
   ]
  },
  {
   "cell_type": "code",
   "execution_count": 17,
   "metadata": {},
   "outputs": [
    {
     "data": {
      "text/plain": [
       "Unnamed: 0               0\n",
       "longitude                0\n",
       "latitude                 0\n",
       "housing_median_age       0\n",
       "total_rooms              0\n",
       "total_bedrooms           1\n",
       "population               0\n",
       "households               1\n",
       "median_income            0\n",
       "median_house_value       0\n",
       "ocean_proximity       1049\n",
       "dtype: int64"
      ]
     },
     "execution_count": 17,
     "metadata": {},
     "output_type": "execute_result"
    }
   ],
   "source": [
    "# check null values\n",
    "c4.isnull().sum()"
   ]
  },
  {
   "cell_type": "code",
   "execution_count": 18,
   "metadata": {},
   "outputs": [],
   "source": [
    "# now move to original dataframe df\n"
   ]
  },
  {
   "cell_type": "code",
   "execution_count": 19,
   "metadata": {},
   "outputs": [
    {
     "data": {
      "text/plain": [
       "Unnamed: 0              int64\n",
       "longitude             float64\n",
       "latitude              float64\n",
       "housing_median_age    float64\n",
       "total_rooms           float64\n",
       "total_bedrooms        float64\n",
       "population            float64\n",
       "households            float64\n",
       "median_income         float64\n",
       "median_house_value    float64\n",
       "ocean_proximity        object\n",
       "dtype: object"
      ]
     },
     "execution_count": 19,
     "metadata": {},
     "output_type": "execute_result"
    }
   ],
   "source": [
    "# check datatype, null values, unique, duplicate using duplicated()\n",
    "h.dtypes"
   ]
  },
  {
   "cell_type": "code",
   "execution_count": 20,
   "metadata": {},
   "outputs": [
    {
     "data": {
      "text/plain": [
       "Unnamed: 0               0\n",
       "longitude             1049\n",
       "latitude               985\n",
       "housing_median_age    1008\n",
       "total_rooms           1038\n",
       "total_bedrooms        1233\n",
       "population            1043\n",
       "households            1012\n",
       "median_income         1003\n",
       "median_house_value    1092\n",
       "ocean_proximity       1049\n",
       "dtype: int64"
      ]
     },
     "execution_count": 20,
     "metadata": {},
     "output_type": "execute_result"
    }
   ],
   "source": [
    "h.isnull().sum()"
   ]
  },
  {
   "cell_type": "code",
   "execution_count": 21,
   "metadata": {},
   "outputs": [
    {
     "data": {
      "text/plain": [
       "Unnamed: 0            20640\n",
       "longitude               841\n",
       "latitude                859\n",
       "housing_median_age       52\n",
       "total_rooms            5817\n",
       "total_bedrooms         1894\n",
       "population             3835\n",
       "households             1793\n",
       "median_income         12456\n",
       "median_house_value     3810\n",
       "ocean_proximity           5\n",
       "dtype: int64"
      ]
     },
     "execution_count": 21,
     "metadata": {},
     "output_type": "execute_result"
    }
   ],
   "source": [
    "h.nunique()"
   ]
  },
  {
   "cell_type": "code",
   "execution_count": 22,
   "metadata": {},
   "outputs": [
    {
     "data": {
      "text/plain": [
       "0        False\n",
       "1        False\n",
       "2        False\n",
       "3        False\n",
       "4        False\n",
       "         ...  \n",
       "20635    False\n",
       "20636    False\n",
       "20637    False\n",
       "20638    False\n",
       "20639    False\n",
       "Length: 20640, dtype: bool"
      ]
     },
     "execution_count": 22,
     "metadata": {},
     "output_type": "execute_result"
    }
   ],
   "source": [
    "h.duplicated()"
   ]
  },
  {
   "cell_type": "code",
   "execution_count": 23,
   "metadata": {},
   "outputs": [
    {
     "data": {
      "text/html": [
       "<div>\n",
       "<style scoped>\n",
       "    .dataframe tbody tr th:only-of-type {\n",
       "        vertical-align: middle;\n",
       "    }\n",
       "\n",
       "    .dataframe tbody tr th {\n",
       "        vertical-align: top;\n",
       "    }\n",
       "\n",
       "    .dataframe thead th {\n",
       "        text-align: right;\n",
       "    }\n",
       "</style>\n",
       "<table border=\"1\" class=\"dataframe\">\n",
       "  <thead>\n",
       "    <tr style=\"text-align: right;\">\n",
       "      <th></th>\n",
       "      <th>longitude</th>\n",
       "      <th>latitude</th>\n",
       "      <th>housing_median_age</th>\n",
       "      <th>total_rooms</th>\n",
       "      <th>total_bedrooms</th>\n",
       "      <th>population</th>\n",
       "      <th>households</th>\n",
       "      <th>median_income</th>\n",
       "      <th>median_house_value</th>\n",
       "      <th>ocean_proximity</th>\n",
       "    </tr>\n",
       "  </thead>\n",
       "  <tbody>\n",
       "    <tr>\n",
       "      <th>0</th>\n",
       "      <td>-122.23</td>\n",
       "      <td>37.88</td>\n",
       "      <td>41.0</td>\n",
       "      <td>880.0</td>\n",
       "      <td>NaN</td>\n",
       "      <td>322.0</td>\n",
       "      <td>NaN</td>\n",
       "      <td>8.3252</td>\n",
       "      <td>452600.0</td>\n",
       "      <td>NEAR BAY</td>\n",
       "    </tr>\n",
       "    <tr>\n",
       "      <th>1</th>\n",
       "      <td>-122.22</td>\n",
       "      <td>37.86</td>\n",
       "      <td>NaN</td>\n",
       "      <td>7099.0</td>\n",
       "      <td>1106.0</td>\n",
       "      <td>2401.0</td>\n",
       "      <td>1138.0</td>\n",
       "      <td>8.3014</td>\n",
       "      <td>358500.0</td>\n",
       "      <td>NEAR BAY</td>\n",
       "    </tr>\n",
       "    <tr>\n",
       "      <th>2</th>\n",
       "      <td>-122.24</td>\n",
       "      <td>37.85</td>\n",
       "      <td>52.0</td>\n",
       "      <td>1467.0</td>\n",
       "      <td>190.0</td>\n",
       "      <td>496.0</td>\n",
       "      <td>177.0</td>\n",
       "      <td>7.2574</td>\n",
       "      <td>352100.0</td>\n",
       "      <td>NEAR BAY</td>\n",
       "    </tr>\n",
       "    <tr>\n",
       "      <th>3</th>\n",
       "      <td>-122.25</td>\n",
       "      <td>37.85</td>\n",
       "      <td>52.0</td>\n",
       "      <td>NaN</td>\n",
       "      <td>235.0</td>\n",
       "      <td>558.0</td>\n",
       "      <td>219.0</td>\n",
       "      <td>5.6431</td>\n",
       "      <td>341300.0</td>\n",
       "      <td>NEAR BAY</td>\n",
       "    </tr>\n",
       "    <tr>\n",
       "      <th>4</th>\n",
       "      <td>-122.25</td>\n",
       "      <td>37.85</td>\n",
       "      <td>52.0</td>\n",
       "      <td>1627.0</td>\n",
       "      <td>280.0</td>\n",
       "      <td>565.0</td>\n",
       "      <td>259.0</td>\n",
       "      <td>3.8462</td>\n",
       "      <td>342200.0</td>\n",
       "      <td>NEAR BAY</td>\n",
       "    </tr>\n",
       "    <tr>\n",
       "      <th>...</th>\n",
       "      <td>...</td>\n",
       "      <td>...</td>\n",
       "      <td>...</td>\n",
       "      <td>...</td>\n",
       "      <td>...</td>\n",
       "      <td>...</td>\n",
       "      <td>...</td>\n",
       "      <td>...</td>\n",
       "      <td>...</td>\n",
       "      <td>...</td>\n",
       "    </tr>\n",
       "    <tr>\n",
       "      <th>20635</th>\n",
       "      <td>-121.09</td>\n",
       "      <td>39.48</td>\n",
       "      <td>25.0</td>\n",
       "      <td>1665.0</td>\n",
       "      <td>374.0</td>\n",
       "      <td>845.0</td>\n",
       "      <td>330.0</td>\n",
       "      <td>1.5603</td>\n",
       "      <td>78100.0</td>\n",
       "      <td>INLAND</td>\n",
       "    </tr>\n",
       "    <tr>\n",
       "      <th>20636</th>\n",
       "      <td>-121.21</td>\n",
       "      <td>39.49</td>\n",
       "      <td>18.0</td>\n",
       "      <td>697.0</td>\n",
       "      <td>150.0</td>\n",
       "      <td>NaN</td>\n",
       "      <td>NaN</td>\n",
       "      <td>2.5568</td>\n",
       "      <td>NaN</td>\n",
       "      <td>INLAND</td>\n",
       "    </tr>\n",
       "    <tr>\n",
       "      <th>20637</th>\n",
       "      <td>-121.22</td>\n",
       "      <td>39.43</td>\n",
       "      <td>17.0</td>\n",
       "      <td>2254.0</td>\n",
       "      <td>485.0</td>\n",
       "      <td>1007.0</td>\n",
       "      <td>NaN</td>\n",
       "      <td>1.7000</td>\n",
       "      <td>92300.0</td>\n",
       "      <td>INLAND</td>\n",
       "    </tr>\n",
       "    <tr>\n",
       "      <th>20638</th>\n",
       "      <td>-121.32</td>\n",
       "      <td>39.43</td>\n",
       "      <td>18.0</td>\n",
       "      <td>1860.0</td>\n",
       "      <td>409.0</td>\n",
       "      <td>741.0</td>\n",
       "      <td>349.0</td>\n",
       "      <td>1.8672</td>\n",
       "      <td>84700.0</td>\n",
       "      <td>NaN</td>\n",
       "    </tr>\n",
       "    <tr>\n",
       "      <th>20639</th>\n",
       "      <td>-121.24</td>\n",
       "      <td>39.37</td>\n",
       "      <td>16.0</td>\n",
       "      <td>2785.0</td>\n",
       "      <td>616.0</td>\n",
       "      <td>1387.0</td>\n",
       "      <td>530.0</td>\n",
       "      <td>2.3886</td>\n",
       "      <td>89400.0</td>\n",
       "      <td>INLAND</td>\n",
       "    </tr>\n",
       "  </tbody>\n",
       "</table>\n",
       "<p>20640 rows × 10 columns</p>\n",
       "</div>"
      ],
      "text/plain": [
       "       longitude  latitude  housing_median_age  total_rooms  total_bedrooms  \\\n",
       "0        -122.23     37.88                41.0        880.0             NaN   \n",
       "1        -122.22     37.86                 NaN       7099.0          1106.0   \n",
       "2        -122.24     37.85                52.0       1467.0           190.0   \n",
       "3        -122.25     37.85                52.0          NaN           235.0   \n",
       "4        -122.25     37.85                52.0       1627.0           280.0   \n",
       "...          ...       ...                 ...          ...             ...   \n",
       "20635    -121.09     39.48                25.0       1665.0           374.0   \n",
       "20636    -121.21     39.49                18.0        697.0           150.0   \n",
       "20637    -121.22     39.43                17.0       2254.0           485.0   \n",
       "20638    -121.32     39.43                18.0       1860.0           409.0   \n",
       "20639    -121.24     39.37                16.0       2785.0           616.0   \n",
       "\n",
       "       population  households  median_income  median_house_value  \\\n",
       "0           322.0         NaN         8.3252            452600.0   \n",
       "1          2401.0      1138.0         8.3014            358500.0   \n",
       "2           496.0       177.0         7.2574            352100.0   \n",
       "3           558.0       219.0         5.6431            341300.0   \n",
       "4           565.0       259.0         3.8462            342200.0   \n",
       "...           ...         ...            ...                 ...   \n",
       "20635       845.0       330.0         1.5603             78100.0   \n",
       "20636         NaN         NaN         2.5568                 NaN   \n",
       "20637      1007.0         NaN         1.7000             92300.0   \n",
       "20638       741.0       349.0         1.8672             84700.0   \n",
       "20639      1387.0       530.0         2.3886             89400.0   \n",
       "\n",
       "      ocean_proximity  \n",
       "0            NEAR BAY  \n",
       "1            NEAR BAY  \n",
       "2            NEAR BAY  \n",
       "3            NEAR BAY  \n",
       "4            NEAR BAY  \n",
       "...               ...  \n",
       "20635          INLAND  \n",
       "20636          INLAND  \n",
       "20637          INLAND  \n",
       "20638             NaN  \n",
       "20639          INLAND  \n",
       "\n",
       "[20640 rows x 10 columns]"
      ]
     },
     "execution_count": 23,
     "metadata": {},
     "output_type": "execute_result"
    }
   ],
   "source": [
    "# remove 'Unnamed: 0' column\n",
    "h.drop('Unnamed: 0',axis=1,inplace=True)\n",
    "h"
   ]
  },
  {
   "cell_type": "code",
   "execution_count": 24,
   "metadata": {},
   "outputs": [
    {
     "data": {
      "text/html": [
       "<div>\n",
       "<style scoped>\n",
       "    .dataframe tbody tr th:only-of-type {\n",
       "        vertical-align: middle;\n",
       "    }\n",
       "\n",
       "    .dataframe tbody tr th {\n",
       "        vertical-align: top;\n",
       "    }\n",
       "\n",
       "    .dataframe thead th {\n",
       "        text-align: right;\n",
       "    }\n",
       "</style>\n",
       "<table border=\"1\" class=\"dataframe\">\n",
       "  <thead>\n",
       "    <tr style=\"text-align: right;\">\n",
       "      <th></th>\n",
       "      <th>longitude</th>\n",
       "      <th>latitude</th>\n",
       "      <th>house_age</th>\n",
       "      <th>total_rooms</th>\n",
       "      <th>total_bedrooms</th>\n",
       "      <th>population</th>\n",
       "      <th>households</th>\n",
       "      <th>income</th>\n",
       "      <th>house_price</th>\n",
       "      <th>ocean_proximity</th>\n",
       "    </tr>\n",
       "  </thead>\n",
       "  <tbody>\n",
       "    <tr>\n",
       "      <th>0</th>\n",
       "      <td>-122.23</td>\n",
       "      <td>37.88</td>\n",
       "      <td>41.0</td>\n",
       "      <td>880.0</td>\n",
       "      <td>NaN</td>\n",
       "      <td>322.0</td>\n",
       "      <td>NaN</td>\n",
       "      <td>8.3252</td>\n",
       "      <td>452600.0</td>\n",
       "      <td>NEAR BAY</td>\n",
       "    </tr>\n",
       "    <tr>\n",
       "      <th>1</th>\n",
       "      <td>-122.22</td>\n",
       "      <td>37.86</td>\n",
       "      <td>NaN</td>\n",
       "      <td>7099.0</td>\n",
       "      <td>1106.0</td>\n",
       "      <td>2401.0</td>\n",
       "      <td>1138.0</td>\n",
       "      <td>8.3014</td>\n",
       "      <td>358500.0</td>\n",
       "      <td>NEAR BAY</td>\n",
       "    </tr>\n",
       "    <tr>\n",
       "      <th>2</th>\n",
       "      <td>-122.24</td>\n",
       "      <td>37.85</td>\n",
       "      <td>52.0</td>\n",
       "      <td>1467.0</td>\n",
       "      <td>190.0</td>\n",
       "      <td>496.0</td>\n",
       "      <td>177.0</td>\n",
       "      <td>7.2574</td>\n",
       "      <td>352100.0</td>\n",
       "      <td>NEAR BAY</td>\n",
       "    </tr>\n",
       "    <tr>\n",
       "      <th>3</th>\n",
       "      <td>-122.25</td>\n",
       "      <td>37.85</td>\n",
       "      <td>52.0</td>\n",
       "      <td>NaN</td>\n",
       "      <td>235.0</td>\n",
       "      <td>558.0</td>\n",
       "      <td>219.0</td>\n",
       "      <td>5.6431</td>\n",
       "      <td>341300.0</td>\n",
       "      <td>NEAR BAY</td>\n",
       "    </tr>\n",
       "    <tr>\n",
       "      <th>4</th>\n",
       "      <td>-122.25</td>\n",
       "      <td>37.85</td>\n",
       "      <td>52.0</td>\n",
       "      <td>1627.0</td>\n",
       "      <td>280.0</td>\n",
       "      <td>565.0</td>\n",
       "      <td>259.0</td>\n",
       "      <td>3.8462</td>\n",
       "      <td>342200.0</td>\n",
       "      <td>NEAR BAY</td>\n",
       "    </tr>\n",
       "    <tr>\n",
       "      <th>...</th>\n",
       "      <td>...</td>\n",
       "      <td>...</td>\n",
       "      <td>...</td>\n",
       "      <td>...</td>\n",
       "      <td>...</td>\n",
       "      <td>...</td>\n",
       "      <td>...</td>\n",
       "      <td>...</td>\n",
       "      <td>...</td>\n",
       "      <td>...</td>\n",
       "    </tr>\n",
       "    <tr>\n",
       "      <th>20635</th>\n",
       "      <td>-121.09</td>\n",
       "      <td>39.48</td>\n",
       "      <td>25.0</td>\n",
       "      <td>1665.0</td>\n",
       "      <td>374.0</td>\n",
       "      <td>845.0</td>\n",
       "      <td>330.0</td>\n",
       "      <td>1.5603</td>\n",
       "      <td>78100.0</td>\n",
       "      <td>INLAND</td>\n",
       "    </tr>\n",
       "    <tr>\n",
       "      <th>20636</th>\n",
       "      <td>-121.21</td>\n",
       "      <td>39.49</td>\n",
       "      <td>18.0</td>\n",
       "      <td>697.0</td>\n",
       "      <td>150.0</td>\n",
       "      <td>NaN</td>\n",
       "      <td>NaN</td>\n",
       "      <td>2.5568</td>\n",
       "      <td>NaN</td>\n",
       "      <td>INLAND</td>\n",
       "    </tr>\n",
       "    <tr>\n",
       "      <th>20637</th>\n",
       "      <td>-121.22</td>\n",
       "      <td>39.43</td>\n",
       "      <td>17.0</td>\n",
       "      <td>2254.0</td>\n",
       "      <td>485.0</td>\n",
       "      <td>1007.0</td>\n",
       "      <td>NaN</td>\n",
       "      <td>1.7000</td>\n",
       "      <td>92300.0</td>\n",
       "      <td>INLAND</td>\n",
       "    </tr>\n",
       "    <tr>\n",
       "      <th>20638</th>\n",
       "      <td>-121.32</td>\n",
       "      <td>39.43</td>\n",
       "      <td>18.0</td>\n",
       "      <td>1860.0</td>\n",
       "      <td>409.0</td>\n",
       "      <td>741.0</td>\n",
       "      <td>349.0</td>\n",
       "      <td>1.8672</td>\n",
       "      <td>84700.0</td>\n",
       "      <td>NaN</td>\n",
       "    </tr>\n",
       "    <tr>\n",
       "      <th>20639</th>\n",
       "      <td>-121.24</td>\n",
       "      <td>39.37</td>\n",
       "      <td>16.0</td>\n",
       "      <td>2785.0</td>\n",
       "      <td>616.0</td>\n",
       "      <td>1387.0</td>\n",
       "      <td>530.0</td>\n",
       "      <td>2.3886</td>\n",
       "      <td>89400.0</td>\n",
       "      <td>INLAND</td>\n",
       "    </tr>\n",
       "  </tbody>\n",
       "</table>\n",
       "<p>20640 rows × 10 columns</p>\n",
       "</div>"
      ],
      "text/plain": [
       "       longitude  latitude  house_age  total_rooms  total_bedrooms  \\\n",
       "0        -122.23     37.88       41.0        880.0             NaN   \n",
       "1        -122.22     37.86        NaN       7099.0          1106.0   \n",
       "2        -122.24     37.85       52.0       1467.0           190.0   \n",
       "3        -122.25     37.85       52.0          NaN           235.0   \n",
       "4        -122.25     37.85       52.0       1627.0           280.0   \n",
       "...          ...       ...        ...          ...             ...   \n",
       "20635    -121.09     39.48       25.0       1665.0           374.0   \n",
       "20636    -121.21     39.49       18.0        697.0           150.0   \n",
       "20637    -121.22     39.43       17.0       2254.0           485.0   \n",
       "20638    -121.32     39.43       18.0       1860.0           409.0   \n",
       "20639    -121.24     39.37       16.0       2785.0           616.0   \n",
       "\n",
       "       population  households  income  house_price ocean_proximity  \n",
       "0           322.0         NaN  8.3252     452600.0        NEAR BAY  \n",
       "1          2401.0      1138.0  8.3014     358500.0        NEAR BAY  \n",
       "2           496.0       177.0  7.2574     352100.0        NEAR BAY  \n",
       "3           558.0       219.0  5.6431     341300.0        NEAR BAY  \n",
       "4           565.0       259.0  3.8462     342200.0        NEAR BAY  \n",
       "...           ...         ...     ...          ...             ...  \n",
       "20635       845.0       330.0  1.5603      78100.0          INLAND  \n",
       "20636         NaN         NaN  2.5568          NaN          INLAND  \n",
       "20637      1007.0         NaN  1.7000      92300.0          INLAND  \n",
       "20638       741.0       349.0  1.8672      84700.0             NaN  \n",
       "20639      1387.0       530.0  2.3886      89400.0          INLAND  \n",
       "\n",
       "[20640 rows x 10 columns]"
      ]
     },
     "execution_count": 24,
     "metadata": {},
     "output_type": "execute_result"
    }
   ],
   "source": [
    "# remane columns ['median_house_value','median_income','housing_median_age'] with ['house_price','income','house_age']\n",
    "h.rename(columns={'median_house_value':'house_price',\n",
    "                  'median_income':'income',\n",
    "                  'housing_median_age':'house_age'},\n",
    "                  inplace=True)\n",
    "h"
   ]
  },
  {
   "cell_type": "code",
   "execution_count": 25,
   "metadata": {},
   "outputs": [
    {
     "data": {
      "text/html": [
       "<div>\n",
       "<style scoped>\n",
       "    .dataframe tbody tr th:only-of-type {\n",
       "        vertical-align: middle;\n",
       "    }\n",
       "\n",
       "    .dataframe tbody tr th {\n",
       "        vertical-align: top;\n",
       "    }\n",
       "\n",
       "    .dataframe thead th {\n",
       "        text-align: right;\n",
       "    }\n",
       "</style>\n",
       "<table border=\"1\" class=\"dataframe\">\n",
       "  <thead>\n",
       "    <tr style=\"text-align: right;\">\n",
       "      <th></th>\n",
       "      <th>longitude</th>\n",
       "      <th>latitude</th>\n",
       "      <th>house_age</th>\n",
       "      <th>total_rooms</th>\n",
       "      <th>total_bedrooms</th>\n",
       "      <th>population</th>\n",
       "      <th>households</th>\n",
       "      <th>income</th>\n",
       "      <th>house_price</th>\n",
       "      <th>ocean_proximity</th>\n",
       "    </tr>\n",
       "  </thead>\n",
       "  <tbody>\n",
       "    <tr>\n",
       "      <th>0</th>\n",
       "      <td>-122.23</td>\n",
       "      <td>37.88</td>\n",
       "      <td>41.000000</td>\n",
       "      <td>880.000000</td>\n",
       "      <td>537.305714</td>\n",
       "      <td>322.000000</td>\n",
       "      <td>500.791319</td>\n",
       "      <td>8.3252</td>\n",
       "      <td>452600.000000</td>\n",
       "      <td>NEAR BAY</td>\n",
       "    </tr>\n",
       "    <tr>\n",
       "      <th>1</th>\n",
       "      <td>-122.22</td>\n",
       "      <td>37.86</td>\n",
       "      <td>28.633812</td>\n",
       "      <td>7099.000000</td>\n",
       "      <td>1106.000000</td>\n",
       "      <td>2401.000000</td>\n",
       "      <td>1138.000000</td>\n",
       "      <td>8.3014</td>\n",
       "      <td>358500.000000</td>\n",
       "      <td>NEAR BAY</td>\n",
       "    </tr>\n",
       "    <tr>\n",
       "      <th>2</th>\n",
       "      <td>-122.24</td>\n",
       "      <td>37.85</td>\n",
       "      <td>52.000000</td>\n",
       "      <td>1467.000000</td>\n",
       "      <td>190.000000</td>\n",
       "      <td>496.000000</td>\n",
       "      <td>177.000000</td>\n",
       "      <td>7.2574</td>\n",
       "      <td>352100.000000</td>\n",
       "      <td>NEAR BAY</td>\n",
       "    </tr>\n",
       "    <tr>\n",
       "      <th>3</th>\n",
       "      <td>-122.25</td>\n",
       "      <td>37.85</td>\n",
       "      <td>52.000000</td>\n",
       "      <td>2639.686001</td>\n",
       "      <td>235.000000</td>\n",
       "      <td>558.000000</td>\n",
       "      <td>219.000000</td>\n",
       "      <td>5.6431</td>\n",
       "      <td>341300.000000</td>\n",
       "      <td>NEAR BAY</td>\n",
       "    </tr>\n",
       "    <tr>\n",
       "      <th>4</th>\n",
       "      <td>-122.25</td>\n",
       "      <td>37.85</td>\n",
       "      <td>52.000000</td>\n",
       "      <td>1627.000000</td>\n",
       "      <td>280.000000</td>\n",
       "      <td>565.000000</td>\n",
       "      <td>259.000000</td>\n",
       "      <td>3.8462</td>\n",
       "      <td>342200.000000</td>\n",
       "      <td>NEAR BAY</td>\n",
       "    </tr>\n",
       "    <tr>\n",
       "      <th>...</th>\n",
       "      <td>...</td>\n",
       "      <td>...</td>\n",
       "      <td>...</td>\n",
       "      <td>...</td>\n",
       "      <td>...</td>\n",
       "      <td>...</td>\n",
       "      <td>...</td>\n",
       "      <td>...</td>\n",
       "      <td>...</td>\n",
       "      <td>...</td>\n",
       "    </tr>\n",
       "    <tr>\n",
       "      <th>20635</th>\n",
       "      <td>-121.09</td>\n",
       "      <td>39.48</td>\n",
       "      <td>25.000000</td>\n",
       "      <td>1665.000000</td>\n",
       "      <td>374.000000</td>\n",
       "      <td>845.000000</td>\n",
       "      <td>330.000000</td>\n",
       "      <td>1.5603</td>\n",
       "      <td>78100.000000</td>\n",
       "      <td>INLAND</td>\n",
       "    </tr>\n",
       "    <tr>\n",
       "      <th>20636</th>\n",
       "      <td>-121.21</td>\n",
       "      <td>39.49</td>\n",
       "      <td>18.000000</td>\n",
       "      <td>697.000000</td>\n",
       "      <td>150.000000</td>\n",
       "      <td>1426.763331</td>\n",
       "      <td>500.791319</td>\n",
       "      <td>2.5568</td>\n",
       "      <td>206889.804942</td>\n",
       "      <td>INLAND</td>\n",
       "    </tr>\n",
       "    <tr>\n",
       "      <th>20637</th>\n",
       "      <td>-121.22</td>\n",
       "      <td>39.43</td>\n",
       "      <td>17.000000</td>\n",
       "      <td>2254.000000</td>\n",
       "      <td>485.000000</td>\n",
       "      <td>1007.000000</td>\n",
       "      <td>500.791319</td>\n",
       "      <td>1.7000</td>\n",
       "      <td>92300.000000</td>\n",
       "      <td>INLAND</td>\n",
       "    </tr>\n",
       "    <tr>\n",
       "      <th>20638</th>\n",
       "      <td>-121.32</td>\n",
       "      <td>39.43</td>\n",
       "      <td>18.000000</td>\n",
       "      <td>1860.000000</td>\n",
       "      <td>409.000000</td>\n",
       "      <td>741.000000</td>\n",
       "      <td>349.000000</td>\n",
       "      <td>1.8672</td>\n",
       "      <td>84700.000000</td>\n",
       "      <td>NaN</td>\n",
       "    </tr>\n",
       "    <tr>\n",
       "      <th>20639</th>\n",
       "      <td>-121.24</td>\n",
       "      <td>39.37</td>\n",
       "      <td>16.000000</td>\n",
       "      <td>2785.000000</td>\n",
       "      <td>616.000000</td>\n",
       "      <td>1387.000000</td>\n",
       "      <td>530.000000</td>\n",
       "      <td>2.3886</td>\n",
       "      <td>89400.000000</td>\n",
       "      <td>INLAND</td>\n",
       "    </tr>\n",
       "  </tbody>\n",
       "</table>\n",
       "<p>20640 rows × 10 columns</p>\n",
       "</div>"
      ],
      "text/plain": [
       "       longitude  latitude  house_age  total_rooms  total_bedrooms  \\\n",
       "0        -122.23     37.88  41.000000   880.000000      537.305714   \n",
       "1        -122.22     37.86  28.633812  7099.000000     1106.000000   \n",
       "2        -122.24     37.85  52.000000  1467.000000      190.000000   \n",
       "3        -122.25     37.85  52.000000  2639.686001      235.000000   \n",
       "4        -122.25     37.85  52.000000  1627.000000      280.000000   \n",
       "...          ...       ...        ...          ...             ...   \n",
       "20635    -121.09     39.48  25.000000  1665.000000      374.000000   \n",
       "20636    -121.21     39.49  18.000000   697.000000      150.000000   \n",
       "20637    -121.22     39.43  17.000000  2254.000000      485.000000   \n",
       "20638    -121.32     39.43  18.000000  1860.000000      409.000000   \n",
       "20639    -121.24     39.37  16.000000  2785.000000      616.000000   \n",
       "\n",
       "        population   households  income    house_price ocean_proximity  \n",
       "0       322.000000   500.791319  8.3252  452600.000000        NEAR BAY  \n",
       "1      2401.000000  1138.000000  8.3014  358500.000000        NEAR BAY  \n",
       "2       496.000000   177.000000  7.2574  352100.000000        NEAR BAY  \n",
       "3       558.000000   219.000000  5.6431  341300.000000        NEAR BAY  \n",
       "4       565.000000   259.000000  3.8462  342200.000000        NEAR BAY  \n",
       "...            ...          ...     ...            ...             ...  \n",
       "20635   845.000000   330.000000  1.5603   78100.000000          INLAND  \n",
       "20636  1426.763331   500.791319  2.5568  206889.804942          INLAND  \n",
       "20637  1007.000000   500.791319  1.7000   92300.000000          INLAND  \n",
       "20638   741.000000   349.000000  1.8672   84700.000000             NaN  \n",
       "20639  1387.000000   530.000000  2.3886   89400.000000          INLAND  \n",
       "\n",
       "[20640 rows x 10 columns]"
      ]
     },
     "execution_count": 25,
     "metadata": {},
     "output_type": "execute_result"
    }
   ],
   "source": [
    "# fill nan values with mean except 'ocean_proximity' using fillna()\n",
    "# m_longitude = np.mean(h['longitude'])\n",
    "# m_latitude = np.mean(h['latitude'])\n",
    "# m_houseage = np.mean(h['house_age'])\n",
    "# m_rooms = np.mean(h['total_rooms'])\n",
    "# m_bedrooms= np.mean(h['total_bedrooms'])\n",
    "# m_population = np.mean(h['population'])\n",
    "\n",
    "# h.fillna(h[['longitude','latitude','house_age','total_rooms','total_rooms','population','households','income','house_price']].mean(),inplace=True)\n",
    "h.fillna(h.iloc[:,0:9].mean(),inplace=True)\n",
    "h"
   ]
  },
  {
   "cell_type": "code",
   "execution_count": 26,
   "metadata": {},
   "outputs": [
    {
     "data": {
      "text/plain": [
       "longitude             0\n",
       "latitude              0\n",
       "house_age             0\n",
       "total_rooms           0\n",
       "total_bedrooms        0\n",
       "population            0\n",
       "households            0\n",
       "income                0\n",
       "house_price           0\n",
       "ocean_proximity    1049\n",
       "dtype: int64"
      ]
     },
     "execution_count": 26,
     "metadata": {},
     "output_type": "execute_result"
    }
   ],
   "source": [
    "# check null values\n",
    "h.isnull().sum()"
   ]
  },
  {
   "cell_type": "code",
   "execution_count": 39,
   "metadata": {},
   "outputs": [
    {
     "name": "stdout",
     "output_type": "stream",
     "text": [
      "<class 'pandas.core.frame.DataFrame'>\n",
      "RangeIndex: 20640 entries, 0 to 20639\n",
      "Data columns (total 12 columns):\n",
      " #   Column               Non-Null Count  Dtype  \n",
      "---  ------               --------------  -----  \n",
      " 0   longitude            20640 non-null  float64\n",
      " 1   latitude             20640 non-null  float64\n",
      " 2   house_age            20640 non-null  float64\n",
      " 3   total_rooms          20640 non-null  float64\n",
      " 4   total_bedrooms       20640 non-null  float64\n",
      " 5   population           20640 non-null  float64\n",
      " 6   households           20640 non-null  float64\n",
      " 7   income               20640 non-null  float64\n",
      " 8   house_price          20640 non-null  float64\n",
      " 9   ocean_proximity      20640 non-null  object \n",
      " 10  price_per_year       20640 non-null  float64\n",
      " 11  room_per_households  20640 non-null  float64\n",
      "dtypes: float64(11), object(1)\n",
      "memory usage: 1.9+ MB\n"
     ]
    }
   ],
   "source": [
    "h.info()"
   ]
  },
  {
   "cell_type": "code",
   "execution_count": 41,
   "metadata": {},
   "outputs": [],
   "source": [
    "h['ocean_proximity'] = h['ocean_proximity'].astype('category')"
   ]
  },
  {
   "cell_type": "code",
   "execution_count": 44,
   "metadata": {},
   "outputs": [],
   "source": [
    "# replace nan vakues with the mode of the oceN proximty\n",
    "h['ocean_proximity'] = h['ocean_proximity'].fillna(h['ocean_proximity'].mode()[0])"
   ]
  },
  {
   "cell_type": "code",
   "execution_count": 43,
   "metadata": {},
   "outputs": [
    {
     "data": {
      "text/html": [
       "<div>\n",
       "<style scoped>\n",
       "    .dataframe tbody tr th:only-of-type {\n",
       "        vertical-align: middle;\n",
       "    }\n",
       "\n",
       "    .dataframe tbody tr th {\n",
       "        vertical-align: top;\n",
       "    }\n",
       "\n",
       "    .dataframe thead th {\n",
       "        text-align: right;\n",
       "    }\n",
       "</style>\n",
       "<table border=\"1\" class=\"dataframe\">\n",
       "  <thead>\n",
       "    <tr style=\"text-align: right;\">\n",
       "      <th></th>\n",
       "      <th>longitude</th>\n",
       "      <th>latitude</th>\n",
       "      <th>house_age</th>\n",
       "      <th>total_rooms</th>\n",
       "      <th>total_bedrooms</th>\n",
       "      <th>population</th>\n",
       "      <th>households</th>\n",
       "      <th>income</th>\n",
       "      <th>house_price</th>\n",
       "      <th>ocean_proximity</th>\n",
       "      <th>price_per_year</th>\n",
       "      <th>room_per_households</th>\n",
       "    </tr>\n",
       "  </thead>\n",
       "  <tbody>\n",
       "    <tr>\n",
       "      <th>0</th>\n",
       "      <td>-122.23</td>\n",
       "      <td>37.88</td>\n",
       "      <td>41.000000</td>\n",
       "      <td>880.000000</td>\n",
       "      <td>537.305714</td>\n",
       "      <td>322.000000</td>\n",
       "      <td>500.791319</td>\n",
       "      <td>8.3252</td>\n",
       "      <td>452600.000000</td>\n",
       "      <td>NEAR BAY</td>\n",
       "      <td>11039.024390</td>\n",
       "      <td>1.757219</td>\n",
       "    </tr>\n",
       "    <tr>\n",
       "      <th>1</th>\n",
       "      <td>-122.22</td>\n",
       "      <td>37.86</td>\n",
       "      <td>28.633812</td>\n",
       "      <td>7099.000000</td>\n",
       "      <td>1106.000000</td>\n",
       "      <td>2401.000000</td>\n",
       "      <td>1138.000000</td>\n",
       "      <td>8.3014</td>\n",
       "      <td>358500.000000</td>\n",
       "      <td>NEAR BAY</td>\n",
       "      <td>12520.163162</td>\n",
       "      <td>6.238137</td>\n",
       "    </tr>\n",
       "    <tr>\n",
       "      <th>2</th>\n",
       "      <td>-122.24</td>\n",
       "      <td>37.85</td>\n",
       "      <td>52.000000</td>\n",
       "      <td>1467.000000</td>\n",
       "      <td>190.000000</td>\n",
       "      <td>496.000000</td>\n",
       "      <td>177.000000</td>\n",
       "      <td>7.2574</td>\n",
       "      <td>352100.000000</td>\n",
       "      <td>NEAR BAY</td>\n",
       "      <td>6771.153846</td>\n",
       "      <td>8.288136</td>\n",
       "    </tr>\n",
       "    <tr>\n",
       "      <th>3</th>\n",
       "      <td>-122.25</td>\n",
       "      <td>37.85</td>\n",
       "      <td>52.000000</td>\n",
       "      <td>2639.686001</td>\n",
       "      <td>235.000000</td>\n",
       "      <td>558.000000</td>\n",
       "      <td>219.000000</td>\n",
       "      <td>5.6431</td>\n",
       "      <td>341300.000000</td>\n",
       "      <td>NEAR BAY</td>\n",
       "      <td>6563.461538</td>\n",
       "      <td>12.053361</td>\n",
       "    </tr>\n",
       "    <tr>\n",
       "      <th>4</th>\n",
       "      <td>-122.25</td>\n",
       "      <td>37.85</td>\n",
       "      <td>52.000000</td>\n",
       "      <td>1627.000000</td>\n",
       "      <td>280.000000</td>\n",
       "      <td>565.000000</td>\n",
       "      <td>259.000000</td>\n",
       "      <td>3.8462</td>\n",
       "      <td>342200.000000</td>\n",
       "      <td>NEAR BAY</td>\n",
       "      <td>6580.769231</td>\n",
       "      <td>6.281853</td>\n",
       "    </tr>\n",
       "    <tr>\n",
       "      <th>...</th>\n",
       "      <td>...</td>\n",
       "      <td>...</td>\n",
       "      <td>...</td>\n",
       "      <td>...</td>\n",
       "      <td>...</td>\n",
       "      <td>...</td>\n",
       "      <td>...</td>\n",
       "      <td>...</td>\n",
       "      <td>...</td>\n",
       "      <td>...</td>\n",
       "      <td>...</td>\n",
       "      <td>...</td>\n",
       "    </tr>\n",
       "    <tr>\n",
       "      <th>20635</th>\n",
       "      <td>-121.09</td>\n",
       "      <td>39.48</td>\n",
       "      <td>25.000000</td>\n",
       "      <td>1665.000000</td>\n",
       "      <td>374.000000</td>\n",
       "      <td>845.000000</td>\n",
       "      <td>330.000000</td>\n",
       "      <td>1.5603</td>\n",
       "      <td>78100.000000</td>\n",
       "      <td>INLAND</td>\n",
       "      <td>3124.000000</td>\n",
       "      <td>5.045455</td>\n",
       "    </tr>\n",
       "    <tr>\n",
       "      <th>20636</th>\n",
       "      <td>-121.21</td>\n",
       "      <td>39.49</td>\n",
       "      <td>18.000000</td>\n",
       "      <td>697.000000</td>\n",
       "      <td>150.000000</td>\n",
       "      <td>1426.763331</td>\n",
       "      <td>500.791319</td>\n",
       "      <td>2.5568</td>\n",
       "      <td>206889.804942</td>\n",
       "      <td>INLAND</td>\n",
       "      <td>11493.878052</td>\n",
       "      <td>1.391797</td>\n",
       "    </tr>\n",
       "    <tr>\n",
       "      <th>20637</th>\n",
       "      <td>-121.22</td>\n",
       "      <td>39.43</td>\n",
       "      <td>17.000000</td>\n",
       "      <td>2254.000000</td>\n",
       "      <td>485.000000</td>\n",
       "      <td>1007.000000</td>\n",
       "      <td>500.791319</td>\n",
       "      <td>1.7000</td>\n",
       "      <td>92300.000000</td>\n",
       "      <td>INLAND</td>\n",
       "      <td>5429.411765</td>\n",
       "      <td>4.500877</td>\n",
       "    </tr>\n",
       "    <tr>\n",
       "      <th>20638</th>\n",
       "      <td>-121.32</td>\n",
       "      <td>39.43</td>\n",
       "      <td>18.000000</td>\n",
       "      <td>1860.000000</td>\n",
       "      <td>409.000000</td>\n",
       "      <td>741.000000</td>\n",
       "      <td>349.000000</td>\n",
       "      <td>1.8672</td>\n",
       "      <td>84700.000000</td>\n",
       "      <td>&lt;1H OCEAN</td>\n",
       "      <td>4705.555556</td>\n",
       "      <td>5.329513</td>\n",
       "    </tr>\n",
       "    <tr>\n",
       "      <th>20639</th>\n",
       "      <td>-121.24</td>\n",
       "      <td>39.37</td>\n",
       "      <td>16.000000</td>\n",
       "      <td>2785.000000</td>\n",
       "      <td>616.000000</td>\n",
       "      <td>1387.000000</td>\n",
       "      <td>530.000000</td>\n",
       "      <td>2.3886</td>\n",
       "      <td>89400.000000</td>\n",
       "      <td>INLAND</td>\n",
       "      <td>5587.500000</td>\n",
       "      <td>5.254717</td>\n",
       "    </tr>\n",
       "  </tbody>\n",
       "</table>\n",
       "<p>20640 rows × 12 columns</p>\n",
       "</div>"
      ],
      "text/plain": [
       "       longitude  latitude  house_age  total_rooms  total_bedrooms  \\\n",
       "0        -122.23     37.88  41.000000   880.000000      537.305714   \n",
       "1        -122.22     37.86  28.633812  7099.000000     1106.000000   \n",
       "2        -122.24     37.85  52.000000  1467.000000      190.000000   \n",
       "3        -122.25     37.85  52.000000  2639.686001      235.000000   \n",
       "4        -122.25     37.85  52.000000  1627.000000      280.000000   \n",
       "...          ...       ...        ...          ...             ...   \n",
       "20635    -121.09     39.48  25.000000  1665.000000      374.000000   \n",
       "20636    -121.21     39.49  18.000000   697.000000      150.000000   \n",
       "20637    -121.22     39.43  17.000000  2254.000000      485.000000   \n",
       "20638    -121.32     39.43  18.000000  1860.000000      409.000000   \n",
       "20639    -121.24     39.37  16.000000  2785.000000      616.000000   \n",
       "\n",
       "        population   households  income    house_price ocean_proximity  \\\n",
       "0       322.000000   500.791319  8.3252  452600.000000        NEAR BAY   \n",
       "1      2401.000000  1138.000000  8.3014  358500.000000        NEAR BAY   \n",
       "2       496.000000   177.000000  7.2574  352100.000000        NEAR BAY   \n",
       "3       558.000000   219.000000  5.6431  341300.000000        NEAR BAY   \n",
       "4       565.000000   259.000000  3.8462  342200.000000        NEAR BAY   \n",
       "...            ...          ...     ...            ...             ...   \n",
       "20635   845.000000   330.000000  1.5603   78100.000000          INLAND   \n",
       "20636  1426.763331   500.791319  2.5568  206889.804942          INLAND   \n",
       "20637  1007.000000   500.791319  1.7000   92300.000000          INLAND   \n",
       "20638   741.000000   349.000000  1.8672   84700.000000       <1H OCEAN   \n",
       "20639  1387.000000   530.000000  2.3886   89400.000000          INLAND   \n",
       "\n",
       "       price_per_year  room_per_households  \n",
       "0        11039.024390             1.757219  \n",
       "1        12520.163162             6.238137  \n",
       "2         6771.153846             8.288136  \n",
       "3         6563.461538            12.053361  \n",
       "4         6580.769231             6.281853  \n",
       "...               ...                  ...  \n",
       "20635     3124.000000             5.045455  \n",
       "20636    11493.878052             1.391797  \n",
       "20637     5429.411765             4.500877  \n",
       "20638     4705.555556             5.329513  \n",
       "20639     5587.500000             5.254717  \n",
       "\n",
       "[20640 rows x 12 columns]"
      ]
     },
     "execution_count": 43,
     "metadata": {},
     "output_type": "execute_result"
    }
   ],
   "source": [
    "# replace with mode\n",
    "h.replace(np.nan,h['ocean_proximity'].mode(),inplace=True)\n",
    "h"
   ]
  },
  {
   "cell_type": "code",
   "execution_count": 29,
   "metadata": {},
   "outputs": [
    {
     "data": {
      "text/plain": [
       "longitude          0\n",
       "latitude           0\n",
       "house_age          0\n",
       "total_rooms        0\n",
       "total_bedrooms     0\n",
       "population         0\n",
       "households         0\n",
       "income             0\n",
       "house_price        0\n",
       "ocean_proximity    0\n",
       "dtype: int64"
      ]
     },
     "execution_count": 29,
     "metadata": {},
     "output_type": "execute_result"
    }
   ],
   "source": [
    "# check null values\n",
    "h.isnull().sum()"
   ]
  },
  {
   "cell_type": "code",
   "execution_count": 30,
   "metadata": {},
   "outputs": [],
   "source": [
    "# feature engineering"
   ]
  },
  {
   "cell_type": "code",
   "execution_count": 31,
   "metadata": {},
   "outputs": [
    {
     "data": {
      "text/plain": [
       "0        11039.024390\n",
       "1        12520.163162\n",
       "2         6771.153846\n",
       "3         6563.461538\n",
       "4         6580.769231\n",
       "             ...     \n",
       "20635     3124.000000\n",
       "20636    11493.878052\n",
       "20637     5429.411765\n",
       "20638     4705.555556\n",
       "20639     5587.500000\n",
       "Name: price_per_year, Length: 20640, dtype: float64"
      ]
     },
     "execution_count": 31,
     "metadata": {},
     "output_type": "execute_result"
    }
   ],
   "source": [
    "# create new column 'price_per_year' using 'house_price' and 'house_age'\n",
    "h['price_per_year'] = h['house_price']/h['house_age']\n",
    "h['price_per_year'] "
   ]
  },
  {
   "cell_type": "code",
   "execution_count": 32,
   "metadata": {},
   "outputs": [
    {
     "data": {
      "text/plain": [
       "0         1.757219\n",
       "1         6.238137\n",
       "2         8.288136\n",
       "3        12.053361\n",
       "4         6.281853\n",
       "           ...    \n",
       "20635     5.045455\n",
       "20636     1.391797\n",
       "20637     4.500877\n",
       "20638     5.329513\n",
       "20639     5.254717\n",
       "Name: room_per_households, Length: 20640, dtype: float64"
      ]
     },
     "execution_count": 32,
     "metadata": {},
     "output_type": "execute_result"
    }
   ],
   "source": [
    "# create new column 'room_per_household' using 'total_rooms' and 'households'\n",
    "h['room_per_households'] = h['total_rooms']/h['households']\n",
    "h['room_per_households'] "
   ]
  },
  {
   "cell_type": "code",
   "execution_count": 33,
   "metadata": {},
   "outputs": [
    {
     "data": {
      "text/plain": [
       "<Axes: xlabel='house_price', ylabel='Count'>"
      ]
     },
     "execution_count": 33,
     "metadata": {},
     "output_type": "execute_result"
    },
    {
     "data": {
      "image/png": "[encoded data removed]",
      "text/plain": [
       "<Figure size 640x480 with 1 Axes>"
      ]
     },
     "metadata": {},
     "output_type": "display_data"
    }
   ],
   "source": [
    "# create histplot using 'house_price'\n",
    "\n",
    "sns.histplot(h['house_price'],bins=10)"
   ]
  },
  {
   "cell_type": "code",
   "execution_count": 35,
   "metadata": {},
   "outputs": [
    {
     "data": {
      "text/plain": [
       "<Axes: xlabel='longitude', ylabel='latitude'>"
      ]
     },
     "execution_count": 35,
     "metadata": {},
     "output_type": "execute_result"
    },
    {
     "data": {
      "image/png": "[encoded data removed]",
      "text/plain": [
       "<Figure size 640x480 with 1 Axes>"
      ]
     },
     "metadata": {},
     "output_type": "display_data"
    }
   ],
   "source": [
    "# create scatterplot using 'longitude'and 'latitude' based on 'house_price'\n",
    "sns.scatterplot(x = 'longitude',y ='latitude', hue = 'house_price' , data = h)"
   ]
  },
  {
   "cell_type": "code",
   "execution_count": 36,
   "metadata": {},
   "outputs": [
    {
     "data": {
      "text/plain": [
       "<Axes: xlabel='ocean_proximity', ylabel='house_price'>"
      ]
     },
     "execution_count": 36,
     "metadata": {},
     "output_type": "execute_result"
    },
    {
     "data": {
      "image/png": "[encoded data removed]",
      "text/plain": [
       "<Figure size 640x480 with 1 Axes>"
      ]
     },
     "metadata": {},
     "output_type": "display_data"
    }
   ],
   "source": [
    "# create a boxplotusing 'ocean_proximity'and 'house_price'\n",
    "sns.boxplot(x = 'ocean_proximity' , y = 'house_price' , data=h)"
   ]
  },
  {
   "cell_type": "code",
   "execution_count": 46,
   "metadata": {},
   "outputs": [],
   "source": [
    "# create a new column 'price_category' using 'house_price'. bin range 0,180000,250000, 'inf' and labels 'cheap', 'economic','expensive'\n",
    "# pd.cut\n",
    "\n",
    "label = ['cheap', 'economic','expensive']\n",
    "bins = [0,180000,250000, float('inf')]\n",
    "h['price_category'] = pd.cut(h['house_price'] , bins = bins , labels = label)"
   ]
  },
  {
   "cell_type": "code",
   "execution_count": 47,
   "metadata": {},
   "outputs": [
    {
     "data": {
      "text/html": [
       "<div>\n",
       "<style scoped>\n",
       "    .dataframe tbody tr th:only-of-type {\n",
       "        vertical-align: middle;\n",
       "    }\n",
       "\n",
       "    .dataframe tbody tr th {\n",
       "        vertical-align: top;\n",
       "    }\n",
       "\n",
       "    .dataframe thead th {\n",
       "        text-align: right;\n",
       "    }\n",
       "</style>\n",
       "<table border=\"1\" class=\"dataframe\">\n",
       "  <thead>\n",
       "    <tr style=\"text-align: right;\">\n",
       "      <th></th>\n",
       "      <th>longitude</th>\n",
       "      <th>latitude</th>\n",
       "      <th>house_age</th>\n",
       "      <th>total_rooms</th>\n",
       "      <th>total_bedrooms</th>\n",
       "      <th>population</th>\n",
       "      <th>households</th>\n",
       "      <th>income</th>\n",
       "      <th>house_price</th>\n",
       "      <th>ocean_proximity</th>\n",
       "      <th>price_per_year</th>\n",
       "      <th>room_per_households</th>\n",
       "      <th>price_category</th>\n",
       "    </tr>\n",
       "  </thead>\n",
       "  <tbody>\n",
       "    <tr>\n",
       "      <th>0</th>\n",
       "      <td>-122.23</td>\n",
       "      <td>37.88</td>\n",
       "      <td>41.000000</td>\n",
       "      <td>880.000000</td>\n",
       "      <td>537.305714</td>\n",
       "      <td>322.0</td>\n",
       "      <td>500.791319</td>\n",
       "      <td>8.3252</td>\n",
       "      <td>452600.0</td>\n",
       "      <td>NEAR BAY</td>\n",
       "      <td>11039.024390</td>\n",
       "      <td>1.757219</td>\n",
       "      <td>expensive</td>\n",
       "    </tr>\n",
       "    <tr>\n",
       "      <th>1</th>\n",
       "      <td>-122.22</td>\n",
       "      <td>37.86</td>\n",
       "      <td>28.633812</td>\n",
       "      <td>7099.000000</td>\n",
       "      <td>1106.000000</td>\n",
       "      <td>2401.0</td>\n",
       "      <td>1138.000000</td>\n",
       "      <td>8.3014</td>\n",
       "      <td>358500.0</td>\n",
       "      <td>NEAR BAY</td>\n",
       "      <td>12520.163162</td>\n",
       "      <td>6.238137</td>\n",
       "      <td>expensive</td>\n",
       "    </tr>\n",
       "    <tr>\n",
       "      <th>2</th>\n",
       "      <td>-122.24</td>\n",
       "      <td>37.85</td>\n",
       "      <td>52.000000</td>\n",
       "      <td>1467.000000</td>\n",
       "      <td>190.000000</td>\n",
       "      <td>496.0</td>\n",
       "      <td>177.000000</td>\n",
       "      <td>7.2574</td>\n",
       "      <td>352100.0</td>\n",
       "      <td>NEAR BAY</td>\n",
       "      <td>6771.153846</td>\n",
       "      <td>8.288136</td>\n",
       "      <td>expensive</td>\n",
       "    </tr>\n",
       "    <tr>\n",
       "      <th>3</th>\n",
       "      <td>-122.25</td>\n",
       "      <td>37.85</td>\n",
       "      <td>52.000000</td>\n",
       "      <td>2639.686001</td>\n",
       "      <td>235.000000</td>\n",
       "      <td>558.0</td>\n",
       "      <td>219.000000</td>\n",
       "      <td>5.6431</td>\n",
       "      <td>341300.0</td>\n",
       "      <td>NEAR BAY</td>\n",
       "      <td>6563.461538</td>\n",
       "      <td>12.053361</td>\n",
       "      <td>expensive</td>\n",
       "    </tr>\n",
       "    <tr>\n",
       "      <th>4</th>\n",
       "      <td>-122.25</td>\n",
       "      <td>37.85</td>\n",
       "      <td>52.000000</td>\n",
       "      <td>1627.000000</td>\n",
       "      <td>280.000000</td>\n",
       "      <td>565.0</td>\n",
       "      <td>259.000000</td>\n",
       "      <td>3.8462</td>\n",
       "      <td>342200.0</td>\n",
       "      <td>NEAR BAY</td>\n",
       "      <td>6580.769231</td>\n",
       "      <td>6.281853</td>\n",
       "      <td>expensive</td>\n",
       "    </tr>\n",
       "  </tbody>\n",
       "</table>\n",
       "</div>"
      ],
      "text/plain": [
       "   longitude  latitude  house_age  total_rooms  total_bedrooms  population  \\\n",
       "0    -122.23     37.88  41.000000   880.000000      537.305714       322.0   \n",
       "1    -122.22     37.86  28.633812  7099.000000     1106.000000      2401.0   \n",
       "2    -122.24     37.85  52.000000  1467.000000      190.000000       496.0   \n",
       "3    -122.25     37.85  52.000000  2639.686001      235.000000       558.0   \n",
       "4    -122.25     37.85  52.000000  1627.000000      280.000000       565.0   \n",
       "\n",
       "    households  income  house_price ocean_proximity  price_per_year  \\\n",
       "0   500.791319  8.3252     452600.0        NEAR BAY    11039.024390   \n",
       "1  1138.000000  8.3014     358500.0        NEAR BAY    12520.163162   \n",
       "2   177.000000  7.2574     352100.0        NEAR BAY     6771.153846   \n",
       "3   219.000000  5.6431     341300.0        NEAR BAY     6563.461538   \n",
       "4   259.000000  3.8462     342200.0        NEAR BAY     6580.769231   \n",
       "\n",
       "   room_per_households price_category  \n",
       "0             1.757219      expensive  \n",
       "1             6.238137      expensive  \n",
       "2             8.288136      expensive  \n",
       "3            12.053361      expensive  \n",
       "4             6.281853      expensive  "
      ]
     },
     "execution_count": 47,
     "metadata": {},
     "output_type": "execute_result"
    }
   ],
   "source": [
    "h.head()"
   ]
  },
  {
   "cell_type": "code",
   "execution_count": 51,
   "metadata": {},
   "outputs": [
    {
     "data": {
      "text/plain": [
       "<Axes: xlabel='price_category', ylabel='count'>"
      ]
     },
     "execution_count": 51,
     "metadata": {},
     "output_type": "execute_result"
    },
    {
     "data": {
      "image/png": "[encoded data removed]",
      "text/plain": [
       "<Figure size 640x480 with 1 Axes>"
      ]
     },
     "metadata": {},
     "output_type": "display_data"
    }
   ],
   "source": [
    "# create countplot using this 'price_category to find House Age Category\n",
    "sns.countplot(x  = 'price_category' ,   color='black' , data = h)"
   ]
  },
  {
   "cell_type": "code",
   "execution_count": 53,
   "metadata": {},
   "outputs": [
    {
     "name": "stderr",
     "output_type": "stream",
     "text": [
      "C:\\Users\\1212a\\AppData\\Local\\Temp\\ipykernel_1940\\2674429556.py:2: FutureWarning: The default of observed=False is deprecated and will be changed to True in a future version of pandas. Pass observed=False to retain current behavior or observed=True to adopt the future default and silence this warning.\n",
      "  h.groupby('price_category')[['income', 'house_price']].mean().plot(kind = 'bar')\n"
     ]
    },
    {
     "data": {
      "text/plain": [
       "<Axes: xlabel='price_category'>"
      ]
     },
     "execution_count": 53,
     "metadata": {},
     "output_type": "execute_result"
    },
    {
     "data": {
      "image/png": "[encoded data removed]",
      "text/plain": [
       "<Figure size 640x480 with 1 Axes>"
      ]
     },
     "metadata": {},
     "output_type": "display_data"
    }
   ],
   "source": [
    "#create a new plot using groupby 'price_category' with 'income', 'house_price' and mean to find Average House Price by Price Category\n",
    "h.groupby('price_category')[['income', 'house_price']].mean().plot(kind = 'bar')"
   ]
  },
  {
   "cell_type": "code",
   "execution_count": 54,
   "metadata": {},
   "outputs": [],
   "source": [
    "# create a new column 'house_age_median' using 'house_age'. bin range 0,10,30, 'inf' and labels 'new', 'old','oldest'\n",
    "# pd.cut\n",
    "\n",
    "label = ['new', 'old','oldest']\n",
    "bins = [0,10,30, float('inf')]\n",
    "h['house_age_median'] = pd.cut(h['house_age'] , bins = bins , labels = label)"
   ]
  },
  {
   "cell_type": "code",
   "execution_count": 55,
   "metadata": {},
   "outputs": [
    {
     "data": {
      "text/plain": [
       "0        oldest\n",
       "1           old\n",
       "2        oldest\n",
       "3        oldest\n",
       "4        oldest\n",
       "          ...  \n",
       "20635       old\n",
       "20636       old\n",
       "20637       old\n",
       "20638       old\n",
       "20639       old\n",
       "Name: house_age_median, Length: 20640, dtype: category\n",
       "Categories (3, object): ['new' < 'old' < 'oldest']"
      ]
     },
     "execution_count": 55,
     "metadata": {},
     "output_type": "execute_result"
    }
   ],
   "source": [
    "h['house_age_median']"
   ]
  },
  {
   "cell_type": "code",
   "execution_count": 56,
   "metadata": {},
   "outputs": [
    {
     "data": {
      "text/plain": [
       "<Axes: xlabel='house_age_median', ylabel='count'>"
      ]
     },
     "execution_count": 56,
     "metadata": {},
     "output_type": "execute_result"
    },
    {
     "data": {
      "image/png": "[encoded data removed]",
      "text/plain": [
       "<Figure size 640x480 with 1 Axes>"
      ]
     },
     "metadata": {},
     "output_type": "display_data"
    }
   ],
   "source": [
    "# create countplot using this 'house_age_median' to find Distribution of House Age Categories\n",
    "sns.countplot(x =  h['house_age_median'] , data = h)"
   ]
  },
  {
   "cell_type": "code",
   "execution_count": 1,
   "metadata": {},
   "outputs": [
    {
     "ename": "NameError",
     "evalue": "name 'h' is not defined",
     "output_type": "error",
     "traceback": [
      "\u001b[1;31m---------------------------------------------------------------------------\u001b[0m",
      "\u001b[1;31mNameError\u001b[0m                                 Traceback (most recent call last)",
      "Cell \u001b[1;32mIn[1], line 3\u001b[0m\n\u001b[0;32m      1\u001b[0m \u001b[38;5;66;03m# find correlation of these columns 'house_age', 'total_rooms', 'total_bedrooms', 'population', 'households', 'income', 'house_price', 'price_per_year', 'room_per_household', 'house_age_median'\u001b[39;00m\n\u001b[1;32m----> 3\u001b[0m numeric_columns \u001b[38;5;241m=\u001b[39m \u001b[43mh\u001b[49m\u001b[38;5;241m.\u001b[39mselect_dtypes(include\u001b[38;5;241m=\u001b[39m[\u001b[38;5;124m'\u001b[39m\u001b[38;5;124mnumber\u001b[39m\u001b[38;5;124m'\u001b[39m])\n\u001b[0;32m      4\u001b[0m corr \u001b[38;5;241m=\u001b[39m numeric_columns\u001b[38;5;241m.\u001b[39mcorr()\n",
      "\u001b[1;31mNameError\u001b[0m: name 'h' is not defined"
     ]
    }
   ],
   "source": [
    "# find correlation of these columns 'house_age', 'total_rooms', 'total_bedrooms', 'population', 'households', 'income', 'house_price', 'price_per_year', 'room_per_household', 'house_age_median'\n",
    "\n",
    "numeric_columns = h.select_dtypes(include=['number'])\n",
    "corr = numeric_columns.corr()"
   ]
  },
  {
   "cell_type": "code",
   "execution_count": null,
   "metadata": {},
   "outputs": [],
   "source": [
    "# create heatmap"
   ]
  },
  {
   "cell_type": "markdown",
   "metadata": {},
   "source": [
    "<div style=\"text-align: center; font-size: 32px; font-weight: bold; color: white; background-color:rgb(224, 20, 20); padding: 20px; border-radius: 10px;\">\n",
    "    EDA Will Never End\n",
    "</div>"
   ]
  }
 ],
 "metadata": {
  "kernelspec": {
   "display_name": ".venv",
   "language": "python",
   "name": "python3"
  },
  "language_info": {
   "codemirror_mode": {
    "name": "ipython",
    "version": 3
   },
   "file_extension": ".py",
   "mimetype": "text/x-python",
   "name": "python",
   "nbconvert_exporter": "python",
   "pygments_lexer": "ipython3",
   "version": "3.13.0"
  }
 },
 "nbformat": 4,
 "nbformat_minor": 2
}
