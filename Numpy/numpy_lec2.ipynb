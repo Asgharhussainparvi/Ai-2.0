{
 "cells": [
  {
   "cell_type": "markdown",
   "metadata": {},
   "source": [
    "# Lecture 2: Numpy"
   ]
  },
  {
   "cell_type": "markdown",
   "metadata": {},
   "source": [
    "## 1. Reshaping and Manipulating Arrays\n",
    "\n",
    "### 1. Reshape\n",
    "\n",
    "Reshaping changes the shape of an array without changing its data. The total number of elements must remain the same.\n"
   ]
  },
  {
   "cell_type": "code",
   "execution_count": 1,
   "metadata": {},
   "outputs": [
    {
     "name": "stdout",
     "output_type": "stream",
     "text": [
      "Reshaped Array:\n",
      " [[1 2 3]\n",
      " [4 5 6]\n",
      " [7 8 9]]\n"
     ]
    }
   ],
   "source": [
    "import numpy as np\n",
    "# Create a 1D array\n",
    "arr = np.arange(1, 10)  # [1, 2, 3, 4, 5, 6, 7, 8, 9]\n",
    "\n",
    "# Reshape to a 3x3 array\n",
    "reshaped_arr = arr.reshape(3, 3)\n",
    "print(\"Reshaped Array:\\n\", reshaped_arr)"
   ]
  },
  {
   "cell_type": "markdown",
   "metadata": {},
   "source": [
    "##### Reshape with -1 (Automatic Dimension Calculation)\n",
    "\n",
    "You can use -1 to automatically calculate the size of one dimension."
   ]
  },
  {
   "cell_type": "code",
   "execution_count": 2,
   "metadata": {},
   "outputs": [
    {
     "name": "stdout",
     "output_type": "stream",
     "text": [
      "Reshaped Array with -1:\n",
      " [[1 2 3]\n",
      " [4 5 6]\n",
      " [7 8 9]]\n"
     ]
    }
   ],
   "source": [
    "# Reshape to 3 rows, automatically calculate columns\n",
    "reshaped_arr = arr.reshape(3, -1)\n",
    "print(\"Reshaped Array with -1:\\n\", reshaped_arr)"
   ]
  },
  {
   "cell_type": "markdown",
   "metadata": {},
   "source": [
    "<h3><span style=\"color: brown\">Practice Question:</span></h3>\n",
    "<span style=\"color: green\">\n",
    "Reshape the following array into a <b>2x4</b> array:\n",
    "</span>\n",
    "\n",
    "```python\n",
    "arr = np.arange(1, 9)"
   ]
  },
  {
   "cell_type": "code",
   "execution_count": 8,
   "metadata": {},
   "outputs": [
    {
     "name": "stdout",
     "output_type": "stream",
     "text": [
      "[1 2 3 4 5 6 7 8]\n"
     ]
    },
    {
     "data": {
      "text/plain": [
       "array([[1, 2, 3, 4, 5, 6, 7, 8]])"
      ]
     },
     "execution_count": 8,
     "metadata": {},
     "output_type": "execute_result"
    }
   ],
   "source": [
    "arr = np.arange(1,9)\n",
    "print(arr)\n",
    "a = arr.reshape(1,-1)\n",
    "a"
   ]
  },
  {
   "cell_type": "markdown",
   "metadata": {},
   "source": [
    "### 2. Transpose (arr.T)\n",
    "\n",
    "Transposing swaps the rows and columns of a 2D array."
   ]
  },
  {
   "cell_type": "code",
   "execution_count": 25,
   "metadata": {},
   "outputs": [
    {
     "data": {
      "text/plain": [
       "array([[1, 4],\n",
       "       [2, 5],\n",
       "       [3, 6]])"
      ]
     },
     "execution_count": 25,
     "metadata": {},
     "output_type": "execute_result"
    }
   ],
   "source": [
    "arr = np.array([[1, 2, 3], [4, 5, 6]])\n",
    "arr.T"
   ]
  },
  {
   "cell_type": "markdown",
   "metadata": {},
   "source": [
    "\n",
    "---\n",
    "<h3><span style=\"color: brown\">Practice Question:</span></h3>\n",
    "<span style=\"color: green\">\n",
    "Transpose the following array:\n",
    "</span>\n",
    "\n",
    "```python\n",
    "arr = np.array([[1, 2, 3], [4, 5, 6]])"
   ]
  },
  {
   "cell_type": "code",
   "execution_count": null,
   "metadata": {},
   "outputs": [],
   "source": []
  },
  {
   "cell_type": "markdown",
   "metadata": {},
   "source": [
    "### 3. Flatten\n",
    "\n",
    "Flattening converts a multidimensional array into a 1D array."
   ]
  },
  {
   "cell_type": "code",
   "execution_count": null,
   "metadata": {},
   "outputs": [],
   "source": [
    "arr = np.array([[1, 2, 3], [4, 5, 6]])\n",
    "print(\"Flattened array:\", arr.flatten())"
   ]
  },
  {
   "cell_type": "markdown",
   "metadata": {},
   "source": [
    "### 4. Concatenation \n",
    "\n",
    "Concatenation combines arrays along a specified axis.\n",
    "\n",
    "##### a. np.concatenate()"
   ]
  },
  {
   "cell_type": "code",
   "execution_count": null,
   "metadata": {},
   "outputs": [],
   "source": [
    "a = np.array([[1, 2], [3, 4]])\n",
    "b = np.array([[5, 6]])\n",
    "\n",
    "# Concatenate along rows\n",
    "result = np.concatenate((a, b), axis=0)\n",
    "print(\"Concatenated along rows:\\n\", result)"
   ]
  },
  {
   "cell_type": "code",
   "execution_count": 26,
   "metadata": {},
   "outputs": [
    {
     "name": "stdout",
     "output_type": "stream",
     "text": [
      "Concatenated along columns:\n",
      " [[1 2 5]\n",
      " [3 4 6]]\n"
     ]
    }
   ],
   "source": [
    "a = np.array([[1, 2], [3, 4]])\n",
    "b = np.array([[5], [6]])\n",
    "\n",
    "# Concatenate along columns\n",
    "result = np.concatenate((a, b), axis=1)\n",
    "print(\"Concatenated along columns:\\n\", result)"
   ]
  },
  {
   "cell_type": "markdown",
   "metadata": {},
   "source": [
    "##### b. np.vstack()\n",
    "\n",
    "Stacks arrays vertically (along rows)."
   ]
  },
  {
   "cell_type": "code",
   "execution_count": null,
   "metadata": {},
   "outputs": [],
   "source": [
    "a = np.array([1, 2, 3])\n",
    "b = np.array([4, 5, 6])\n",
    "\n",
    "# Vertical stacking\n",
    "result = np.vstack((a, b))\n",
    "print(\"Vertical Stack:\\n\", result)"
   ]
  },
  {
   "cell_type": "markdown",
   "metadata": {},
   "source": [
    "<h3><span style=\"color: brown\">Practice Question:</span></h3>\n",
    "<span style=\"color: green\">\n",
    "Concatenate the following arrays <b>vertically</b>:\n",
    "</span>\n",
    "\n",
    "```python\n",
    "a = np.array([[1, 2], [3, 4]])\n",
    "b = np.array([[5, 6]])"
   ]
  },
  {
   "cell_type": "code",
   "execution_count": 15,
   "metadata": {},
   "outputs": [
    {
     "data": {
      "text/plain": [
       "array([[1, 2],\n",
       "       [3, 4],\n",
       "       [5, 6]])"
      ]
     },
     "execution_count": 15,
     "metadata": {},
     "output_type": "execute_result"
    }
   ],
   "source": [
    "a = np.array([[1, 2], [3, 4]])\n",
    "b = np.array([[5, 6]])\n",
    "c =np.vstack((a,b))\n",
    "# d = np.hstack((a,b))\n",
    "c"
   ]
  },
  {
   "cell_type": "markdown",
   "metadata": {},
   "source": [
    "##### c. np.hstack()\n",
    "\n",
    "Stacks arrays horizontally (along columns)."
   ]
  },
  {
   "cell_type": "code",
   "execution_count": 9,
   "metadata": {},
   "outputs": [
    {
     "name": "stdout",
     "output_type": "stream",
     "text": [
      "Horizontal Stack: [1 2 3 4 5 6]\n"
     ]
    }
   ],
   "source": [
    "a = np.array([1, 2, 3])\n",
    "b = np.array([4, 5, 6])\n",
    "\n",
    "# Horizontal stacking\n",
    "result = np.hstack((a, b))\n",
    "print(\"Horizontal Stack:\", result)"
   ]
  },
  {
   "cell_type": "markdown",
   "metadata": {},
   "source": [
    "<h3><span style=\"color: brown\">Practice Question:</span></h3>\n",
    "<span style=\"color: green\">\n",
    "Concatenate the following arrays <b>horizontally</b>:\n",
    "</span>\n",
    "\n",
    "```python\n",
    "a = np.array([1, 2, 3])\n",
    "b = np.array([4, 5, 6])"
   ]
  },
  {
   "cell_type": "code",
   "execution_count": 16,
   "metadata": {},
   "outputs": [
    {
     "name": "stdout",
     "output_type": "stream",
     "text": [
      "Horizontal Stack: [1 2 3 4 5 6]\n"
     ]
    }
   ],
   "source": [
    "a = np.array([1, 2, 3])\n",
    "b = np.array([4, 5, 6])\n",
    "result = np.hstack((a, b))\n",
    "print(\"Horizontal Stack:\", result)"
   ]
  },
  {
   "cell_type": "markdown",
   "metadata": {},
   "source": [
    "## 2. Linear Algebra\n",
    "\n",
    "### 1. Dot Product (`np.dot()`)\n",
    "\n",
    "The dot product of two arrays is the sum of the products of their corresponding elements.\n",
    "\n",
    "\n"
   ]
  },
  {
   "cell_type": "markdown",
   "metadata": {},
   "source": [
    "### **Dot Product Formula**\n",
    "The **dot product** of two vectors **A** and **B** is given by:\n",
    "\n",
    "$A \\cdot B = \\sum_{i=1}^{n} A_i B_i$\n",
    "\n",
    "where:\n",
    "- \\( A \\) and \\( B \\) are vectors of size \\( n \\),\n",
    "- \\( A_i \\) and \\( B_i \\) are the corresponding elements of the vectors.\n",
    "\n",
    "\n"
   ]
  },
  {
   "cell_type": "code",
   "execution_count": 28,
   "metadata": {},
   "outputs": [
    {
     "name": "stdout",
     "output_type": "stream",
     "text": [
      "Dot Product of Matrices:\n",
      " 32\n"
     ]
    }
   ],
   "source": [
    "#Dot Product of Matrices\n",
    "# Create two matrices\n",
    "A = np.array([1, 2, 3])\n",
    "B = np.array([4, 5, 6])\n",
    "\n",
    "# Compute the dot product\n",
    "dot_product = np.dot(A, B)\n",
    "print(\"Dot Product of Matrices:\\n\", dot_product)"
   ]
  },
  {
   "cell_type": "markdown",
   "metadata": {},
   "source": [
    "<h3><span style=\"color: brown\">Practice Question:</span></h3>\n",
    "<span style=\"color: green\">\n",
    "Compute the <b>dot product</b> of the following Matrix:\n",
    "</span>\n",
    "\n",
    "```python\n",
    "A = np.array([[1, 2], [3, 4]])\n",
    "B = np.array([[5, 6], [7, 8]])"
   ]
  },
  {
   "cell_type": "code",
   "execution_count": 17,
   "metadata": {},
   "outputs": [
    {
     "name": "stdout",
     "output_type": "stream",
     "text": [
      "Dot Product of Matrices:\n",
      " [[19 22]\n",
      " [43 50]]\n"
     ]
    }
   ],
   "source": [
    "A = np.array([[1, 2], [3, 4]])\n",
    "B = np.array([[5, 6], [7, 8]])\n",
    "\n",
    "dot_product = np.dot(A, B)\n",
    "print(\"Dot Product of Matrices:\\n\", dot_product)"
   ]
  },
  {
   "cell_type": "markdown",
   "metadata": {},
   "source": [
    "#### 2. Matrix Multiplication (@ or np.matmul())\n",
    "\n",
    "Matrix multiplication is a fundamental operation in linear algebra. NumPy provides two ways to perform matrix multiplication:\n",
    "\n",
    "The @ operator (Python 3.5+).\n",
    "\n",
    "The np.matmul() function."
   ]
  },
  {
   "cell_type": "code",
   "execution_count": 23,
   "metadata": {},
   "outputs": [
    {
     "name": "stdout",
     "output_type": "stream",
     "text": [
      "Matrix Multiplication (using @):\n",
      " [[19 22]\n",
      " [43 50]]\n"
     ]
    }
   ],
   "source": [
    "# Matrix Multiplication Using @\n",
    "# Create two matrices\n",
    "A = np.array([[1, 2], [3, 4]])\n",
    "B = np.array([[5, 6], [7, 8]])\n",
    "\n",
    "# Matrix multiplication using @\n",
    "result = A @ B\n",
    "print(\"Matrix Multiplication (using @):\\n\", result)"
   ]
  },
  {
   "cell_type": "code",
   "execution_count": 18,
   "metadata": {},
   "outputs": [
    {
     "name": "stdout",
     "output_type": "stream",
     "text": [
      "Matrix Multiplication (using np.matmul()):\n",
      " [[19 22]\n",
      " [43 50]]\n"
     ]
    }
   ],
   "source": [
    "# Matrix multiplication using np.matmul()\n",
    "result = np.matmul(A, B)\n",
    "print(\"Matrix Multiplication (using np.matmul()):\\n\", result)"
   ]
  },
  {
   "cell_type": "markdown",
   "metadata": {},
   "source": [
    "<h3><span style=\"color: brown\">Practice Question:</span></h3>\n",
    "<span style=\"color: green\">\n",
    "Perform <b>matrix multiplication</b> on the following matrices:\n",
    "</span>\n",
    "\n",
    "```python\n",
    "A = np.array([[1, 2], [3, 4]])\n",
    "B = np.array([[5, 6], [7, 8]])"
   ]
  },
  {
   "cell_type": "code",
   "execution_count": 19,
   "metadata": {},
   "outputs": [
    {
     "name": "stdout",
     "output_type": "stream",
     "text": [
      "Matrix Multiplication (using np.matmul()):\n",
      " [[19 22]\n",
      " [43 50]]\n"
     ]
    }
   ],
   "source": [
    "A = np.array([[1, 2], [3, 4]])\n",
    "B = np.array([[5, 6], [7, 8]])\n",
    "result = np.matmul(A, B)\n",
    "print(\"Matrix Multiplication (using np.matmul()):\\n\", result)"
   ]
  },
  {
   "cell_type": "markdown",
   "metadata": {},
   "source": [
    "#### 3. Inverse of a Matrix (np.linalg.inv())\n",
    "\n",
    "The inverse of a matrix is a matrix that, when multiplied by the original matrix, gives the identity matrix."
   ]
  },
  {
   "cell_type": "markdown",
   "metadata": {},
   "source": [
    "$A \\cdot A^{-1} = I$"
   ]
  },
  {
   "cell_type": "code",
   "execution_count": 20,
   "metadata": {},
   "outputs": [
    {
     "name": "stdout",
     "output_type": "stream",
     "text": [
      "Inverse of A:\n",
      " [[-2.   1. ]\n",
      " [ 1.5 -0.5]]\n"
     ]
    }
   ],
   "source": [
    "# Create a square matrix\n",
    "A = np.array([[1, 2], [3, 4]])\n",
    "\n",
    "# Compute the inverse\n",
    "A_inv = np.linalg.inv(A)\n",
    "print(\"Inverse of A:\\n\", A_inv)\n",
    "\n"
   ]
  },
  {
   "cell_type": "markdown",
   "metadata": {},
   "source": [
    "<h3><span style=\"color: brown\">Practice Question:</span></h3>\n",
    "<span style=\"color: green\">\n",
    "Compute the <b>inverse</b> of the following matrix:\n",
    "</span>\n",
    "\n",
    "```python\n",
    "A = np.array([[2, 1], [1, 2]])"
   ]
  },
  {
   "cell_type": "code",
   "execution_count": 22,
   "metadata": {},
   "outputs": [
    {
     "name": "stdout",
     "output_type": "stream",
     "text": [
      "Inverse of A:\n",
      " [[ 0.66666667 -0.33333333]\n",
      " [-0.33333333  0.66666667]]\n"
     ]
    }
   ],
   "source": [
    "A = np.array([[2, 1], [1, 2]])\n",
    "A_inv = np.linalg.inv(A)\n",
    "print(\"Inverse of A:\\n\", A_inv)"
   ]
  },
  {
   "cell_type": "markdown",
   "metadata": {},
   "source": [
    "#### 4. Determinant of a Matrix (np.linalg.det())\n",
    "\n",
    "The determinant of a matrix is a scalar value that provides important information about the matrix (e.g., whether it is invertible)."
   ]
  },
  {
   "cell_type": "code",
   "execution_count": 23,
   "metadata": {},
   "outputs": [
    {
     "name": "stdout",
     "output_type": "stream",
     "text": [
      "Determinant of A: -2.0000000000000004\n"
     ]
    }
   ],
   "source": [
    "# Create a square matrix\n",
    "A = np.array([[1, 2], [3, 4]])\n",
    "\n",
    "# Compute the determinant\n",
    "det_A = np.linalg.det(A)\n",
    "print(\"Determinant of A:\", det_A)"
   ]
  },
  {
   "cell_type": "markdown",
   "metadata": {},
   "source": [
    "#### 5. Eigenvalues and Eigenvectors (np.linalg.eig())\n",
    "\n",
    "Eigenvalues and eigenvectors are important concepts in linear algebra. They are used in many applications, such as principal component analysis (PCA) and solving differential equations."
   ]
  },
  {
   "cell_type": "code",
   "execution_count": 27,
   "metadata": {},
   "outputs": [
    {
     "name": "stdout",
     "output_type": "stream",
     "text": [
      "Eigenvalues: [5. 2.]\n",
      "Eigenvectors:\n",
      " [[ 0.70710678 -0.4472136 ]\n",
      " [ 0.70710678  0.89442719]]\n"
     ]
    }
   ],
   "source": [
    "# Create a square matrix\n",
    "A = np.array([[4, 1], [2, 3]])\n",
    "\n",
    "# Compute eigenvalues and eigenvectors\n",
    "eigenvalues, eigenvectors = np.linalg.eig(A)\n",
    "print(\"Eigenvalues:\", eigenvalues)\n",
    "print(\"Eigenvectors:\\n\", eigenvectors)"
   ]
  },
  {
   "cell_type": "markdown",
   "metadata": {},
   "source": [
    "<h3><span style=\"color: brown\">Practice Question:</span></h3>\n",
    "<span style=\"color: green\">\n",
    "Compute the <b>eigenvalues and eigenvectors</b> of the following matrix:\n",
    "</span>\n",
    "\n",
    "```python\n",
    "A = np.array([[6, 1], [1, 4]])"
   ]
  },
  {
   "cell_type": "code",
   "execution_count": 28,
   "metadata": {},
   "outputs": [
    {
     "name": "stdout",
     "output_type": "stream",
     "text": [
      "Eigenvalues: [6.41421356 3.58578644]\n",
      "Eigenvectors:\n",
      " [[ 0.92387953 -0.38268343]\n",
      " [ 0.38268343  0.92387953]]\n"
     ]
    }
   ],
   "source": [
    "A = np.array([[6, 1], [1, 4]])\n",
    "\n",
    "eigenvalues, eigenvectors = np.linalg.eig(A)\n",
    "print(\"Eigenvalues:\", eigenvalues)\n",
    "print(\"Eigenvectors:\\n\", eigenvectors)"
   ]
  },
  {
   "cell_type": "markdown",
   "metadata": {},
   "source": [
    "### **Solving Linear Equations with NumPy**\n",
    "The `np.linalg.solve(A, B)` function solves the **linear system of equations**:\n",
    "\\[\n",
    "AX = B\n",
    "\\]\n",
    "where:\n",
    "- \\( A \\) is a square matrix (**coefficient matrix**),\n",
    "- \\( X \\) is the **unknown variable vector**,\n",
    "- \\( B \\) is the **constant vector**.\n",
    "\n",
    "**Formula:**\n",
    "\n",
    "$X = A^{-1} B$\n"
   ]
  },
  {
   "cell_type": "markdown",
   "metadata": {},
   "source": [
    "<h3><span style=\"color: brown\">Practice Question:</span></h3>\n",
    "<span style=\"color: green\"></span>\n",
    "\n",
    "Solve the **linear system of equations** of the following matrix:\n",
    "\n",
    "\n",
    "```python\n",
    "\n",
    "A = np.array([[2, 3], \n",
    "              [1, 4]])\n",
    "              \n",
    "B = np.array([5, 6])\n"
   ]
  },
  {
   "cell_type": "code",
   "execution_count": 31,
   "metadata": {},
   "outputs": [
    {
     "data": {
      "text/plain": [
       "array([0.4, 1.4])"
      ]
     },
     "execution_count": 31,
     "metadata": {},
     "output_type": "execute_result"
    }
   ],
   "source": [
    "A = np.array([[2, 3], \n",
    "              [1, 4]])\n",
    "A_inv = np.linalg.inv(A)        \n",
    "B = np.array([5, 6])\n",
    "X = np.dot(A_inv,B)\n",
    "X"
   ]
  },
  {
   "cell_type": "markdown",
   "metadata": {},
   "source": [
    "## 3. Generating Random Numbers\n",
    "\n",
    "NumPy provides functions to generate random numbers from various distributions.\n",
    "\n",
    "####  Random Integers (np.random.randint())"
   ]
  },
  {
   "cell_type": "code",
   "execution_count": 32,
   "metadata": {},
   "outputs": [
    {
     "name": "stdout",
     "output_type": "stream",
     "text": [
      "5\n"
     ]
    }
   ],
   "source": [
    "arr = np.random.randint(15)\n",
    "\n",
    "print(arr)"
   ]
  },
  {
   "cell_type": "code",
   "execution_count": 33,
   "metadata": {},
   "outputs": [
    {
     "name": "stdout",
     "output_type": "stream",
     "text": [
      "[26 47  8  3 10]\n"
     ]
    }
   ],
   "source": [
    "arr=np.random.randint(50, size=(5))\n",
    "\n",
    "print(arr)"
   ]
  },
  {
   "cell_type": "code",
   "execution_count": 39,
   "metadata": {},
   "outputs": [
    {
     "name": "stdout",
     "output_type": "stream",
     "text": [
      "Random integers:\n",
      " [[[0 0 3 7]\n",
      "  [3 3 6 1]\n",
      "  [3 1 8 0]\n",
      "  [6 4 4 4]]]\n"
     ]
    }
   ],
   "source": [
    "# Generate random integers between 0 and 10 (exclusive)\n",
    "random_int = np.random.randint(0, 10, size=(1, 4,4)) #Dimension,Row,Column\n",
    "print(\"Random integers:\\n\", random_int)"
   ]
  },
  {
   "cell_type": "markdown",
   "metadata": {},
   "source": [
    "##### a. Uniform Distribution (np.random.rand())"
   ]
  },
  {
   "cell_type": "code",
   "execution_count": 10,
   "metadata": {},
   "outputs": [
    {
     "name": "stdout",
     "output_type": "stream",
     "text": [
      "0.5831858133342109\n"
     ]
    }
   ],
   "source": [
    "arr = np.random.rand()\n",
    "\n",
    "print(arr)"
   ]
  },
  {
   "cell_type": "code",
   "execution_count": 41,
   "metadata": {},
   "outputs": [
    {
     "name": "stdout",
     "output_type": "stream",
     "text": [
      "Random numbers from uniform distribution:\n",
      " [[0.5323607  0.67590652 0.01314992]\n",
      " [0.62934867 0.00657234 0.03743596]]\n"
     ]
    }
   ],
   "source": [
    "# Generate an array of random numbers (shape: 2x3)\n",
    "random_arr = np.random.rand(2, 3)\n",
    "print(\"Random numbers from uniform distribution:\\n\", random_arr)"
   ]
  },
  {
   "cell_type": "code",
   "execution_count": 48,
   "metadata": {},
   "outputs": [
    {
     "name": "stdout",
     "output_type": "stream",
     "text": [
      "Uniform distribution: [5.0072153  6.90889816 6.83350464 5.47964868 5.60283613 7.08070391\n",
      " 6.57831973]\n"
     ]
    }
   ],
   "source": [
    "# Uniform distribution\n",
    "uniform_numbers = np.random.uniform(low=4, high=8, size=7)\n",
    "print(\"Uniform distribution:\", uniform_numbers)\n"
   ]
  },
  {
   "cell_type": "markdown",
   "metadata": {},
   "source": [
    "#### b. Standard Normal Distribution (np.random.randn())\n",
    "\n",
    "Generates random numbers from a standard normal distribution (mean = 0, standard deviation = 1)."
   ]
  },
  {
   "cell_type": "code",
   "execution_count": 37,
   "metadata": {},
   "outputs": [
    {
     "name": "stdout",
     "output_type": "stream",
     "text": [
      "Random numbers from standard normal distribution:\n",
      " [[ 0.50304154  0.78696957 -1.66936135]\n",
      " [ 0.82980434  0.17692592  1.11503677]]\n"
     ]
    }
   ],
   "source": [
    "# Generate an array of random numbers (shape: 2x3)\n",
    "random_arr = np.random.randn(2,3)\n",
    "print(\"Random numbers from standard normal distribution:\\n\", random_arr)"
   ]
  },
  {
   "cell_type": "code",
   "execution_count": 38,
   "metadata": {},
   "outputs": [
    {
     "name": "stdout",
     "output_type": "stream",
     "text": [
      "Normal distribution: [-13.55884718 -14.97904738  -5.6197775    3.17532418 -19.20530221\n",
      "  -9.69141067  33.80585201  -0.20102373  19.00942645  11.09699001]\n"
     ]
    }
   ],
   "source": [
    "# Normal distribution\n",
    "normal_numbers = np.random.normal(loc=5, scale=15, size=10)\n",
    "print(\"Normal distribution:\", normal_numbers)"
   ]
  },
  {
   "cell_type": "markdown",
   "metadata": {},
   "source": [
    "#### 3. Shuffling and Sampling\n",
    "\n",
    "#### a. Shuffling (np.random.shuffle())\n",
    "\n",
    "Shuffles the elements of an array in place."
   ]
  },
  {
   "cell_type": "code",
   "execution_count": 79,
   "metadata": {},
   "outputs": [
    {
     "name": "stdout",
     "output_type": "stream",
     "text": [
      "Unshuffled array: [2 1 3 5 4]\n",
      "Shuffled array: None\n"
     ]
    }
   ],
   "source": [
    "arr = np.array([1, 2, 3, 4, 5])\n",
    "\n",
    "# Shuffle the array\n",
    "arr1 = np.random.shuffle(arr)\n",
    "print(\"Unshuffled array:\", arr)\n",
    "print(\"Shuffled array:\", arr1)\n"
   ]
  },
  {
   "cell_type": "code",
   "execution_count": 53,
   "metadata": {},
   "outputs": [
    {
     "name": "stdout",
     "output_type": "stream",
     "text": [
      "Original array: [5 1 2 3 4]\n",
      "Permuted array: [3 5 2 4 1]\n"
     ]
    }
   ],
   "source": [
    "# Generate a permutation of the array\n",
    "permuted_arr = np.random.permutation(arr)\n",
    "\n",
    "print(\"Original array:\", arr)\n",
    "print(\"Permuted array:\", permuted_arr)"
   ]
  },
  {
   "cell_type": "markdown",
   "metadata": {},
   "source": [
    "#### b. Sampling (np.random.choice())\n",
    "Randomly samples elements from an array."
   ]
  },
  {
   "cell_type": "code",
   "execution_count": 42,
   "metadata": {},
   "outputs": [
    {
     "name": "stdout",
     "output_type": "stream",
     "text": [
      "9\n"
     ]
    }
   ],
   "source": [
    "arr = np.random.choice([3, 5, 7, 9])\n",
    "\n",
    "print(arr)"
   ]
  },
  {
   "cell_type": "code",
   "execution_count": 43,
   "metadata": {},
   "outputs": [
    {
     "name": "stdout",
     "output_type": "stream",
     "text": [
      "[[5 7 5 9 7]\n",
      " [7 9 3 9 3]\n",
      " [9 5 5 5 3]]\n"
     ]
    }
   ],
   "source": [
    "arr = np.random.choice([3, 5, 7, 9], size=(3, 5))\n",
    "\n",
    "print(arr)"
   ]
  },
  {
   "cell_type": "code",
   "execution_count": 37,
   "metadata": {},
   "outputs": [
    {
     "name": "stdout",
     "output_type": "stream",
     "text": [
      "Sampled elements: [20 40]\n"
     ]
    }
   ],
   "source": [
    "arr = np.array([10, 20, 30, 40, 50])\n",
    "\n",
    "# Sample 3 elements without replacement\n",
    "sample = np.random.choice(arr, size=2, replace=False)\n",
    "print(\"Sampled elements:\", sample)"
   ]
  },
  {
   "cell_type": "code",
   "execution_count": 36,
   "metadata": {},
   "outputs": [
    {
     "name": "stdout",
     "output_type": "stream",
     "text": [
      "[[3 7 7 5 3]\n",
      " [7 5 5 7 5]\n",
      " [7 7 3 3 7]]\n"
     ]
    }
   ],
   "source": [
    "arr = np.random.choice([3, 5, 7, 9], p=[0.1, 0.3, 0.6, 0.0], size=(3, 5))\n",
    "\n",
    "print(arr)"
   ]
  },
  {
   "cell_type": "markdown",
   "metadata": {},
   "source": [
    "Exercises\n",
    "Generate a 3x3 array of random numbers from a uniform distribution.\n",
    "\n",
    "Generate a 1D array of 5 random numbers from a standard normal distribution.\n",
    "\n",
    "Generate a 2x2 array of random integers between 10 and 20 (inclusive).\n",
    "\n",
    "Shuffle the following array:\n",
    "\n",
    "python\n",
    "Copy\n",
    "arr = np.array([1, 2, 3, 4, 5, 6, 7, 8, 9])\n",
    "Randomly sample 3 elements from the following array without replacement:\n",
    "\n",
    "python\n",
    "Copy\n",
    "arr = np.array([10, 20, 30, 40, 50])"
   ]
  },
  {
   "cell_type": "markdown",
   "metadata": {},
   "source": [
    "## 4. File I/O with NumPy\n",
    "\n",
    "#### 1. Saving Arrays\n",
    "\n",
    "NumPy provides functions to save arrays to disk in binary or text format.\n",
    "\n",
    "\n",
    "### a. Saving a Single Array (np.save())\n",
    " Saves a single array to a .npy file."
   ]
  },
  {
   "cell_type": "code",
   "execution_count": 80,
   "metadata": {},
   "outputs": [
    {
     "name": "stdout",
     "output_type": "stream",
     "text": [
      "Array saved to 'my_array.npy'\n"
     ]
    }
   ],
   "source": [
    "# Create an array\n",
    "arr = np.array([1, 2, 3, 4, 5])\n",
    "\n",
    "# Save the array to a file\n",
    "np.save('my_array.npy', arr)\n",
    "print(\"Array saved to 'my_array.npy'\")"
   ]
  },
  {
   "cell_type": "markdown",
   "metadata": {},
   "source": [
    "#### b. Saving Multiple Arrays (np.savez())\n",
    "Saves multiple arrays to a .npz file (a compressed archive)."
   ]
  },
  {
   "cell_type": "code",
   "execution_count": 81,
   "metadata": {},
   "outputs": [
    {
     "name": "stdout",
     "output_type": "stream",
     "text": [
      "Arrays saved to 'my_arrays.npz'\n"
     ]
    }
   ],
   "source": [
    "# Create two arrays\n",
    "arr1 = np.array([1, 2, 3])\n",
    "arr2 = np.array([4, 5, 6])\n",
    "\n",
    "# Save the arrays to a file\n",
    "np.savez('my_arrays.npz', array1=arr1, array2=arr2)\n",
    "print(\"Arrays saved to 'my_arrays.npz'\")"
   ]
  },
  {
   "cell_type": "markdown",
   "metadata": {},
   "source": [
    "#### 2. Loading Arrays\n",
    "\n",
    "#### a. Loading a Single Array (np.load())\n",
    "Loads an array from a .npy or .npz file"
   ]
  },
  {
   "cell_type": "code",
   "execution_count": 83,
   "metadata": {},
   "outputs": [
    {
     "name": "stdout",
     "output_type": "stream",
     "text": [
      "Loaded array: [1 2 3 4 5]\n"
     ]
    }
   ],
   "source": [
    "# Load the array from the file\n",
    "loaded_arr = np.load('my_array.npy')\n",
    "print(\"Loaded array:\", loaded_arr)"
   ]
  },
  {
   "cell_type": "markdown",
   "metadata": {},
   "source": [
    "### 3. Working with Text Files\n",
    "\n",
    "NumPy provides functions to read and write arrays to text files.\n",
    "\n",
    "#### a. Saving Arrays to Text Files (np.savetxt())\n",
    "Saves an array to a text file."
   ]
  },
  {
   "cell_type": "code",
   "execution_count": 84,
   "metadata": {},
   "outputs": [
    {
     "name": "stdout",
     "output_type": "stream",
     "text": [
      "Array saved to 'my_array.txt'\n"
     ]
    }
   ],
   "source": [
    "# Create an array\n",
    "arr = np.array([[1, 2, 3], [4, 5, 6]])\n",
    "\n",
    "# Save the array to a text file\n",
    "np.savetxt('my_array.txt', arr, fmt='%d', delimiter=' ')\n",
    "print(\"Array saved to 'my_array.txt'\")"
   ]
  },
  {
   "cell_type": "markdown",
   "metadata": {},
   "source": [
    "#### b. Loading Arrays from Text Files (np.loadtxt())\n",
    "Loads an array from a text file."
   ]
  },
  {
   "cell_type": "code",
   "execution_count": 85,
   "metadata": {},
   "outputs": [
    {
     "name": "stdout",
     "output_type": "stream",
     "text": [
      "Loaded array from text file:\n",
      " [[1. 2. 3.]\n",
      " [4. 5. 6.]]\n"
     ]
    }
   ],
   "source": [
    "# Load the array from the text file\n",
    "loaded_arr = np.loadtxt('my_array.txt')\n",
    "print(\"Loaded array from text file:\\n\", loaded_arr)"
   ]
  },
  {
   "cell_type": "markdown",
   "metadata": {},
   "source": [
    "## Exercises\n",
    "### Save the following array to a .npy file:\n",
    "\n",
    "```python\n",
    "Save the following arrays to a .npzfile:\n",
    "arr1 = np.array([1, 2, 3])\n",
    "arr2 = np.array([4, 5, 6])\n",
    "Load the arrays from the .npz file and print them.\n",
    "\n",
    "Save the following array to a text file with comma-separated values:\n",
    "arr = np.array([[1, 2, 3], [4, 5, 6]])\n",
    "Load the array from the text file and print it."
   ]
  },
  {
   "cell_type": "markdown",
   "metadata": {},
   "source": [
    "## 5. Image Processing with NumPy\n",
    "\n",
    "#### Install Required Libraries\n",
    "\n",
    "pip install pillow"
   ]
  },
  {
   "cell_type": "markdown",
   "metadata": {},
   "source": [
    "#### 1. Loading and Displaying Images\n",
    "\n",
    "We'll use the **Pillow (PIL)** library to load, display, and save images."
   ]
  },
  {
   "cell_type": "code",
   "execution_count": 2,
   "metadata": {},
   "outputs": [
    {
     "name": "stdout",
     "output_type": "stream",
     "text": [
      "Image shape: (1120, 1120, 3)\n",
      "Image data type: uint8\n"
     ]
    }
   ],
   "source": [
    "import numpy as np\n",
    "from PIL import Image\n",
    "\n",
    "# Load an image using PIL\n",
    "image_path = r\"C:\\Users\\1212a\\OneDrive\\Desktop\\Ai 2.0\\Numpy\\3.jpg\"  # Replace with your image path\n",
    "#image_path = r\"E:\\DSA Python\\elonn_afd24c6793.jpeg\" \n",
    "image = Image.open(image_path)\n",
    "\n",
    "# Convert the image to a NumPy array\n",
    "image_array = np.array(image)\n",
    "\n",
    "# Display the image using PIL\n",
    "image.show(title=\"Original Image\")\n",
    "\n",
    "# Print image shape and data type\n",
    "print(\"Image shape:\", image_array.shape)  # (height, width, channels)\n",
    "print(\"Image data type:\", image_array.dtype)"
   ]
  },
  {
   "cell_type": "markdown",
   "metadata": {},
   "source": [
    "### 2. Manipulating Images\n",
    "\n",
    "#### a. Grayscale Conversion\n",
    "Convert an RGB image to grayscale by averaging the color channels."
   ]
  },
  {
   "cell_type": "code",
   "execution_count": 3,
   "metadata": {},
   "outputs": [],
   "source": [
    "# Convert to grayscale by averaging the RGB channels\n",
    "grayscale_image = np.mean(image_array, axis=2)\n",
    "\n",
    "# Convert the NumPy array back to a PIL image\n",
    "grayscale_image_pil = Image.fromarray(grayscale_image)\n",
    "\n",
    "# Display the grayscale image\n",
    "grayscale_image_pil.show(title=\"Grayscale Image\")"
   ]
  },
  {
   "cell_type": "markdown",
   "metadata": {},
   "source": [
    "#### b. Cropping an Image\n",
    "Extract a region of interest (ROI) from the image."
   ]
  },
  {
   "cell_type": "code",
   "execution_count": 102,
   "metadata": {},
   "outputs": [],
   "source": [
    "# Define the crop region (y1:y2, x1:x2)\n",
    "cropped_image = image_array[800:2100, 700:1800, :]\n",
    "\n",
    "# Convert the NumPy array back to a PIL image\n",
    "cropped_image_pil = Image.fromarray(cropped_image)\n",
    "\n",
    "# Display the cropped image\n",
    "cropped_image_pil.show(title=\"Cropped Image\")"
   ]
  },
  {
   "cell_type": "markdown",
   "metadata": {},
   "source": [
    "#### c. Resizing an Image\n",
    "Resize an image using NumPy and PIL."
   ]
  },
  {
   "cell_type": "code",
   "execution_count": 51,
   "metadata": {},
   "outputs": [],
   "source": [
    "# Resize the image to 200x200 pixels\n",
    "resized_image = image.resize((400, 400))\n",
    "resized_array = np.array(resized_image)\n",
    "\n",
    "# Display the resized image\n",
    "resized_image.show(title=\"Resized Image\")"
   ]
  },
  {
   "cell_type": "markdown",
   "metadata": {},
   "source": [
    "#### d. Adjusting Brightness\n",
    "Increase or decrease the brightness of an image."
   ]
  },
  {
   "cell_type": "code",
   "execution_count": 53,
   "metadata": {},
   "outputs": [],
   "source": [
    "# Increase brightness by adding a constant value\n",
    "brightness_increased = np.clip(image_array + 30, 0, 255).astype(np.uint8)\n",
    "\n",
    "# Decrease brightness by subtracting a constant value\n",
    "brightness_decreased = np.clip(image_array - 30, 0, 255).astype(np.uint8)\n",
    "\n",
    "# Convert the NumPy arrays back to PIL images\n",
    "brightness_increased_pil = Image.fromarray(brightness_increased)\n",
    "brightness_decreased_pil = Image.fromarray(brightness_decreased)\n",
    "\n",
    "# Display the results\n",
    "brightness_increased_pil.show(title=\"Brightness Increased\")\n",
    "brightness_decreased_pil.show(title=\"Brightness Decreased\")"
   ]
  },
  {
   "cell_type": "markdown",
   "metadata": {},
   "source": [
    "#### e. Adjusting Contrast"
   ]
  },
  {
   "cell_type": "code",
   "execution_count": 105,
   "metadata": {},
   "outputs": [],
   "source": [
    "# Increase contrast\n",
    "contrast_increased = np.clip(image_array * 1.5, 0, 255).astype(np.uint8)\n",
    "Image.fromarray(contrast_increased).show()\n",
    "\n",
    "# Decrease contrast\n",
    "contrast_decreased = np.clip(image_array * 0.5, 0, 255).astype(np.uint8)\n",
    "Image.fromarray(contrast_decreased).show()"
   ]
  },
  {
   "cell_type": "markdown",
   "metadata": {},
   "source": [
    "#### f. Applying Filters\n",
    "Apply simple filters like blurring or edge detection."
   ]
  },
  {
   "cell_type": "code",
   "execution_count": null,
   "metadata": {},
   "outputs": [],
   "source": [
    "from scipy.ndimage import convolve \n",
    "\n",
    "# Generate Gaussian noise\n",
    "mean = 0\n",
    "std = 25  # Adjust the standard deviation for noise intensity\n",
    "noise = np.random.normal(mean, std, image_array.shape)\n",
    "\n",
    "# Add noise to the image and clip values to the valid range [0, 255]\n",
    "noisy_image_array = np.clip(image_array + noise, 0, 255).astype(np.uint8)\n",
    "\n",
    "# Convert back to PIL image\n",
    "noisy_image = Image.fromarray(noisy_image_array)\n",
    "\n",
    "# Display the noisy image\n",
    "noisy_image.show(title=\"Noisy Image\")\n",
    "\n"
   ]
  },
  {
   "cell_type": "markdown",
   "metadata": {},
   "source": [
    "#### g. Rotating image"
   ]
  },
  {
   "cell_type": "code",
   "execution_count": 108,
   "metadata": {},
   "outputs": [],
   "source": [
    "from scipy.ndimage import rotate\n",
    "\n",
    "# Rotate the image by 45 degrees\n",
    "rotated_image = rotate(image_array, angle=45, reshape=True)\n",
    "Image.fromarray(rotated_image.astype(np.uint8)).show()"
   ]
  },
  {
   "cell_type": "markdown",
   "metadata": {},
   "source": [
    "#### h. Flip image"
   ]
  },
  {
   "cell_type": "code",
   "execution_count": 110,
   "metadata": {},
   "outputs": [],
   "source": [
    "# Flip horizontally\n",
    "flipped_horizontal = np.flip(image_array, axis=0)\n",
    "Image.fromarray(flipped_horizontal).show()\n"
   ]
  },
  {
   "cell_type": "markdown",
   "metadata": {},
   "source": [
    "#### 3. Saving Images\n",
    "Save the processed image to a file."
   ]
  },
  {
   "cell_type": "code",
   "execution_count": 112,
   "metadata": {},
   "outputs": [
    {
     "name": "stdout",
     "output_type": "stream",
     "text": [
      "Image saved to blurrred_image.png\n"
     ]
    }
   ],
   "source": [
    "# Convert the NumPy array back to a PIL image\n",
    "# processed_image = Image.fromarray(noisy_image)\n",
    "\n",
    "# Save the image\n",
    "output_path = r'blurrred_image.png'\n",
    "noisy_image.save(output_path)\n",
    "print(f\"Image saved to {output_path}\")"
   ]
  },
  {
   "cell_type": "markdown",
   "metadata": {},
   "source": [
    "<h3><span style=\"color: brown\">Practice Question:</span></h3>\n",
    "<span style=\"color: green\">\n",
    "\n",
    "\n",
    "\n",
    "Load an image and convert it to grayscale.\n",
    "\n",
    "Crop the image to a specific region and display it.\n",
    "\n",
    "Resize the image to 300x300 pixels and save it.\n",
    "\n",
    "Increase the brightness,contrast of the image by 30 and display the result.\n",
    "\n",
    "Apply a simple blur filter to the image and save the result.</span>"
   ]
  },
  {
   "cell_type": "code",
   "execution_count": 113,
   "metadata": {},
   "outputs": [
    {
     "name": "stdout",
     "output_type": "stream",
     "text": [
      "Image shape: (4096, 3280, 3)\n",
      "Image data type: uint8\n"
     ]
    }
   ],
   "source": [
    "# Load an image using PIL# Replace with your image path\n",
    "image_path = r\"C:\\Users\\1212a\\OneDrive\\Desktop\\Ai 2.0\\Numpy\\2.jpg\"\n",
    "image = Image.open(image_path)\n",
    "\n",
    "# Convert the image to a NumPy array\n",
    "image_array = np.array(image)\n",
    "\n",
    "\n",
    "grayscale_image = np.mean(image_array, axis=2)\n",
    "\n"
   ]
  },
  {
   "cell_type": "code",
   "execution_count": 118,
   "metadata": {},
   "outputs": [],
   "source": [
    "# Define the crop region (y1:y2, x1:x2)\n",
    "cropped_image = image_array[800:2300, 800:2200, :]\n",
    "\n",
    "cropped_image_pil = Image.fromarray(cropped_image)\n",
    "\n",
    "# Display the cropped image\n",
    "cropped_image_pil.show(title=\"Cropped Image\")"
   ]
  },
  {
   "cell_type": "code",
   "execution_count": 119,
   "metadata": {},
   "outputs": [
    {
     "name": "stdout",
     "output_type": "stream",
     "text": [
      "Image saved to resized_image.png\n"
     ]
    }
   ],
   "source": [
    "# Resize the image to 300x300 pixels\n",
    "resized_image = image.resize((300, 300))\n",
    "resized_array = np.array(resized_image)\n",
    "\n",
    "# Display the resized image\n",
    "resized_image.show(title=\"Resized Image\")\n",
    "\n",
    "output_path = r'resized_image.png'\n",
    "resized_image.save(output_path)\n",
    "print(f\"Image saved to {output_path}\")"
   ]
  },
  {
   "cell_type": "code",
   "execution_count": 120,
   "metadata": {},
   "outputs": [],
   "source": [
    "\n",
    "brightness_increased = np.clip(image_array + 30, 0, 255).astype(np.uint8)\n",
    "\n",
    "# Convert the NumPy arrays back to PIL images\n",
    "brightness_increased_pil = Image.fromarray(brightness_increased)\n",
    "\n",
    "# Display the results\n",
    "brightness_increased_pil.show(title=\"Brightness Increased\")\n"
   ]
  },
  {
   "cell_type": "code",
   "execution_count": 122,
   "metadata": {},
   "outputs": [],
   "source": [
    "# Increase contrast\n",
    "contrast_increased = np.clip(image_array * 30, 0, 255).astype(np.uint8)\n",
    "contrast_increased_pil = Image.fromarray(contrast_increased)\n",
    "contrast_increased_pil.show(title=\"Contrast image\")"
   ]
  },
  {
   "cell_type": "code",
   "execution_count": 123,
   "metadata": {},
   "outputs": [
    {
     "name": "stdout",
     "output_type": "stream",
     "text": [
      "Image saved to blurrred2_image.png\n"
     ]
    }
   ],
   "source": [
    "noise = np.random.normal(1, 20, image_array.shape)\n",
    "\n",
    "# Add noise to the image and clip values to the valid range [0, 255]\n",
    "blurred_image_array = np.clip(image_array + noise, 0, 255).astype(np.uint8)\n",
    "\n",
    "# Convert back to PIL image\n",
    "blurred_image = Image.fromarray(blurred_image_array)\n",
    "\n",
    "# Display the noisy image\n",
    "blurred_image.show(title=\"Blurred Image\")\n",
    "\n",
    "# Save the image\n",
    "output_path = r'blurrred2_image.png'\n",
    "blurred_image.save(output_path)\n",
    "print(f\"Image saved to {output_path}\")"
   ]
  },
  {
   "cell_type": "markdown",
   "metadata": {},
   "source": []
  }
 ],
 "metadata": {
  "kernelspec": {
   "display_name": ".venv",
   "language": "python",
   "name": "python3"
  },
  "language_info": {
   "codemirror_mode": {
    "name": "ipython",
    "version": 3
   },
   "file_extension": ".py",
   "mimetype": "text/x-python",
   "name": "python",
   "nbconvert_exporter": "python",
   "pygments_lexer": "ipython3",
   "version": "3.13.0"
  }
 },
 "nbformat": 4,
 "nbformat_minor": 2
}
