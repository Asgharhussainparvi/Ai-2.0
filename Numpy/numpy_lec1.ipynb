{
 "cells": [
  {
   "cell_type": "code",
   "execution_count": 1,
   "metadata": {},
   "outputs": [
    {
     "name": "stdout",
     "output_type": "stream",
     "text": [
      "[[1 2 3 4 5]]\n"
     ]
    }
   ],
   "source": [
    "import numpy as np  \n",
    "list1=[[1,2,3,4,5]]\n",
    "arr=np.array(list1)\n",
    "print(arr)\n"
   ]
  },
  {
   "cell_type": "code",
   "execution_count": 2,
   "metadata": {},
   "outputs": [
    {
     "name": "stdout",
     "output_type": "stream",
     "text": [
      "[1 2 3 4 5 6]\n"
     ]
    },
    {
     "data": {
      "text/plain": [
       "numpy.ndarray"
      ]
     },
     "execution_count": 2,
     "metadata": {},
     "output_type": "execute_result"
    }
   ],
   "source": [
    "import numpy as np  # type: ignore\n",
    "arr=np.array([1,2,3,4,5,6])\n",
    "print(arr)\n",
    "type(arr)"
   ]
  },
  {
   "cell_type": "code",
   "execution_count": 4,
   "metadata": {},
   "outputs": [
    {
     "name": "stdout",
     "output_type": "stream",
     "text": [
      "[[0. 0. 0.]\n",
      " [0. 0. 0.]\n",
      " [0. 0. 0.]]\n"
     ]
    }
   ],
   "source": [
    "zero_arr=np.zeros((3,3))\n",
    "print(zero_arr)"
   ]
  },
  {
   "cell_type": "code",
   "execution_count": 5,
   "metadata": {},
   "outputs": [
    {
     "name": "stdout",
     "output_type": "stream",
     "text": [
      "[[1. 1. 1. 1.]\n",
      " [1. 1. 1. 1.]\n",
      " [1. 1. 1. 1.]\n",
      " [1. 1. 1. 1.]]\n"
     ]
    },
    {
     "data": {
      "text/plain": [
       "2"
      ]
     },
     "execution_count": 5,
     "metadata": {},
     "output_type": "execute_result"
    }
   ],
   "source": [
    "ones_arr=np.ones((4,4))\n",
    "print(ones_arr)\n",
    "ones_arr.ndim"
   ]
  },
  {
   "cell_type": "code",
   "execution_count": 6,
   "metadata": {},
   "outputs": [
    {
     "name": "stdout",
     "output_type": "stream",
     "text": [
      "[ 0  1  2  3  4  5  6  7  8  9 10 11 12 13 14 15 16 17 18 19]\n"
     ]
    }
   ],
   "source": [
    "ran_arr=np.arange(0,20,1)\n",
    "print(ran_arr)"
   ]
  },
  {
   "cell_type": "code",
   "execution_count": 7,
   "metadata": {},
   "outputs": [
    {
     "name": "stdout",
     "output_type": "stream",
     "text": [
      "[ 5  6  7  8  9 10 11 12 13 14 15]\n"
     ]
    }
   ],
   "source": [
    "ran_arra=np.arange(5,16)\n",
    "print(ran_arra)"
   ]
  },
  {
   "cell_type": "code",
   "execution_count": 8,
   "metadata": {},
   "outputs": [
    {
     "data": {
      "text/plain": [
       "array([[6, 6, 6, 6, 6, 6, 6],\n",
       "       [6, 6, 6, 6, 6, 6, 6],\n",
       "       [6, 6, 6, 6, 6, 6, 6],\n",
       "       [6, 6, 6, 6, 6, 6, 6],\n",
       "       [6, 6, 6, 6, 6, 6, 6],\n",
       "       [6, 6, 6, 6, 6, 6, 6]])"
      ]
     },
     "execution_count": 8,
     "metadata": {},
     "output_type": "execute_result"
    }
   ],
   "source": [
    "a=np.full((6,7),6)\n",
    "a"
   ]
  },
  {
   "cell_type": "code",
   "execution_count": 9,
   "metadata": {},
   "outputs": [
    {
     "data": {
      "text/plain": [
       "array([[7, 7, 7],\n",
       "       [7, 7, 7],\n",
       "       [7, 7, 7],\n",
       "       [7, 7, 7],\n",
       "       [7, 7, 7]])"
      ]
     },
     "execution_count": 9,
     "metadata": {},
     "output_type": "execute_result"
    }
   ],
   "source": [
    "b=np.full((5,3),7)\n",
    "b"
   ]
  },
  {
   "cell_type": "code",
   "execution_count": 10,
   "metadata": {},
   "outputs": [
    {
     "name": "stdout",
     "output_type": "stream",
     "text": [
      "[0.    0.125 0.25  0.375 0.5   0.625 0.75  0.875 1.   ]\n"
     ]
    },
    {
     "data": {
      "text/plain": [
       "1"
      ]
     },
     "execution_count": 10,
     "metadata": {},
     "output_type": "execute_result"
    }
   ],
   "source": [
    "lins_arr=np.linspace(0,1,9)\n",
    "print(lins_arr)\n",
    "lins_arr.ndim"
   ]
  },
  {
   "cell_type": "code",
   "execution_count": 11,
   "metadata": {},
   "outputs": [
    {
     "name": "stdout",
     "output_type": "stream",
     "text": [
      "[ 100.  325.  550.  775. 1000.]\n"
     ]
    },
    {
     "data": {
      "text/plain": [
       "1"
      ]
     },
     "execution_count": 11,
     "metadata": {},
     "output_type": "execute_result"
    }
   ],
   "source": [
    "lins_arr=np.linspace(100,1000,5)\n",
    "print(lins_arr)\n",
    "lins_arr.ndim"
   ]
  },
  {
   "cell_type": "code",
   "execution_count": 12,
   "metadata": {},
   "outputs": [
    {
     "name": "stdout",
     "output_type": "stream",
     "text": [
      "[[1. 0. 0. 0.]\n",
      " [0. 1. 0. 0.]\n",
      " [0. 0. 1. 0.]\n",
      " [0. 0. 0. 1.]]\n"
     ]
    },
    {
     "data": {
      "text/plain": [
       "2"
      ]
     },
     "execution_count": 12,
     "metadata": {},
     "output_type": "execute_result"
    }
   ],
   "source": [
    "iden_arr=np.eye(4)\n",
    "print(iden_arr)\n",
    "iden_arr.ndim"
   ]
  },
  {
   "cell_type": "code",
   "execution_count": 13,
   "metadata": {},
   "outputs": [
    {
     "name": "stdout",
     "output_type": "stream",
     "text": [
      "[[0.85290875 0.43230025 0.62743549]\n",
      " [0.75246525 0.45119329 0.79183503]]\n"
     ]
    }
   ],
   "source": [
    "ran_arr=np.random.rand(2,3)\n",
    "print(ran_arr)"
   ]
  },
  {
   "cell_type": "code",
   "execution_count": 14,
   "metadata": {},
   "outputs": [
    {
     "name": "stdout",
     "output_type": "stream",
     "text": [
      "[[0.26797733 0.66581062 0.44956248 0.93860463]\n",
      " [0.37115102 0.27389989 0.6971324  0.49092987]\n",
      " [0.49056542 0.01382536 0.5418031  0.6547208 ]\n",
      " [0.13784461 0.69203958 0.69790405 0.04436024]]\n"
     ]
    },
    {
     "data": {
      "text/plain": [
       "2"
      ]
     },
     "execution_count": 14,
     "metadata": {},
     "output_type": "execute_result"
    }
   ],
   "source": [
    "ran_arran=np.random.rand(4,4)\n",
    "print(ran_arran)\n",
    "ran_arran.ndim"
   ]
  },
  {
   "cell_type": "code",
   "execution_count": 15,
   "metadata": {},
   "outputs": [
    {
     "data": {
      "text/plain": [
       "(4, 4)"
      ]
     },
     "execution_count": 15,
     "metadata": {},
     "output_type": "execute_result"
    }
   ],
   "source": [
    "ran_arran.shape"
   ]
  },
  {
   "cell_type": "code",
   "execution_count": 16,
   "metadata": {},
   "outputs": [
    {
     "data": {
      "text/plain": [
       "(2, 3)"
      ]
     },
     "execution_count": 16,
     "metadata": {},
     "output_type": "execute_result"
    }
   ],
   "source": [
    "ran_arr.shape"
   ]
  },
  {
   "cell_type": "code",
   "execution_count": 17,
   "metadata": {},
   "outputs": [
    {
     "name": "stdout",
     "output_type": "stream",
     "text": [
      "(3, 3)\n",
      "int64\n",
      "9\n",
      "2\n"
     ]
    }
   ],
   "source": [
    "arrr=np.array([[1,3,5],\n",
    "               [3,5,8],\n",
    "                [3,5,8]])\n",
    "print(arrr.shape)\n",
    "print(arrr.dtype)\n",
    "print(arrr.size)\n",
    "print(arrr.ndim)"
   ]
  },
  {
   "cell_type": "code",
   "execution_count": 18,
   "metadata": {},
   "outputs": [
    {
     "name": "stdout",
     "output_type": "stream",
     "text": [
      "Shape of array : (3, 3)\n",
      "DataType of array : int64\n",
      "Size of array : 9\n",
      "Dimension of array : 2\n"
     ]
    }
   ],
   "source": [
    "arrr1=np.array([[1,0,5],\n",
    "               [8,5,8],\n",
    "                [1,7,8]])\n",
    "print(\"Shape of array :\",arrr1.shape)\n",
    "print(\"DataType of array :\",arrr1.dtype)\n",
    "print(\"Size of array :\",arrr1.size)\n",
    "print(\"Dimension of array :\",arrr1.ndim)"
   ]
  },
  {
   "cell_type": "code",
   "execution_count": 19,
   "metadata": {},
   "outputs": [
    {
     "name": "stdout",
     "output_type": "stream",
     "text": [
      "[[11 13 11 16]\n",
      " [ 6 12 13 15]]\n",
      "[[-7 -3  5  0]\n",
      " [ 0  0 -1 -1]]\n",
      "[[18 40 24 64]\n",
      " [ 9 36 42 56]]\n",
      "[[0.22222222 0.625      2.66666667 1.        ]\n",
      " [1.         1.         0.85714286 0.875     ]]\n",
      "[[2 5 2 0]\n",
      " [0 0 6 7]]\n"
     ]
    },
    {
     "data": {
      "text/plain": [
       "2"
      ]
     },
     "execution_count": 19,
     "metadata": {},
     "output_type": "execute_result"
    }
   ],
   "source": [
    "a = np.array([[2,5,8,8],[3,6,6,7]])\n",
    "b = np.array([[9,8,3,8],[3,6,7,8]])\n",
    "print(a+b)\n",
    "\n",
    "print(a-b)\n",
    "\n",
    "print(a*b)\n",
    "\n",
    "print(a/b)\n",
    "\n",
    "print(a%b)\n",
    "\n",
    "a.ndim"
   ]
  },
  {
   "cell_type": "code",
   "execution_count": 20,
   "metadata": {},
   "outputs": [
    {
     "name": "stdout",
     "output_type": "stream",
     "text": [
      "[56 59 62 62]\n"
     ]
    }
   ],
   "source": [
    "a = np.array([2,5,8,8])\n",
    "b=54\n",
    "print(a+b)"
   ]
  },
  {
   "cell_type": "code",
   "execution_count": 21,
   "metadata": {},
   "outputs": [
    {
     "name": "stdout",
     "output_type": "stream",
     "text": [
      "[[ 6 10 14 14]\n",
      " [ 7 11 12 13]]\n"
     ]
    }
   ],
   "source": [
    "a = np.array([[2,5,8,8],[3,6,6,7]])\n",
    "# c = np.array([[2],[4]])\n",
    "c = np.array([4,5,6,6])\n",
    "print(a+c)\n"
   ]
  },
  {
   "cell_type": "code",
   "execution_count": 22,
   "metadata": {},
   "outputs": [
    {
     "name": "stdout",
     "output_type": "stream",
     "text": [
      "Squareroot of array : [2.         2.23606798 2.44948974 2.44948974]\n",
      "Sum of array : 21\n",
      "Square of array : [16 25 36 36]\n"
     ]
    }
   ],
   "source": [
    "c = np.array([4,5,6,6])\n",
    "print(\"Squareroot of array :\",np.sqrt(c))\n",
    "print(\"Sum of array :\",np.sum(c))\n",
    "print(\"Square of array :\",np.power(c,2))"
   ]
  },
  {
   "cell_type": "markdown",
   "metadata": {},
   "source": []
  },
  {
   "cell_type": "code",
   "execution_count": 23,
   "metadata": {},
   "outputs": [
    {
     "name": "stdout",
     "output_type": "stream",
     "text": [
      "[0.01   0.0025 0.0121 0.0004]\n",
      "0.024999999999999956\n"
     ]
    }
   ],
   "source": [
    "y = np.array([1,2,3,4])\n",
    "y_p = np.array([1.1,2.05,3.11,4.02])\n",
    "y_sub = np.subtract(y,y_p)\n",
    "total = np.power(y_sub,2)\n",
    "print(total)\n",
    "sum_power=np.sum(total)\n",
    "print(sum_power)\n"
   ]
  },
  {
   "cell_type": "code",
   "execution_count": 24,
   "metadata": {},
   "outputs": [
    {
     "name": "stdout",
     "output_type": "stream",
     "text": [
      "[0.         0.52359878 0.87266463 1.22173048 1.57079633]\n",
      "[1.00000000e+00 8.66025404e-01 6.42787610e-01 3.42020143e-01\n",
      " 6.12323400e-17]\n",
      "[0.         0.5        0.76604444 0.93969262 1.        ]\n",
      "[ 0. 30. 50. 70. 90.]\n"
     ]
    }
   ],
   "source": [
    "angles=np.array([0,30,50,70,90])\n",
    "radians=np.deg2rad(angles)\n",
    "print(radians)\n",
    "cos=np.cos(radians)\n",
    "print(cos)\n",
    "sin=np.sin(radians)\n",
    "print(sin)\n",
    "degree=np.rad2deg(radians)\n",
    "print(degree)"
   ]
  },
  {
   "cell_type": "code",
   "execution_count": 3,
   "metadata": {},
   "outputs": [
    {
     "name": "stdout",
     "output_type": "stream",
     "text": [
      "[ 1.          2.71828183  7.3890561  20.08553692]\n",
      "[0.         1.         1.41421356 1.73205081]\n",
      "[0.         0.01745241 0.0348995  0.05233596]\n",
      "[      -inf 0.         0.69314718 1.09861229]\n"
     ]
    },
    {
     "name": "stderr",
     "output_type": "stream",
     "text": [
      "C:\\Users\\1212a\\AppData\\Local\\Temp\\ipykernel_8496\\4283069101.py:7: RuntimeWarning: divide by zero encountered in log\n",
      "  print(np.log(d))\n"
     ]
    }
   ],
   "source": [
    "d=np.array([0,1,2,3])\n",
    "radians=np.deg2rad(d)\n",
    "\n",
    "print(np.exp(d))\n",
    "print(np.sqrt(d))\n",
    "print(np.sin(radians))\n",
    "print(np.log(d))\n"
   ]
  },
  {
   "cell_type": "code",
   "execution_count": 26,
   "metadata": {},
   "outputs": [
    {
     "name": "stdout",
     "output_type": "stream",
     "text": [
      "[0.         0.84147098 0.90929743 0.14112001]\n"
     ]
    }
   ],
   "source": [
    "print(np.sin(d))"
   ]
  },
  {
   "cell_type": "code",
   "execution_count": 27,
   "metadata": {},
   "outputs": [
    {
     "name": "stdout",
     "output_type": "stream",
     "text": [
      "34\n"
     ]
    }
   ],
   "source": [
    "d=np.array([[0,1,2,3],[5,6,8,9]])\n",
    "print(np.sum(d))\n",
    "\n"
   ]
  },
  {
   "cell_type": "code",
   "execution_count": 28,
   "metadata": {},
   "outputs": [
    {
     "name": "stdout",
     "output_type": "stream",
     "text": [
      "Sum of number with respect to row [ 5  7 10 12]\n",
      "Sum of number with respect to column [ 6 28]\n"
     ]
    }
   ],
   "source": [
    "print(\"Sum of number with respect to row\",np.sum(d,axis=0))\n",
    "print(\"Sum of number with respect to column\",np.sum(d,axis=1))"
   ]
  },
  {
   "cell_type": "code",
   "execution_count": 29,
   "metadata": {},
   "outputs": [
    {
     "name": "stdout",
     "output_type": "stream",
     "text": [
      "34\n",
      "4.25\n",
      "9\n",
      "0\n"
     ]
    }
   ],
   "source": [
    "print(np.sum(d))\n",
    "print(np.mean(d))\n",
    "print(np.max(d))\n",
    "print(np.min(d))"
   ]
  },
  {
   "cell_type": "code",
   "execution_count": 30,
   "metadata": {},
   "outputs": [
    {
     "name": "stdout",
     "output_type": "stream",
     "text": [
      "[0 1 2 3]\n",
      "[42  1  2  3]\n"
     ]
    }
   ],
   "source": [
    "d=np.array([0,1,2,3])\n",
    "x=np.copy(d)\n",
    "x[0] = 42\n",
    "print(d)\n",
    "print(x)"
   ]
  },
  {
   "cell_type": "code",
   "execution_count": 31,
   "metadata": {},
   "outputs": [
    {
     "name": "stdout",
     "output_type": "stream",
     "text": [
      "[42  1  2  3]\n",
      "[42  1  2  3]\n"
     ]
    }
   ],
   "source": [
    "d=np.array([0,1,2,3])\n",
    "x=d.view()\n",
    "x[0] = 42\n",
    "print(d)\n",
    "print(x)"
   ]
  },
  {
   "cell_type": "code",
   "execution_count": 32,
   "metadata": {},
   "outputs": [
    {
     "name": "stdout",
     "output_type": "stream",
     "text": [
      "(array([1, 4, 6, 7, 9]),)\n",
      "1\n"
     ]
    }
   ],
   "source": [
    "d=np.array([0,1,2,3,1,3,1,1,5,1])\n",
    "x=np.where(d==1)\n",
    "y = np.searchsorted(d,1)\n",
    "print(x)\n",
    "print(y)\n"
   ]
  },
  {
   "cell_type": "code",
   "execution_count": 33,
   "metadata": {},
   "outputs": [
    {
     "name": "stdout",
     "output_type": "stream",
     "text": [
      "[[1 2 3]\n",
      " [2 5 6]]\n"
     ]
    }
   ],
   "source": [
    "d_2 = np.array([[3,2,1],[2,5,6]])\n",
    "print(np.sort(d_2))"
   ]
  },
  {
   "cell_type": "code",
   "execution_count": 34,
   "metadata": {},
   "outputs": [
    {
     "name": "stdout",
     "output_type": "stream",
     "text": [
      "0\n"
     ]
    }
   ],
   "source": [
    "d=np.array([0,1,2,3,1,3,1,1,5,1])\n",
    "print(d[0])"
   ]
  },
  {
   "cell_type": "code",
   "execution_count": 35,
   "metadata": {},
   "outputs": [
    {
     "name": "stdout",
     "output_type": "stream",
     "text": [
      "[3 2 7]\n"
     ]
    }
   ],
   "source": [
    "d_2 = np.array([[3,2,1],[2,5,6],[7,8,9]])\n",
    "print(d_2[0:3,0])"
   ]
  },
  {
   "cell_type": "code",
   "execution_count": 36,
   "metadata": {},
   "outputs": [
    {
     "ename": "IndexError",
     "evalue": "boolean index did not match indexed array along axis 0; size of axis is 4 but size of corresponding boolean axis is 2",
     "output_type": "error",
     "traceback": [
      "\u001b[1;31m---------------------------------------------------------------------------\u001b[0m",
      "\u001b[1;31mIndexError\u001b[0m                                Traceback (most recent call last)",
      "Cell \u001b[1;32mIn[36], line 2\u001b[0m\n\u001b[0;32m      1\u001b[0m d_3 \u001b[38;5;241m=\u001b[39m np\u001b[38;5;241m.\u001b[39marray([[\u001b[38;5;241m1\u001b[39m,\u001b[38;5;241m2\u001b[39m,\u001b[38;5;241m3\u001b[39m,\u001b[38;5;241m4\u001b[39m],[\u001b[38;5;241m5\u001b[39m,\u001b[38;5;241m6\u001b[39m,\u001b[38;5;241m7\u001b[39m,\u001b[38;5;241m8\u001b[39m],[\u001b[38;5;241m9\u001b[39m,\u001b[38;5;241m10\u001b[39m,\u001b[38;5;241m11\u001b[39m,\u001b[38;5;241m12\u001b[39m],[\u001b[38;5;241m13\u001b[39m,\u001b[38;5;241m14\u001b[39m,\u001b[38;5;241m15\u001b[39m,\u001b[38;5;241m16\u001b[39m]])\n\u001b[1;32m----> 2\u001b[0m \u001b[43md_3\u001b[49m\u001b[43m[\u001b[49m\u001b[43mnp\u001b[49m\u001b[38;5;241;43m.\u001b[39;49m\u001b[43mzeros\u001b[49m\u001b[38;5;241;43m==\u001b[39;49m\u001b[43m \u001b[49m\u001b[43md_3\u001b[49m\u001b[43m[\u001b[49m\u001b[38;5;241;43m1\u001b[39;49m\u001b[43m:\u001b[49m\u001b[38;5;241;43m3\u001b[39;49m\u001b[43m,\u001b[49m\u001b[38;5;241;43m1\u001b[39;49m\u001b[43m:\u001b[49m\u001b[38;5;241;43m3\u001b[39;49m\u001b[43m]\u001b[49m\u001b[43m]\u001b[49m\n\u001b[0;32m      3\u001b[0m d_3\n",
      "\u001b[1;31mIndexError\u001b[0m: boolean index did not match indexed array along axis 0; size of axis is 4 but size of corresponding boolean axis is 2"
     ]
    }
   ],
   "source": [
    "d_3 = np.array([[1,2,3,4],[5,6,7,8],[9,10,11,12],[13,14,15,16]])\n",
    "d_3[np.zeros== d_3[1:3,1:3]]\n",
    "d_3\n",
    "\n"
   ]
  },
  {
   "cell_type": "code",
   "execution_count": 37,
   "metadata": {},
   "outputs": [
    {
     "name": "stdout",
     "output_type": "stream",
     "text": [
      "Element greater than 5 and less than 20 [10 15]\n"
     ]
    }
   ],
   "source": [
    "import numpy as np\n",
    "arr = np.array([5,10,15,20,25])\n",
    "print(\"Element greater than 5 and less than 20\",arr[(arr>5) & (arr<20)])"
   ]
  },
  {
   "cell_type": "code",
   "execution_count": 38,
   "metadata": {},
   "outputs": [
    {
     "name": "stdout",
     "output_type": "stream",
     "text": [
      "Element at indices 1,3 and 4  [20 30 40 50]\n"
     ]
    }
   ],
   "source": [
    "arr = np.array([10,20,30,40,50])\n",
    "print(\"Element at indices 1,3 and 4 \", arr[1:5])"
   ]
  },
  {
   "cell_type": "code",
   "execution_count": 39,
   "metadata": {},
   "outputs": [
    {
     "name": "stdout",
     "output_type": "stream",
     "text": [
      "Without reshape: [1 2 3 4 5 6 7 8 9]\n"
     ]
    },
    {
     "data": {
      "text/plain": [
       "array([[1, 2, 3],\n",
       "       [4, 5, 6],\n",
       "       [7, 8, 9]])"
      ]
     },
     "execution_count": 39,
     "metadata": {},
     "output_type": "execute_result"
    }
   ],
   "source": [
    "\n",
    "arr = np.arange(1,10)\n",
    "print(\"Without reshape:\",arr)\n",
    "reshaped_arr = arr.reshape(3,3)\n",
    "reshaped_arr"
   ]
  },
  {
   "cell_type": "code",
   "execution_count": 110,
   "metadata": {},
   "outputs": [
    {
     "data": {
      "text/plain": [
       "array([[ 1,  3,  5,  7],\n",
       "       [ 9, 11, 13, 15],\n",
       "       [17, 19, 21, 23]])"
      ]
     },
     "execution_count": 110,
     "metadata": {},
     "output_type": "execute_result"
    }
   ],
   "source": [
    "arr = np.arange(1,24,2)\n",
    "arr.reshape(3,4)"
   ]
  },
  {
   "cell_type": "code",
   "execution_count": 111,
   "metadata": {},
   "outputs": [],
   "source": [
    "arr = np.arange(0,1,10)"
   ]
  },
  {
   "cell_type": "code",
   "execution_count": 112,
   "metadata": {},
   "outputs": [
    {
     "name": "stdout",
     "output_type": "stream",
     "text": [
      "[1 2 3 4 5 6 7 8]\n",
      "[[1 2 3 4]\n",
      " [5 6 7 8]]\n"
     ]
    }
   ],
   "source": [
    "arr = np.arange(1,9)\n",
    "print(arr)\n",
    "arr_r = arr.reshape(2,4)\n",
    "print(arr_r)"
   ]
  },
  {
   "cell_type": "code",
   "execution_count": 113,
   "metadata": {},
   "outputs": [
    {
     "name": "stdout",
     "output_type": "stream",
     "text": [
      "[[1 2 3]\n",
      " [4 5 6]]\n"
     ]
    },
    {
     "data": {
      "text/plain": [
       "array([[1, 4],\n",
       "       [2, 5],\n",
       "       [3, 6]])"
      ]
     },
     "execution_count": 113,
     "metadata": {},
     "output_type": "execute_result"
    }
   ],
   "source": [
    "arr = np.array([[1,2,3],[4,5,6]])\n",
    "print(arr)\n",
    "t = arr.transpose()\n",
    "t"
   ]
  },
  {
   "cell_type": "code",
   "execution_count": 114,
   "metadata": {},
   "outputs": [
    {
     "name": "stdout",
     "output_type": "stream",
     "text": [
      "2\n",
      "3\n"
     ]
    },
    {
     "data": {
      "text/plain": [
       "array([1, 2, 3, 4, 5, 6])"
      ]
     },
     "execution_count": 114,
     "metadata": {},
     "output_type": "execute_result"
    }
   ],
   "source": [
    "arr = np.array([[1,2,3],[4,5,6]])\n",
    "arr1 = np.array([[[1,2,3],[4,5,6]]])\n",
    "print(arr.ndim)\n",
    "print(arr1.ndim)\n",
    "f = arr1.flatten()\n",
    "f"
   ]
  },
  {
   "cell_type": "code",
   "execution_count": 115,
   "metadata": {},
   "outputs": [
    {
     "name": "stdout",
     "output_type": "stream",
     "text": [
      "[1 2 3 4 5 6]\n"
     ]
    }
   ],
   "source": [
    "arr = np.array([[1,2,3],[4,5,6]])\n",
    "print(arr.flatten())"
   ]
  },
  {
   "cell_type": "code",
   "execution_count": 116,
   "metadata": {},
   "outputs": [
    {
     "name": "stdout",
     "output_type": "stream",
     "text": [
      "[[1 2 3]\n",
      " [4 5 6]\n",
      " [8 4 8]\n",
      " [2 6 7]]\n",
      "[[1 2 3 8 4 8]\n",
      " [4 5 6 2 6 7]]\n"
     ]
    }
   ],
   "source": [
    "arr = np.array([[1,2,3],[4,5,6]])\n",
    "arr1 = np.array([[8,4,8],[2,6,7]])\n",
    "result1 = np.concatenate((arr,arr1),axis = 0)\n",
    "print(result1)\n",
    "result2 = np.concatenate((arr,arr1),axis = 1)\n",
    "print(result2)"
   ]
  },
  {
   "cell_type": "code",
   "execution_count": 117,
   "metadata": {},
   "outputs": [
    {
     "name": "stdout",
     "output_type": "stream",
     "text": [
      "[1 2 3 4 5 6]\n",
      "[[1 2 3]\n",
      " [4 5 6]]\n"
     ]
    }
   ],
   "source": [
    "arr = np.array([1,2,3])\n",
    "arr1 = np.array([4,5,6])\n",
    "result = np.hstack((arr,arr1))\n",
    "result2 = np.vstack((arr,arr1))\n",
    "print(result)\n",
    "print(result2)"
   ]
  },
  {
   "cell_type": "code",
   "execution_count": 125,
   "metadata": {},
   "outputs": [
    {
     "name": "stdout",
     "output_type": "stream",
     "text": [
      "Dot product of A and B is: 32\n"
     ]
    }
   ],
   "source": [
    "A = np.array([1,2,3])\n",
    "B = np.array([4,5,6])\n",
    "C = np.dot(A,B)\n",
    "print(\"Dot product of A and B is:\",C)"
   ]
  },
  {
   "cell_type": "code",
   "execution_count": 122,
   "metadata": {},
   "outputs": [
    {
     "name": "stdout",
     "output_type": "stream",
     "text": [
      "Dot product of A and B is:\n",
      " [[19 22]\n",
      " [43 50]]\n"
     ]
    }
   ],
   "source": [
    "A = np.array([[1,2],[3,4]])\n",
    "B = np.array([[5,6],[7,8]])\n",
    "C = np.dot(A,B)\n",
    "print(\"Dot product of A and B is:\\n\",C)"
   ]
  },
  {
   "cell_type": "markdown",
   "metadata": {},
   "source": [
    "Martices Multiplication"
   ]
  },
  {
   "cell_type": "code",
   "execution_count": 127,
   "metadata": {},
   "outputs": [
    {
     "name": "stdout",
     "output_type": "stream",
     "text": [
      "Multiplication of A and B is:\n",
      " [[19 22]\n",
      " [43 50]]\n",
      "Multiplication of A and B is:\n",
      " [[19 22]\n",
      " [43 50]]\n"
     ]
    }
   ],
   "source": [
    "A = np.array([[1,2],[3,4]])\n",
    "B = np.array([[5,6],[7,8]])\n",
    "C = A @ B\n",
    "D = np.matmul(A,B)\n",
    "print(\"Multiplication of A and B is:\\n\",C)\n",
    "print(\"Multiplication of A and B is:\\n\",D)"
   ]
  },
  {
   "cell_type": "markdown",
   "metadata": {},
   "source": [
    "Inverse of Matrices"
   ]
  },
  {
   "cell_type": "code",
   "execution_count": 132,
   "metadata": {},
   "outputs": [
    {
     "name": "stdout",
     "output_type": "stream",
     "text": [
      "inverse of matrix A is\n",
      " [[-2.   1. ]\n",
      " [ 1.5 -0.5]]\n",
      "Product A and A_inv is\n",
      " [[1.00000000e+00 0.00000000e+00]\n",
      " [2.22044605e-16 1.00000000e+00]]\n"
     ]
    }
   ],
   "source": [
    "A = np.array([[1,2],[3,4]])\n",
    "A_inv = np.linalg.inv(A)\n",
    "print(\"inverse of matrix A is\\n\" , A_inv)\n",
    "print(\"Product A and A_inv is\\n\", A_inv @ A)"
   ]
  },
  {
   "cell_type": "code",
   "execution_count": 134,
   "metadata": {},
   "outputs": [
    {
     "name": "stdout",
     "output_type": "stream",
     "text": [
      "inverse of matrix B is\n",
      " [[-4.   3. ]\n",
      " [ 3.5 -2.5]]\n",
      "Product A and A_inv is\n",
      " [[1. 0.]\n",
      " [0. 1.]]\n"
     ]
    }
   ],
   "source": [
    "B = np.array([[5,6],[7,8]])\n",
    "B_inv = np.linalg.inv(B)\n",
    "print(\"inverse of matrix B is\\n\",B_inv)\n",
    "print(\"Product A and A_inv is\\n\", B @ B_inv)"
   ]
  },
  {
   "cell_type": "markdown",
   "metadata": {},
   "source": [
    "Determinants"
   ]
  },
  {
   "cell_type": "code",
   "execution_count": 139,
   "metadata": {},
   "outputs": [
    {
     "name": "stdout",
     "output_type": "stream",
     "text": [
      "B matix is :\n",
      " [[5 6]\n",
      " [7 8]]\n",
      "determinants of matrix B is:\n",
      " -2.000000000000005\n"
     ]
    }
   ],
   "source": [
    "B = np.array([[5,6],[7,8]])\n",
    "print(\"B matix is :\\n\",B)\n",
    "det_B = np.linalg.det(B)\n",
    "print(\"determinants of matrix B is:\\n\",det_B)"
   ]
  },
  {
   "cell_type": "markdown",
   "metadata": {},
   "source": [
    "EigenValues and EigenVectors"
   ]
  },
  {
   "cell_type": "markdown",
   "metadata": {},
   "source": [
    "Linear Algebra $x$ and $y$ values"
   ]
  },
  {
   "cell_type": "code",
   "execution_count": 142,
   "metadata": {},
   "outputs": [
    {
     "name": "stdout",
     "output_type": "stream",
     "text": [
      "[-4.   4.5]\n"
     ]
    }
   ],
   "source": [
    "A = np.array([[1,2],[3,4]])\n",
    "B = np.array([5,6])\n",
    "result = np.linalg.solve(A,B)\n",
    "print(result)"
   ]
  },
  {
   "cell_type": "markdown",
   "metadata": {},
   "source": []
  },
  {
   "cell_type": "markdown",
   "metadata": {},
   "source": [
    "Distributions"
   ]
  },
  {
   "cell_type": "code",
   "execution_count": 156,
   "metadata": {},
   "outputs": [
    {
     "name": "stdout",
     "output_type": "stream",
     "text": [
      "[[ 8 10  2]\n",
      " [ 1 10  1]]\n"
     ]
    }
   ],
   "source": [
    "random_int = np.random.randint(0,12,size=(2,3))\n",
    "print(random_int)"
   ]
  },
  {
   "cell_type": "code",
   "execution_count": 160,
   "metadata": {},
   "outputs": [
    {
     "name": "stdout",
     "output_type": "stream",
     "text": [
      "[]\n"
     ]
    }
   ],
   "source": [
    "random_int = np.random.randn(0,12,7)\n",
    "print(random_int)"
   ]
  },
  {
   "cell_type": "code",
   "execution_count": 162,
   "metadata": {},
   "outputs": [
    {
     "name": "stdout",
     "output_type": "stream",
     "text": [
      "the normal distribution is :\n",
      " [ 41.76134567  -1.1213798    5.76950923  -1.47906911  -9.81180122\n",
      " -19.97635857 -19.25987224 -17.20659303  16.92246728 -17.24581222]\n"
     ]
    }
   ],
   "source": [
    "normal_dis = np.random.normal(loc=2,scale=15,size=10)\n",
    "print(\"the normal distribution is :\\n\",normal_dis)"
   ]
  },
  {
   "cell_type": "code",
   "execution_count": 220,
   "metadata": {},
   "outputs": [
    {
     "name": "stdout",
     "output_type": "stream",
     "text": [
      "None\n"
     ]
    }
   ],
   "source": [
    "A = np.array([1,2,3,4])\n",
    "shuffled_array = np.random.shuffle(A)\n",
    "print(shuffled_array)"
   ]
  },
  {
   "cell_type": "code",
   "execution_count": 218,
   "metadata": {},
   "outputs": [
    {
     "name": "stdout",
     "output_type": "stream",
     "text": [
      "[2 1 3 4]\n"
     ]
    }
   ],
   "source": [
    "A = np.array([1,2,3,4])\n",
    "permutted_array = np.random.permutation(A)\n",
    "print(permutted_array)"
   ]
  },
  {
   "cell_type": "code",
   "execution_count": 222,
   "metadata": {},
   "outputs": [
    {
     "name": "stdout",
     "output_type": "stream",
     "text": [
      "6\n"
     ]
    }
   ],
   "source": [
    "arr = np.random.choice([3,4,5,6,7,8])\n",
    "print(arr)"
   ]
  },
  {
   "cell_type": "code",
   "execution_count": 224,
   "metadata": {},
   "outputs": [
    {
     "name": "stdout",
     "output_type": "stream",
     "text": [
      "[[6 7]\n",
      " [3 5]\n",
      " [7 4]]\n"
     ]
    }
   ],
   "source": [
    "arr = np.random.choice([3,4,5,6,7,8],size=(3,2))\n",
    "print(arr)"
   ]
  },
  {
   "cell_type": "code",
   "execution_count": null,
   "metadata": {},
   "outputs": [],
   "source": [
    "arr = np.array([3,4,5,6,7,8])\n",
    "sample = np.random.choice(arr,)"
   ]
  },
  {
   "cell_type": "code",
   "execution_count": 37,
   "metadata": {},
   "outputs": [
    {
     "name": "stdout",
     "output_type": "stream",
     "text": [
      "[[7 8]\n",
      " [3 5]]\n"
     ]
    }
   ],
   "source": [
    "arr = np.random.choice([3,4,5,6,7,8],p = [0.2,0.1,0.2,0.1,0.3,0.1],size=(2,2))\n",
    "print(arr)\n"
   ]
  },
  {
   "cell_type": "code",
   "execution_count": null,
   "metadata": {},
   "outputs": [],
   "source": []
  }
 ],
 "metadata": {
  "kernelspec": {
   "display_name": ".venv",
   "language": "python",
   "name": "python3"
  },
  "language_info": {
   "codemirror_mode": {
    "name": "ipython",
    "version": 3
   },
   "file_extension": ".py",
   "mimetype": "text/x-python",
   "name": "python",
   "nbconvert_exporter": "python",
   "pygments_lexer": "ipython3",
   "version": "3.13.2"
  }
 },
 "nbformat": 4,
 "nbformat_minor": 2
}
