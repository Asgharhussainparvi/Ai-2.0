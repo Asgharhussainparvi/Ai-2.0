{
 "cells": [
  {
   "cell_type": "markdown",
   "id": "323826f5",
   "metadata": {},
   "source": [
    "# **Python If ... Else**\n"
   ]
  },
  {
   "cell_type": "markdown",
   "id": "ed51c014",
   "metadata": {},
   "source": [
    "**Python Conditions and If statements**\n",
    "\n",
    "\n",
    "An **If-Else statement**  allows us to make decisions in our program based on conditions. It's used to control the flow of execution by evaluating whether a condition is True or False.\n",
    "\n",
    "- **If**: Executes a block of code if the condition is True.\n",
    "- **Else**: Executes a block of code if the condition is False.\n",
    "\n",
    "An **\"if statement\"** is written by using the `if` keyword."
   ]
  },
  {
   "cell_type": "code",
   "execution_count": 1,
   "id": "a65e81e6",
   "metadata": {},
   "outputs": [
    {
     "name": "stdout",
     "output_type": "stream",
     "text": [
      "b is greater than a\n"
     ]
    }
   ],
   "source": [
    "a = 33\n",
    "b = 200\n",
    "if b > a:\n",
    "    print(\"b is greater than a\")"
   ]
  },
  {
   "cell_type": "markdown",
   "id": "543cf37e",
   "metadata": {},
   "source": [
    "## Indentation:\n",
    "\n",
    "Python relies on indentation (whitespace at the beginning of a line) to define scope in the code. Other programming languages often use curly-brackets for this purpose"
   ]
  },
  {
   "cell_type": "code",
   "execution_count": 1,
   "id": "cd7130ce",
   "metadata": {},
   "outputs": [
    {
     "name": "stdout",
     "output_type": "stream",
     "text": [
      "b is greater than a\n"
     ]
    }
   ],
   "source": [
    "# If statement, without indentation (will raise an error):\n",
    "a = 33\n",
    "b = 200\n",
    "if b > a:\n",
    "  print(\"b is greater than a\")"
   ]
  },
  {
   "cell_type": "code",
   "execution_count": 13,
   "id": "2552d19d",
   "metadata": {},
   "outputs": [
    {
     "name": "stdout",
     "output_type": "stream",
     "text": [
      "7 is greater than 5 \n",
      "So,the greater number is: 7\n"
     ]
    }
   ],
   "source": [
    "# take two numbers as input from user and compare them. print the greater number\n",
    "a= input(\"Enter your first number here :\")\n",
    "b= input(\"Enter your second number here :\")\n",
    "if a > b:\n",
    "    print(f\"{a} is greater than {b} \\nSo,the greater number is: {a}\") \n",
    "else:\n",
    "    print(f\"{b} is greater than {a} \\nSo,the greater number is: {b}\")\n",
    "    "
   ]
  },
  {
   "cell_type": "markdown",
   "id": "c87d4580",
   "metadata": {},
   "source": [
    "## Elif:\n",
    "\n",
    "The elif keyword is Python's way of saying \"if the previous conditions were not true, then try this condition\"."
   ]
  },
  {
   "cell_type": "markdown",
   "id": "dfff20d6",
   "metadata": {},
   "source": [
    "## Else:\n",
    "\n",
    "The else keyword catches anything which isn't caught by the preceding conditions."
   ]
  },
  {
   "cell_type": "code",
   "execution_count": 24,
   "id": "30f1fdf6",
   "metadata": {},
   "outputs": [
    {
     "name": "stdout",
     "output_type": "stream",
     "text": [
      "The -75 is Negative\n"
     ]
    }
   ],
   "source": [
    "#Write a Python program using if, elif, and else statements to check if a number is positive, negative, or zero.\n",
    "num = int(input(\"Enter the number here: \"))\n",
    "# Check if the number is positive, negative, or zero\n",
    "if num > 0 :  print(f\"The {num} is Positive\")\n",
    " \n",
    "elif num < 0 : print(f\"The {num} is Negative\")\n",
    "  \n",
    "else:  print(f\"The number is Zero\")\n",
    " "
   ]
  },
  {
   "cell_type": "markdown",
   "id": "7d8ccb3a",
   "metadata": {},
   "source": [
    "## Short Hand If:\n",
    "\n",
    "If you have only one statement to execute, you can put it on the same line as the if statement."
   ]
  },
  {
   "cell_type": "code",
   "execution_count": 21,
   "id": "44d00d47",
   "metadata": {},
   "outputs": [],
   "source": [
    "if a > b: print(\"a is greater than b\")\n"
   ]
  },
  {
   "cell_type": "markdown",
   "id": "b5052d7c",
   "metadata": {},
   "source": [
    "## Short Hand If ... Else:\n",
    "\n",
    "If you have only one statement to execute, one for if, and one for else, you can put it all on the same line:"
   ]
  },
  {
   "cell_type": "code",
   "execution_count": 28,
   "id": "41d331a5",
   "metadata": {},
   "outputs": [
    {
     "name": "stdout",
     "output_type": "stream",
     "text": [
      "B\n"
     ]
    }
   ],
   "source": [
    "a = 2\n",
    "b = 330\n",
    "print(\"A\") if a > b else print(\"B\") "
   ]
  },
  {
   "cell_type": "code",
   "execution_count": null,
   "id": "b317c239",
   "metadata": {},
   "outputs": [],
   "source": [
    "\"\"\"\n",
    " Practice Time! \n",
    "Create a program that:\n",
    "1. Creates a variable 'price' with value 2000\n",
    "2. If price is greater than 1500, print \"This item is expensive\"\n",
    "Try changing the price to see different results!\n",
    "\"\"\""
   ]
  },
  {
   "cell_type": "code",
   "execution_count": 30,
   "id": "7664d016",
   "metadata": {},
   "outputs": [
    {
     "name": "stdout",
     "output_type": "stream",
     "text": [
      "This item is expensive\n"
     ]
    }
   ],
   "source": [
    "price = int(input(\"Enter the price of item here: \"))\n",
    "print(\"This item is expensive\") if price > 1500 else print(\"The item is cheaper\")\n",
    "\n",
    "    "
   ]
  },
  {
   "cell_type": "markdown",
   "id": "6c63e015",
   "metadata": {},
   "source": [
    "## Nested If\n",
    "You can have if statements inside if statements, this is called nested if statements."
   ]
  },
  {
   "cell_type": "code",
   "execution_count": 33,
   "id": "cca2eb4f",
   "metadata": {},
   "outputs": [
    {
     "name": "stdout",
     "output_type": "stream",
     "text": [
      "Above ten,\n",
      "but not above 20.\n"
     ]
    }
   ],
   "source": [
    "x = int(input(\"Enter the number here: \"))\n",
    "\n",
    "if x > 10:\n",
    "    print(\"Above ten,\")\n",
    "    if x > 20:\n",
    "        print(\"and also above 20!\")\n",
    "    else:\n",
    "        print(\"but not above 20.\")\n"
   ]
  },
  {
   "cell_type": "markdown",
   "id": "22eebaa9",
   "metadata": {},
   "source": [
    "#### Practice Question\n",
    "\n",
    "- Input three numbers from user. Store them in individual variables\n",
    "- Use nested if-else to find the greatest amongst all these numebrs."
   ]
  },
  {
   "cell_type": "code",
   "execution_count": 40,
   "id": "1acfc5ba",
   "metadata": {},
   "outputs": [
    {
     "name": "stdout",
     "output_type": "stream",
     "text": [
      "5 4 5\n",
      "5 is greater of all\n"
     ]
    }
   ],
   "source": [
    "num1 = int(input(\"Enter the first number here: \"))\n",
    "num2 = int(input(\"Enter the second number here: \"))\n",
    "num3 = int(input(\"Enter the third number here: \"))\n",
    "print(num1,num2,num3)\n",
    "if num1 > num2 :\n",
    "    if num1 > num3:\n",
    "        print(f\"{num1} is greater of all\")\n",
    "    else:\n",
    "        print(f\"{num3} is greater of all\")\n",
    "elif num2 > num1 :\n",
    "    if num2 > num3:\n",
    "        print(f\"{num2} is greater of all\")\n",
    "    else:\n",
    "        print(f\"{num3} is greater of all\")\n"
   ]
  },
  {
   "cell_type": "markdown",
   "id": "6b377ecf",
   "metadata": {},
   "source": []
  },
  {
   "cell_type": "markdown",
   "id": "a00f8ff8",
   "metadata": {},
   "source": [
    "## The pass Statement\n",
    "**if** statements cannot be empty, but if you for some reason have an **if** statement with no content, put in the **pass** statement to avoid getting an error."
   ]
  },
  {
   "cell_type": "code",
   "execution_count": 41,
   "id": "aa373d7d",
   "metadata": {},
   "outputs": [],
   "source": [
    "a = 33\n",
    "b = 200\n",
    "\n",
    "if b > a:\n",
    "    pass"
   ]
  },
  {
   "cell_type": "code",
   "execution_count": 44,
   "id": "b5d35d70",
   "metadata": {},
   "outputs": [
    {
     "name": "stdout",
     "output_type": "stream",
     "text": [
      "Code Run\n"
     ]
    }
   ],
   "source": [
    "name_1 = \"asghar\"\n",
    "name_2 = \"sohail\"\n",
    "if name_1 == name_2:\n",
    "    pass\n",
    "print(\"Code Run\")\n"
   ]
  },
  {
   "cell_type": "markdown",
   "id": "390eff6f",
   "metadata": {},
   "source": [
    "# **Loops**\n",
    "\n",
    "A **loop** is a programming construct that repeatedly executes a block of code as long as a specified condition is true. It automates repetitive tasks, reducing the need for writing redundant code.\n",
    "\n",
    "- **Automating Repetitive Tasks:** Execute repetitive operations efficiently.\n",
    "- **Iterating Over Data:** Traverse through lists, arrays, or other data structures.\n",
    "- **Processing Large Data Sets:** Handle and analyze large amounts of data.\n",
    "- **Input Validation:** Ensure valid input by repeating prompts until conditions are met.\n",
    "- **Generating Sequences:** Create and iterate through ranges or patterns of numbers."
   ]
  },
  {
   "cell_type": "markdown",
   "id": "85b60501",
   "metadata": {},
   "source": [
    "## **Python For Loops**"
   ]
  },
  {
   "cell_type": "markdown",
   "id": "7c37f984",
   "metadata": {},
   "source": [
    "A **for loop** is used for iterating over a sequence (that is either a list, a tuple, a dictionary, a set, or a string).\n",
    "\n",
    "This is less like the `for` keyword in other programming languages and works more like an iterator method as found in other object-oriented programming languages.\n"
   ]
  },
  {
   "cell_type": "markdown",
   "id": "bdd06fbb",
   "metadata": {},
   "source": [
    "#### **For loop with lists**"
   ]
  },
  {
   "cell_type": "code",
   "execution_count": 17,
   "id": "f78b13ff",
   "metadata": {},
   "outputs": [
    {
     "name": "stdout",
     "output_type": "stream",
     "text": [
      "apple\n",
      "banana\n",
      "cherry\n"
     ]
    }
   ],
   "source": [
    "fruits = [\"apple\", \"banana\", \"cherry\"]\n",
    "for x in fruits:\n",
    "    print(x)\n",
    "    "
   ]
  },
  {
   "cell_type": "code",
   "execution_count": 52,
   "id": "0cf4eee5",
   "metadata": {},
   "outputs": [
    {
     "name": "stdout",
     "output_type": "stream",
     "text": [
      "2\n",
      "4\n",
      "6\n",
      "8\n",
      "10\n"
     ]
    }
   ],
   "source": [
    "list = [1,2,3,4,5,6,7,8,9,10]\n",
    "# print only the even numbers from that list!\n",
    "for a in list:\n",
    "    if a%2 ==0:\n",
    "      print(a)"
   ]
  },
  {
   "cell_type": "code",
   "execution_count": 53,
   "id": "dcf14456",
   "metadata": {},
   "outputs": [
    {
     "name": "stdout",
     "output_type": "stream",
     "text": [
      "The even list : [[10]]\n",
      "The odd list : []\n"
     ]
    }
   ],
   "source": [
    "list = [1,2,3,4,5,6,7,8,9,10]\n",
    "# print only the even numbers from that list!\n",
    "for a in list: \n",
    "    even_list = []\n",
    "    odd_list = []\n",
    "    if a%2 == 0:\n",
    "        even_list.append([a])\n",
    "        \n",
    "    else:\n",
    "        odd_list.append([a])\n",
    "      \n",
    "print(f\"The even list : {even_list}\")\n",
    "print(f\"The odd list : {odd_list}\")"
   ]
  },
  {
   "cell_type": "code",
   "execution_count": 60,
   "id": "9a6f2f07",
   "metadata": {},
   "outputs": [
    {
     "name": "stdout",
     "output_type": "stream",
     "text": [
      "1\n",
      "3\n",
      "6\n",
      "10\n",
      "15\n",
      "21\n",
      "28\n",
      "36\n",
      "45\n",
      "55\n"
     ]
    }
   ],
   "source": [
    "# Use for loop to print the sum of all numbers\n",
    "list1 = [1,2,3,4,5,6,7,8,9,10]\n",
    "list_sum = 0\n",
    "for i in list1:\n",
    "   list_sum += i\n",
    "   print(list_sum)\n",
    "\n"
   ]
  },
  {
   "cell_type": "markdown",
   "id": "38ee1073",
   "metadata": {},
   "source": [
    "#### **Iterating through dictionaries**\n",
    "\n",
    " - Iterating through keys"
   ]
  },
  {
   "cell_type": "code",
   "execution_count": 66,
   "id": "7fd2a1e2",
   "metadata": {},
   "outputs": [
    {
     "name": "stdout",
     "output_type": "stream",
     "text": [
      "name\n",
      "City\n",
      "year\n"
     ]
    }
   ],
   "source": [
    "d = {\n",
    "  \"name\": \"Asad\",\n",
    "  \"City\": \"Lodhran\",\n",
    "  \"year\": 2003\n",
    "}\n",
    "\n",
    "for key in d:\n",
    "    print(key)"
   ]
  },
  {
   "cell_type": "markdown",
   "id": "3467dbc4",
   "metadata": {},
   "source": [
    "- Iteraring through values"
   ]
  },
  {
   "cell_type": "code",
   "execution_count": 73,
   "id": "12e5d912",
   "metadata": {},
   "outputs": [
    {
     "name": "stdout",
     "output_type": "stream",
     "text": [
      "Asad\n",
      "Lodhran\n",
      "2003\n"
     ]
    }
   ],
   "source": [
    "# built logic for printing values in dictionary\n",
    "values = d.values()\n",
    "for i in values:\n",
    "    print(i)\n"
   ]
  },
  {
   "cell_type": "markdown",
   "id": "472e6168",
   "metadata": {},
   "source": [
    "- Iterating through key-value pairs:"
   ]
  },
  {
   "cell_type": "code",
   "execution_count": 72,
   "id": "8e3c74d4",
   "metadata": {},
   "outputs": [
    {
     "name": "stdout",
     "output_type": "stream",
     "text": [
      "Key: name, Value: Asad\n",
      "Key: City, Value: Lodhran\n",
      "Key: year, Value: 2003\n"
     ]
    }
   ],
   "source": [
    "for key, value in d.items():\n",
    "    print(f\"Key: {key}, Value: {value}\")"
   ]
  },
  {
   "cell_type": "code",
   "execution_count": 1,
   "id": "4ae5f85f",
   "metadata": {},
   "outputs": [
    {
     "name": "stdout",
     "output_type": "stream",
     "text": [
      "Student Alice has a good score.\n",
      "Student Bob needs improvement.\n",
      "Student Charlie has an excellent score!\n",
      "Student Diana has a good score.\n"
     ]
    }
   ],
   "source": [
    "# Write a Python program to iterate through the following dictionary and print a message for each item:\n",
    "students_scores = {\n",
    "    \"Alice\": 85,\n",
    "    \"Bob\": 78,\n",
    "    \"Charlie\": 92,\n",
    "    \"Diana\": 88\n",
    "}\n",
    "\n",
    "#If the score is 90 or above, print: \"Student <name> has an excellent score!\"\n",
    "#If the score is between 80 and 89, print: \"Student <name> has a good score.\"\n",
    "#Otherwise, print: \"Student <name> needs improvement.\"\n",
    "\n",
    "for student, score in students_scores.items():\n",
    "    if score >= 90:\n",
    "        print(f\"Student {student} has an excellent score!\")\n",
    "    elif 80 <= score <= 89:\n",
    "        print(f\"Student {student} has a good score.\")\n",
    "    else:\n",
    "        print(f\"Student {student} needs improvement.\")"
   ]
  },
  {
   "cell_type": "markdown",
   "id": "12800a80",
   "metadata": {},
   "source": [
    "#### **For Loop with a Tuple**"
   ]
  },
  {
   "cell_type": "code",
   "execution_count": 80,
   "id": "cdfe2cf5",
   "metadata": {},
   "outputs": [
    {
     "name": "stdout",
     "output_type": "stream",
     "text": [
      "10\n",
      "20\n",
      "30\n",
      "40\n"
     ]
    }
   ],
   "source": [
    "my_tuple = (10, 20, 30, 40)\n",
    "for item in my_tuple:\n",
    "    print(item)"
   ]
  },
  {
   "cell_type": "markdown",
   "id": "8324a12e",
   "metadata": {},
   "source": [
    "#### **For Loop with sets**"
   ]
  },
  {
   "cell_type": "code",
   "execution_count": 81,
   "id": "1fef8f95",
   "metadata": {},
   "outputs": [
    {
     "name": "stdout",
     "output_type": "stream",
     "text": [
      "6\n",
      "7\n",
      "8\n",
      "9\n"
     ]
    }
   ],
   "source": [
    "# Write a Python program that takes a set of numbers and performs the following task using a for loop:\n",
    "my_set = {1, 2, 3, 4, 5, 6, 7, 8, 9}\n",
    "# Print the numbers in the set that are greater than 5\n",
    "for i in my_set:\n",
    "    if i > 5:\n",
    "        print(i)"
   ]
  },
  {
   "cell_type": "markdown",
   "id": "9731de12",
   "metadata": {},
   "source": [
    "#### **Looping Through a String**"
   ]
  },
  {
   "cell_type": "code",
   "execution_count": 18,
   "id": "679c3bbe",
   "metadata": {},
   "outputs": [
    {
     "name": "stdout",
     "output_type": "stream",
     "text": [
      "b\n",
      "a\n",
      "n\n",
      "a\n",
      "n\n",
      "a\n"
     ]
    }
   ],
   "source": [
    "for x in \"banana\":\n",
    "    print(x)"
   ]
  },
  {
   "cell_type": "code",
   "execution_count": null,
   "id": "ceeaafe6",
   "metadata": {},
   "outputs": [],
   "source": [
    "#Write a Python program that iterates through a string and checks if each character is a vowel. \n",
    "# The program should print a message for each vowel found.\n",
    "my_string = \"hello\"\n",
    "vowels = \"aeiou\"\n",
    "#example output\n",
    "#e is a vowel.\n",
    "#o is a vowel.\n",
    "\n"
   ]
  },
  {
   "cell_type": "markdown",
   "id": "c0d46945",
   "metadata": {},
   "source": [
    "#### **The break Statement**\n",
    "\n",
    "With the break statement we can stop the loop before it has looped through all the items:"
   ]
  },
  {
   "cell_type": "code",
   "execution_count": 83,
   "id": "80d71a81",
   "metadata": {},
   "outputs": [
    {
     "name": "stdout",
     "output_type": "stream",
     "text": [
      "apple\n",
      "banana\n"
     ]
    }
   ],
   "source": [
    "fruits = [\"apple\", \"banana\", \"cherry\"]\n",
    "for x in fruits:\n",
    "    print(x)\n",
    "    if x == \"banana\":\n",
    "        break"
   ]
  },
  {
   "cell_type": "code",
   "execution_count": 89,
   "id": "2cd790b0",
   "metadata": {},
   "outputs": [
    {
     "name": "stdout",
     "output_type": "stream",
     "text": [
      "apple\n",
      "banana\n",
      "cherry\n"
     ]
    }
   ],
   "source": [
    "'''Write a Python program that iterates through a list of fruits and prints each fruit until it encounters the fruit \"banana.\" \n",
    "Once \"banana\" is found, the loop should stop and no further fruits should be printed.'''\n",
    "\n",
    "fruits = [\"apple\", \"banana\", \"cherry\"]\n",
    "for x in fruits:\n",
    "    if x == \"banana\":\n",
    "        pass\n",
    "    print(x)"
   ]
  },
  {
   "cell_type": "markdown",
   "id": "90fd543b",
   "metadata": {},
   "source": [
    "**The continue Statement**\n",
    "\n",
    "With the continue statement we can stop the current iteration of the loop, and continue with the next:"
   ]
  },
  {
   "cell_type": "code",
   "execution_count": 88,
   "id": "ac6d5ac5",
   "metadata": {},
   "outputs": [
    {
     "name": "stdout",
     "output_type": "stream",
     "text": [
      "apple\n",
      "cherry\n"
     ]
    }
   ],
   "source": [
    "fruits = [\"apple\", \"banana\", \"cherry\"]\n",
    "for x in fruits:\n",
    "    if x == \"banana\":\n",
    "        continue\n",
    "    print(x)"
   ]
  },
  {
   "cell_type": "code",
   "execution_count": null,
   "id": "9a545a82",
   "metadata": {},
   "outputs": [],
   "source": []
  },
  {
   "cell_type": "markdown",
   "id": "65e165e9",
   "metadata": {},
   "source": [
    "## The range() Function\n",
    "To loop through a set of code a specified number of times, we can use the **range()** function,\n",
    "The **range()** function returns a sequence of numbers, starting from 0 by default, and increments by 1 (by default), and ends at a specified number."
   ]
  },
  {
   "cell_type": "code",
   "execution_count": 84,
   "id": "9703e0a4",
   "metadata": {},
   "outputs": [
    {
     "name": "stdout",
     "output_type": "stream",
     "text": [
      "0\n",
      "1\n",
      "2\n",
      "3\n",
      "4\n",
      "5\n"
     ]
    }
   ],
   "source": [
    "for x in range(6):\n",
    "    print(x)"
   ]
  },
  {
   "cell_type": "markdown",
   "id": "46657027",
   "metadata": {},
   "source": [
    "The **range()** function defaults to 0 as a starting value, however it is possible to specify the starting value by adding a parameter"
   ]
  },
  {
   "cell_type": "code",
   "execution_count": 43,
   "id": "5af9f778",
   "metadata": {},
   "outputs": [
    {
     "name": "stdout",
     "output_type": "stream",
     "text": [
      "2\n",
      "3\n",
      "4\n",
      "5\n"
     ]
    }
   ],
   "source": [
    "for x in range(2, 6):\n",
    "    print(x)"
   ]
  },
  {
   "cell_type": "markdown",
   "id": "bde2ef7b",
   "metadata": {},
   "source": [
    "The **range()** function defaults to increment the sequence by 1, however it is possible to specify the increment value by adding a third parameter:: range(2, 30, 3)"
   ]
  },
  {
   "cell_type": "code",
   "execution_count": 67,
   "id": "3f81ec31",
   "metadata": {},
   "outputs": [
    {
     "name": "stdout",
     "output_type": "stream",
     "text": [
      "2\n",
      "5\n",
      "8\n",
      "11\n",
      "14\n",
      "17\n",
      "20\n",
      "23\n",
      "26\n",
      "29\n"
     ]
    }
   ],
   "source": [
    "for x in range(2, 30, 3):\n",
    "    print(x)"
   ]
  },
  {
   "cell_type": "code",
   "execution_count": 97,
   "id": "29498318",
   "metadata": {},
   "outputs": [
    {
     "name": "stdout",
     "output_type": "stream",
     "text": [
      "0\n",
      "1\n",
      "2\n",
      "3\n",
      "4\n",
      "5\n",
      "6\n",
      "7\n",
      "8\n",
      "9\n"
     ]
    }
   ],
   "source": [
    "for i in range(0,10,1):\n",
    "    print(i)"
   ]
  },
  {
   "cell_type": "markdown",
   "id": "d5bd2153",
   "metadata": {},
   "source": [
    "**Else in For Loop**\n",
    "\n",
    "The else keyword in a for loop specifies a block of code to be executed when the loop is finished:"
   ]
  },
  {
   "cell_type": "code",
   "execution_count": 99,
   "id": "1d11636b",
   "metadata": {},
   "outputs": [
    {
     "name": "stdout",
     "output_type": "stream",
     "text": [
      "0\n",
      "1\n",
      "2\n",
      "3\n",
      "4\n",
      "5\n",
      "Finally finished!\n"
     ]
    }
   ],
   "source": [
    "for x in range(6):\n",
    "    print(x)\n",
    "else:\n",
    "    print(\"Finally finished!\")"
   ]
  },
  {
   "cell_type": "markdown",
   "id": "faedd0ac",
   "metadata": {},
   "source": [
    "The **else** block will NOT be executed **if** the loop **is** stopped by a **break** statement."
   ]
  },
  {
   "cell_type": "code",
   "execution_count": 102,
   "id": "5e5a33ed",
   "metadata": {},
   "outputs": [
    {
     "name": "stdout",
     "output_type": "stream",
     "text": [
      "0\n",
      "1\n",
      "2\n"
     ]
    }
   ],
   "source": [
    "for x in range(6):\n",
    "    \n",
    "    if x == 3: break \n",
    "    print(x)\n",
    "    \n",
    "else:\n",
    "    print(\"Finally finished!\")"
   ]
  },
  {
   "cell_type": "markdown",
   "id": "74f7254a",
   "metadata": {},
   "source": [
    "#### Practice Question\n",
    "\n",
    "- Take a number as input from the user.\n",
    "- Calculate sum of all numbers until that number using range"
   ]
  },
  {
   "cell_type": "code",
   "execution_count": 94,
   "id": "c02debdd",
   "metadata": {},
   "outputs": [
    {
     "name": "stdout",
     "output_type": "stream",
     "text": [
      "0\n",
      "1\n",
      "2\n",
      "3\n",
      "4\n",
      "5\n"
     ]
    }
   ],
   "source": [
    "num = int(input(\"Enter the number here: \"))\n",
    "for num in range(num):\n",
    "    print(num)\n",
    "    num+=1\n",
    "    "
   ]
  },
  {
   "cell_type": "markdown",
   "id": "7c81b761",
   "metadata": {},
   "source": [
    "**Nested Loops**\n",
    "\n",
    "A nested loop is a loop inside a loop.\n",
    "The **\"inner loop\"** will be executed one time for each iteration of the **\"outer loop\"**"
   ]
  },
  {
   "cell_type": "code",
   "execution_count": 54,
   "id": "adc5e8ef",
   "metadata": {},
   "outputs": [
    {
     "name": "stdout",
     "output_type": "stream",
     "text": [
      "red apple\n",
      "red banana\n",
      "red cherry\n",
      "big apple\n",
      "big banana\n",
      "big cherry\n",
      "tasty apple\n",
      "tasty banana\n",
      "tasty cherry\n"
     ]
    }
   ],
   "source": [
    "adj = [\"red\", \"big\", \"tasty\"]\n",
    "fruits = [\"apple\", \"banana\", \"cherry\"]\n",
    "\n",
    "for x in adj:\n",
    "    for y in fruits:\n",
    "        print(x, y)"
   ]
  },
  {
   "cell_type": "markdown",
   "id": "85700eb3",
   "metadata": {},
   "source": [
    "**The pass Statement**\n",
    "\n",
    "for loops cannot be empty, but if you for some reason have a for loop with no content, put in the pass statement to avoid getting an error."
   ]
  },
  {
   "cell_type": "code",
   "execution_count": 103,
   "id": "e662bfd1",
   "metadata": {},
   "outputs": [],
   "source": [
    "for x in [0, 1, 2]:\n",
    "    pass"
   ]
  },
  {
   "cell_type": "markdown",
   "id": "cc8fa53b",
   "metadata": {},
   "source": [
    "\n"
   ]
  },
  {
   "cell_type": "code",
   "execution_count": 2,
   "id": "e6374865",
   "metadata": {},
   "outputs": [
    {
     "name": "stdout",
     "output_type": "stream",
     "text": [
      "Student: Alice\n",
      "Score: 85\n",
      "Score: 92\n",
      "Score: 78\n",
      "\n",
      "Student: Bob\n",
      "Score: 90\n",
      "Score: 88\n",
      "Score: 76\n",
      "\n",
      "Student: Charlie\n",
      "Score: 80\n",
      "Score: 95\n",
      "Score: 89\n",
      "\n"
     ]
    }
   ],
   "source": [
    "#You have a dictionary that contains students' names as keys, and their respective scores in different subjects as lists (values).\n",
    "student_scores = {\n",
    "    \"Alice\": [85, 92, 78],\n",
    "    \"Bob\": [90, 88, 76],\n",
    "    \"Charlie\": [80, 95, 89]\n",
    "}\n",
    "#Write a Python program using a nested for loop to:\n",
    "#Iterate through the dictionary.\n",
    "#Print the student's name and their individual scores on separate lines.\n",
    "#The program should output the name of each student followed by their individual scores, each on a new line.\n",
    "\n",
    "\n",
    "# Start of a loop to iterate through the dictionary items (student names and their scores)\n",
    "\n",
    "    # Print the student's name and a message indicating their scores\n",
    "    \n",
    "    # Nested loop to iterate through each score in the current student's list of scores\n",
    "    \n",
    "        # Print each individual score on a new line\n",
    "    \n",
    "   # Print a blank line to separate each student's scores for better readability\n",
    "\n",
    "for student, scores in student_scores.items():\n",
    "    print(f\"Student: {student}\")  \n",
    "    \n",
    "    for score in scores:\n",
    "        print(f\"Score: {score}\")  \n",
    "    \n",
    "    print()"
   ]
  },
  {
   "cell_type": "code",
   "execution_count": null,
   "id": "6e5c89c0",
   "metadata": {},
   "outputs": [],
   "source": []
  }
 ],
 "metadata": {
  "kernelspec": {
   "display_name": "Python 3",
   "language": "python",
   "name": "python3"
  },
  "language_info": {
   "codemirror_mode": {
    "name": "ipython",
    "version": 3
   },
   "file_extension": ".py",
   "mimetype": "text/x-python",
   "name": "python",
   "nbconvert_exporter": "python",
   "pygments_lexer": "ipython3",
   "version": "3.13.0"
  }
 },
 "nbformat": 4,
 "nbformat_minor": 5
}
