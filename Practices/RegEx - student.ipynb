{
 "cells": [
  {
   "cell_type": "markdown",
   "id": "dfa5197f",
   "metadata": {},
   "source": [
    "# Regular Expressions or RegEx"
   ]
  },
  {
   "cell_type": "markdown",
   "id": "5cf3fb4b",
   "metadata": {},
   "source": [
    "## Raw Strings"
   ]
  },
  {
   "cell_type": "markdown",
   "id": "721d07b8",
   "metadata": {},
   "source": [
    "In Python, the r prefix before a string is used to create a raw string. A raw string is a string that treats backslashes (\\) as literal characters and doesn't interpret them as escape characters. This can be particularly useful when working with file paths, regular expressions, or any other situation where you want to ensure that backslashes are treated as plain text and not as escape characters."
   ]
  },
  {
   "cell_type": "code",
   "execution_count": 22,
   "id": "1f55baeb",
   "metadata": {},
   "outputs": [
    {
     "name": "stdout",
     "output_type": "stream",
     "text": [
      "C:\\Documents\n",
      "ew_folder\file.txt\n"
     ]
    },
    {
     "name": "stderr",
     "output_type": "stream",
     "text": [
      "<>:2: SyntaxWarning: invalid escape sequence '\\D'\n",
      "<>:2: SyntaxWarning: invalid escape sequence '\\D'\n",
      "C:\\Users\\1212a\\AppData\\Local\\Temp\\ipykernel_2820\\3532132410.py:2: SyntaxWarning: invalid escape sequence '\\D'\n",
      "  normal_string = \"C:\\Documents\\new_folder\\file.txt\"\n"
     ]
    }
   ],
   "source": [
    "# Escape sequence \\f is \"form feed\" and \\n is \"new line\"\n",
    "normal_string = \"C:\\Documents\\new_folder\\file.txt\"\n",
    "print(normal_string)"
   ]
  },
  {
   "cell_type": "code",
   "execution_count": 24,
   "id": "93421dc2",
   "metadata": {},
   "outputs": [
    {
     "name": "stdout",
     "output_type": "stream",
     "text": [
      "C:\\Documents\\new_folder\\file.txt\n"
     ]
    }
   ],
   "source": [
    "# Raw string\n",
    "raw_string = r\"C:\\Documents\\new_folder\\file.txt,\"\n",
    "print(raw_string)"
   ]
  },
  {
   "cell_type": "markdown",
   "id": "1f5c2038",
   "metadata": {},
   "source": [
    "## RegEx\n",
    "The re library in Python is a built-in module that provides support for working with regular expressions (regex). Regular expressions are powerful tools for pattern matching and text manipulation. The re module allows you to define and apply regular expressions to search for, match, and manipulate strings based on specific patterns."
   ]
  },
  {
   "cell_type": "markdown",
   "id": "0c3e1f65",
   "metadata": {},
   "source": [
    "## Pattern Matching"
   ]
  },
  {
   "cell_type": "code",
   "execution_count": 25,
   "id": "0bcb9e77",
   "metadata": {},
   "outputs": [],
   "source": [
    "# importing re module\n",
    "import re"
   ]
  },
  {
   "cell_type": "code",
   "execution_count": 26,
   "id": "a53aedac",
   "metadata": {},
   "outputs": [],
   "source": [
    "# Create a pattern to match\n",
    "pattern = \"orange\""
   ]
  },
  {
   "cell_type": "code",
   "execution_count": 29,
   "id": "5b8b7a8c",
   "metadata": {},
   "outputs": [
    {
     "name": "stdout",
     "output_type": "stream",
     "text": [
      "<re.Match object; span=(46, 52), match='orange'>\n"
     ]
    }
   ],
   "source": [
    "# find pattern in given text\n",
    "text = \"Oranges are my favorite fruit. Best Pakistani orange is found in Sargodha.\"\n",
    "match = re.search(pattern, text)\n",
    "print(match)"
   ]
  },
  {
   "cell_type": "markdown",
   "id": "f8dab1df",
   "metadata": {},
   "source": [
    "If a match is found, you can work with the match object to access information about the match. For example, to get the start and end positions of the match:"
   ]
  },
  {
   "cell_type": "code",
   "execution_count": 30,
   "id": "3566f260",
   "metadata": {},
   "outputs": [
    {
     "name": "stdout",
     "output_type": "stream",
     "text": [
      "Found 'orange' at position 46-52\n"
     ]
    }
   ],
   "source": [
    "if match:\n",
    "    start = match.start()\n",
    "    end = match.end()\n",
    "    print(f\"Found '{match.group()}' at position {start}-{end}\")\n",
    "else:\n",
    "    print(\"No match found\")"
   ]
  },
  {
   "cell_type": "markdown",
   "id": "3e6ee68b",
   "metadata": {},
   "source": [
    "### Meta Characters"
   ]
  },
  {
   "cell_type": "markdown",
   "id": "10745a32",
   "metadata": {},
   "source": [
    "Regex provides metacharacters to define more complex patterns. Some common metacharacters include:\n",
    "\n",
    "* . (dot): Matches any character except a newline.\n",
    "* \\* (asterisk): Matches zero or more occurrences of the preceding character or group.\n",
    "* \\+ (plus): Matches one or more occurrences of the preceding character or group.\n",
    "* ? (question mark): Matches zero or one occurrence of the preceding character or group.\n",
    "* | (pipe): Acts like a logical OR, allowing you to match one of several options.\n"
   ]
  },
  {
   "cell_type": "code",
   "execution_count": 31,
   "id": "ccfbf46c",
   "metadata": {},
   "outputs": [
    {
     "name": "stdout",
     "output_type": "stream",
     "text": [
      "Found:  orange\n",
      "Found:  orange\n",
      "Found:  or3nge\n"
     ]
    }
   ],
   "source": [
    "# dot character\n",
    "text = \"I like orange. Best orange is found in Sargodha. You know what is good about or3nge, it protects us from germs.\"\n",
    "pattern = \"or.nge\"\n",
    "matches = re.findall(pattern, text)\n",
    "if matches:\n",
    "    for match in matches:\n",
    "        print(\"Found: \", match)\n",
    "else:\n",
    "    print(\"No matches found!\")"
   ]
  },
  {
   "cell_type": "code",
   "execution_count": 39,
   "id": "8fc3af66",
   "metadata": {},
   "outputs": [
    {
     "name": "stdout",
     "output_type": "stream",
     "text": [
      "Found:  ac\n",
      "Found:  abbc\n",
      "Found:  abbbc\n",
      "Found:  abbbbc\n",
      "Found:  abbbbbc\n"
     ]
    }
   ],
   "source": [
    "# asterik * meta character\n",
    "text = \"ac, abbc, abbbc, abbbbc, abbbbbc, abbbdc\"\n",
    "pattern = \"ab*c\"\n",
    "matches = re.findall(pattern, text)\n",
    "if matches:\n",
    "    for match in matches:\n",
    "        print(\"Found: \", match)\n",
    "else:\n",
    "    print(\"No matches found!\")"
   ]
  },
  {
   "cell_type": "code",
   "execution_count": 40,
   "id": "991c2743",
   "metadata": {},
   "outputs": [
    {
     "name": "stdout",
     "output_type": "stream",
     "text": [
      "Found:  abbc\n",
      "Found:  abbbc\n",
      "Found:  abbbbc\n",
      "Found:  abbbbbc\n"
     ]
    }
   ],
   "source": [
    "# asterik * meta character\n",
    "text = \"ac, abbc, abbbc, abbbbc, abbbbbc, abbbdc\"\n",
    "pattern = \"ab+c\"\n",
    "matches = re.findall(pattern, text)\n",
    "if matches:\n",
    "    for match in matches:\n",
    "        print(\"Found: \", match)\n",
    "else:\n",
    "    print(\"No matches found!\")"
   ]
  },
  {
   "cell_type": "markdown",
   "id": "53ff7da8",
   "metadata": {},
   "source": [
    "Search pakistan in string and print it\n"
   ]
  },
  {
   "cell_type": "code",
   "execution_count": 46,
   "id": "deccfda0",
   "metadata": {},
   "outputs": [
    {
     "name": "stdout",
     "output_type": "stream",
     "text": [
      "<re.Match object; span=(7, 15), match='pakistan'>\n"
     ]
    }
   ],
   "source": [
    "text=\"i love pakistan\"\n",
    "word = \"pakistan\"\n",
    "match = re.search(word,text)\n",
    "print(match)"
   ]
  },
  {
   "cell_type": "code",
   "execution_count": 49,
   "id": "00de7f69",
   "metadata": {},
   "outputs": [
    {
     "name": "stdout",
     "output_type": "stream",
     "text": [
      "Found: color\n",
      "Found: colour\n"
     ]
    }
   ],
   "source": [
    "# ? meta character\n",
    "\n",
    "text = \"The color of the car is red. The colour of the house is blue.\"\n",
    "pattern = r\"colou?r\"  # This pattern matches \"color\" or \"colour\" where the \"u\" is optional.\n",
    "\n",
    "matches = re.findall(pattern, text)\n",
    "\n",
    "if matches:\n",
    "    for match in matches:\n",
    "        print(\"Found:\", match)\n",
    "else:\n",
    "    print(\"No matches found.\")\n"
   ]
  },
  {
   "cell_type": "markdown",
   "id": "3e78cc7b",
   "metadata": {},
   "source": [
    "find apple and aple in string"
   ]
  },
  {
   "cell_type": "code",
   "execution_count": 51,
   "id": "24f58145",
   "metadata": {},
   "outputs": [
    {
     "name": "stdout",
     "output_type": "stream",
     "text": [
      "Found: aple\n",
      "Found: apple\n"
     ]
    }
   ],
   "source": [
    "text=\"aple is sweet i like apple\"\n",
    "pattern = \"ap*le\"\n",
    "matches = re.findall(pattern, text)\n",
    "if matches:\n",
    "    for match in matches:\n",
    "        print(\"Found:\", match)\n",
    "else:\n",
    "    print(\"No matches found.\")\n"
   ]
  },
  {
   "cell_type": "code",
   "execution_count": 44,
   "id": "a99df8be",
   "metadata": {},
   "outputs": [
    {
     "name": "stdout",
     "output_type": "stream",
     "text": [
      "Found: cat\n",
      "Found: dog\n"
     ]
    }
   ],
   "source": [
    "# pipe meta character \n",
    "\n",
    "text = \"cat dog fish bird\"\n",
    "pattern = r\"cat|dog\"  # This pattern matches either \"cat\" or \"dog.\"\n",
    "\n",
    "matches = re.findall(pattern, text)\n",
    "\n",
    "if matches:\n",
    "    for match in matches:\n",
    "        print(\"Found:\", match)\n",
    "else:\n",
    "    print(\"No matches found.\")\n"
   ]
  },
  {
   "cell_type": "markdown",
   "id": "159f072b",
   "metadata": {},
   "source": [
    "### Character classes\n",
    "You can use square brackets [] to specify a character class, allowing you to match any character from a defined set. For example, r\"[aeiou]\" matches any lowercase vowel"
   ]
  },
  {
   "cell_type": "code",
   "execution_count": 46,
   "id": "52c66c8c",
   "metadata": {},
   "outputs": [
    {
     "name": "stdout",
     "output_type": "stream",
     "text": [
      "Found: apple\n",
      "Found: epple\n",
      "Found: ipple\n"
     ]
    }
   ],
   "source": [
    "text = \"apple banana cherry epple ipple \"\n",
    "pattern = r\"[aei]pple\"  # This pattern matches \"apple\" or \"epple\"\n",
    "\n",
    "matches = re.findall(pattern, text)\n",
    "\n",
    "if matches:\n",
    "    for match in matches:\n",
    "        print(\"Found:\", match)\n",
    "else:\n",
    "    print(\"No matches found.\")\n"
   ]
  },
  {
   "cell_type": "markdown",
   "id": "4b636130",
   "metadata": {},
   "source": [
    "### Anchors\n",
    "Anchors are used to specify the start or end of a line or string. ^ matches the start of a line, and $ matches the end."
   ]
  },
  {
   "cell_type": "code",
   "execution_count": 59,
   "id": "dc48557b",
   "metadata": {},
   "outputs": [
    {
     "name": "stdout",
     "output_type": "stream",
     "text": [
      "Found: a\n"
     ]
    }
   ],
   "source": [
    "text = \"apple banana cherry\"\n",
    "pattern = r\"^a\"  # This pattern matches \"apple\" only if it appears at the start of a line.\n",
    "\n",
    "matches = re.findall(pattern, text)\n",
    "\n",
    "if matches:\n",
    "    for match in matches:\n",
    "        print(\"Found:\", match)\n",
    "else:\n",
    "    print(\"No matches found.\")\n"
   ]
  },
  {
   "cell_type": "code",
   "execution_count": 57,
   "id": "4dbf9617",
   "metadata": {},
   "outputs": [
    {
     "name": "stdout",
     "output_type": "stream",
     "text": [
      "Found: y\n"
     ]
    }
   ],
   "source": [
    "text = \"apple banana cherry\"\n",
    "pattern = r\"y$\"  # This pattern matches \"cherry\" only if it appears at the end of a line.\n",
    "\n",
    "matches = re.findall(pattern, text)\n",
    "\n",
    "if matches:\n",
    "    for match in matches:\n",
    "        print(\"Found:\", match)\n",
    "else:\n",
    "    print(\"No matches found.\")\n"
   ]
  },
  {
   "cell_type": "markdown",
   "id": "9d76be9d",
   "metadata": {},
   "source": [
    "### Quantifiers\n",
    "Quantifiers specify the number of repetitions for a character or group. For example, r\"\\d{2,4}\" matches 2 to 4 digits."
   ]
  },
  {
   "cell_type": "code",
   "execution_count": 62,
   "id": "64fcbb4d",
   "metadata": {},
   "outputs": [
    {
     "name": "stdout",
     "output_type": "stream",
     "text": [
      "Found: 123\n",
      "Found: 456\n",
      "Found: 89\n",
      "Found: 456\n",
      "Found: 78\n",
      "Found: 123\n",
      "Found: 45\n"
     ]
    }
   ],
   "source": [
    "text = \" 1 123 4567 89 45678 12345\"\n",
    "pattern = r\"\\d{2,3}\"  # This pattern matches sequences of 2 to 4 digits.\n",
    "\n",
    "matches = re.findall(pattern, text)\n",
    "\n",
    "if matches:\n",
    "    for match in matches:\n",
    "        print(\"Found:\", match)\n",
    "else:\n",
    "    print(\"No matches found.\")\n"
   ]
  },
  {
   "cell_type": "markdown",
   "id": "87153b0c",
   "metadata": {},
   "source": [
    "### Escaping Metacharacters\n",
    "If you need to match metacharacters as literal characters, you can escape them with a backslash. For example, r\"\\*\" matches an asterisk character."
   ]
  },
  {
   "cell_type": "code",
   "execution_count": 72,
   "id": "853c8de6",
   "metadata": {},
   "outputs": [
    {
     "name": "stdout",
     "output_type": "stream",
     "text": [
      "Found: $10.99 (on sale) and (50% off)!\n"
     ]
    }
   ],
   "source": [
    "text = \"The price is $10.99 (on sale) and (50% off)!\"\n",
    "pattern = r\"\\$10\\.99 \\(on sale\\) and \\(50%\\ off\\)!\"  # This pattern matches the exact text with escaped metacharacters.\n",
    "\n",
    "matches = re.findall(pattern, text)\n",
    "\n",
    "if matches:\n",
    "    for match in matches:\n",
    "        print(\"Found:\", match)\n",
    "else:\n",
    "    print(\"No matches found.\")\n"
   ]
  },
  {
   "cell_type": "markdown",
   "id": "c94efd5c",
   "metadata": {},
   "source": [
    "### Modifier Flags\n",
    "You can use modifier flags like re.IGNORECASE to perform case-insensitive matching. "
   ]
  },
  {
   "cell_type": "code",
   "execution_count": 67,
   "id": "adfcdb95",
   "metadata": {},
   "outputs": [
    {
     "name": "stdout",
     "output_type": "stream",
     "text": [
      "Case-sensitive match: []\n",
      "Case-insensitive match: ['Quick']\n"
     ]
    }
   ],
   "source": [
    "import re\n",
    "\n",
    "text = \"The Quick Brown Fox\"\n",
    "pattern = \"quick\"  # This pattern is case-sensitive\n",
    "matches = re.findall(pattern, text)\n",
    "print(\"Case-sensitive match:\", matches)\n",
    "\n",
    "pattern = \"quick\"  # This pattern is case-insensitive\n",
    "matches = re.findall(pattern, text, re.IGNORECASE)\n",
    "print(\"Case-insensitive match:\", matches)"
   ]
  },
  {
   "cell_type": "markdown",
   "id": "84cba850",
   "metadata": {},
   "source": [
    "## String Searching "
   ]
  },
  {
   "cell_type": "markdown",
   "id": "e4cbbcad",
   "metadata": {},
   "source": [
    "Find fox ignoring Uppercase or Lowercase"
   ]
  },
  {
   "cell_type": "code",
   "execution_count": 69,
   "id": "d968d43f",
   "metadata": {},
   "outputs": [],
   "source": [
    "text=\"Fox is red fox live in forest\""
   ]
  },
  {
   "cell_type": "code",
   "execution_count": 70,
   "id": "e450d3a1",
   "metadata": {},
   "outputs": [
    {
     "data": {
      "text/plain": [
       "16"
      ]
     },
     "execution_count": 70,
     "metadata": {},
     "output_type": "execute_result"
    }
   ],
   "source": [
    "text = \"The quick brown fox jumps over the lazy dog. The dog barks, and the fox runs away.\"\n",
    "\n",
    "# Using the find() method to find the first occurrence of a substring\n",
    "index = text.find(\"fox\")\n",
    "index"
   ]
  },
  {
   "cell_type": "code",
   "execution_count": 62,
   "id": "f7beaecd",
   "metadata": {},
   "outputs": [
    {
     "data": {
      "text/plain": [
       "16"
      ]
     },
     "execution_count": 62,
     "metadata": {},
     "output_type": "execute_result"
    }
   ],
   "source": [
    "text = \"The quick brown fox jumps over the lazy dog. The dog barks, and the fox runs away.\"\n",
    "\n",
    "# Using the find() method to find the first occurrence of a substring\n",
    "index = text.index(\"fox\")\n",
    "index"
   ]
  },
  {
   "cell_type": "code",
   "execution_count": 63,
   "id": "871ad839",
   "metadata": {},
   "outputs": [
    {
     "data": {
      "text/plain": [
       "2"
      ]
     },
     "execution_count": 63,
     "metadata": {},
     "output_type": "execute_result"
    }
   ],
   "source": [
    "text = \"The quick brown fox jumps over the lazy dog. The dog barks, and the fox runs away.\"\n",
    "\n",
    "# Using the find() method to find the first occurrence of a substring\n",
    "count = text.count(\"fox\")\n",
    "count"
   ]
  },
  {
   "cell_type": "code",
   "execution_count": 73,
   "id": "db356c24",
   "metadata": {},
   "outputs": [
    {
     "name": "stdout",
     "output_type": "stream",
     "text": [
      "Found 'fox' at position 16\n",
      "Found 'dog' at position 40\n",
      "'the' appears 2 times in the text\n"
     ]
    }
   ],
   "source": [
    "text = \"The quick brown fox jumps over the lazy dog. The dog barks, and the fox runs away.\"\n",
    "\n",
    "# Using the find() method to find the first occurrence of a substring\n",
    "index = text.find(\"fox\")\n",
    "if index != -1:\n",
    "    print(f\"Found 'fox' at position {index}\")\n",
    "else:\n",
    "    print(\"'fox' not found\")\n",
    "\n",
    "# Using the index() method to find the first occurrence of a substring\n",
    "try:\n",
    "    index = text.index(\"dog\")\n",
    "    print(f\"Found 'dog' at position {index}\")\n",
    "except ValueError:\n",
    "    print(\"'dog' not found\")\n",
    "\n",
    "# Using the count() method to count the number of occurrences of a substring\n",
    "count = text.count(\"the\")\n",
    "print(f\"'the' appears {count} times in the text\")\n"
   ]
  },
  {
   "cell_type": "markdown",
   "id": "6cb49cd9",
   "metadata": {},
   "source": [
    "## String Manipulation"
   ]
  },
  {
   "cell_type": "code",
   "execution_count": 65,
   "id": "59a41fe4",
   "metadata": {},
   "outputs": [
    {
     "name": "stdout",
     "output_type": "stream",
     "text": [
      "The color of the car is red.\n"
     ]
    }
   ],
   "source": [
    "text = \"The color of the car is blue.\"\n",
    "pattern = r\"blue\"\n",
    "replacement = \"red\"\n",
    "\n",
    "# Use re.sub() to replace \"blue\" with \"red\"\n",
    "new_text = re.sub(pattern, replacement, text)\n",
    "print(new_text)\n"
   ]
  },
  {
   "cell_type": "markdown",
   "id": "9ed314f2",
   "metadata": {},
   "source": [
    "replace my name with your own name"
   ]
  },
  {
   "cell_type": "code",
   "execution_count": 75,
   "id": "c1fce601",
   "metadata": {},
   "outputs": [
    {
     "name": "stdout",
     "output_type": "stream",
     "text": [
      "my name is Asghar\n"
     ]
    }
   ],
   "source": [
    "text =\"my name is samsaan\"\n",
    "pattern = r\"samsaan\"\n",
    "name =input(\"Enter your name\")\n",
    "\n",
    "new_text = re.sub(pattern, name, text)\n",
    "print(new_text)"
   ]
  },
  {
   "cell_type": "code",
   "execution_count": 77,
   "id": "93540573",
   "metadata": {},
   "outputs": [
    {
     "name": "stdout",
     "output_type": "stream",
     "text": [
      "CNIC number: 71101-6991209-9\n"
     ]
    }
   ],
   "source": [
    "text = \"My CNIC number is 71101-6991209-9. Call me anytime.\"\n",
    "pattern = r\"\\d{5}-\\d{7}-\\d{1}\"\n",
    "\n",
    "# Use re.search() to find and extract the phone number\n",
    "match = re.search(pattern, text)\n",
    "\n",
    "if match:\n",
    "    phone_number = match.group()\n",
    "    print(\"CNIC number:\", phone_number)\n",
    "else:\n",
    "    print(\"CNIC number not found.\")\n"
   ]
  },
  {
   "cell_type": "code",
   "execution_count": 78,
   "id": "672adcda",
   "metadata": {},
   "outputs": [
    {
     "name": "stdout",
     "output_type": "stream",
     "text": [
      "['apple', 'banana', 'kiwi', 'orange']\n"
     ]
    }
   ],
   "source": [
    "text = \"apple,banana,kiwi,orange\"\n",
    "pattern = r\",\"\n",
    "\n",
    "# Use re.split() to split the text into a list of fruits\n",
    "fruits = re.split(pattern, text)\n",
    "print(fruits)\n"
   ]
  },
  {
   "cell_type": "code",
   "execution_count": 79,
   "id": "e8536784",
   "metadata": {},
   "outputs": [
    {
     "name": "stdout",
     "output_type": "stream",
     "text": [
      "Product Prices: ['$2500', '$1500', '$3000']\n"
     ]
    }
   ],
   "source": [
    "text = \"Product A (Price: $2500), Product B (Price: $1500), Product C (Price: $3000)\"\n",
    "#pattern = r\"\\w+\\s\\(\\w+: \\$(\\d+)\\)\"\n",
    "pattern = r\"\\$\\d+\"\n",
    "\n",
    "# Use re.findall() to find and extract the prices of products\n",
    "prices = re.findall(pattern, text)\n",
    "print(\"Product Prices:\", prices)\n"
   ]
  },
  {
   "cell_type": "code",
   "execution_count": 80,
   "id": "973652fe",
   "metadata": {},
   "outputs": [
    {
     "name": "stdout",
     "output_type": "stream",
     "text": [
      "Words starting with 'act': ['activity', 'actor']\n"
     ]
    }
   ],
   "source": [
    "text = \"The activity of the actor is appreciated.\"\n",
    "pattern = r\"\\bact\\w*\\b\"\n",
    "\n",
    "# Use re.findall() to find and extract words starting with \"act\"\n",
    "matches = re.findall(pattern, text)\n",
    "print(\"Words starting with 'act':\", matches)\n"
   ]
  },
  {
   "cell_type": "code",
   "execution_count": 11,
   "id": "a01a92cf",
   "metadata": {},
   "outputs": [
    {
     "name": "stdout",
     "output_type": "stream",
     "text": [
      "gmail is : ['abbas.abbasi@iub.edu.pk']\n",
      "number is : ['0345-8023770']\n"
     ]
    }
   ],
   "source": [
    "import re\n",
    "\n",
    "text = \"My email id is abbas.abbasi@iub.edu.pk and my phone number is 0345-8023770\"\n",
    "\n",
    "gmail = r'\\b\\w+.\\w+?@\\w+.\\w+.\\w+?\\b'\n",
    "number = r\"\\d{4}-\\d{7}\"\n",
    "\n",
    "\n",
    "match_gmail = re.findall(gmail, text)\n",
    "match_number = re.findall(number, text)\n",
    "if match_gmail and match_number:\n",
    "    print(f\"gmail is : {match_gmail}\")\n",
    "    print(f\"number is : {match_number}\")\n",
    "    \n",
    "    \n",
    "else:\n",
    "    print(\"Not found\")"
   ]
  },
  {
   "cell_type": "markdown",
   "id": "17580c5c",
   "metadata": {},
   "source": [
    "## Validation"
   ]
  },
  {
   "cell_type": "markdown",
   "id": "f0e2f642",
   "metadata": {},
   "source": [
    "Take input from user and validate  email"
   ]
  },
  {
   "cell_type": "code",
   "execution_count": 14,
   "id": "e7e21810",
   "metadata": {},
   "outputs": [
    {
     "name": "stdout",
     "output_type": "stream",
     "text": [
      "gmail is not valid\n"
     ]
    }
   ],
   "source": [
    "\n",
    "gmail = \"1212asghar.com\"\n",
    "gmail_valid = r'\\b\\w+.\\w+?@\\w+.\\w+.\\w+?\\b'\n",
    "\n",
    "valid = re.findall(gmail_valid,gmail)\n",
    "\n",
    "if valid:\n",
    "    print(\"gmail is valid\")\n",
    "else:\n",
    "    print(\"gmail is not valid\")\n"
   ]
  },
  {
   "cell_type": "markdown",
   "id": "67ef8a9a",
   "metadata": {},
   "source": [
    "take input from user and validate its pakistan phone number or not"
   ]
  },
  {
   "cell_type": "code",
   "execution_count": 17,
   "id": "96595711",
   "metadata": {},
   "outputs": [
    {
     "name": "stdout",
     "output_type": "stream",
     "text": [
      "the 0343-2813144 is valid\n"
     ]
    }
   ],
   "source": [
    "number = input(\"Enetr your number here : \")\n",
    "number_valid = r\"\\d{4}-\\d{7}\"\n",
    "\n",
    "valid = re.findall(number_valid , number)\n",
    "\n",
    "if valid:\n",
    "    print(f\"the {number} is valid\")\n",
    "\n",
    "else:\n",
    "    print(f\"The {number} is not valid\")"
   ]
  },
  {
   "cell_type": "markdown",
   "id": "0f45c021",
   "metadata": {},
   "source": [
    "validated user number it can contain A to Z latter and integer number"
   ]
  },
  {
   "cell_type": "code",
   "execution_count": 41,
   "id": "825deee4",
   "metadata": {},
   "outputs": [
    {
     "name": "stdout",
     "output_type": "stream",
     "text": [
      "Not valid user number\n"
     ]
    }
   ],
   "source": [
    "user_number = \"121dj1231\"\n",
    "pattern = r\"^[0-9a-z]+$\"\n",
    "\n",
    "valid = re.match(pattern,user_number)\n",
    "\n",
    "if valid:\n",
    "    print(\"valid user number\")\n",
    "else:\n",
    "    print(\"Not valid user number\")"
   ]
  },
  {
   "cell_type": "code",
   "execution_count": null,
   "id": "500df942",
   "metadata": {},
   "outputs": [],
   "source": []
  },
  {
   "cell_type": "code",
   "execution_count": null,
   "id": "30824116",
   "metadata": {},
   "outputs": [],
   "source": []
  }
 ],
 "metadata": {
  "kernelspec": {
   "display_name": "Python 3",
   "language": "python",
   "name": "python3"
  },
  "language_info": {
   "codemirror_mode": {
    "name": "ipython",
    "version": 3
   },
   "file_extension": ".py",
   "mimetype": "text/x-python",
   "name": "python",
   "nbconvert_exporter": "python",
   "pygments_lexer": "ipython3",
   "version": "3.13.0"
  }
 },
 "nbformat": 4,
 "nbformat_minor": 5
}
