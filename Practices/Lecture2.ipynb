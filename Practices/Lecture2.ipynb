{
 "cells": [
  {
   "cell_type": "markdown",
   "metadata": {
    "notebookRunGroups": {
     "groupValue": "1"
    }
   },
   "source": [
    "***Programming for AI***"
   ]
  },
  {
   "cell_type": "markdown",
   "metadata": {
    "notebookRunGroups": {
     "groupValue": "2"
    }
   },
   "source": [
    "**Lecture 2**"
   ]
  },
  {
   "cell_type": "markdown",
   "metadata": {
    "notebookRunGroups": {
     "groupValue": "1"
    }
   },
   "source": [
    "*1.. print()*"
   ]
  },
  {
   "cell_type": "code",
   "execution_count": 52,
   "metadata": {},
   "outputs": [
    {
     "ename": "TypeError",
     "evalue": "'str' object is not callable",
     "output_type": "error",
     "traceback": [
      "\u001b[1;31m---------------------------------------------------------------------------\u001b[0m",
      "\u001b[1;31mTypeError\u001b[0m                                 Traceback (most recent call last)",
      "Cell \u001b[1;32mIn[52], line 1\u001b[0m\n\u001b[1;32m----> 1\u001b[0m \u001b[38;5;28;43mprint\u001b[39;49m\u001b[43m(\u001b[49m\u001b[38;5;124;43m\"\u001b[39;49m\u001b[38;5;124;43mWelcome to the CAI 2.0\u001b[39;49m\u001b[38;5;124;43m\"\u001b[39;49m\u001b[43m)\u001b[49m\n",
      "\u001b[1;31mTypeError\u001b[0m: 'str' object is not callable"
     ]
    }
   ],
   "source": [
    "print(\"Welcome to the CAI 2.0\")"
   ]
  },
  {
   "cell_type": "markdown",
   "metadata": {
    "notebookRunGroups": {
     "groupValue": "1"
    }
   },
   "source": [
    "*Equations*\n",
    "\n",
    "$y = 2x +1$\n",
    " \n",
    "$x = 3y -4 $"
   ]
  },
  {
   "cell_type": "code",
   "execution_count": 4,
   "metadata": {},
   "outputs": [
    {
     "name": "stdout",
     "output_type": "stream",
     "text": [
      "My name is Asghar Hussain \n",
      "My department is Software Engineering\n"
     ]
    }
   ],
   "source": [
    "Name = \"Asghar Hussain\"\n",
    "Dept = \"Software Engineering\"\n",
    "print(f\"My name is {Name} \\nMy department is {Dept}\")"
   ]
  },
  {
   "cell_type": "code",
   "execution_count": 7,
   "metadata": {},
   "outputs": [
    {
     "name": "stdout",
     "output_type": "stream",
     "text": [
      "My name is Asghar Hussain. \n",
      "My hobby is Book reading.\n"
     ]
    }
   ],
   "source": [
    "print(\"My name is Asghar Hussain. \\nMy hobby is Book reading.\")"
   ]
  },
  {
   "cell_type": "code",
   "execution_count": 15,
   "metadata": {},
   "outputs": [
    {
     "name": "stdout",
     "output_type": "stream",
     "text": [
      "Ali Hassan\n"
     ]
    }
   ],
   "source": [
    "print(\"Ali\")"
   ]
  },
  {
   "cell_type": "markdown",
   "metadata": {},
   "source": [
    "*Variables*"
   ]
  },
  {
   "cell_type": "code",
   "execution_count": 16,
   "metadata": {},
   "outputs": [
    {
     "name": "stdout",
     "output_type": "stream",
     "text": [
      "Asghar Hussain\n"
     ]
    }
   ],
   "source": [
    "name_of_instructor = \"Abbas Abbasi\"\n",
    "name_of_student = \"Asghar Hussain\"\n",
    "course  = \"AI\"\n",
    "print(name_of_student)"
   ]
  },
  {
   "cell_type": "code",
   "execution_count": 1,
   "metadata": {},
   "outputs": [
    {
     "name": "stdout",
     "output_type": "stream",
     "text": [
      "62\n"
     ]
    }
   ],
   "source": [
    "no_of_students = 62\n",
    "print(no_of_students)"
   ]
  },
  {
   "cell_type": "code",
   "execution_count": 2,
   "metadata": {},
   "outputs": [
    {
     "name": "stdout",
     "output_type": "stream",
     "text": [
      "My CGPA = 3.71\n"
     ]
    }
   ],
   "source": [
    "name = \"Asghar Hussain\"\n",
    "cgpa = 3.71\n",
    "print(\"My CGPA =\", cgpa)"
   ]
  },
  {
   "cell_type": "code",
   "execution_count": 3,
   "metadata": {},
   "outputs": [
    {
     "name": "stdout",
     "output_type": "stream",
     "text": [
      "My favourite movie is : Dangal\n",
      "My current age is : 20\n",
      "value of pi is : 3.14\n"
     ]
    }
   ],
   "source": [
    "fvt_movie = \"Dangal\"\n",
    "current_age = 20\n",
    "pi = 3.14\n",
    "print(f\"My favourite movie is : {fvt_movie}\")\n",
    "print(f\"My current age is : {current_age}\")\n",
    "print(f\"value of pi is : {pi}\")\n"
   ]
  },
  {
   "cell_type": "code",
   "execution_count": 4,
   "metadata": {},
   "outputs": [
    {
     "name": "stdout",
     "output_type": "stream",
     "text": [
      "3\n"
     ]
    }
   ],
   "source": [
    "no_of_friends = 3\n",
    "print(no_of_friends)"
   ]
  },
  {
   "cell_type": "code",
   "execution_count": 5,
   "metadata": {},
   "outputs": [
    {
     "name": "stdout",
     "output_type": "stream",
     "text": [
      "0.00042\n"
     ]
    },
    {
     "data": {
      "text/plain": [
       "float"
      ]
     },
     "execution_count": 5,
     "metadata": {},
     "output_type": "execute_result"
    }
   ],
   "source": [
    "sci_notation = 4.2e-4\n",
    "print(sci_notation)\n",
    "type(sci_notation)"
   ]
  },
  {
   "cell_type": "code",
   "execution_count": 6,
   "metadata": {},
   "outputs": [
    {
     "data": {
      "text/plain": [
       "int"
      ]
     },
     "execution_count": 6,
     "metadata": {},
     "output_type": "execute_result"
    }
   ],
   "source": [
    "age = 20\n",
    "type(age)"
   ]
  },
  {
   "cell_type": "markdown",
   "metadata": {},
   "source": [
    "*String*"
   ]
  },
  {
   "cell_type": "code",
   "execution_count": 7,
   "metadata": {},
   "outputs": [
    {
     "name": "stdout",
     "output_type": "stream",
     "text": [
      "CAI 2.0\n",
      "<class 'str'>\n"
     ]
    }
   ],
   "source": [
    "course_name = \"CAI 2.0\"\n",
    "print(course_name)\n",
    "print(type(course_name))"
   ]
  },
  {
   "cell_type": "code",
   "execution_count": 8,
   "metadata": {},
   "outputs": [
    {
     "data": {
      "text/plain": [
       "str"
      ]
     },
     "execution_count": 8,
     "metadata": {},
     "output_type": "execute_result"
    }
   ],
   "source": [
    "name = \"Asghar\"\n",
    "type(name)"
   ]
  },
  {
   "cell_type": "markdown",
   "metadata": {},
   "source": [
    "**Multi_line String**"
   ]
  },
  {
   "cell_type": "code",
   "execution_count": 10,
   "metadata": {},
   "outputs": [
    {
     "name": "stdout",
     "output_type": "stream",
     "text": [
      "My name is Asghar Hussain.\n",
      "Basically I belongs to GB a but now i am in Islamia University of Bahawalpur.\n",
      "My goal is to become a good citizen of my nation and i want to contribute in the progress of my nation.\n"
     ]
    }
   ],
   "source": [
    "multi_line_string = \"\"\"My name is Asghar Hussain.\n",
    "Basically I belongs to GB a but now i am in Islamia University of Bahawalpur.\n",
    "My goal is to become a good citizen of my nation and i want to contribute in the progress of my nation.\"\"\"\n",
    "\n",
    "print(multi_line_string)"
   ]
  },
  {
   "cell_type": "code",
   "execution_count": 12,
   "metadata": {},
   "outputs": [
    {
     "name": "stdout",
     "output_type": "stream",
     "text": [
      "My name is : Asghar Hussain. \n",
      "I am Software Engineering Student.\n"
     ]
    }
   ],
   "source": [
    "multiline_without_tripleCode =\"My name is : Asghar Hussain. \\nI am Software Engineering Student.\"\n",
    "print(multiline_without_tripleCode)"
   ]
  },
  {
   "cell_type": "markdown",
   "metadata": {},
   "source": [
    "**Boolean**"
   ]
  },
  {
   "cell_type": "code",
   "execution_count": 13,
   "metadata": {},
   "outputs": [
    {
     "data": {
      "text/plain": [
       "bool"
      ]
     },
     "execution_count": 13,
     "metadata": {},
     "output_type": "execute_result"
    }
   ],
   "source": [
    "a = True\n",
    "type(a)"
   ]
  },
  {
   "cell_type": "code",
   "execution_count": 14,
   "metadata": {},
   "outputs": [
    {
     "name": "stdout",
     "output_type": "stream",
     "text": [
      "2\n"
     ]
    }
   ],
   "source": [
    "print(True+True)"
   ]
  },
  {
   "cell_type": "code",
   "execution_count": 15,
   "metadata": {},
   "outputs": [
    {
     "name": "stdout",
     "output_type": "stream",
     "text": [
      "2\n"
     ]
    }
   ],
   "source": [
    "a = True+True+False\n",
    "print(a)"
   ]
  },
  {
   "cell_type": "code",
   "execution_count": 19,
   "metadata": {},
   "outputs": [
    {
     "name": "stdout",
     "output_type": "stream",
     "text": [
      "0\n",
      "0\n"
     ]
    }
   ],
   "source": [
    "a = True * False\n",
    "print(a)\n",
    "b = False * True\n",
    "print(b)"
   ]
  },
  {
   "cell_type": "code",
   "execution_count": 26,
   "metadata": {},
   "outputs": [
    {
     "name": "stdout",
     "output_type": "stream",
     "text": [
      "The temperature 40 celcius is in farenhite equals to : 104.0\n"
     ]
    }
   ],
   "source": [
    "temp_in_celcius = 40 \n",
    "temp_in_farenhite = (temp_in_celcius*9/5)+32\n",
    "print(f\"The temperature {temp_in_celcius} celcius is in farenhite equals to : {temp_in_farenhite}\")\n"
   ]
  },
  {
   "cell_type": "markdown",
   "metadata": {},
   "source": [
    "***f String***"
   ]
  },
  {
   "cell_type": "code",
   "execution_count": 28,
   "metadata": {},
   "outputs": [
    {
     "name": "stdout",
     "output_type": "stream",
     "text": [
      "The program is CAI 2.0\n"
     ]
    }
   ],
   "source": [
    "program = \"CAI 2.0\"\n",
    "print(\"The program is\" , program)"
   ]
  },
  {
   "cell_type": "code",
   "execution_count": 36,
   "metadata": {},
   "outputs": [
    {
     "name": "stdout",
     "output_type": "stream",
     "text": [
      "My city name is Skardu city.\n",
      "My city name is Skardu city.\n"
     ]
    }
   ],
   "source": [
    "city_name = 'Skardu'\n",
    "print(\"My city name is\",city_name,\"city.\")\n",
    "print(f'My city name is {city_name} city.')"
   ]
  },
  {
   "cell_type": "code",
   "execution_count": 37,
   "metadata": {},
   "outputs": [
    {
     "name": "stdout",
     "output_type": "stream",
     "text": [
      "His name is Sohail and his age is 37\n"
     ]
    }
   ],
   "source": [
    "his_name = \"Sohail\"\n",
    "his_age = 34\n",
    "print(f\"His name is {his_name} and his age is {his_age+3}.\")"
   ]
  },
  {
   "cell_type": "code",
   "execution_count": 41,
   "metadata": {},
   "outputs": [
    {
     "name": "stdout",
     "output_type": "stream",
     "text": [
      "Student Name : Haider.\n",
      "Student Marks : 90.\n",
      "Percentage : 90%.\n"
     ]
    }
   ],
   "source": [
    "student_name = \"Haider\"\n",
    "total_marks = 90\n",
    "percentage = 90\n",
    "print(f\"Student Name : {student_name}.\\nStudent Marks : {total_marks}.\\nPercentage : {90}%.\")"
   ]
  },
  {
   "cell_type": "markdown",
   "metadata": {},
   "source": [
    "*Memory Location*"
   ]
  },
  {
   "cell_type": "code",
   "execution_count": 42,
   "metadata": {},
   "outputs": [
    {
     "data": {
      "text/plain": [
       "2776029962592"
      ]
     },
     "execution_count": 42,
     "metadata": {},
     "output_type": "execute_result"
    }
   ],
   "source": [
    "name = \"asghar\"\n",
    "id(name)"
   ]
  },
  {
   "cell_type": "code",
   "execution_count": 43,
   "metadata": {},
   "outputs": [
    {
     "data": {
      "text/plain": [
       "2776030391120"
      ]
     },
     "execution_count": 43,
     "metadata": {},
     "output_type": "execute_result"
    }
   ],
   "source": [
    "fsc_marks = 993\n",
    "id(fsc_marks)"
   ]
  },
  {
   "cell_type": "code",
   "execution_count": 46,
   "metadata": {},
   "outputs": [
    {
     "name": "stdout",
     "output_type": "stream",
     "text": [
      "10\n"
     ]
    }
   ],
   "source": [
    "var = 10\n",
    "print(var)\n",
    "del var\n",
    "#print(var)"
   ]
  },
  {
   "cell_type": "code",
   "execution_count": 50,
   "metadata": {},
   "outputs": [
    {
     "name": "stdout",
     "output_type": "stream",
     "text": [
      "The circumference of circle is : 25.12. \n",
      "The area of circle is : 50.24.\n"
     ]
    }
   ],
   "source": [
    "radius = 4\n",
    "circumference = 2*3.14*radius\n",
    "area = 3.14*radius**2\n",
    "print(f\"The circumference of circle is : {circumference}. \\nThe area of circle is : {area}.\")"
   ]
  },
  {
   "cell_type": "code",
   "execution_count": 58,
   "metadata": {},
   "outputs": [
    {
     "name": "stdout",
     "output_type": "stream",
     "text": [
      "(-1.5-3.596873642484539j)\n"
     ]
    }
   ],
   "source": [
    "a = 2\n",
    "b = 3\n",
    "c = 4\n",
    "x1 = (-b+b**2-4*a*c)**0.5/(2*a)\n",
    "x2 = (-b-(b**2-4*a*c)**0.5)/(2*a)\n",
    "print(a*x1**2+b*x2+c)\n"
   ]
  }
 ],
 "metadata": {
  "kernelspec": {
   "display_name": "Python 3",
   "language": "python",
   "name": "python3"
  },
  "language_info": {
   "codemirror_mode": {
    "name": "ipython",
    "version": 3
   },
   "file_extension": ".py",
   "mimetype": "text/x-python",
   "name": "python",
   "nbconvert_exporter": "python",
   "pygments_lexer": "ipython3",
   "version": "3.13.0"
  }
 },
 "nbformat": 4,
 "nbformat_minor": 2
}
