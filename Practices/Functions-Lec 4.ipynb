{
 "cells": [
  {
   "cell_type": "code",
   "execution_count": 1,
   "metadata": {},
   "outputs": [
    {
     "name": "stdout",
     "output_type": "stream",
     "text": [
      "Total price of item 1: 200.0\n",
      "Total price of item 2: 300.0\n",
      "Total price of item 3: 100.0\n",
      "Total price of all items: 600.0\n"
     ]
    }
   ],
   "source": [
    "\n",
    "# Program to calculate total price without functions\n",
    "\n",
    "# First item\n",
    "item1_price = float(input(\"Enter the price of item 1: \"))\n",
    "item1_quantity = int(input(\"Enter the quantity of item 1: \"))\n",
    "total_item1 = item1_price * item1_quantity\n",
    "print(f\"Total price of item 1: {total_item1}\")\n",
    "\n",
    "# Second item\n",
    "item2_price = float(input(\"Enter the price of item 2: \"))\n",
    "item2_quantity = int(input(\"Enter the quantity of item 2: \"))\n",
    "total_item2 = item1_price * item2_quantity\n",
    "print(f\"Total price of item 2: {total_item2}\")\n",
    "\n",
    "# Third item\n",
    "item3_price = float(input(\"Enter the price of item 3: \"))\n",
    "item3_quantity = int(input(\"Enter the quantity of item 3: \"))\n",
    "total_item3 = item1_price * item3_quantity\n",
    "print(f\"Total price of item 3: {total_item3}\")\n",
    "\n",
    "# Calculating total cart value\n",
    "total_cart_value = total_item1 + total_item2 + total_item3\n",
    "print(f\"Total price of all items: {total_cart_value}\")"
   ]
  },
  {
   "cell_type": "markdown",
   "metadata": {},
   "source": [
    "# Python Functions\n"
   ]
  },
  {
   "cell_type": "markdown",
   "metadata": {},
   "source": [
    "- A function is a block of code which only runs when it is called.\n",
    "- You can pass data, known as parameters, into a function.\n",
    "- A function can return data as a result.\n",
    "- In Python a function is defined using the def keyword\n",
    "- To call a function, use the function name followed by parenthesis\n",
    " "
   ]
  },
  {
   "cell_type": "code",
   "execution_count": 2,
   "metadata": {},
   "outputs": [
    {
     "name": "stdout",
     "output_type": "stream",
     "text": [
      "Hello from a function\n"
     ]
    }
   ],
   "source": [
    "# defining a function\n",
    "def my_function():\n",
    "  print(\"Hello from a function\")\n",
    "# calling a function\n",
    "my_function()"
   ]
  },
  {
   "cell_type": "markdown",
   "metadata": {},
   "source": [
    "# Return Values\n",
    "- To let a function return a value, use the return statement:"
   ]
  },
  {
   "cell_type": "code",
   "execution_count": 5,
   "metadata": {},
   "outputs": [
    {
     "name": "stdout",
     "output_type": "stream",
     "text": [
      "15\n",
      "25\n",
      "45\n"
     ]
    }
   ],
   "source": [
    "def my_function(x):\n",
    "  return 5 * x\n",
    "\n",
    "print(my_function(3))\n",
    "print(my_function(5))\n",
    "print(my_function(9))\n",
    "\n",
    "# returning other data types"
   ]
  },
  {
   "cell_type": "code",
   "execution_count": 5,
   "metadata": {},
   "outputs": [
    {
     "name": "stdout",
     "output_type": "stream",
     "text": [
      "Shopping Cart Calculator\n",
      "Total price of item 1: 20.0\n",
      "Total price of item 2: 60.0\n",
      "Total price of item 3: 60.0\n",
      "Total price of all items: 140.0\n"
     ]
    }
   ],
   "source": [
    "# Function to calculate total price for an item\n",
    "def calculate_total_price():\n",
    "    item_price = float(input(\"Enter the price of item : \"))\n",
    "    item_quantity = int(input(\"Enter the quantity of item : \"))\n",
    "    total_item = item_price * item_quantity\n",
    "    return total_item\n",
    "\n",
    "\n",
    "# Main program\n",
    "\n",
    "print(\"Shopping Cart Calculator\")\n",
    "    \n",
    "# First item\n",
    "total_item1 = calculate_total_price()\n",
    "print(f\"Total price of item 1: {total_item1}\")\n",
    "\n",
    "# Second item\n",
    "total_item2 = calculate_total_price()\n",
    "print(f\"Total price of item 2: {total_item2}\")\n",
    "\n",
    "    # Third item\n",
    "total_item3 = calculate_total_price()\n",
    "print(f\"Total price of item 3: {total_item3}\")\n",
    "    \n",
    "    # Calculating total cart value\n",
    "total_cart_value = total_item1 + total_item2 + total_item3\n",
    "print(f\"Total price of all items: {total_cart_value}\")\n"
   ]
  },
  {
   "cell_type": "markdown",
   "metadata": {},
   "source": [
    "# Arguments\n",
    "- Information can be passed into functions as arguments.\n",
    "- Arguments are specified after the function name, inside the parentheses.\n",
    "- You can add as many arguments as you want, just separate them with a comma."
   ]
  },
  {
   "cell_type": "code",
   "execution_count": 8,
   "metadata": {},
   "outputs": [
    {
     "name": "stdout",
     "output_type": "stream",
     "text": [
      "Habza is the student of IUB\n",
      "Asad is the student of IUB\n",
      "Shanza is the student of IUB\n"
     ]
    },
    {
     "ename": "TypeError",
     "evalue": "info() missing 1 required positional argument: 'dept'",
     "output_type": "error",
     "traceback": [
      "\u001b[1;31m---------------------------------------------------------------------------\u001b[0m",
      "\u001b[1;31mTypeError\u001b[0m                                 Traceback (most recent call last)",
      "Cell \u001b[1;32mIn[8], line 18\u001b[0m\n\u001b[0;32m     15\u001b[0m \u001b[38;5;28;01mdef\u001b[39;00m \u001b[38;5;21minfo\u001b[39m(name,age,dept):\n\u001b[0;32m     16\u001b[0m   \u001b[38;5;28mprint\u001b[39m(\u001b[38;5;124mf\u001b[39m\u001b[38;5;124m\"\u001b[39m\u001b[38;5;132;01m{\u001b[39;00mname\u001b[38;5;132;01m}\u001b[39;00m\u001b[38;5;124m age of \u001b[39m\u001b[38;5;132;01m{\u001b[39;00mage\u001b[38;5;132;01m}\u001b[39;00m\u001b[38;5;124m dept is \u001b[39m\u001b[38;5;132;01m{\u001b[39;00mdept\u001b[38;5;132;01m}\u001b[39;00m\u001b[38;5;124m\"\u001b[39m)\n\u001b[1;32m---> 18\u001b[0m \u001b[43minfo\u001b[49m\u001b[43m(\u001b[49m\u001b[38;5;124;43m\"\u001b[39;49m\u001b[38;5;124;43masghar\u001b[39;49m\u001b[38;5;124;43m\"\u001b[39;49m\u001b[43m,\u001b[49m\u001b[38;5;241;43m20\u001b[39;49m\u001b[43m)\u001b[49m\n",
      "\u001b[1;31mTypeError\u001b[0m: info() missing 1 required positional argument: 'dept'"
     ]
    }
   ],
   "source": [
    "def my_function(fname):\n",
    "  print(fname + \" is the student of IUB\")\n",
    "\n",
    "my_function(\"Habza\")\n",
    "my_function(\"Asad\")\n",
    "my_function(\"Shanza\")\n",
    "\n",
    "# Function with 2 arguments\n",
    "#def my_function(num1, num2):\n",
    "#  print(num1 * num2)\n",
    "\n",
    "#my_function(2,6)\n",
    "\n",
    "# A function with three parameters and 1 or 2 arguments\n",
    "def info(name,age,dept):\n",
    "  print(f\"{name} age of {age} dept is {dept}\")\n",
    "\n",
    "info(\"asghar\",20)"
   ]
  },
  {
   "cell_type": "markdown",
   "metadata": {},
   "source": [
    "- A parameter is the variable listed inside the parentheses in the function definition.\n",
    "- An argument is the value that is sent to the function when it is called."
   ]
  },
  {
   "cell_type": "markdown",
   "metadata": {},
   "source": [
    "## Arbitrary Arguments, *args\n",
    "- If you do not know how many arguments that will be passed into your function, add a * before the parameter name in the function definition.\n",
    "- This way the function will receive a tuple of arguments, and can access the items accordingly:"
   ]
  },
  {
   "cell_type": "code",
   "execution_count": 8,
   "metadata": {},
   "outputs": [
    {
     "name": "stdout",
     "output_type": "stream",
     "text": [
      "The youngest child is Shanza\n"
     ]
    }
   ],
   "source": [
    "def my_function(*kids):\n",
    "  print(\"The youngest child is \" + kids[2])\n",
    "\n",
    "my_function(\"Ali\", \"Ahmed\", \"Shanza\")"
   ]
  },
  {
   "cell_type": "markdown",
   "metadata": {},
   "source": [
    "## Keyword Arguments\n",
    "- You can also send arguments with the key = value syntax.\n",
    "- This way the order of the arguments does not matter."
   ]
  },
  {
   "cell_type": "code",
   "execution_count": 17,
   "metadata": {},
   "outputs": [
    {
     "name": "stdout",
     "output_type": "stream",
     "text": [
      "The youngest child is ahmed\n",
      "I am from Germany\n",
      "I am from Pakistan\n"
     ]
    }
   ],
   "source": [
    "def my_function(child3, child2, child1):\n",
    "  print(\"The youngest child is \" + child3)\n",
    "\n",
    "my_function(child1 = \"shanza\", child2 = \"ali\", child3 = \"ahmed\")\n",
    "# Default parameter value\n",
    "def my_function(country = \"Pakistan\"):\n",
    " print(\"I am from \" + country)\n",
    "\n",
    "my_function(\"Germany\")\n",
    "my_function()\n",
    "\n"
   ]
  },
  {
   "cell_type": "markdown",
   "metadata": {},
   "source": [
    "## Arbitrary Keyword Arguments, **kwargs\n",
    "- If you do not know how many keyword arguments that will be passed into your function, add two asterisk: ** before the parameter name in the function definition.\n",
    "- This way the function will receive a dictionary of arguments, and can access the items accordingly:\n",
    "\n",
    "\n"
   ]
  },
  {
   "cell_type": "code",
   "execution_count": 22,
   "metadata": {},
   "outputs": [
    {
     "name": "stdout",
     "output_type": "stream",
     "text": [
      "Her last name is Ali\n"
     ]
    }
   ],
   "source": [
    "def my_function(**kid):\n",
    "  print(\"Her last name is \" + kid[\"jname\"])\n",
    "\n",
    "my_function(fname = \"Habza\", lname = \"Yaseen\", jname = \"Ali\")\n"
   ]
  },
  {
   "cell_type": "code",
   "execution_count": 34,
   "metadata": {},
   "outputs": [
    {
     "data": {
      "text/plain": [
       "123"
      ]
     },
     "execution_count": 34,
     "metadata": {},
     "output_type": "execute_result"
    }
   ],
   "source": [
    "# Write a function to find the largest number in a list.\n",
    "def largest_number(*list):\n",
    "    max = 0\n",
    "    for i in list:\n",
    "        if i > max:\n",
    "          max = i\n",
    "\n",
    "    return max\n",
    "\n",
    "\n",
    "\n",
    "largest_number(23,23,23,12,23,123,12,23)\n"
   ]
  },
  {
   "cell_type": "markdown",
   "metadata": {},
   "source": []
  },
  {
   "cell_type": "markdown",
   "metadata": {},
   "source": [
    "# Recursion\n",
    "Python also accepts function recursion, which means a defined function can call itself.\n",
    "\n",
    "Recursion is a common mathematical and programming concept. It means that a function calls itself. This has the benefit of allowing you to loop through data to reach a result.\n",
    "\n",
    "The developer should be very careful with recursion as it can be easy to write a function that never terminates or uses excessive memory or processing power. However, when written correctly, recursion can be an efficient and mathematically elegant approach to programming."
   ]
  },
  {
   "cell_type": "code",
   "execution_count": 35,
   "metadata": {},
   "outputs": [
    {
     "name": "stdout",
     "output_type": "stream",
     "text": [
      "Recursion Example Results:\n",
      "1\n",
      "3\n",
      "6\n",
      "10\n",
      "15\n",
      "21\n"
     ]
    },
    {
     "data": {
      "text/plain": [
       "21"
      ]
     },
     "execution_count": 35,
     "metadata": {},
     "output_type": "execute_result"
    }
   ],
   "source": [
    "def tri_recursion(k):\n",
    "    if k > 0:\n",
    "        result = k + tri_recursion(k - 1)\n",
    "        print(result)\n",
    "    else:\n",
    "        result = 0\n",
    "    return result\n",
    "\n",
    "print(\"Recursion Example Results:\")\n",
    "tri_recursion(6)"
   ]
  },
  {
   "cell_type": "code",
   "execution_count": 43,
   "metadata": {},
   "outputs": [
    {
     "name": "stdout",
     "output_type": "stream",
     "text": [
      "5\n",
      "4\n",
      "3\n",
      "2\n",
      "1\n"
     ]
    }
   ],
   "source": [
    "# Write a recursive function to print all numbers from n t0 1.\n",
    "# input n = 5\n",
    "def fun(n):\n",
    "    if n > 0:\n",
    "        print(n)\n",
    "        fun(n-1)\n",
    "    \n",
    "\n",
    "\n",
    "fun(5)\n"
   ]
  },
  {
   "cell_type": "markdown",
   "metadata": {},
   "source": [
    "### Practice question\n",
    "Create a simple calculator program using Python functions. The calculator should be able to perform basic arithmetic operations like addition, subtraction, multiplication, and division.\n",
    "\n",
    "\n",
    "**Instructions:**\n",
    "**Function Definitions:**\n",
    "\n",
    "Write individual functions for each operation:\n",
    "add,subtract,multiplication,division\n",
    "\n",
    "**User Input:**\n",
    "\n",
    "Prompt the user to select an operation (add, subtract, multiply, divide).\n",
    "Ask the user to input two numbers on which the operation will be performed.\n",
    "\n",
    "**Display the Result:**\n",
    "\n",
    "Based on the user's choice, call the corresponding function to calculate the result and display it.\n",
    "\n",
    "**Error Handling:**\n",
    "\n",
    "If the user enters invalid input, such as non-numeric values, display an error message and ask the user to try again.\n",
    "Handle division by zero and display a meaningful message if the user attempts to divide by zero.\n",
    "\n",
    "**Repeat or Exit:**\n",
    "\n",
    "After displaying the result, ask the user if they want to perform another calculation or exit the program."
   ]
  },
  {
   "cell_type": "code",
   "execution_count": null,
   "metadata": {},
   "outputs": [],
   "source": [
    "def add(num1,num2):\n",
    "    print(f\"{num1}+{num2} = {num1+num2}\")\n",
    "\n",
    "def sub(num1,num2):\n",
    "    print(f\"{num1}-{num2} = {num1-num2}\")\n",
    "\n",
    "def mul(num1,num2):\n",
    "    print(f\"{num1}*{num2} = {num1*num2}\")\n",
    "\n",
    "def div(num1,num2):\n",
    "    print(f\"{num1}/{num2} = {num1/num2}\")\n",
    "\n",
    "while ():\n",
    "    num1 = float(input(\"Enter first number here :\"))\n",
    "    num2 = float(input(\"Enter second number here :\"))"
   ]
  },
  {
   "cell_type": "code",
   "execution_count": null,
   "metadata": {},
   "outputs": [],
   "source": []
  }
 ],
 "metadata": {
  "kernelspec": {
   "display_name": "Python 3",
   "language": "python",
   "name": "python3"
  },
  "language_info": {
   "codemirror_mode": {
    "name": "ipython",
    "version": 3
   },
   "file_extension": ".py",
   "mimetype": "text/x-python",
   "name": "python",
   "nbconvert_exporter": "python",
   "pygments_lexer": "ipython3",
   "version": "3.13.0"
  }
 },
 "nbformat": 4,
 "nbformat_minor": 2
}
