{
 "cells": [
  {
   "cell_type": "markdown",
   "metadata": {
    "notebookRunGroups": {
     "groupValue": "1"
    }
   },
   "source": [
    "***List***"
   ]
  },
  {
   "cell_type": "code",
   "execution_count": 1,
   "metadata": {},
   "outputs": [
    {
     "name": "stdout",
     "output_type": "stream",
     "text": [
      "list1:  ['Arif', 30, 5.5, True]\n"
     ]
    }
   ],
   "source": [
    "list1 = [\"Arif\", 30, 5.5 , True]\n",
    "print(\"list1: \", list1)"
   ]
  },
  {
   "cell_type": "code",
   "execution_count": 2,
   "metadata": {},
   "outputs": [
    {
     "data": {
      "text/plain": [
       "(2548227540352, 2548227540928, False, True)"
      ]
     },
     "execution_count": 2,
     "metadata": {},
     "output_type": "execute_result"
    }
   ],
   "source": [
    "x = [1, 2, 3]\n",
    "y = [1, 2, 3]\n",
    "id(x), id(y), x is y, x==y"
   ]
  },
  {
   "cell_type": "code",
   "execution_count": 3,
   "metadata": {},
   "outputs": [
    {
     "name": "stdout",
     "output_type": "stream",
     "text": [
      "numbers:  [10, 20, 555, 40, 50]\n"
     ]
    }
   ],
   "source": [
    "numbers = [10, 20, 30, 40, 50]\n",
    "numbers[2] = 555\n",
    "print(\"numbers: \", numbers)"
   ]
  },
  {
   "cell_type": "code",
   "execution_count": 4,
   "metadata": {},
   "outputs": [
    {
     "name": "stdout",
     "output_type": "stream",
     "text": [
      "['Arif', 'Rauf', 'Hadeed', 'Arif', 'Mujahid']\n"
     ]
    }
   ],
   "source": [
    "# lists allow duplicate elements\n",
    "names = ['Arif', 'Rauf', 'Hadeed', 'Arif', 'Mujahid']\n",
    "print(names)"
   ]
  },
  {
   "cell_type": "code",
   "execution_count": 5,
   "metadata": {},
   "outputs": [
    {
     "name": "stdout",
     "output_type": "stream",
     "text": [
      "5.5\n"
     ]
    }
   ],
   "source": [
    "#You can access elements of list using indexing which starts from zero\n",
    "list1 = [\"Arif\", 30, 5.5]\n",
    "print(list1[2])\n"
   ]
  },
  {
   "cell_type": "code",
   "execution_count": 6,
   "metadata": {},
   "outputs": [
    {
     "name": "stdout",
     "output_type": "stream",
     "text": [
      "['a', 'b', 'c', 'd', 'e', 'f', 'g', 'h', 'i']\n",
      "['a', 'b', 'c', 'd', 'e', 'f', 'g', 'h', 'i']\n",
      "['a', 'c', 'e', 'g', 'i']\n",
      "['a', 'd', 'g']\n"
     ]
    }
   ],
   "source": [
    "# Slicing by using strides\n",
    "list1 = ['a','b','c','d','e','f','g','h','i']\n",
    "print(list1[::])  # A default step of 1\n",
    "print(list1[::1])  # A step of 1\n",
    "print(list1[::2])  # A step of 2\n",
    "print(list1[::3])  # A step of 3"
   ]
  },
  {
   "cell_type": "code",
   "execution_count": 7,
   "metadata": {},
   "outputs": [
    {
     "name": "stdout",
     "output_type": "stream",
     "text": [
      "['i', 'h', 'g', 'f', 'e', 'd', 'c', 'b', 'a']\n",
      "['f', 'e', 'd', 'c']\n",
      "[]\n",
      "['i', 'g', 'e', 'c', 'a']\n"
     ]
    }
   ],
   "source": [
    "# Reverse slicing\n",
    "list1 = ['a','b','c','d','e','f','g','h','i']\n",
    "print(list1[::-1]) # Take 1 step back each time\n",
    "print(list1[5:1:-1]) # Take 1 step back each time\n",
    "#if start is less than end in case of a negative step, it will return empty string\n",
    "print(list1[2:10:-1])\n",
    "print(list1[::-2]) # Take 2 steps back"
   ]
  },
  {
   "cell_type": "code",
   "execution_count": 9,
   "metadata": {},
   "outputs": [
    {
     "name": "stdout",
     "output_type": "stream",
     "text": [
      "['a', 'd', 'g']\n",
      "['d', 'e', 'f']\n",
      "['i', 'h', 'g', 'f', 'e', 'd']\n",
      "['i', 'h']\n"
     ]
    }
   ],
   "source": [
    "list1 = ['a','b','c','d','e','f','g','h','i']\n",
    "\n",
    "print(list1[::3])\n",
    "print(list1[3:6])\n",
    "print(list1[8:2:-1])\n",
    "print(list1[-1:-3:-1])"
   ]
  },
  {
   "cell_type": "code",
   "execution_count": 10,
   "metadata": {},
   "outputs": [
    {
     "data": {
      "text/plain": [
       "([1, 2, 3], [1, 2, 3, 4, 5], [0, 1, 2, 3, 4, 5])"
      ]
     },
     "execution_count": 10,
     "metadata": {},
     "output_type": "execute_result"
    }
   ],
   "source": [
    "# Add some elements to the end of an existing list using concatenation operator\n",
    "a = [1,2,3]\n",
    "b = a + [4,5]\n",
    "# Add some elements to the beginning of an existing list using concatenation operator\n",
    "c = [0] + b\n",
    "a, b, c"
   ]
  },
  {
   "cell_type": "code",
   "execution_count": 11,
   "metadata": {},
   "outputs": [
    {
     "name": "stdout",
     "output_type": "stream",
     "text": [
      "['Arif', 'Hadeed', 'Mujahid', 'Arif', 'Hadeed', 'Mujahid', 'Arif', 'Hadeed', 'Mujahid']\n"
     ]
    }
   ],
   "source": [
    "# use list * n syntax to create large lists by repeating the list n times\n",
    "name = ['Arif', 'Hadeed', 'Mujahid']\n",
    "a = name * 3\n",
    "print(a)"
   ]
  },
  {
   "cell_type": "code",
   "execution_count": 12,
   "metadata": {},
   "outputs": [
    {
     "data": {
      "text/plain": [
       "['english', 'urdu', 2, 5, 7]"
      ]
     },
     "execution_count": 12,
     "metadata": {},
     "output_type": "execute_result"
    }
   ],
   "source": [
    "# We can use the slice index to modify multiple list elements in one go\n",
    "mylist = ['data science', 'machine learning', 2, 5, 7]\n",
    "mylist[0:2] = ['english', 'urdu'] # Note we are replacing two elements with two elements\n",
    "mylist"
   ]
  },
  {
   "cell_type": "code",
   "execution_count": 13,
   "metadata": {},
   "outputs": [
    {
     "data": {
      "text/plain": [
       "[2, 4, 6, 8, [4.631, 'hello']]"
      ]
     },
     "execution_count": 13,
     "metadata": {},
     "output_type": "execute_result"
    }
   ],
   "source": [
    "# You cannot add multiple elements using append\n",
    "# If you try it will actually add those elements as a sub-list\n",
    "list1 = [2, 4, 6, 8]\n",
    "list1.append([4.631, 'hello'])\n",
    "list1"
   ]
  },
  {
   "cell_type": "code",
   "execution_count": 14,
   "metadata": {},
   "outputs": [
    {
     "data": {
      "text/plain": [
       "['apple', 'banana', 'cherry', 'potato', 'tomato', 'radish']"
      ]
     },
     "execution_count": 14,
     "metadata": {},
     "output_type": "execute_result"
    }
   ],
   "source": [
    "# another example of extend()\n",
    "fruits = ['apple', 'banana', 'cherry']\n",
    "vegs = ['potato', 'tomato', 'radish']\n",
    "fruits.extend(vegs)\n",
    "fruits"
   ]
  },
  {
   "cell_type": "code",
   "execution_count": 15,
   "metadata": {},
   "outputs": [
    {
     "name": "stdout",
     "output_type": "stream",
     "text": [
      "\n",
      "Original family list:  ['Farooq', 'Rauf', 'Hadeed']\n",
      "After insert:  ['Farooq', 'Rauf', 'Arif', 'Hadeed']\n"
     ]
    }
   ],
   "source": [
    "myfamily = [\"Farooq\", 'Rauf', 'Hadeed']\n",
    "print(\"\\nOriginal family list: \", myfamily)\n",
    "myfamily.insert(2,'Arif')\n",
    "print(\"After insert: \", myfamily)"
   ]
  },
  {
   "cell_type": "code",
   "execution_count": 17,
   "metadata": {},
   "outputs": [
    {
     "name": "stdout",
     "output_type": "stream",
     "text": [
      "Original list:  ['learning', 'is', 'fun', 'with', 'arif', 'butt']\n",
      "\n",
      "After pop():  ['learning', 'is', 'fun', 'with', 'arif']\n",
      "\n",
      "Element popped is:  butt\n"
     ]
    }
   ],
   "source": [
    "list1 = ['learning', 'is', 'fun', 'with', 'arif', 'butt']\n",
    "print(\"Original list: \", list1)\n",
    "x  = list1.pop()\n",
    "print(\"\\nAfter pop(): \", list1)\n",
    "print(\"\\nElement popped is: \", x)"
   ]
  },
  {
   "cell_type": "code",
   "execution_count": 18,
   "metadata": {},
   "outputs": [
    {
     "name": "stdout",
     "output_type": "stream",
     "text": [
      "\n",
      "Original list:  ['learning', 'is', 'fun', 'with', 'arif', 'butt', 'fun']\n",
      "After remove('fun'):  ['learning', 'is', 'with', 'arif', 'butt', 'fun']\n",
      "Return value of remove() is:  None\n"
     ]
    }
   ],
   "source": [
    "list2 = ['learning', 'is', 'fun', 'with', 'arif', 'butt', 'fun']\n",
    "print(\"\\nOriginal list: \", list2)\n",
    "\n",
    "x = list2.remove('fun')\n",
    "\n",
    "print(\"After remove('fun'): \", list2)\n",
    "print(\"Return value of remove() is: \", x)"
   ]
  },
  {
   "cell_type": "code",
   "execution_count": 19,
   "metadata": {},
   "outputs": [
    {
     "name": "stdout",
     "output_type": "stream",
     "text": [
      "\n",
      "After clear() the list becomes empty:  []\n"
     ]
    }
   ],
   "source": [
    "list2 = ['learning', 'is', 'fun', 'with', 'arif', 'butt']\n",
    "list2.clear()\n",
    "print(\"\\nAfter clear() the list becomes empty: \", list2)"
   ]
  },
  {
   "cell_type": "code",
   "execution_count": null,
   "metadata": {},
   "outputs": [],
   "source": []
  },
  {
   "cell_type": "code",
   "execution_count": 20,
   "metadata": {},
   "outputs": [],
   "source": [
    "#to delete entire list\n",
    "mylist = ['learning', 'is', 'fun', 'with', 'arif', 'butt']\n",
    "del mylist\n",
    "#mylist"
   ]
  },
  {
   "cell_type": "code",
   "execution_count": 21,
   "metadata": {},
   "outputs": [
    {
     "name": "stdout",
     "output_type": "stream",
     "text": [
      "False\n",
      "True\n",
      "True\n"
     ]
    }
   ],
   "source": [
    "list_num = [3, 8, 1, 6, 0, 8, 4]\n",
    "rv1 = 9 in list_num\n",
    "print(rv1)\n",
    "\n",
    "rv2 = 9 not in list_num\n",
    "print(rv2)\n",
    "\n",
    "\n",
    "list_names = [\"XYZ\", \"ABC\", \"MNO\", \"ARIF\"]\n",
    "rv3 = \"ARIF\" in list_names\n",
    "print(rv3)\n",
    "\n",
    "\n"
   ]
  }
 ],
 "metadata": {
  "kernelspec": {
   "display_name": "Python 3",
   "language": "python",
   "name": "python3"
  },
  "language_info": {
   "codemirror_mode": {
    "name": "ipython",
    "version": 3
   },
   "file_extension": ".py",
   "mimetype": "text/x-python",
   "name": "python",
   "nbconvert_exporter": "python",
   "pygments_lexer": "ipython3",
   "version": "3.13.0"
  }
 },
 "nbformat": 4,
 "nbformat_minor": 2
}
