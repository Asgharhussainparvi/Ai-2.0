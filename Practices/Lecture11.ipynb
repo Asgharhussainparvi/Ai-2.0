{
 "cells": [
  {
   "cell_type": "markdown",
   "metadata": {},
   "source": [
    "*****File Handling*****"
   ]
  },
  {
   "cell_type": "code",
   "execution_count": 3,
   "metadata": {},
   "outputs": [
    {
     "ename": "FileExistsError",
     "evalue": "[Errno 17] File exists: 'mynewfile.txt'",
     "output_type": "error",
     "traceback": [
      "\u001b[1;31m---------------------------------------------------------------------------\u001b[0m",
      "\u001b[1;31mFileExistsError\u001b[0m                           Traceback (most recent call last)",
      "Cell \u001b[1;32mIn[3], line 2\u001b[0m\n\u001b[0;32m      1\u001b[0m \u001b[38;5;66;03m#Creating file \u001b[39;00m\n\u001b[1;32m----> 2\u001b[0m f \u001b[38;5;241m=\u001b[39m \u001b[38;5;28;43mopen\u001b[39;49m\u001b[43m(\u001b[49m\u001b[38;5;124;43m\"\u001b[39;49m\u001b[38;5;124;43mmynewfile.txt\u001b[39;49m\u001b[38;5;124;43m\"\u001b[39;49m\u001b[43m,\u001b[49m\u001b[38;5;124;43m\"\u001b[39;49m\u001b[38;5;124;43mx\u001b[39;49m\u001b[38;5;124;43m\"\u001b[39;49m\u001b[43m)\u001b[49m\n",
      "File \u001b[1;32m~\\AppData\\Roaming\\Python\\Python313\\site-packages\\IPython\\core\\interactiveshell.py:324\u001b[0m, in \u001b[0;36m_modified_open\u001b[1;34m(file, *args, **kwargs)\u001b[0m\n\u001b[0;32m    317\u001b[0m \u001b[38;5;28;01mif\u001b[39;00m file \u001b[38;5;129;01min\u001b[39;00m {\u001b[38;5;241m0\u001b[39m, \u001b[38;5;241m1\u001b[39m, \u001b[38;5;241m2\u001b[39m}:\n\u001b[0;32m    318\u001b[0m     \u001b[38;5;28;01mraise\u001b[39;00m \u001b[38;5;167;01mValueError\u001b[39;00m(\n\u001b[0;32m    319\u001b[0m         \u001b[38;5;124mf\u001b[39m\u001b[38;5;124m\"\u001b[39m\u001b[38;5;124mIPython won\u001b[39m\u001b[38;5;124m'\u001b[39m\u001b[38;5;124mt let you open fd=\u001b[39m\u001b[38;5;132;01m{\u001b[39;00mfile\u001b[38;5;132;01m}\u001b[39;00m\u001b[38;5;124m by default \u001b[39m\u001b[38;5;124m\"\u001b[39m\n\u001b[0;32m    320\u001b[0m         \u001b[38;5;124m\"\u001b[39m\u001b[38;5;124mas it is likely to crash IPython. If you know what you are doing, \u001b[39m\u001b[38;5;124m\"\u001b[39m\n\u001b[0;32m    321\u001b[0m         \u001b[38;5;124m\"\u001b[39m\u001b[38;5;124myou can use builtins\u001b[39m\u001b[38;5;124m'\u001b[39m\u001b[38;5;124m open.\u001b[39m\u001b[38;5;124m\"\u001b[39m\n\u001b[0;32m    322\u001b[0m     )\n\u001b[1;32m--> 324\u001b[0m \u001b[38;5;28;01mreturn\u001b[39;00m \u001b[43mio_open\u001b[49m\u001b[43m(\u001b[49m\u001b[43mfile\u001b[49m\u001b[43m,\u001b[49m\u001b[43m \u001b[49m\u001b[38;5;241;43m*\u001b[39;49m\u001b[43margs\u001b[49m\u001b[43m,\u001b[49m\u001b[43m \u001b[49m\u001b[38;5;241;43m*\u001b[39;49m\u001b[38;5;241;43m*\u001b[39;49m\u001b[43mkwargs\u001b[49m\u001b[43m)\u001b[49m\n",
      "\u001b[1;31mFileExistsError\u001b[0m: [Errno 17] File exists: 'mynewfile.txt'"
     ]
    }
   ],
   "source": [
    "#Creating file \n",
    "f = open(\"mynewfile.txt\",\"x\")"
   ]
  },
  {
   "cell_type": "code",
   "execution_count": 5,
   "metadata": {},
   "outputs": [
    {
     "data": {
      "text/plain": [
       "_io.TextIOWrapper"
      ]
     },
     "execution_count": 5,
     "metadata": {},
     "output_type": "execute_result"
    }
   ],
   "source": [
    "#creating and writing\n",
    "f = open(\"mynewfile\",\"w\")\n",
    "type(f)"
   ]
  },
  {
   "cell_type": "code",
   "execution_count": 6,
   "metadata": {},
   "outputs": [],
   "source": [
    "f = open(\"docs.pdf\",\"x\")"
   ]
  },
  {
   "cell_type": "code",
   "execution_count": 5,
   "metadata": {},
   "outputs": [],
   "source": [
    "F = open(\"file.xls\",\"x\")"
   ]
  },
  {
   "cell_type": "code",
   "execution_count": 3,
   "metadata": {},
   "outputs": [
    {
     "data": {
      "text/plain": [
       "76"
      ]
     },
     "execution_count": 3,
     "metadata": {},
     "output_type": "execute_result"
    }
   ],
   "source": [
    "f = open(\"newfile.txt\",\"w\")\n",
    "f.write(\"hello, my name is Asghar Hussain \\n I am writing a python code for myprACTICE\")"
   ]
  },
  {
   "cell_type": "code",
   "execution_count": 18,
   "metadata": {},
   "outputs": [
    {
     "name": "stdout",
     "output_type": "stream",
     "text": [
      "Numerous studies support the role of dopamine in\n",
      " modulating aggression1,2, but the exact neural mechanisms remain elusive\n"
     ]
    }
   ],
   "source": [
    "paragraph = \"Numerous studies support the role of dopamine in\\n modulating aggression1,2, but the exact neural mechanisms remain elusive.\\n Here we show that dopaminergic cells in the ventral tegmental area (VTA) can bidirectionally modulate aggression in male mice\\n in an experience-dependent manner. Although VTA dopaminergic cells strongly influence aggression in novice aggressors, they become ineffective in expert aggressors. Furthermore, eliminating dopamine synthesis in the VTA prevents the emergence of aggression in naive mice but leaves aggression intact in expert aggressors. VTA dopamine modulates aggression through the dorsal lateral septum (dLS), a region known for aggression control. Dopamine enables the flow of information from the hippocampus to the dLS by weakening local inhibition in novice aggressors. In expert aggressors, dLS local inhibition naturally weakens, and the ability of dopamine to modulate dLS cells diminishes. Overall, these results reveal a sophisticated role of dopamine in the rise of aggression in adult male mice.\"\n",
    "sentence = paragraph.split('.')\n",
    "print(sentence[0])\n",
    "\n",
    "# sentence = [sentence.strip() for sentence in paragraph.split(\".\" if sentence.strip())\n"
   ]
  },
  {
   "cell_type": "code",
   "execution_count": 19,
   "metadata": {},
   "outputs": [],
   "source": [
    "paragraph = \"Numerous studies support the role of dopamine in modulating\\n aggression1,2, but the exact neural\\n mechanisms remain elusive. Here we show that dopaminergic cells in\\n the ventral tegmental area (VTA) can bidirectionally modulate aggression in male\\n mice in an experience-dependent manner. Although VTA dopaminergic cells\\n strongly influence aggression in novice aggressors, they become ineffective\\n in expert aggressors. Furthermore, eliminating dopamine synthesis in the\\n VTA prevents the emergence of aggression in naive mice but leaves aggression intact in expert aggressors. VTA dopamine modulates aggression through the dorsal lateral septum (dLS), a region known for aggression control. Dopamine enables the flow of information from the hippocampus to the dLS by weakening local inhibition in novice aggressors. In expert aggressors, dLS local inhibition naturally weakens, and the ability of dopamine to modulate dLS cells diminishes. Overall, these results reveal a sophisticated role of dopamine in the rise of aggression in adult male mice.\"\n",
    "sentence = paragraph.split('.')\n"
   ]
  },
  {
   "cell_type": "code",
   "execution_count": 20,
   "metadata": {},
   "outputs": [],
   "source": [
    "\n",
    "sentence = [sentence.strip() for sentence in paragraph.split(\".\") if sentence.strip()]"
   ]
  },
  {
   "cell_type": "code",
   "execution_count": 21,
   "metadata": {},
   "outputs": [],
   "source": [
    "f = open(\"firstfile.txt\",\"a\")\n",
    "f.writelines(sentence)\n",
    "f.close()"
   ]
  },
  {
   "cell_type": "code",
   "execution_count": 2,
   "metadata": {},
   "outputs": [
    {
     "ename": "NameError",
     "evalue": "name 'operation' is not defined",
     "output_type": "error",
     "traceback": [
      "\u001b[1;31m---------------------------------------------------------------------------\u001b[0m",
      "\u001b[1;31mNameError\u001b[0m                                 Traceback (most recent call last)",
      "Cell \u001b[1;32mIn[2], line 1\u001b[0m\n\u001b[1;32m----> 1\u001b[0m \u001b[38;5;28;01mwhile\u001b[39;00m \u001b[43moperation\u001b[49m \u001b[38;5;241m==\u001b[39m \u001b[38;5;124m\"\u001b[39m\u001b[38;5;124m1\u001b[39m\u001b[38;5;124m\"\u001b[39m:\n\u001b[0;32m      2\u001b[0m     operation \u001b[38;5;241m=\u001b[39m \u001b[38;5;28minput\u001b[39m(\u001b[38;5;124m\"\u001b[39m\u001b[38;5;124m1 for continue and 0 for end task\u001b[39m\u001b[38;5;124m\"\u001b[39m)\n\u001b[0;32m      3\u001b[0m     user_name \u001b[38;5;241m=\u001b[39m \u001b[38;5;28minput\u001b[39m(\u001b[38;5;124m\"\u001b[39m\u001b[38;5;124mEnter user name here :\u001b[39m\u001b[38;5;124m\"\u001b[39m)\n",
      "\u001b[1;31mNameError\u001b[0m: name 'operation' is not defined"
     ]
    }
   ],
   "source": [
    "\n",
    "while operation == \"1\":\n",
    "    operation = input(\"1 for continue and 0 for end task\")\n",
    "    user_name = input(\"Enter user name here :\")\n",
    "    user_age = input(\"Enter user age here :\")\n",
    "    sent = f\"Student name is {user_name}, \\n and student age is {user_age}\"\n",
    "    f = open(\"studentinfo.txt\",\"w\")\n",
    "    f.writelines(sent)\n",
    "    f.close()\n",
    "\n",
    "\n"
   ]
  },
  {
   "cell_type": "code",
   "execution_count": 5,
   "metadata": {},
   "outputs": [
    {
     "name": "stdout",
     "output_type": "stream",
     "text": [
      "['Numerous studies support the role of dopamine in modulating aggression1,2, but the exact neural mechanisms remain elusiveHere we show that dopaminergic cells in the ventral tegmental area (VTA) can bidirectionally modulate aggression in male mice in an experience-dependent mannerAlthough VTA dopaminergic cells strongly influence aggression in novice aggressors, they become ineffective in expert aggressorsFurthermore, eliminating dopamine synthesis in the VTA prevents the emergence of aggression in naive mice but leaves aggression intact in expert aggressorsVTA dopamine modulates aggression through the dorsal lateral septum (dLS), a region known for aggression controlDopamine enables the flow of information from the hippocampus to the dLS by weakening local inhibition in novice aggressorsIn expert aggressors, dLS local inhibition naturally weakens, and the ability of dopamine to modulate dLS cells diminishesOverall, these results reveal a sophisticated role of dopamine in the rise of aggression in adult male miceNumerous studies support the role of dopamine in modulating\\n', ' aggression1,2, but the exact neural\\n', ' mechanisms remain elusiveHere we show that dopaminergic cells in\\n', ' the ventral tegmental area (VTA) can bidirectionally modulate aggression in male\\n', ' mice in an experience-dependent mannerAlthough VTA dopaminergic cells\\n', ' strongly influence aggression in novice aggressors, they become ineffective\\n', ' in expert aggressorsFurthermore, eliminating dopamine synthesis in the\\n', ' VTA prevents the emergence of aggression in naive mice but leaves aggression intact in expert aggressorsVTA dopamine modulates aggression through the dorsal lateral septum (dLS), a region known for aggression controlDopamine enables the flow of information from the hippocampus to the dLS by weakening local inhibition in novice aggressorsIn expert aggressors, dLS local inhibition naturally weakens, and the ability of dopamine to modulate dLS cells diminishesOverall, these results reveal a sophisticated role of dopamine in the rise of aggression in adult male miceNumerous studies support the role of dopamine in modulating\\n', ' aggression1,2, but the exact neural\\n', ' mechanisms remain elusiveHere we show that dopaminergic cells in\\n', ' the ventral tegmental area (VTA) can bidirectionally modulate aggression in male\\n', ' mice in an experience-dependent mannerAlthough VTA dopaminergic cells\\n', ' strongly influence aggression in novice aggressors, they become ineffective\\n', ' in expert aggressorsFurthermore, eliminating dopamine synthesis in the\\n', ' VTA prevents the emergence of aggression in naive mice but leaves aggression intact in expert aggressorsVTA dopamine modulates aggression through the dorsal lateral septum (dLS), a region known for aggression controlDopamine enables the flow of information from the hippocampus to the dLS by weakening local inhibition in novice aggressorsIn expert aggressors, dLS local inhibition naturally weakens, and the ability of dopamine to modulate dLS cells diminishesOverall, these results reveal a sophisticated role of dopamine in the rise of aggression in adult male mice']\n"
     ]
    }
   ],
   "source": [
    "f = open(\"firstfile.txt\",\"r\")\n",
    "print(f.readlines())"
   ]
  },
  {
   "cell_type": "code",
   "execution_count": 26,
   "metadata": {},
   "outputs": [
    {
     "name": "stdout",
     "output_type": "stream",
     "text": [
      "Number of lines: 1\n",
      "Number of words: 234\n",
      "Number of sentences: 18\n"
     ]
    }
   ],
   "source": [
    "# Reading the file and counting lines, sentences, and words\n",
    "with open('research.txt', 'r') as file:\n",
    "    data = file.readlines()\n",
    "\n",
    "line_count = len(data)\n",
    "word_count = 0\n",
    "sentence_count = 0\n",
    "\n",
    "for line in data:\n",
    "    words = line.split()\n",
    "    word_count += len(words)\n",
    "    \n",
    "    sentences = line.split('.')\n",
    "    sentence_count += len(sentences)\n",
    "\n",
    "# Displaying the results\n",
    "print(f\"Number of lines: {line_count}\")\n",
    "print(f\"Number of words: {word_count}\")\n",
    "print(f\"Number of sentences: {sentence_count}\")\n"
   ]
  },
  {
   "cell_type": "code",
   "execution_count": 27,
   "metadata": {},
   "outputs": [
    {
     "name": "stdout",
     "output_type": "stream",
     "text": [
      "Number of sentences in line 1: 18\n",
      "Number of words in line 1: 234\n"
     ]
    }
   ],
   "source": [
    "# Reading the file and counting lines, sentences, and words\n",
    "with open('research.txt', 'r') as file:\n",
    "    data = file.readlines()\n",
    "\n",
    "# Counting sentences and words in each line\n",
    "for i, line in enumerate(data, start=1):\n",
    "    sentences = line.split('.')\n",
    "    print(f\"Number of sentences in line {i}: {len(sentences)}\")\n",
    "    words = line.split()\n",
    "    print(f\"Number of words in line {i}: {len(words)}\")"
   ]
  },
  {
   "cell_type": "code",
   "execution_count": 28,
   "metadata": {},
   "outputs": [
    {
     "name": "stdout",
     "output_type": "stream",
     "text": [
      "Number of words in each sentence: 22\n",
      "Number of words in each sentence: 7\n",
      "Number of words in each sentence: 5\n",
      "Number of words in each sentence: 7\n",
      "Number of words in each sentence: 24\n",
      "Number of words in each sentence: 8\n",
      "Number of words in each sentence: 20\n",
      "Number of words in each sentence: 8\n",
      "Number of words in each sentence: 15\n",
      "Number of words in each sentence: 13\n",
      "Number of words in each sentence: 17\n",
      "Number of words in each sentence: 17\n",
      "Number of words in each sentence: 16\n",
      "Number of words in each sentence: 7\n",
      "Number of words in each sentence: 12\n",
      "Number of words in each sentence: 23\n",
      "Number of words in each sentence: 13\n",
      "Number of words in each sentence: 0\n"
     ]
    }
   ],
   "source": [
    "# Reading the file and counting lines, sentences, and words\n",
    "with open('research.txt', 'r') as file:\n",
    "    data = file.readlines()\n",
    "    \n",
    "# Counting words in each sentence\n",
    "for line in data:\n",
    "    sentences = line.split('.')\n",
    "    for sentence in sentences:\n",
    "        words_in_sentence = sentence.split()\n",
    "        print(f\"Number of words in each sentence: {len(words_in_sentence)}\")\n"
   ]
  },
  {
   "cell_type": "code",
   "execution_count": 31,
   "metadata": {},
   "outputs": [
    {
     "name": "stdout",
     "output_type": "stream",
     "text": [
      "Word Frequencies:\n",
      "What: 1\n",
      "can: 3\n",
      "a: 10\n",
      "person: 4\n",
      "do: 2\n",
      "to: 13\n",
      "learn: 2\n",
      "proper: 1\n",
      "scheduling?: 1\n",
      "Professionals: 1\n",
      "give: 1\n",
      "seven: 1\n",
      "tips: 1\n",
      "that: 6\n",
      "help: 1\n",
      "everyone: 1\n",
      "get: 3\n",
      "more: 2\n",
      "control: 1\n",
      "over: 1\n",
      "time.: 1\n",
      "The: 3\n",
      "first: 1\n",
      "one: 3\n",
      "is: 8\n",
      "set: 2\n",
      "goals.: 1\n",
      "Motivation: 1\n",
      "an: 1\n",
      "ignition: 1\n",
      "key.: 1\n",
      "Moreover,: 2\n",
      "the: 7\n",
      "goal: 1\n",
      "be: 3\n",
      "achievable.: 1\n",
      "If: 1\n",
      "bad: 1\n",
      "at: 1\n",
      "Geometry: 1\n",
      "and: 6\n",
      "creation: 1\n",
      "of: 3\n",
      "new: 2\n",
      "things,: 1\n",
      "it: 1\n",
      "better: 1\n",
      "not: 3\n",
      "dream: 1\n",
      "about: 1\n",
      "becoming: 1\n",
      "top: 1\n",
      "designer.: 1\n",
      "next: 2\n",
      "task: 2\n",
      "prioritizing: 1\n",
      "concepts.: 1\n",
      "People: 1\n",
      "often: 2\n",
      "tasks: 4\n",
      "done: 2\n",
      "later: 1\n",
      "but: 2\n",
      "delay: 1\n",
      "duties: 1\n",
      "should: 1\n",
      "here: 1\n",
      "right: 1\n",
      "now.: 1\n",
      "they: 1\n",
      "neglect: 1\n",
      "are: 1\n",
      "long-perspective.: 1\n",
      "For: 1\n",
      "example,: 1\n",
      "needs: 2\n",
      "master: 1\n",
      "second: 2\n",
      "language: 2\n",
      "desired: 1\n",
      "occupation.: 1\n",
      "She: 1\n",
      "does: 1\n",
      "other: 1\n",
      "forgets: 1\n",
      "memorize: 1\n",
      "words: 1\n",
      "practice: 1\n",
      "daily.: 1\n",
      "As: 1\n",
      "result,: 1\n",
      "she: 1\n",
      "will: 1\n",
      "job: 1\n",
      "because: 1\n",
      "mastering: 1\n",
      "demands: 1\n",
      "than: 1\n",
      "day.: 2\n",
      "recommendation: 1\n",
      "time: 1\n",
      "frames: 1\n",
      "for: 2\n",
      "each: 1\n",
      "try: 1\n",
      "change: 1\n",
      "them.: 1\n",
      "When: 1\n",
      "sees: 1\n",
      "approaching: 1\n",
      "deadline,: 1\n",
      "he: 1\n",
      "speeds: 1\n",
      "up: 1\n",
      "bit: 1\n",
      "stops: 1\n",
      "delaying: 1\n",
      "duties.: 1\n",
      "Another: 1\n",
      "essential: 1\n",
      "thing: 1\n",
      "have: 1\n",
      "rest.: 1\n",
      "Brains: 1\n",
      "human: 1\n",
      "bodies,: 1\n",
      "in: 2\n",
      "general,: 1\n",
      "cannot: 1\n",
      "function: 1\n",
      "well: 1\n",
      "when: 1\n",
      "being: 1\n",
      "exhausted.: 1\n",
      "Everybody: 1\n",
      "knows: 1\n",
      "20: 1\n",
      "minutes: 1\n",
      "noon: 1\n",
      "sleep: 1\n",
      "restores: 1\n",
      "vital: 1\n",
      "energy: 1\n",
      "helps: 1\n",
      "handle: 1\n",
      "half: 1\n",
      "Except: 1\n",
      "bedtime,: 1\n",
      "enjoy: 1\n",
      "hobby: 1\n",
      "or: 1\n",
      "pleasant: 1\n",
      "activity.: 1\n"
     ]
    }
   ],
   "source": [
    "# Reading the file and counting lines, sentences, and words\n",
    "with open('research.txt', 'r') as file:\n",
    "    data = file.readlines()\n",
    "    \n",
    "# Calculating word frequencies\n",
    "word_freq = {}\n",
    "for line in data:\n",
    "    words = line.split()\n",
    "    for word in words:\n",
    "        word_freq[word] = word_freq.get(word, 0) + 1\n",
    "\n",
    "# Displaying word frequencies\n",
    "print(\"Word Frequencies:\")\n",
    "for word, freq in word_freq.items():\n",
    "    print(f\"{word}: {freq}\")\n"
   ]
  },
  {
   "cell_type": "code",
   "execution_count": null,
   "metadata": {},
   "outputs": [],
   "source": []
  }
 ],
 "metadata": {
  "kernelspec": {
   "display_name": "Python 3",
   "language": "python",
   "name": "python3"
  },
  "language_info": {
   "codemirror_mode": {
    "name": "ipython",
    "version": 3
   },
   "file_extension": ".py",
   "mimetype": "text/x-python",
   "name": "python",
   "nbconvert_exporter": "python",
   "pygments_lexer": "ipython3",
   "version": "3.13.0"
  }
 },
 "nbformat": 4,
 "nbformat_minor": 2
}
