{
 "cells": [
  {
   "cell_type": "markdown",
   "metadata": {},
   "source": [
    "### Introduction to `enumerate()`\n",
    "\n",
    "The `enumerate()` function is a built-in Python utility that simplifies iteration by associating a counter with each element of an iterable. This counter allows you to keep track of both the index and the element during iteration, which is particularly useful in loops.\n",
    "\n",
    "Syntax:\n",
    "\n",
    "enumerate(iterable, start=0)\n",
    "\n",
    "iterable: Any object capable of iteration (e.g., list, tuple, string).\n",
    "\n",
    "start: The starting index for the counter (default is 0).\n",
    "\n"
   ]
  },
  {
   "cell_type": "markdown",
   "metadata": {},
   "source": [
    "### Understanding the Basics\n",
    "Let’s begin with a basic example."
   ]
  },
  {
   "cell_type": "code",
   "execution_count": 4,
   "metadata": {},
   "outputs": [
    {
     "name": "stdout",
     "output_type": "stream",
     "text": [
      "{0: 'apple', 1: 'banana', 2: 'cherry'}\n"
     ]
    }
   ],
   "source": [
    "# Example: Basic usage\n",
    "fruits = ['apple', 'banana', 'cherry']\n",
    "enum_fruits = enumerate(fruits)\n",
    "\n",
    "# Convert to list to visualize the output\n",
    "print(dict(enum_fruits))\n",
    "\n",
    "# Example: Custom starting index"
   ]
  },
  {
   "cell_type": "markdown",
   "metadata": {},
   "source": [
    "### Using `enumerate()` in Loops\n",
    "The `enumerate()` function is often used in loops to retrieve both the index and the element. Here are some examples:"
   ]
  },
  {
   "cell_type": "code",
   "execution_count": 17,
   "metadata": {},
   "outputs": [
    {
     "name": "stdout",
     "output_type": "stream",
     "text": [
      "0 eat\n",
      "1 sleep\n",
      "2 repeat\n",
      "100 eat\n",
      "101 sleep\n",
      "102 repeat\n"
     ]
    }
   ],
   "source": [
    "l1 = [\"eat\", \"sleep\", \"repeat\"]\n",
    "\n",
    "list_enumrate = enumerate(l1)\n",
    "list_enumrate2 = enumerate(l1,start=100)\n",
    "\n",
    "# Accessing index and element together\n",
    "for index, element in list_enumrate:\n",
    "    print(index,element)\n",
    "\n",
    "# Changing starting index\n",
    "for index, element in list_enumrate2:\n",
    "    print(index,element)\n",
    "\n"
   ]
  },
  {
   "cell_type": "markdown",
   "metadata": {},
   "source": [
    "### Practical Applications\n",
    "Here are some common use cases of `enumerate()`:"
   ]
  },
  {
   "cell_type": "code",
   "execution_count": 5,
   "metadata": {},
   "outputs": [
    {
     "name": "stdout",
     "output_type": "stream",
     "text": [
      "Index 0 is even, Value: 10\n",
      "Index 2 is even, Value: 30\n"
     ]
    }
   ],
   "source": [
    "numbers = [10, 20, 30, 40]\n",
    "\n",
    "for index, value in enumerate(numbers):\n",
    "    if index % 2 == 0:\n",
    "        print(f\"Index {index} is even, Value: {value}\")\n"
   ]
  },
  {
   "cell_type": "markdown",
   "metadata": {},
   "source": [
    "\n",
    "### Practice question\n",
    "You manage a to-do list, and some tasks are marked as high-priority. You want to highlight the high-priority tasks along with their positions in the list.\n",
    "\n",
    "Task: Given a list of tasks, print only the high-priority tasks and their positions. Assume high-priority tasks contain the word \"URGENT\"."
   ]
  },
  {
   "cell_type": "code",
   "execution_count": 7,
   "metadata": {},
   "outputs": [
    {
     "name": "stdout",
     "output_type": "stream",
     "text": [
      "11 URGENT: Fix the server issue\n",
      "13 URGENT: Respond to the client email\n"
     ]
    }
   ],
   "source": [
    "tasks = [\n",
    "    \"Complete the project report\",\n",
    "    \"URGENT: Fix the server issue\",\n",
    "    \"Prepare for the meeting\",\n",
    "    \"URGENT: Respond to the client email\",\n",
    "    \"Submit the monthly budget\"\n",
    "]\n",
    "\n",
    "for index , task in enumerate(tasks,start=10):\n",
    "    if \"URGENT\" in task:\n",
    "        print(index , task)\n",
    "\n",
    "    \n",
    "\n",
    "\n",
    "\n",
    "# Using enumerate to loop through the tasks with their index\n",
    "# The index starts from 1 for better readability in output\n",
    "\n",
    "    # Check if the task contains the keyword \"URGENT\"\n",
    "    \n",
    "        # Print the high-priority task along with its index\n",
    "        "
   ]
  },
  {
   "cell_type": "markdown",
   "metadata": {},
   "source": [
    "### Overview of zip()\n",
    "The zip() function in Python combines multiple iterables (like lists, tuples, strings, etc.) into an iterator of tuples, where each tuple contains elements from the input iterables at the same position. It stops creating tuples when the shortest iterable is exhausted.\n",
    "#### Syntax\n",
    "\n",
    "zip(iterable1, iterable2, iterable3, ...)\n",
    "\n",
    "Parameters: One or more iterables (e.g., lists, tuples).\n",
    "\n",
    "Returns: An iterator of tuples, where each tuple contains corresponding elements from the iterables.\n",
    "\n",
    "\n"
   ]
  },
  {
   "cell_type": "markdown",
   "metadata": {},
   "source": [
    "**Handling Unequal Lengths**: If the iterables have different lengths, zip() stops at the shortest one:"
   ]
  },
  {
   "cell_type": "code",
   "execution_count": 12,
   "metadata": {},
   "outputs": [
    {
     "name": "stdout",
     "output_type": "stream",
     "text": [
      "{'John': 'Jenny', 'Charles': 'Christy', 'Mike': 'Monica'}\n"
     ]
    }
   ],
   "source": [
    "a = [\"John\", \"Charles\", \"Mike\"]\n",
    "b = (\"Jenny\", \"Christy\", \"Monica\", \"Vicky\")\n",
    "result = zip(a, b)\n",
    "print(dict(result))"
   ]
  },
  {
   "cell_type": "markdown",
   "metadata": {},
   "source": [
    "**Unzipping Data**: The * operator is used to reverse the zipping process:\n",
    "\n"
   ]
  },
  {
   "cell_type": "code",
   "execution_count": 38,
   "metadata": {},
   "outputs": [
    {
     "name": "stdout",
     "output_type": "stream",
     "text": [
      "['Apple', 'Banana', 'Orange']\n"
     ]
    }
   ],
   "source": [
    "a = [('Apple', 10), ('Banana', 20), ('Orange', 30)]\n",
    "fruits,quantities = zip(*a)\n",
    "print(list(fruits))\n"
   ]
  },
  {
   "cell_type": "markdown",
   "metadata": {},
   "source": [
    "**Practice Question**\n",
    "\n",
    "You are a teacher managing a class of students. You have a list of student names, a list of attendance records (where True represents attendance and False represents absence), and a list of their scores in a recent exam. You need to pair each student's name with their attendance and score, then generate a report indicating if the student was present and their corresponding score.\n",
    "\n",
    "**Solution Approach:**\n",
    "\n",
    "Use zip() to pair each student's name, attendance record, and score.\n",
    "\n",
    "Use enumerate() to display the student's index along with their details."
   ]
  },
  {
   "cell_type": "code",
   "execution_count": 58,
   "metadata": {},
   "outputs": [
    {
     "name": "stdout",
     "output_type": "stream",
     "text": [
      "1:John is Present and his/her score is 85\n",
      "2:Alice is Absent and his/her score is 90\n",
      "3:Bob is Present and his/her score is 78\n",
      "4:Lucy is Present and his/her score is 92\n"
     ]
    }
   ],
   "source": [
    "names = [\"John\", \"Alice\", \"Bob\", \"Lucy\"]\n",
    "attendance = [True, False, True, True]\n",
    "scores = [85, 90, 78, 92]\n",
    "\n",
    "students_info = zip(names,attendance,scores)\n",
    "\n",
    "for index,(student, attendance , score) in enumerate(students_info,start=1):\n",
    "    print(f\"{index}:{student} is {\"Present\" if attendance == True  else \"Absent\"} and his/her score is {score}\")\n",
    "\n",
    "\n",
    "# Combine the lists using zip to group the corresponding elements together\n",
    "\n",
    "\n",
    "# Display the report using enumerate to also include the index for each student\n",
    "# The index starts from 1 for better readability in output\n",
    "\n",
    "    # Determine the attendance status based on the boolean value\n",
    "    \n",
    "    \n",
    "    # Print the student report with the index, name, attendance status, and score\n",
    "    "
   ]
  },
  {
   "cell_type": "markdown",
   "metadata": {},
   "source": [
    "### While Loop in Python\n",
    "The while loop in Python allows you to repeatedly execute a block of code as long as a condition is True."
   ]
  },
  {
   "cell_type": "code",
   "execution_count": 75,
   "metadata": {},
   "outputs": [
    {
     "name": "stdout",
     "output_type": "stream",
     "text": [
      "Counter is 1\n",
      "Counter is 2\n",
      "Counter is 3\n",
      "Counter is 4\n",
      "Counter is 5\n",
      "Counter is 6\n",
      "Counter is 7\n",
      "Counter is 8\n",
      "Counter is 9\n",
      "Counter is 10\n",
      "Loop finished without break.\n"
     ]
    }
   ],
   "source": [
    "# Initialize counter\n",
    "counter = 0\n",
    "\n",
    "# Start while loop\n",
    "while counter < 10:\n",
    "    counter += 1  # Increment counter\n",
    "\n",
    "    # # If counter is 3, skip the rest of the loop and continue to next iteration\n",
    "    # if counter == 3:\n",
    "    #     continue\n",
    "\n",
    "    # # If counter is 4, break the loop and exit\n",
    "    # if counter == 8:\n",
    "    #     break\n",
    "    \n",
    "    print(f\"Counter is {counter}\")\n",
    "    \n",
    "\n",
    "else:\n",
    "    # This block runs only if while loop completes without break\n",
    "    print(\"Loop finished without break.\")\n"
   ]
  },
  {
   "cell_type": "code",
   "execution_count": 76,
   "metadata": {},
   "outputs": [],
   "source": [
    "list = [1,2,3,4,5,6,7,7,8,8,9,9,10,11,12,13,14,15,16,17]\n",
    "i = 0\n",
    "while list[i] == 13 :\n",
    "    i+=1\n",
    "    print(i)"
   ]
  },
  {
   "cell_type": "markdown",
   "metadata": {},
   "source": [
    "#### **Practice project**\n",
    "\n",
    "Create a program that implements a simple to-do list using a while loop. The program should allow the user to:\n",
    "\n",
    "View the current list of tasks along with their completion status.\n",
    "Add a new task to the list.\n",
    "Remove a task by selecting its number from the list.\n",
    "Mark a specific task as completed.\n",
    "Exit the program.\n",
    "The program should:\n",
    "\n",
    "Display a menu of options to the user.\n",
    "Use enumerate() to display the tasks with their indices.\n",
    "Handle invalid inputs gracefully using try-except blocks.\n",
    "Continue running until the user selects the option to exit."
   ]
  },
  {
   "cell_type": "code",
   "execution_count": 4,
   "metadata": {},
   "outputs": [
    {
     "name": "stdout",
     "output_type": "stream",
     "text": [
      "\n",
      "----- To-Do List Menu -----\n",
      "1. Add Task\n",
      "2. Remove Task\n",
      "3. View Tasks\n",
      "4. Exit\n"
     ]
    },
    {
     "name": "stdout",
     "output_type": "stream",
     "text": [
      "\n",
      "----- To-Do List Menu -----\n",
      "1. Add Task\n",
      "2. Remove Task\n",
      "3. View Tasks\n",
      "4. Exit\n",
      "\n",
      "----- To-Do List Menu -----\n",
      "1. Add Task\n",
      "2. Remove Task\n",
      "3. View Tasks\n",
      "4. Exit\n",
      "\n",
      "----- To-Do List Menu -----\n",
      "1. Add Task\n",
      "2. Remove Task\n",
      "3. View Tasks\n",
      "4. Exit\n",
      "Your Tasks are : ['asghar', 'hussain', 'abdulah']\n",
      "\n",
      "----- To-Do List Menu -----\n",
      "1. Add Task\n",
      "2. Remove Task\n",
      "3. View Tasks\n",
      "4. Exit\n",
      "Thank you ! \n",
      "Your Tasks are : ['asghar', 'hussain', 'abdulah']\n"
     ]
    }
   ],
   "source": [
    "# Initialize an empty list to store tasks\n",
    "\n",
    "my_tasks = []\n",
    "user_choice = 0\n",
    "# Start the while loop for the menu\n",
    "while user_choice != 4:\n",
    "    # Display the menu of options for the user\n",
    "    print(\"\\n----- To-Do List Menu -----\")\n",
    "    print(\"1. Add Task\")\n",
    "    print(\"2. Remove Task\")\n",
    "    print(\"3. View Tasks\")\n",
    "    print(\"4. Exit\")\n",
    "\n",
    "    \n",
    "    # Get the user's choice for the menu option\n",
    "    user_choice = int(input(\"Enter your choice here :\"))\n",
    "    if user_choice == 1:\n",
    "        new_task = input(\"Enter new task here :\")\n",
    "        my_tasks.append(new_task)\n",
    "        \n",
    "    elif user_choice == 2:\n",
    "        index = int(input(\"Which index task you want to delete :\"))\n",
    "        \n",
    "        my_tasks.pop(index)\n",
    "    elif user_choice == 3:\n",
    "        print(f\"Your Tasks are : {my_tasks}\")\n",
    "    elif user_choice == 4:\n",
    "        print(\"Thank you ! \")\n",
    "        print(f\"Your Tasks are : {my_tasks}\")\n",
    "    else:\n",
    "        print(\"The index error ! put valid index \")\n",
    "    \n",
    "\n",
    "\n",
    "    \n",
    "\n",
    "    # Add a new task to the list\n",
    "    \n",
    "        # Prompt the user for the task name\n",
    "\n",
    "        # Add the task to the list\n",
    "\n",
    "        # Confirm task has been added\n",
    "\n",
    "    # Remove a task from the list\n",
    "    \n",
    "        # Check if there are any tasks to remove\n",
    "\n",
    "        # Inform the user if the task list is empty\n",
    "\n",
    "        #else\n",
    "\n",
    "            \n",
    "            # Display the current list of tasks with numbers\n",
    "\n",
    "            # Use enumerate to display task numbers\n",
    "                \n",
    "            # Prompt the user to enter the task number to remove\n",
    "            \n",
    "            # Check if the input is a valid task number\n",
    "            \n",
    "                # Convert task number to list index\n",
    "\n",
    "                # Remove the task from the list\n",
    "\n",
    "                # Confirm removal\n",
    "            #else\n",
    "\n",
    "                # Handle invalid task number input\n",
    "\n",
    "    # View all tasks\n",
    "    \n",
    "        # Check if there are any tasks to view\n",
    "        \n",
    "            # Inform the user if the task list is empty\n",
    "\n",
    "        #else:\n",
    "\n",
    "            \n",
    "            # Display all tasks in the list with numbers\n",
    "\n",
    "              # Use enumerate to display task numbers\n",
    "                \n",
    "\n",
    "    # Exit the program\n",
    "    \n",
    "         # Display a goodbye message\n",
    "\n",
    "        # Exit the loop and terminate the program\n",
    "\n",
    "    # Handle invalid option input\n",
    "    #else\n",
    "\n",
    "        # Inform the user if the input is invalid\n"
   ]
  },
  {
   "cell_type": "code",
   "execution_count": null,
   "metadata": {},
   "outputs": [],
   "source": []
  }
 ],
 "metadata": {
  "kernelspec": {
   "display_name": "Python 3",
   "language": "python",
   "name": "python3"
  },
  "language_info": {
   "codemirror_mode": {
    "name": "ipython",
    "version": 3
   },
   "file_extension": ".py",
   "mimetype": "text/x-python",
   "name": "python",
   "nbconvert_exporter": "python",
   "pygments_lexer": "ipython3",
   "version": "3.13.0"
  }
 },
 "nbformat": 4,
 "nbformat_minor": 2
}
