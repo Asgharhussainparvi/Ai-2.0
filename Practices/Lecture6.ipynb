{
 "cells": [
  {
   "cell_type": "markdown",
   "metadata": {
    "notebookRunGroups": {
     "groupValue": "1"
    }
   },
   "source": [
    "***Dictionaries***"
   ]
  },
  {
   "cell_type": "code",
   "execution_count": 2,
   "metadata": {},
   "outputs": [
    {
     "name": "stdout",
     "output_type": "stream",
     "text": [
      "{'name': 'Asghar', 'id ': 1234, 'Dept': 'Software Engineering'}\n"
     ]
    }
   ],
   "source": [
    "my_dic = {\n",
    "    \"name\" : \"Asghar\",\n",
    "    \"id \" : 1234,\n",
    "    \"Dept\" : \"Software Engineering\"\n",
    "}\n",
    "\n",
    "print(my_dic)"
   ]
  },
  {
   "cell_type": "code",
   "execution_count": 3,
   "metadata": {},
   "outputs": [
    {
     "name": "stdout",
     "output_type": "stream",
     "text": [
      "{'name': 'Asghar', 'age ': 21, 'Dept': 'Software Engineering'}\n"
     ]
    }
   ],
   "source": [
    "dic_1 = {\n",
    "    \"name\" : \"Asghar\",\n",
    "    \"age \" : 21,\n",
    "    \"Dept\" : \"Software Engineering\"\n",
    "}\n",
    "\n",
    "print(dic_1)"
   ]
  },
  {
   "cell_type": "code",
   "execution_count": 35,
   "metadata": {},
   "outputs": [
    {
     "name": "stdout",
     "output_type": "stream",
     "text": [
      "dict_keys(['name', 'year'])\n",
      "dict_values(['Asghar', 2024])\n",
      "{'name': 'Asghar', 'year': '2025', 'semester': '3rd'}\n"
     ]
    }
   ],
   "source": [
    "dic_2 = { \n",
    "  \"name\":\"Asghar\",\n",
    "  \"year\" : 2023,\n",
    "  \"year\" : 2024\n",
    "}\n",
    "\n",
    "print(dic_2.keys())\n",
    "print(dic_2.values())\n",
    "\n",
    "dic_2[\"year\"] = \"2025\"\n",
    "dic_2[\"semester\"] = \"3rd\"\n",
    "\n",
    "print(dic_2)"
   ]
  },
  {
   "cell_type": "code",
   "execution_count": 29,
   "metadata": {},
   "outputs": [
    {
     "name": "stdout",
     "output_type": "stream",
     "text": [
      "{'names': ['asghar', 'ali', 'sohail'], 'ages': [23, 24, 23], 'depts': ['SE', 'AI', 'IT']}\n",
      "--------------------------------------------------\n",
      "the names of students are :['asghar', 'ali', 'sohail']\n",
      "--------------------------------------------------\n",
      "dict_items([('names', ['asghar', 'ali', 'sohail']), ('ages', [23, 24, 23]), ('depts', ['SE', 'AI', 'IT'])])\n",
      "--------------------------------------------------\n",
      "['SE', 'AI', 'IT']\n",
      "--------------------------------------------------\n",
      "[23, 24, 23]\n",
      "--------------------------------------------------\n",
      "{'names': ['asghar', 'ali', 'sohail'], 'ages': [23, 24, 23], 'depts': ['SE', 'AI', 'IT']}\n",
      "--------------------------------------------------\n",
      "<class 'dict_keys'>\n",
      "--------------------------------------------------\n",
      "dict_values([['asghar', 'ali', 'sohail'], [23, 24, 23], ['SE', 'AI', 'IT']])\n"
     ]
    }
   ],
   "source": [
    "dic_3 = {\n",
    "    \"names\" : [\"asghar\",\"ali\",\"sohail\"],\n",
    "    \"ages\" :[23,24,23],\n",
    "    \"depts\" : [\"SE\",\"AI\",\"IT\"]\n",
    "}\n",
    "\n",
    "print(dic_3)\n",
    "\n",
    "print(\"-\"*50)\n",
    "print(f\"the names of students are :{dic_3[\"names\"]}\")\n",
    "\n",
    "print(\"-\"*50)\n",
    "print(dic_3.items())\n",
    "\n",
    "print(\"-\"*50)\n",
    "print(dic_3.get(\"depts\"))\n",
    "\n",
    "print(\"-\"*50)\n",
    "print(dic_3[\"ages\"])\n",
    "\n",
    "print(\"-\"*50)\n",
    "dic_4 = dic_3.copy()\n",
    "\n",
    "\n",
    "print(dic_4)\n",
    "\n",
    "print(\"-\"*50)\n",
    "print(type(dic_4.keys()))\n",
    "\n",
    "print(\"-\"*50)\n",
    "print(dic_4.values())"
   ]
  },
  {
   "cell_type": "code",
   "execution_count": 40,
   "metadata": {},
   "outputs": [
    {
     "name": "stdout",
     "output_type": "stream",
     "text": [
      "True\n",
      "True\n"
     ]
    }
   ],
   "source": [
    "dic_5 = {\n",
    "    \"a\" : 1,\n",
    "    \"b\" : 2,\n",
    "    \"c\" : 3\n",
    "}\n",
    "\n",
    "print(\"a\" in dic_5)\n",
    "print(1 in dic_5.values())"
   ]
  },
  {
   "cell_type": "code",
   "execution_count": 76,
   "metadata": {},
   "outputs": [
    {
     "name": "stdout",
     "output_type": "stream",
     "text": [
      "False\n",
      "{'x': [1, 2, 3, 4], 'y': [5, 6, 7, 8], 'z': [9, 10, 11, 12], 'w': [-4, -3, -2, -1]}\n",
      "Dic after appending in vlaues 1 dict_values([[1, 2, 3, 4, 5], [5, 6, 7, 8, 3], [9, 10, 11, 12], [-4, -3, -2, -1]])\n"
     ]
    }
   ],
   "source": [
    "dic_6 = {\n",
    "    \"x\" : [1,2,3,4],\n",
    "    \"y\" : [5,6,7,8],\n",
    "    \"z\" : [9,10,11,12]\n",
    "}\n",
    "\n",
    "print(4 in dic_6.values())\n",
    "\n",
    "dic_6.update({\"w\" :[-4,-3,-2,-1]})\n",
    "print(dic_6)\n",
    "\n",
    "dic_6[\"x\"].append(5)\n",
    "dic_6[\"y\"].insert(8,3)\n",
    "\n",
    "print(f\"Dic after appending in vlaues 1 {dic_6.values()}\")"
   ]
  },
  {
   "cell_type": "code",
   "execution_count": 59,
   "metadata": {},
   "outputs": [
    {
     "name": "stdout",
     "output_type": "stream",
     "text": [
      "{'x': [1, 2, 3, 4], 'y': [5, 6, 7, 8], 'w': [-4, -3, -2, -1]}\n"
     ]
    }
   ],
   "source": [
    "dic_6.pop(\"z\")\n",
    "\n",
    "print(dic_6)"
   ]
  },
  {
   "cell_type": "code",
   "execution_count": 60,
   "metadata": {},
   "outputs": [
    {
     "name": "stdout",
     "output_type": "stream",
     "text": [
      "{'y': [5, 6, 7, 8], 'w': [-4, -3, -2, -1]}\n"
     ]
    }
   ],
   "source": [
    "del dic_6[\"x\"]\n",
    "\n",
    "print(dic_6)"
   ]
  },
  {
   "cell_type": "code",
   "execution_count": 61,
   "metadata": {},
   "outputs": [
    {
     "name": "stdout",
     "output_type": "stream",
     "text": [
      "{}\n"
     ]
    }
   ],
   "source": [
    "dic_6.clear()\n",
    "\n",
    "print(dic_6)"
   ]
  },
  {
   "cell_type": "code",
   "execution_count": 62,
   "metadata": {},
   "outputs": [
    {
     "name": "stdout",
     "output_type": "stream",
     "text": [
      "{'w': [-4, -3, -2, -1], 'x': [1, 2, 3, 4], 'y': [5, 6, 7, 8], 'z': [9, 10, 11, 12]}\n"
     ]
    }
   ],
   "source": [
    "dic_7 = {\n",
    "    \"w\" : [-4,-3,-2,-1],\n",
    "    \"x\" : [1,2,3,4],\n",
    "    \"y\" : [5,6,7,8],\n",
    "    \"z\" : [9,10,11,12]\n",
    "}\n",
    "\n",
    "dic_8 = dic_7.copy()\n",
    "print(dic_8)"
   ]
  },
  {
   "cell_type": "code",
   "execution_count": null,
   "metadata": {},
   "outputs": [
    {
     "ename": "ValueError",
     "evalue": "dictionary update sequence element #0 has length 1; 2 is required",
     "output_type": "error",
     "traceback": [
      "\u001b[1;31m---------------------------------------------------------------------------\u001b[0m",
      "\u001b[1;31mValueError\u001b[0m                                Traceback (most recent call last)",
      "Cell \u001b[1;32mIn[65], line 1\u001b[0m\n\u001b[1;32m----> 1\u001b[0m \u001b[43mdic_8\u001b[49m\u001b[38;5;241;43m.\u001b[39;49m\u001b[43mupdate\u001b[49m\u001b[43m(\u001b[49m\u001b[38;5;124;43m\"\u001b[39;49m\u001b[38;5;124;43mz\u001b[39;49m\u001b[38;5;124;43m\"\u001b[39;49m\u001b[43m)\u001b[49m \u001b[38;5;241m==\u001b[39m [\u001b[38;5;241m2\u001b[39m,\u001b[38;5;241m3\u001b[39m,\u001b[38;5;241m4\u001b[39m,\u001b[38;5;241m5\u001b[39m]\n",
      "\u001b[1;31mValueError\u001b[0m: dictionary update sequence element #0 has length 1; 2 is required"
     ]
    }
   ],
   "source": [
    "dic_8.update[\"z\"]"
   ]
  },
  {
   "cell_type": "code",
   "execution_count": 70,
   "metadata": {},
   "outputs": [
    {
     "name": "stdout",
     "output_type": "stream",
     "text": [
      "dict_keys(['child1', 'child2', 'child3', 'child4'])\n",
      "------------------------------\n",
      "dict_values(['wajid', 2002])\n"
     ]
    }
   ],
   "source": [
    "myfamily ={\n",
    "    \"child1\" : {\n",
    "        \"name\" : \"wajid\",\n",
    "        \"year\" : 2002\n",
    "    },\n",
    "    \"child2\" : {\n",
    "        \"name\" : \"asghar\",\n",
    "        \"year\" : 2004\n",
    "    },\n",
    "    \"child3\" : {\n",
    "        \"name\" : \"laraib\",\n",
    "        \"year\" : 2006\n",
    "    },\n",
    "    \"child4\" : {\n",
    "        \"name\" : \"mehdi\",\n",
    "        \"year\" : 2008\n",
    "    }\n",
    "}\n",
    "\n",
    "print(myfamily.keys())\n",
    "\n",
    "print(\"-\"*30)\n",
    "\n",
    "print(myfamily[\"child1\"].values())"
   ]
  },
  {
   "cell_type": "markdown",
   "metadata": {},
   "source": [
    "********************Sets********************"
   ]
  },
  {
   "cell_type": "code",
   "execution_count": 78,
   "metadata": {},
   "outputs": [
    {
     "name": "stdout",
     "output_type": "stream",
     "text": [
      "{'ali', 'tufail', 'rehman'}\n",
      "{'ali', 'tufail', 'rehman'}\n"
     ]
    }
   ],
   "source": [
    "set_1 = {\"ali\",\"rehman\",\"tufail\"}\n",
    "\n",
    "print(set_1)\n",
    "\n",
    "set_1.add(\"tufail\")\n",
    "\n",
    "print(set_1)"
   ]
  },
  {
   "cell_type": "code",
   "execution_count": 80,
   "metadata": {},
   "outputs": [
    {
     "name": "stdout",
     "output_type": "stream",
     "text": [
      "{False, 1, 2, 3, 4}\n"
     ]
    }
   ],
   "source": [
    "set_2 = {1,1,2,3,4,False,0,True}\n",
    "\n",
    "print(set_2)"
   ]
  },
  {
   "cell_type": "code",
   "execution_count": 83,
   "metadata": {},
   "outputs": [
    {
     "name": "stdout",
     "output_type": "stream",
     "text": [
      "12\n"
     ]
    }
   ],
   "source": [
    "set_3 = {1,2,3,4,5,6,7,78,88,23,45,234}\n",
    "print(len(set_3))"
   ]
  },
  {
   "cell_type": "code",
   "execution_count": 95,
   "metadata": {},
   "outputs": [
    {
     "name": "stdout",
     "output_type": "stream",
     "text": [
      "<class 'set'>\n"
     ]
    }
   ],
   "source": [
    "set_4 = set((23,323,13,23,\"as\",\"as\",\"shdh\"))\n",
    "\n",
    "print(type(set_4))"
   ]
  },
  {
   "cell_type": "code",
   "execution_count": 86,
   "metadata": {},
   "outputs": [
    {
     "data": {
      "text/plain": [
       "True"
      ]
     },
     "execution_count": 86,
     "metadata": {},
     "output_type": "execute_result"
    }
   ],
   "source": [
    "23 in set_4"
   ]
  },
  {
   "cell_type": "code",
   "execution_count": 87,
   "metadata": {},
   "outputs": [
    {
     "name": "stdout",
     "output_type": "stream",
     "text": [
      "323\n",
      "13\n",
      "23\n",
      "as\n",
      "shdh\n"
     ]
    }
   ],
   "source": [
    "for i in set_4:\n",
    "    print(i)"
   ]
  },
  {
   "cell_type": "code",
   "execution_count": 97,
   "metadata": {},
   "outputs": [
    {
     "name": "stdout",
     "output_type": "stream",
     "text": [
      "{323, 12, 23, 'as', 'shdh'}\n"
     ]
    }
   ],
   "source": [
    "set_4.remove(13)\n",
    "set_4.discard(23432342)\n",
    "set_4.add(12)\n",
    "\n",
    "print(set_4)"
   ]
  },
  {
   "cell_type": "code",
   "execution_count": 114,
   "metadata": {},
   "outputs": [
    {
     "name": "stdout",
     "output_type": "stream",
     "text": [
      "{1, 2, 3, 4, 5, 6, 7, 8, 9}\n",
      "{8, 9, 6, 7}\n"
     ]
    }
   ],
   "source": [
    "set_5 = {1,2,3,4,5}\n",
    "set_6 = {6,7,8,9}\n",
    "\n",
    "set_5.update(set_6)\n",
    "\n",
    "print(set_5)\n",
    "print(set_6)"
   ]
  },
  {
   "cell_type": "code",
   "execution_count": 111,
   "metadata": {},
   "outputs": [
    {
     "name": "stdout",
     "output_type": "stream",
     "text": [
      "{2, 3, 4, 5, 6, 7, 8, 9}\n"
     ]
    }
   ],
   "source": [
    "x = set_5.pop()\n",
    "\n",
    "print(set_5)"
   ]
  },
  {
   "cell_type": "code",
   "execution_count": 112,
   "metadata": {},
   "outputs": [],
   "source": [
    "del set_6"
   ]
  },
  {
   "cell_type": "code",
   "execution_count": 122,
   "metadata": {},
   "outputs": [
    {
     "name": "stdout",
     "output_type": "stream",
     "text": [
      "{1, 2, 3, 4, 5, 7, 6, 8, 9}\n"
     ]
    }
   ],
   "source": [
    "set_5.union(set_6)\n",
    "set_5.intersection(set_6)\n",
    "set_5.difference(set_6)\n",
    "set_5.symmetric_difference(set_6)\n",
    "set_5.symmetric_difference_update(set_6)\n",
    "\n",
    "print(set_5)"
   ]
  },
  {
   "cell_type": "markdown",
   "metadata": {},
   "source": [
    "**IF ... ELSE**"
   ]
  },
  {
   "cell_type": "code",
   "execution_count": 125,
   "metadata": {},
   "outputs": [
    {
     "name": "stdout",
     "output_type": "stream",
     "text": [
      "a and b are equal\n"
     ]
    }
   ],
   "source": [
    "a = 23\n",
    "b = 23\n",
    "if a > b :\n",
    "    print(\"b is greater than a\")\n",
    "elif a < b:\n",
    "    print(\"a is smaller than b\")\n",
    "else:\n",
    "    print(\"a and b are equal\")"
   ]
  }
 ],
 "metadata": {
  "kernelspec": {
   "display_name": "Python 3",
   "language": "python",
   "name": "python3"
  },
  "language_info": {
   "codemirror_mode": {
    "name": "ipython",
    "version": 3
   },
   "file_extension": ".py",
   "mimetype": "text/x-python",
   "name": "python",
   "nbconvert_exporter": "python",
   "pygments_lexer": "ipython3",
   "version": "3.13.0"
  }
 },
 "nbformat": 4,
 "nbformat_minor": 2
}
