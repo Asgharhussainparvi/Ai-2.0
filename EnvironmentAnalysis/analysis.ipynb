{
 "cells": [
  {
   "cell_type": "code",
   "execution_count": 1,
   "metadata": {},
   "outputs": [],
   "source": [
    "import pandas as pd\n",
    "import numpy as np\n",
    "import matplotlib.pyplot as plt\n",
    "import seaborn as sns"
   ]
  },
  {
   "cell_type": "code",
   "execution_count": 2,
   "metadata": {},
   "outputs": [
    {
     "data": {
      "application/vnd.microsoft.datawrangler.viewer.v0+json": {
       "columns": [
        {
         "name": "index",
         "rawType": "int64",
         "type": "integer"
        },
        {
         "name": "datetime",
         "rawType": "object",
         "type": "string"
        },
        {
         "name": "excel_code",
         "rawType": "float64",
         "type": "float"
        },
        {
         "name": "day",
         "rawType": "int64",
         "type": "integer"
        },
        {
         "name": "time",
         "rawType": "float64",
         "type": "float"
        },
        {
         "name": "field_soil_temp_c",
         "rawType": "float64",
         "type": "float"
        },
        {
         "name": "field_air_temp_c",
         "rawType": "float64",
         "type": "float"
        },
        {
         "name": "field_rh",
         "rawType": "float64",
         "type": "float"
        },
        {
         "name": "field_soil_wc",
         "rawType": "float64",
         "type": "float"
        },
        {
         "name": "forest_soil_temp_c",
         "rawType": "float64",
         "type": "float"
        },
        {
         "name": "forest_air_temp_c",
         "rawType": "float64",
         "type": "float"
        },
        {
         "name": "forest_rh",
         "rawType": "float64",
         "type": "float"
        },
        {
         "name": "forest_soil_wc",
         "rawType": "float64",
         "type": "float"
        },
        {
         "name": "pond_soil_temp_c",
         "rawType": "float64",
         "type": "float"
        },
        {
         "name": "pond_air_temp_c",
         "rawType": "float64",
         "type": "float"
        },
        {
         "name": "pond_rh",
         "rawType": "float64",
         "type": "float"
        },
        {
         "name": "pond_soil_wc",
         "rawType": "float64",
         "type": "float"
        }
       ],
       "conversionMethod": "pd.DataFrame",
       "ref": "0668822c-877a-4b5d-ae81-c35b5b9bc436",
       "rows": [
        [
         "0",
         "1/1/2018 0:00",
         "43101.0",
         "43101",
         "0.0",
         "-0.171",
         "-20.931",
         "86.5",
         "0.1216",
         "0.273",
         "-19.746",
         "77.4",
         "0.1085",
         null,
         null,
         null,
         null
        ],
        [
         "1",
         "1/1/2018 1:00",
         "43101.04167",
         "43101",
         "0.041666667",
         "-0.171",
         "-20.835",
         "87.9",
         "0.1201",
         "0.246",
         "-20.356",
         "79.1",
         "0.1085",
         null,
         null,
         null,
         null
        ],
        [
         "2",
         "1/1/2018 2:00",
         "43101.08333",
         "43101",
         "0.083333333",
         "-0.171",
         "-21.272",
         "88.0",
         "0.118",
         "0.246",
         "-20.69",
         "79.6",
         "0.1078",
         null,
         null,
         null,
         null
        ]
       ],
       "shape": {
        "columns": 16,
        "rows": 3
       }
      },
      "text/html": [
       "<div>\n",
       "<style scoped>\n",
       "    .dataframe tbody tr th:only-of-type {\n",
       "        vertical-align: middle;\n",
       "    }\n",
       "\n",
       "    .dataframe tbody tr th {\n",
       "        vertical-align: top;\n",
       "    }\n",
       "\n",
       "    .dataframe thead th {\n",
       "        text-align: right;\n",
       "    }\n",
       "</style>\n",
       "<table border=\"1\" class=\"dataframe\">\n",
       "  <thead>\n",
       "    <tr style=\"text-align: right;\">\n",
       "      <th></th>\n",
       "      <th>datetime</th>\n",
       "      <th>excel_code</th>\n",
       "      <th>day</th>\n",
       "      <th>time</th>\n",
       "      <th>field_soil_temp_c</th>\n",
       "      <th>field_air_temp_c</th>\n",
       "      <th>field_rh</th>\n",
       "      <th>field_soil_wc</th>\n",
       "      <th>forest_soil_temp_c</th>\n",
       "      <th>forest_air_temp_c</th>\n",
       "      <th>forest_rh</th>\n",
       "      <th>forest_soil_wc</th>\n",
       "      <th>pond_soil_temp_c</th>\n",
       "      <th>pond_air_temp_c</th>\n",
       "      <th>pond_rh</th>\n",
       "      <th>pond_soil_wc</th>\n",
       "    </tr>\n",
       "  </thead>\n",
       "  <tbody>\n",
       "    <tr>\n",
       "      <th>0</th>\n",
       "      <td>1/1/2018 0:00</td>\n",
       "      <td>43101.00000</td>\n",
       "      <td>43101</td>\n",
       "      <td>0.000000</td>\n",
       "      <td>-0.171</td>\n",
       "      <td>-20.931</td>\n",
       "      <td>86.5</td>\n",
       "      <td>0.1216</td>\n",
       "      <td>0.273</td>\n",
       "      <td>-19.746</td>\n",
       "      <td>77.4</td>\n",
       "      <td>0.1085</td>\n",
       "      <td>NaN</td>\n",
       "      <td>NaN</td>\n",
       "      <td>NaN</td>\n",
       "      <td>NaN</td>\n",
       "    </tr>\n",
       "    <tr>\n",
       "      <th>1</th>\n",
       "      <td>1/1/2018 1:00</td>\n",
       "      <td>43101.04167</td>\n",
       "      <td>43101</td>\n",
       "      <td>0.041667</td>\n",
       "      <td>-0.171</td>\n",
       "      <td>-20.835</td>\n",
       "      <td>87.9</td>\n",
       "      <td>0.1201</td>\n",
       "      <td>0.246</td>\n",
       "      <td>-20.356</td>\n",
       "      <td>79.1</td>\n",
       "      <td>0.1085</td>\n",
       "      <td>NaN</td>\n",
       "      <td>NaN</td>\n",
       "      <td>NaN</td>\n",
       "      <td>NaN</td>\n",
       "    </tr>\n",
       "    <tr>\n",
       "      <th>2</th>\n",
       "      <td>1/1/2018 2:00</td>\n",
       "      <td>43101.08333</td>\n",
       "      <td>43101</td>\n",
       "      <td>0.083333</td>\n",
       "      <td>-0.171</td>\n",
       "      <td>-21.272</td>\n",
       "      <td>88.0</td>\n",
       "      <td>0.1180</td>\n",
       "      <td>0.246</td>\n",
       "      <td>-20.690</td>\n",
       "      <td>79.6</td>\n",
       "      <td>0.1078</td>\n",
       "      <td>NaN</td>\n",
       "      <td>NaN</td>\n",
       "      <td>NaN</td>\n",
       "      <td>NaN</td>\n",
       "    </tr>\n",
       "  </tbody>\n",
       "</table>\n",
       "</div>"
      ],
      "text/plain": [
       "        datetime   excel_code    day      time  field_soil_temp_c  \\\n",
       "0  1/1/2018 0:00  43101.00000  43101  0.000000             -0.171   \n",
       "1  1/1/2018 1:00  43101.04167  43101  0.041667             -0.171   \n",
       "2  1/1/2018 2:00  43101.08333  43101  0.083333             -0.171   \n",
       "\n",
       "   field_air_temp_c  field_rh  field_soil_wc  forest_soil_temp_c  \\\n",
       "0           -20.931      86.5         0.1216               0.273   \n",
       "1           -20.835      87.9         0.1201               0.246   \n",
       "2           -21.272      88.0         0.1180               0.246   \n",
       "\n",
       "   forest_air_temp_c  forest_rh  forest_soil_wc  pond_soil_temp_c  \\\n",
       "0            -19.746       77.4          0.1085               NaN   \n",
       "1            -20.356       79.1          0.1085               NaN   \n",
       "2            -20.690       79.6          0.1078               NaN   \n",
       "\n",
       "   pond_air_temp_c  pond_rh  pond_soil_wc  \n",
       "0              NaN      NaN           NaN  \n",
       "1              NaN      NaN           NaN  \n",
       "2              NaN      NaN           NaN  "
      ]
     },
     "execution_count": 2,
     "metadata": {},
     "output_type": "execute_result"
    }
   ],
   "source": [
    "df = pd.read_csv(\"EnvironmentalDataSet.csv\")\n",
    "df.head(3)"
   ]
  },
  {
   "cell_type": "code",
   "execution_count": 4,
   "metadata": {},
   "outputs": [
    {
     "name": "stdout",
     "output_type": "stream",
     "text": [
      "<class 'pandas.core.frame.DataFrame'>\n",
      "RangeIndex: 744 entries, 0 to 743\n",
      "Data columns (total 16 columns):\n",
      " #   Column              Non-Null Count  Dtype  \n",
      "---  ------              --------------  -----  \n",
      " 0   datetime            744 non-null    object \n",
      " 1   excel_code          744 non-null    float64\n",
      " 2   day                 744 non-null    int64  \n",
      " 3   time                744 non-null    float64\n",
      " 4   field_soil_temp_c   744 non-null    float64\n",
      " 5   field_air_temp_c    744 non-null    float64\n",
      " 6   field_rh            744 non-null    float64\n",
      " 7   field_soil_wc       744 non-null    float64\n",
      " 8   forest_soil_temp_c  744 non-null    float64\n",
      " 9   forest_air_temp_c   744 non-null    float64\n",
      " 10  forest_rh           744 non-null    float64\n",
      " 11  forest_soil_wc      744 non-null    float64\n",
      " 12  pond_soil_temp_c    0 non-null      float64\n",
      " 13  pond_air_temp_c     0 non-null      float64\n",
      " 14  pond_rh             0 non-null      float64\n",
      " 15  pond_soil_wc        0 non-null      float64\n",
      "dtypes: float64(14), int64(1), object(1)\n",
      "memory usage: 93.1+ KB\n"
     ]
    }
   ],
   "source": [
    "df.info()"
   ]
  },
  {
   "cell_type": "code",
   "execution_count": 3,
   "metadata": {},
   "outputs": [
    {
     "data": {
      "application/vnd.microsoft.datawrangler.viewer.v0+json": {
       "columns": [
        {
         "name": "index",
         "rawType": "object",
         "type": "string"
        },
        {
         "name": "excel_code",
         "rawType": "float64",
         "type": "float"
        },
        {
         "name": "day",
         "rawType": "float64",
         "type": "float"
        },
        {
         "name": "time",
         "rawType": "float64",
         "type": "float"
        },
        {
         "name": "field_soil_temp_c",
         "rawType": "float64",
         "type": "float"
        },
        {
         "name": "field_air_temp_c",
         "rawType": "float64",
         "type": "float"
        },
        {
         "name": "field_rh",
         "rawType": "float64",
         "type": "float"
        },
        {
         "name": "field_soil_wc",
         "rawType": "float64",
         "type": "float"
        },
        {
         "name": "forest_soil_temp_c",
         "rawType": "float64",
         "type": "float"
        },
        {
         "name": "forest_air_temp_c",
         "rawType": "float64",
         "type": "float"
        },
        {
         "name": "forest_rh",
         "rawType": "float64",
         "type": "float"
        },
        {
         "name": "forest_soil_wc",
         "rawType": "float64",
         "type": "float"
        },
        {
         "name": "pond_soil_temp_c",
         "rawType": "float64",
         "type": "float"
        },
        {
         "name": "pond_air_temp_c",
         "rawType": "float64",
         "type": "float"
        },
        {
         "name": "pond_rh",
         "rawType": "float64",
         "type": "float"
        },
        {
         "name": "pond_soil_wc",
         "rawType": "float64",
         "type": "float"
        }
       ],
       "conversionMethod": "pd.DataFrame",
       "ref": "ec0f13dc-2416-4151-a7e9-84c2cd853527",
       "rows": [
        [
         "count",
         "744.0",
         "744.0",
         "744.0",
         "744.0",
         "744.0",
         "744.0",
         "744.0",
         "744.0",
         "744.0",
         "744.0",
         "744.0",
         "0.0",
         "0.0",
         "0.0",
         "0.0"
        ],
        [
         "mean",
         "43116.479166666664",
         "43116.0",
         "0.4791666666666667",
         "-0.23974059139784945",
         "-5.237305107526882",
         "79.69543010752687",
         "0.1126143817204301",
         "-0.10350268817204299",
         "-5.288411290322581",
         "78.90685483870968",
         "0.13199973118279568",
         null,
         null,
         null,
         null
        ],
        [
         "std",
         "8.954941213068485",
         "8.95028891162822",
         "0.2886184689133328",
         "0.18855368244359866",
         "7.692118437652286",
         "11.776151531898767",
         "0.019911901393735637",
         "0.3285224272221286",
         "7.48548147249241",
         "10.067219236205622",
         "0.06154424684932504",
         null,
         null,
         null,
         null
        ],
        [
         "min",
         "43101.0",
         "43101.0",
         "0.0",
         "-0.93",
         "-25.384",
         "50.7",
         "0.086",
         "-1.441",
         "-24.709",
         "56.0",
         "0.0301",
         null,
         null,
         null,
         null
        ],
        [
         "25%",
         "43108.7395825",
         "43108.0",
         "0.23958333325",
         "-0.339",
         "-10.197",
         "71.85000000000001",
         "0.0998",
         "-0.06",
         "-10.301",
         "72.175",
         "0.0809",
         null,
         null,
         null,
         null
        ],
        [
         "50%",
         "43116.479165",
         "43116.0",
         "0.4791666665",
         "-0.199",
         "-5.217499999999999",
         "79.25",
         "0.1056",
         "-0.004",
         "-5.4335",
         "78.1",
         "0.1354",
         null,
         null,
         null,
         null
        ],
        [
         "75%",
         "43124.2187475",
         "43124.0",
         "0.71874999975",
         "-0.088",
         "0.996",
         "87.92500000000001",
         "0.121775",
         "0.079",
         "0.77675",
         "85.325",
         "0.1797",
         null,
         null,
         null,
         null
        ],
        [
         "max",
         "43131.95833",
         "43131.0",
         "0.958333333",
         "-0.032",
         "11.807",
         "100.0",
         "0.1753",
         "0.273",
         "11.662",
         "100.0",
         "0.2465",
         null,
         null,
         null,
         null
        ]
       ],
       "shape": {
        "columns": 15,
        "rows": 8
       }
      },
      "text/html": [
       "<div>\n",
       "<style scoped>\n",
       "    .dataframe tbody tr th:only-of-type {\n",
       "        vertical-align: middle;\n",
       "    }\n",
       "\n",
       "    .dataframe tbody tr th {\n",
       "        vertical-align: top;\n",
       "    }\n",
       "\n",
       "    .dataframe thead th {\n",
       "        text-align: right;\n",
       "    }\n",
       "</style>\n",
       "<table border=\"1\" class=\"dataframe\">\n",
       "  <thead>\n",
       "    <tr style=\"text-align: right;\">\n",
       "      <th></th>\n",
       "      <th>excel_code</th>\n",
       "      <th>day</th>\n",
       "      <th>time</th>\n",
       "      <th>field_soil_temp_c</th>\n",
       "      <th>field_air_temp_c</th>\n",
       "      <th>field_rh</th>\n",
       "      <th>field_soil_wc</th>\n",
       "      <th>forest_soil_temp_c</th>\n",
       "      <th>forest_air_temp_c</th>\n",
       "      <th>forest_rh</th>\n",
       "      <th>forest_soil_wc</th>\n",
       "      <th>pond_soil_temp_c</th>\n",
       "      <th>pond_air_temp_c</th>\n",
       "      <th>pond_rh</th>\n",
       "      <th>pond_soil_wc</th>\n",
       "    </tr>\n",
       "  </thead>\n",
       "  <tbody>\n",
       "    <tr>\n",
       "      <th>count</th>\n",
       "      <td>744.000000</td>\n",
       "      <td>744.000000</td>\n",
       "      <td>744.000000</td>\n",
       "      <td>744.000000</td>\n",
       "      <td>744.000000</td>\n",
       "      <td>744.000000</td>\n",
       "      <td>744.000000</td>\n",
       "      <td>744.000000</td>\n",
       "      <td>744.000000</td>\n",
       "      <td>744.000000</td>\n",
       "      <td>744.000000</td>\n",
       "      <td>0.0</td>\n",
       "      <td>0.0</td>\n",
       "      <td>0.0</td>\n",
       "      <td>0.0</td>\n",
       "    </tr>\n",
       "    <tr>\n",
       "      <th>mean</th>\n",
       "      <td>43116.479167</td>\n",
       "      <td>43116.000000</td>\n",
       "      <td>0.479167</td>\n",
       "      <td>-0.239741</td>\n",
       "      <td>-5.237305</td>\n",
       "      <td>79.695430</td>\n",
       "      <td>0.112614</td>\n",
       "      <td>-0.103503</td>\n",
       "      <td>-5.288411</td>\n",
       "      <td>78.906855</td>\n",
       "      <td>0.132000</td>\n",
       "      <td>NaN</td>\n",
       "      <td>NaN</td>\n",
       "      <td>NaN</td>\n",
       "      <td>NaN</td>\n",
       "    </tr>\n",
       "    <tr>\n",
       "      <th>std</th>\n",
       "      <td>8.954941</td>\n",
       "      <td>8.950289</td>\n",
       "      <td>0.288618</td>\n",
       "      <td>0.188554</td>\n",
       "      <td>7.692118</td>\n",
       "      <td>11.776152</td>\n",
       "      <td>0.019912</td>\n",
       "      <td>0.328522</td>\n",
       "      <td>7.485481</td>\n",
       "      <td>10.067219</td>\n",
       "      <td>0.061544</td>\n",
       "      <td>NaN</td>\n",
       "      <td>NaN</td>\n",
       "      <td>NaN</td>\n",
       "      <td>NaN</td>\n",
       "    </tr>\n",
       "    <tr>\n",
       "      <th>min</th>\n",
       "      <td>43101.000000</td>\n",
       "      <td>43101.000000</td>\n",
       "      <td>0.000000</td>\n",
       "      <td>-0.930000</td>\n",
       "      <td>-25.384000</td>\n",
       "      <td>50.700000</td>\n",
       "      <td>0.086000</td>\n",
       "      <td>-1.441000</td>\n",
       "      <td>-24.709000</td>\n",
       "      <td>56.000000</td>\n",
       "      <td>0.030100</td>\n",
       "      <td>NaN</td>\n",
       "      <td>NaN</td>\n",
       "      <td>NaN</td>\n",
       "      <td>NaN</td>\n",
       "    </tr>\n",
       "    <tr>\n",
       "      <th>25%</th>\n",
       "      <td>43108.739582</td>\n",
       "      <td>43108.000000</td>\n",
       "      <td>0.239583</td>\n",
       "      <td>-0.339000</td>\n",
       "      <td>-10.197000</td>\n",
       "      <td>71.850000</td>\n",
       "      <td>0.099800</td>\n",
       "      <td>-0.060000</td>\n",
       "      <td>-10.301000</td>\n",
       "      <td>72.175000</td>\n",
       "      <td>0.080900</td>\n",
       "      <td>NaN</td>\n",
       "      <td>NaN</td>\n",
       "      <td>NaN</td>\n",
       "      <td>NaN</td>\n",
       "    </tr>\n",
       "    <tr>\n",
       "      <th>50%</th>\n",
       "      <td>43116.479165</td>\n",
       "      <td>43116.000000</td>\n",
       "      <td>0.479167</td>\n",
       "      <td>-0.199000</td>\n",
       "      <td>-5.217500</td>\n",
       "      <td>79.250000</td>\n",
       "      <td>0.105600</td>\n",
       "      <td>-0.004000</td>\n",
       "      <td>-5.433500</td>\n",
       "      <td>78.100000</td>\n",
       "      <td>0.135400</td>\n",
       "      <td>NaN</td>\n",
       "      <td>NaN</td>\n",
       "      <td>NaN</td>\n",
       "      <td>NaN</td>\n",
       "    </tr>\n",
       "    <tr>\n",
       "      <th>75%</th>\n",
       "      <td>43124.218748</td>\n",
       "      <td>43124.000000</td>\n",
       "      <td>0.718750</td>\n",
       "      <td>-0.088000</td>\n",
       "      <td>0.996000</td>\n",
       "      <td>87.925000</td>\n",
       "      <td>0.121775</td>\n",
       "      <td>0.079000</td>\n",
       "      <td>0.776750</td>\n",
       "      <td>85.325000</td>\n",
       "      <td>0.179700</td>\n",
       "      <td>NaN</td>\n",
       "      <td>NaN</td>\n",
       "      <td>NaN</td>\n",
       "      <td>NaN</td>\n",
       "    </tr>\n",
       "    <tr>\n",
       "      <th>max</th>\n",
       "      <td>43131.958330</td>\n",
       "      <td>43131.000000</td>\n",
       "      <td>0.958333</td>\n",
       "      <td>-0.032000</td>\n",
       "      <td>11.807000</td>\n",
       "      <td>100.000000</td>\n",
       "      <td>0.175300</td>\n",
       "      <td>0.273000</td>\n",
       "      <td>11.662000</td>\n",
       "      <td>100.000000</td>\n",
       "      <td>0.246500</td>\n",
       "      <td>NaN</td>\n",
       "      <td>NaN</td>\n",
       "      <td>NaN</td>\n",
       "      <td>NaN</td>\n",
       "    </tr>\n",
       "  </tbody>\n",
       "</table>\n",
       "</div>"
      ],
      "text/plain": [
       "         excel_code           day        time  field_soil_temp_c  \\\n",
       "count    744.000000    744.000000  744.000000         744.000000   \n",
       "mean   43116.479167  43116.000000    0.479167          -0.239741   \n",
       "std        8.954941      8.950289    0.288618           0.188554   \n",
       "min    43101.000000  43101.000000    0.000000          -0.930000   \n",
       "25%    43108.739582  43108.000000    0.239583          -0.339000   \n",
       "50%    43116.479165  43116.000000    0.479167          -0.199000   \n",
       "75%    43124.218748  43124.000000    0.718750          -0.088000   \n",
       "max    43131.958330  43131.000000    0.958333          -0.032000   \n",
       "\n",
       "       field_air_temp_c    field_rh  field_soil_wc  forest_soil_temp_c  \\\n",
       "count        744.000000  744.000000     744.000000          744.000000   \n",
       "mean          -5.237305   79.695430       0.112614           -0.103503   \n",
       "std            7.692118   11.776152       0.019912            0.328522   \n",
       "min          -25.384000   50.700000       0.086000           -1.441000   \n",
       "25%          -10.197000   71.850000       0.099800           -0.060000   \n",
       "50%           -5.217500   79.250000       0.105600           -0.004000   \n",
       "75%            0.996000   87.925000       0.121775            0.079000   \n",
       "max           11.807000  100.000000       0.175300            0.273000   \n",
       "\n",
       "       forest_air_temp_c   forest_rh  forest_soil_wc  pond_soil_temp_c  \\\n",
       "count         744.000000  744.000000      744.000000               0.0   \n",
       "mean           -5.288411   78.906855        0.132000               NaN   \n",
       "std             7.485481   10.067219        0.061544               NaN   \n",
       "min           -24.709000   56.000000        0.030100               NaN   \n",
       "25%           -10.301000   72.175000        0.080900               NaN   \n",
       "50%            -5.433500   78.100000        0.135400               NaN   \n",
       "75%             0.776750   85.325000        0.179700               NaN   \n",
       "max            11.662000  100.000000        0.246500               NaN   \n",
       "\n",
       "       pond_air_temp_c  pond_rh  pond_soil_wc  \n",
       "count              0.0      0.0           0.0  \n",
       "mean               NaN      NaN           NaN  \n",
       "std                NaN      NaN           NaN  \n",
       "min                NaN      NaN           NaN  \n",
       "25%                NaN      NaN           NaN  \n",
       "50%                NaN      NaN           NaN  \n",
       "75%                NaN      NaN           NaN  \n",
       "max                NaN      NaN           NaN  "
      ]
     },
     "execution_count": 3,
     "metadata": {},
     "output_type": "execute_result"
    }
   ],
   "source": [
    "df.describe()"
   ]
  },
  {
   "cell_type": "code",
   "execution_count": 5,
   "metadata": {},
   "outputs": [
    {
     "name": "stdout",
     "output_type": "stream",
     "text": [
      "Shape of the dataset: (744, 16)\n"
     ]
    }
   ],
   "source": [
    "# Check the shape of the dataset (rows, columns)\n",
    "print(\"Shape of the dataset:\", df.shape)\n"
   ]
  },
  {
   "cell_type": "code",
   "execution_count": 6,
   "metadata": {},
   "outputs": [
    {
     "name": "stdout",
     "output_type": "stream",
     "text": [
      "Columns: Index(['datetime', 'excel_code', 'day', 'time', 'field_soil_temp_c',\n",
      "       'field_air_temp_c', 'field_rh', 'field_soil_wc', 'forest_soil_temp_c',\n",
      "       'forest_air_temp_c', 'forest_rh', 'forest_soil_wc', 'pond_soil_temp_c',\n",
      "       'pond_air_temp_c', 'pond_rh', 'pond_soil_wc'],\n",
      "      dtype='object')\n"
     ]
    }
   ],
   "source": [
    "\n",
    "# Check column names\n",
    "print(\"Columns:\", df.columns)\n"
   ]
  },
  {
   "cell_type": "code",
   "execution_count": 7,
   "metadata": {},
   "outputs": [
    {
     "name": "stdout",
     "output_type": "stream",
     "text": [
      "datetime                0\n",
      "excel_code              0\n",
      "day                     0\n",
      "time                    0\n",
      "field_soil_temp_c       0\n",
      "field_air_temp_c        0\n",
      "field_rh                0\n",
      "field_soil_wc           0\n",
      "forest_soil_temp_c      0\n",
      "forest_air_temp_c       0\n",
      "forest_rh               0\n",
      "forest_soil_wc          0\n",
      "pond_soil_temp_c      744\n",
      "pond_air_temp_c       744\n",
      "pond_rh               744\n",
      "pond_soil_wc          744\n",
      "dtype: int64\n"
     ]
    }
   ],
   "source": [
    "\n",
    "# Check for missing values\n",
    "print(df.isnull().sum())\n"
   ]
  },
  {
   "cell_type": "code",
   "execution_count": 8,
   "metadata": {},
   "outputs": [
    {
     "name": "stdout",
     "output_type": "stream",
     "text": [
      "datetime               object\n",
      "excel_code            float64\n",
      "day                     int64\n",
      "time                  float64\n",
      "field_soil_temp_c     float64\n",
      "field_air_temp_c      float64\n",
      "field_rh              float64\n",
      "field_soil_wc         float64\n",
      "forest_soil_temp_c    float64\n",
      "forest_air_temp_c     float64\n",
      "forest_rh             float64\n",
      "forest_soil_wc        float64\n",
      "pond_soil_temp_c      float64\n",
      "pond_air_temp_c       float64\n",
      "pond_rh               float64\n",
      "pond_soil_wc          float64\n",
      "dtype: object\n"
     ]
    }
   ],
   "source": [
    "\n",
    "# Check data types of columns\n",
    "print(df.dtypes)"
   ]
  },
  {
   "cell_type": "code",
   "execution_count": 9,
   "metadata": {},
   "outputs": [],
   "source": [
    "df['day'] = df['day'].astype('float')\n"
   ]
  },
  {
   "cell_type": "code",
   "execution_count": null,
   "metadata": {},
   "outputs": [],
   "source": []
  }
 ],
 "metadata": {
  "kernelspec": {
   "display_name": "Python 3",
   "language": "python",
   "name": "python3"
  },
  "language_info": {
   "codemirror_mode": {
    "name": "ipython",
    "version": 3
   },
   "file_extension": ".py",
   "mimetype": "text/x-python",
   "name": "python",
   "nbconvert_exporter": "python",
   "pygments_lexer": "ipython3",
   "version": "3.13.2"
  }
 },
 "nbformat": 4,
 "nbformat_minor": 2
}
