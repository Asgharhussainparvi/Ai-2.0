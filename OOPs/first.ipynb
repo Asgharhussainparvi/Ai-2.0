{
 "cells": [
  {
   "cell_type": "code",
   "execution_count": 16,
   "metadata": {},
   "outputs": [],
   "source": [
    "class Student:\n",
    "    name = \"Asghar\"\n",
    "    age = 20\n",
    "    roll_no = 1234\n"
   ]
  },
  {
   "cell_type": "code",
   "execution_count": 17,
   "metadata": {},
   "outputs": [
    {
     "name": "stdout",
     "output_type": "stream",
     "text": [
      "Asghar\n",
      "20\n",
      "1234\n"
     ]
    },
    {
     "data": {
      "text/plain": [
       "('Asghar', 20)"
      ]
     },
     "execution_count": 17,
     "metadata": {},
     "output_type": "execute_result"
    }
   ],
   "source": [
    "s1 = Student()\n",
    "s2 = Student()\n",
    "print(s1.name)\n",
    "print(s1.age)\n",
    "print(s1.roll_no)\n",
    "s1.name,s1.age\n"
   ]
  },
  {
   "cell_type": "code",
   "execution_count": 20,
   "metadata": {},
   "outputs": [
    {
     "name": "stdout",
     "output_type": "stream",
     "text": [
      "Asghar 20 1234\n",
      "Sohail 29 2123\n"
     ]
    },
    {
     "data": {
      "text/plain": [
       "'Skardu'"
      ]
     },
     "execution_count": 20,
     "metadata": {},
     "output_type": "execute_result"
    }
   ],
   "source": [
    "s2.name,s2.age,s2.roll_no = \"Sohail\",29,2123\n",
    "s2.city = \"Skardu\"\n",
    "\n",
    "print(s1.name,s1.age,s1.roll_no)\n",
    "print(s2.name,s2.age,s2.roll_no)\n",
    "\n",
    "s2.city"
   ]
  },
  {
   "cell_type": "code",
   "execution_count": 32,
   "metadata": {},
   "outputs": [
    {
     "name": "stdout",
     "output_type": "stream",
     "text": [
      "White board1 Red 23\n",
      "White board2 Yellow 34\n",
      "White board2 Yellow 34\n"
     ]
    }
   ],
   "source": [
    "class WhiteBoard():\n",
    "    def __init__(self,name ,color ,size):\n",
    "        self.name = name\n",
    "        self.color = color\n",
    "        self.size = size\n",
    "\n",
    "\n",
    "w1 = WhiteBoard(\"White board1\",\"Red\",23)\n",
    "print(w1.name,w1.color,w1.size)\n",
    "\n",
    "w2 = WhiteBoard(\"White board2\",\"Yellow\",34)\n",
    "print(w2.name,w2.color,w2.size)\n",
    "\n",
    "w3 = WhiteBoard(\"White board2\",\"Yellow\",34)\n",
    "print(w3.name,w3.color,w3.size)\n"
   ]
  },
  {
   "cell_type": "code",
   "execution_count": null,
   "metadata": {},
   "outputs": [],
   "source": []
  }
 ],
 "metadata": {
  "kernelspec": {
   "display_name": "Python 3",
   "language": "python",
   "name": "python3"
  },
  "language_info": {
   "codemirror_mode": {
    "name": "ipython",
    "version": 3
   },
   "file_extension": ".py",
   "mimetype": "text/x-python",
   "name": "python",
   "nbconvert_exporter": "python",
   "pygments_lexer": "ipython3",
   "version": "3.13.0"
  }
 },
 "nbformat": 4,
 "nbformat_minor": 2
}
