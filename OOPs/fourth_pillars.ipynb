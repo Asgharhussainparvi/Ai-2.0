{
 "cells": [
  {
   "cell_type": "markdown",
   "metadata": {},
   "source": [
    "Inheritance"
   ]
  },
  {
   "cell_type": "code",
   "execution_count": 33,
   "metadata": {},
   "outputs": [
    {
     "name": "stdout",
     "output_type": "stream",
     "text": [
      "My name is Asghar Hussain and my age 20.\n"
     ]
    }
   ],
   "source": [
    "class Person:\n",
    "    def __init__(self, fname , lname , age):\n",
    "        self.fname = fname\n",
    "        self.lname = lname \n",
    "        self.age = age\n",
    "    \n",
    "    def info(self):\n",
    "        print(f\"My name is {self.fname} {self.lname} and my age {self.age}.\")\n",
    "\n",
    "n = Person(\"Asghar\",\"Hussain\",20)\n",
    "n.info()\n",
    "    \n"
   ]
  },
  {
   "cell_type": "code",
   "execution_count": 10,
   "metadata": {},
   "outputs": [
    {
     "name": "stdout",
     "output_type": "stream",
     "text": [
      "Sum : 46\n"
     ]
    }
   ],
   "source": [
    "class Math:\n",
    "    def __init__(self,n1,n2):\n",
    "        self.n1 = n1\n",
    "        self.n2 = n2\n",
    "    \n",
    "    def sum(self):\n",
    "        print(f\"Sum : {self.n1 + self.n2}\")\n",
    "\n",
    "s1 = Math(23,23)\n",
    "s1.sum()\n",
    "        "
   ]
  },
  {
   "cell_type": "code",
   "execution_count": 18,
   "metadata": {},
   "outputs": [
    {
     "name": "stdout",
     "output_type": "stream",
     "text": [
      "My name is Ali Saqib and my age 21.\n",
      "21\n"
     ]
    }
   ],
   "source": [
    "   \n",
    "class Student(Person):\n",
    "    def __int__(self,fname,lname,age):\n",
    "        super().__init__(fname,lname)\n",
    "        self.age = age\n",
    "    \n",
    "    \n",
    "\n",
    "n = Student(\"Ali\",\"Saqib\",21)\n",
    "n.info()\n",
    "print(n.age)"
   ]
  },
  {
   "cell_type": "markdown",
   "metadata": {},
   "source": [
    "Super()"
   ]
  },
  {
   "cell_type": "code",
   "execution_count": 37,
   "metadata": {},
   "outputs": [
    {
     "name": "stdout",
     "output_type": "stream",
     "text": [
      "My name is sonu singh and my age 67.\n",
      "math\n"
     ]
    }
   ],
   "source": [
    "class Teacher(Person):\n",
    "    def __init__(self,fname,lname,age,subject,designation):\n",
    "        super(). __init__ (fname,lname,age)\n",
    "        self.subject = subject\n",
    "        self.designation = designation\n",
    "\n",
    "n2 = Teacher(\"sonu\",\"singh\",67,\"math\",\"IT\")\n",
    "n2.info()\n",
    "print(n2.subject)"
   ]
  },
  {
   "cell_type": "markdown",
   "metadata": {},
   "source": [
    "Overriding"
   ]
  },
  {
   "cell_type": "code",
   "execution_count": 40,
   "metadata": {},
   "outputs": [
    {
     "name": "stdout",
     "output_type": "stream",
     "text": [
      "Run!\n",
      "Fly!\n"
     ]
    }
   ],
   "source": [
    "class Vehicle:\n",
    "    def __init__(self,model,brand):\n",
    "        self.model = model\n",
    "        self.brand = brand\n",
    "\n",
    "    def move(self):\n",
    "        print(\"Move!\")\n",
    "\n",
    "class Car(Vehicle):\n",
    "    def move(self):\n",
    "        print(\"Run!\")\n",
    "class Boat(Vehicle):\n",
    "    def move(self):\n",
    "        print(\"Sails!\")\n",
    "    \n",
    "class Airplane(Vehicle):\n",
    "    def move(self):\n",
    "        print(\"Fly!\")\n",
    "    \n",
    "v1 = Car(\"Toyota\",29373)\n",
    "v2 = Airplane(\"Boeing\",38746)\n",
    "v1.move()\n",
    "v2.move()\n"
   ]
  },
  {
   "cell_type": "markdown",
   "metadata": {},
   "source": [
    "Overloading"
   ]
  },
  {
   "cell_type": "code",
   "execution_count": 45,
   "metadata": {},
   "outputs": [
    {
     "name": "stdout",
     "output_type": "stream",
     "text": [
      "Car move with speed 1200 Km\n"
     ]
    }
   ],
   "source": [
    "class Vehicle:\n",
    "    def __init__(self,model,brand):\n",
    "        self.model = model\n",
    "        self.brand = brand\n",
    "\n",
    "    def move(self):\n",
    "        print(\"Move!\")\n",
    "\n",
    "class Car(Vehicle):\n",
    "    def move(self,speed= None):\n",
    "        if speed is None:\n",
    "            print(\"Sails\")\n",
    "        else:\n",
    "            print(f\"Car move with speed {speed} Km\")\n",
    "\n",
    "c1 = Car(\"Toyota\",38476)\n",
    "c1.move(1200)"
   ]
  },
  {
   "cell_type": "markdown",
   "metadata": {},
   "source": [
    "User Defined DataType (Fraction\n",
    ")"
   ]
  },
  {
   "cell_type": "code",
   "execution_count": 58,
   "metadata": {},
   "outputs": [
    {
     "name": "stdout",
     "output_type": "stream",
     "text": [
      "4/5\n",
      "3/8\n",
      "47/40\n",
      "17/40\n"
     ]
    }
   ],
   "source": [
    "class Fraction:\n",
    "    def __init__(self,nom,den):\n",
    "        self.nom = nom\n",
    "        self.den = den\n",
    "        #print(f\"{self.nom}/{self.den}\")\n",
    "    def __str__(self):\n",
    "        return f\"{self.nom}/{self.den}\"\n",
    "    \n",
    "    def __add__(self,other):\n",
    "        num1 = (self.nom*other.den)+(other.nom*self.den)\n",
    "        num2 = self.den*other.den\n",
    "        return f\"{num1}/{num2}\"\n",
    "    \n",
    "    def __sub__(self,other):\n",
    "        num1 = (self.nom*other.den)-(other.nom*self.den)\n",
    "        num2 = self.den*other.den\n",
    "        return f\"{num1}/{num2}\"\n",
    "        \n",
    "    \n",
    "              \n",
    "    \n",
    "\n",
    "n1 = Fraction(4,5)\n",
    "n2 = Fraction(3,8)\n",
    "print(n1)\n",
    "print(n2)\n",
    "print(n1+n2)\n",
    "print(n1-n2)\n"
   ]
  },
  {
   "cell_type": "code",
   "execution_count": null,
   "metadata": {},
   "outputs": [],
   "source": []
  }
 ],
 "metadata": {
  "kernelspec": {
   "display_name": "Python 3",
   "language": "python",
   "name": "python3"
  },
  "language_info": {
   "codemirror_mode": {
    "name": "ipython",
    "version": 3
   },
   "file_extension": ".py",
   "mimetype": "text/x-python",
   "name": "python",
   "nbconvert_exporter": "python",
   "pygments_lexer": "ipython3",
   "version": "3.13.0"
  }
 },
 "nbformat": 4,
 "nbformat_minor": 2
}
