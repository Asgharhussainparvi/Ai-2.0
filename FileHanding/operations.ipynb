{
 "cells": [
  {
   "cell_type": "code",
   "execution_count": 1,
   "metadata": {},
   "outputs": [
    {
     "name": "stdout",
     "output_type": "stream",
     "text": [
      "Hello World!\n",
      "\n",
      "\n",
      "Hi \n",
      "\n",
      "\n",
      "I am Asghar Hussain\n",
      "<class 'str'>\n"
     ]
    }
   ],
   "source": [
    "f = open(\"myfile.txt\",\"r\")\n",
    "data = f.read()\n",
    "print(data)\n",
    "print(type(data))\n",
    "f.close()\n"
   ]
  },
  {
   "cell_type": "code",
   "execution_count": 14,
   "metadata": {},
   "outputs": [
    {
     "data": {
      "text/plain": [
       "25"
      ]
     },
     "execution_count": 14,
     "metadata": {},
     "output_type": "execute_result"
    }
   ],
   "source": [
    "f = open(\"data.txt\",\"w\")\n",
    "f.write(\"My name is Asghar Hussain\")\n",
    "\n"
   ]
  },
  {
   "cell_type": "code",
   "execution_count": 8,
   "metadata": {},
   "outputs": [
    {
     "name": "stdout",
     "output_type": "stream",
     "text": [
      "Operation successfull!\n"
     ]
    }
   ],
   "source": [
    "f = open(\"data.txt\",'w')\n",
    "f.write(\"My age is 20\")\n",
    "f.close()\n",
    "print(\"Operation successfull!\")\n"
   ]
  },
  {
   "cell_type": "code",
   "execution_count": 9,
   "metadata": {},
   "outputs": [
    {
     "name": "stdout",
     "output_type": "stream",
     "text": [
      "Operation successfull!\n"
     ]
    }
   ],
   "source": [
    "f = open(\"data.txt\",'w')\n",
    "f.write(\"\\nHello\")\n",
    "f.close()\n",
    "print(\"Operation successfull!\")"
   ]
  },
  {
   "cell_type": "code",
   "execution_count": 21,
   "metadata": {},
   "outputs": [
    {
     "name": "stdout",
     "output_type": "stream",
     "text": [
      "Operation successfull!\n"
     ]
    }
   ],
   "source": [
    "f = open(\"data.txt\",'w')\n",
    "f.write(\"I am learning python.\")\n",
    "f.close()\n",
    "print(\"Operation successfull!\")"
   ]
  },
  {
   "cell_type": "code",
   "execution_count": 23,
   "metadata": {},
   "outputs": [
    {
     "name": "stdout",
     "output_type": "stream",
     "text": [
      "Operation successfull!\n"
     ]
    }
   ],
   "source": [
    "f = open(\"data.txt\",'a')\n",
    "f.write(\"\\nI am a software engineer.\")\n",
    "f.write(\"\\nMy name is Asghar Hussain\")\n",
    "f.write(\"\\nI am a coder\")\n",
    "f.close()\n",
    "print(\"Operation successfull!\")"
   ]
  },
  {
   "cell_type": "code",
   "execution_count": 32,
   "metadata": {},
   "outputs": [
    {
     "name": "stdout",
     "output_type": "stream",
     "text": [
      "I am learning python.\n",
      "\n",
      "I am a software engineer.\n",
      "\n",
      "I am a software engineer.\n",
      "\n",
      "My name is Asghar Hussain\n",
      "\n",
      "I am a coder\n"
     ]
    }
   ],
   "source": [
    "f = open(\"data.txt\",'r')\n",
    "data = f.readlines()\n",
    "for line in data:\n",
    "    print(line)"
   ]
  },
  {
   "cell_type": "code",
   "execution_count": 46,
   "metadata": {},
   "outputs": [
    {
     "name": "stdout",
     "output_type": "stream",
     "text": [
      "Operation successfull!\n"
     ]
    }
   ],
   "source": [
    "\n",
    "list = [\"Apple\",\"Banana\",\"Cherry\"]\n",
    "f = open(\"fruits.txt\",\"w\")\n",
    "for data in list:\n",
    "   f.write(data)\n",
    "f.close()\n",
    "print(\"Operation successfull!\")\n"
   ]
  },
  {
   "cell_type": "code",
   "execution_count": 44,
   "metadata": {},
   "outputs": [
    {
     "name": "stdout",
     "output_type": "stream",
     "text": [
      "AppleBananaCherry\n",
      "Operation successfull!\n"
     ]
    }
   ],
   "source": [
    "with open(\"fruits.txt\",\"r\") as f:\n",
    "    data = f.read()\n",
    "    print(data)\n",
    "    f.close()\n",
    "    print(\"Operation successfull!\")\n"
   ]
  },
  {
   "cell_type": "code",
   "execution_count": 3,
   "metadata": {},
   "outputs": [
    {
     "name": "stdout",
     "output_type": "stream",
     "text": [
      "Number of lines is : 5\n",
      "Number of words is : 34\n",
      "Number of characters is : 156\n"
     ]
    }
   ],
   "source": [
    "with open(\"data.txt\",\"r\") as f:\n",
    "    data = f.read()\n",
    "    no_lines = len(data.split(\"\\n\"))\n",
    "    no_words = len(data.split())\n",
    "    no_chars = len(data)\n",
    "    print(f\"Number of lines is : {no_lines}\")\n",
    "    print(f\"Number of words is : {no_words}\")\n",
    "    print(f\"Number of characters is : {no_chars}\")\n",
    "    \n",
    "    \n",
    "\n",
    "\n"
   ]
  },
  {
   "cell_type": "code",
   "execution_count": null,
   "metadata": {},
   "outputs": [],
   "source": []
  }
 ],
 "metadata": {
  "kernelspec": {
   "display_name": "Python 3",
   "language": "python",
   "name": "python3"
  },
  "language_info": {
   "codemirror_mode": {
    "name": "ipython",
    "version": 3
   },
   "file_extension": ".py",
   "mimetype": "text/x-python",
   "name": "python",
   "nbconvert_exporter": "python",
   "pygments_lexer": "ipython3",
   "version": "3.13.2"
  }
 },
 "nbformat": 4,
 "nbformat_minor": 2
}
